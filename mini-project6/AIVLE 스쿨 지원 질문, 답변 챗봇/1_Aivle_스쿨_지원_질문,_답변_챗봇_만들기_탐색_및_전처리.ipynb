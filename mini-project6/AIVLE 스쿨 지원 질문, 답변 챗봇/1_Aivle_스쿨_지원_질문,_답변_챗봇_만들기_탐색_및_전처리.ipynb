{
  "nbformat": 4,
  "nbformat_minor": 0,
  "metadata": {
    "colab": {
      "provenance": []
    },
    "kernelspec": {
      "name": "python3",
      "display_name": "Python 3"
    },
    "language_info": {
      "name": "python"
    }
  },
  "cells": [
    {
      "cell_type": "markdown",
      "source": [
        "#**Aivle 스쿨 지원 질문, 답변 챗봇 만들기**\n",
        "# 단계1 : 데이터 탐색 및 전처리"
      ],
      "metadata": {
        "id": "DQFmelHqMtFn"
      }
    },
    {
      "cell_type": "markdown",
      "source": [
        "## 0.미션"
      ],
      "metadata": {
        "id": "-FPypzell2uc"
      }
    },
    {
      "cell_type": "markdown",
      "source": [
        "* 1) 데이터 탐색\n",
        "    * intent 별 질문 개수 분포 확인하기\n",
        "    * 질문 별 문장길이의 분포 확인하기\n",
        "    * 대화 유형(type) 별 문장길이 분포 비교하기\n",
        "    * 그 외 필요하다고 판단되는 부분에 대해 데이터를 탐색하고 분석하기\n",
        "* 2) 전처리\n",
        "    * 기본 전처리 : 데이터를 불러온 후 다음의 전처리를 먼저 수행합니다.\n",
        "        * 한글 칼럼이름을 영문이름으로 변경하기\n",
        "        * 두 데이터셋을 하나로 통합하기\n",
        "        * intent 번호를 통합된 번호로 만들기\n",
        "        * 일상대화와 Q&A 대화를 구분하는 구분자 칼럼 추가하기\n",
        "    * 학습을 위한 전처리 : 자연어 처리를 위한 전처리를 수행합니다.\n",
        "        * 형태소 분석기를 활용하여 문장 어절들에 대해 형태소로 변환합니다.\n",
        "    * 전처리 결과를 저장합니다."
      ],
      "metadata": {
        "id": "M04y5Mn0p3wj"
      }
    },
    {
      "cell_type": "markdown",
      "source": [
        "## 1.환경준비"
      ],
      "metadata": {
        "id": "dWToio0hXNVS"
      }
    },
    {
      "cell_type": "markdown",
      "source": [
        "* 세부 요구사항\n",
        "    - 기본적으로 필요한 라이브러리를 import 하도록 코드가 작성되어 있습니다.\n",
        "    - 필요하다고 판단되는 라이브러리를 추가하세요.\n",
        "    - 구글드라이브 를 통해 데이터를 로딩합니다."
      ],
      "metadata": {
        "id": "I_rCs78QJZmI"
      }
    },
    {
      "cell_type": "markdown",
      "source": [
        "### (1) 라이브러리 불러오기"
      ],
      "metadata": {
        "id": "2jd-qDDbcql2"
      }
    },
    {
      "cell_type": "code",
      "metadata": {
        "id": "3rsQerEaELwI"
      },
      "source": [
        "import pandas as pd\n",
        "import numpy as np\n",
        "import matplotlib.pyplot as plt\n",
        "import seaborn as sns\n",
        "\n",
        "import joblib\n",
        "\n",
        "# 필요하다고 판단되는 라이브러리를 추가하세요.\n",
        "import os"
      ],
      "execution_count": null,
      "outputs": []
    },
    {
      "cell_type": "markdown",
      "source": [
        "### (2) 데이터 로딩\n",
        "* 주어진 데이터셋\n",
        "    * 학습 데이터 : 챗봇 데이터.xls\n",
        "    * 학습 데이터 : 일상대화.xls\n",
        "    * 엑셀 파일이므로 pd.read_excel 함수를 이용해서 불러 옵니다.\n",
        "* Colab 환경에서 프로젝트 진행을 권장합니다.\n",
        "    * 구글 드라이브에 project 폴더를 만들고 데이터 파일을 복사해 넣습니다."
      ],
      "metadata": {
        "id": "wsLDv9tZc_i1"
      }
    },
    {
      "cell_type": "markdown",
      "source": [
        "* 구글 드라이브 연결"
      ],
      "metadata": {
        "id": "Uc_kIeeJeDgi"
      }
    },
    {
      "cell_type": "code",
      "source": [
        "from google.colab import drive\n",
        "drive.mount('/content/drive')"
      ],
      "metadata": {
        "id": "dd0SPbYdfhS9",
        "colab": {
          "base_uri": "https://localhost:8080/"
        },
        "outputId": "e3908bd8-7f38-4bb1-8d64-166037232473"
      },
      "execution_count": null,
      "outputs": [
        {
          "output_type": "stream",
          "name": "stdout",
          "text": [
            "Mounted at /content/drive\n"
          ]
        }
      ]
    },
    {
      "cell_type": "code",
      "source": [
        "path = ''"
      ],
      "metadata": {
        "id": "y5OIDazoeIN4"
      },
      "execution_count": null,
      "outputs": []
    },
    {
      "cell_type": "markdown",
      "source": [
        "### (3) 데이터 읽어오기"
      ],
      "metadata": {
        "id": "GH3ApIzofYPb"
      }
    },
    {
      "cell_type": "code",
      "source": [
        "# 일상대화\n",
        "common_df = pd.read_excel('/content/drive/MyDrive/미니프로젝트/제목없는 폴더/2023.10.30_미니프로젝트6차_실습자료 및 데이터/데이터/일상대화.xlsx')\n",
        "\n",
        "# 에이블스쿨 질문답변\n",
        "faq_df = pd.read_excel('/content/drive/MyDrive/미니프로젝트/제목없는 폴더/2023.10.30_미니프로젝트6차_실습자료 및 데이터/데이터/챗봇데이터.xlsx')\n"
      ],
      "metadata": {
        "id": "ptsqU4_3eIN5"
      },
      "execution_count": null,
      "outputs": []
    },
    {
      "cell_type": "markdown",
      "source": [
        "* 데이터 둘러보기"
      ],
      "metadata": {
        "id": "Co88sKv4Ezt0"
      }
    },
    {
      "cell_type": "code",
      "source": [
        "common_df"
      ],
      "metadata": {
        "id": "S_f77rAxE1Ch",
        "colab": {
          "base_uri": "https://localhost:8080/",
          "height": 423
        },
        "outputId": "f2bab78f-9dd7-4cd5-fa68-c6992bdfe190"
      },
      "execution_count": null,
      "outputs": [
        {
          "output_type": "execute_result",
          "data": {
            "text/plain": [
              "     intent                  질문            답변\n",
              "0         1    떨어뜨려서 핸드폰 액정 나갔어      as 맡기세요.\n",
              "1         1              액정 나갔어      as 맡기세요.\n",
              "2         1    핸드폰 떨어뜨려서 고장 났나봐      as 맡기세요.\n",
              "3         1        노트북이 작동이 안되네  AS센터에 맡겨보세요.\n",
              "4         1       노트북 키보드가 안먹히네  AS센터에 맡겨보세요.\n",
              "..      ...                 ...           ...\n",
              "501      30          나 오늘 생일이야~      기분 좋겠어요.\n",
              "502      30       원하던 대학교에 합격했어      기분 좋겠어요.\n",
              "503      30           편입 성공했어!!      기분 좋겠어요.\n",
              "504      30  고백 성공해서 오늘부터 1일이야~      기분 좋겠어요.\n",
              "505      30   이번에 적금해지해서 돈 생겼다!      기분 좋겠어요.\n",
              "\n",
              "[506 rows x 3 columns]"
            ],
            "text/html": [
              "\n",
              "  <div id=\"df-77352e83-b667-4269-aec3-134d04006d31\" class=\"colab-df-container\">\n",
              "    <div>\n",
              "<style scoped>\n",
              "    .dataframe tbody tr th:only-of-type {\n",
              "        vertical-align: middle;\n",
              "    }\n",
              "\n",
              "    .dataframe tbody tr th {\n",
              "        vertical-align: top;\n",
              "    }\n",
              "\n",
              "    .dataframe thead th {\n",
              "        text-align: right;\n",
              "    }\n",
              "</style>\n",
              "<table border=\"1\" class=\"dataframe\">\n",
              "  <thead>\n",
              "    <tr style=\"text-align: right;\">\n",
              "      <th></th>\n",
              "      <th>intent</th>\n",
              "      <th>질문</th>\n",
              "      <th>답변</th>\n",
              "    </tr>\n",
              "  </thead>\n",
              "  <tbody>\n",
              "    <tr>\n",
              "      <th>0</th>\n",
              "      <td>1</td>\n",
              "      <td>떨어뜨려서 핸드폰 액정 나갔어</td>\n",
              "      <td>as 맡기세요.</td>\n",
              "    </tr>\n",
              "    <tr>\n",
              "      <th>1</th>\n",
              "      <td>1</td>\n",
              "      <td>액정 나갔어</td>\n",
              "      <td>as 맡기세요.</td>\n",
              "    </tr>\n",
              "    <tr>\n",
              "      <th>2</th>\n",
              "      <td>1</td>\n",
              "      <td>핸드폰 떨어뜨려서 고장 났나봐</td>\n",
              "      <td>as 맡기세요.</td>\n",
              "    </tr>\n",
              "    <tr>\n",
              "      <th>3</th>\n",
              "      <td>1</td>\n",
              "      <td>노트북이 작동이 안되네</td>\n",
              "      <td>AS센터에 맡겨보세요.</td>\n",
              "    </tr>\n",
              "    <tr>\n",
              "      <th>4</th>\n",
              "      <td>1</td>\n",
              "      <td>노트북 키보드가 안먹히네</td>\n",
              "      <td>AS센터에 맡겨보세요.</td>\n",
              "    </tr>\n",
              "    <tr>\n",
              "      <th>...</th>\n",
              "      <td>...</td>\n",
              "      <td>...</td>\n",
              "      <td>...</td>\n",
              "    </tr>\n",
              "    <tr>\n",
              "      <th>501</th>\n",
              "      <td>30</td>\n",
              "      <td>나 오늘 생일이야~</td>\n",
              "      <td>기분 좋겠어요.</td>\n",
              "    </tr>\n",
              "    <tr>\n",
              "      <th>502</th>\n",
              "      <td>30</td>\n",
              "      <td>원하던 대학교에 합격했어</td>\n",
              "      <td>기분 좋겠어요.</td>\n",
              "    </tr>\n",
              "    <tr>\n",
              "      <th>503</th>\n",
              "      <td>30</td>\n",
              "      <td>편입 성공했어!!</td>\n",
              "      <td>기분 좋겠어요.</td>\n",
              "    </tr>\n",
              "    <tr>\n",
              "      <th>504</th>\n",
              "      <td>30</td>\n",
              "      <td>고백 성공해서 오늘부터 1일이야~</td>\n",
              "      <td>기분 좋겠어요.</td>\n",
              "    </tr>\n",
              "    <tr>\n",
              "      <th>505</th>\n",
              "      <td>30</td>\n",
              "      <td>이번에 적금해지해서 돈 생겼다!</td>\n",
              "      <td>기분 좋겠어요.</td>\n",
              "    </tr>\n",
              "  </tbody>\n",
              "</table>\n",
              "<p>506 rows × 3 columns</p>\n",
              "</div>\n",
              "    <div class=\"colab-df-buttons\">\n",
              "\n",
              "  <div class=\"colab-df-container\">\n",
              "    <button class=\"colab-df-convert\" onclick=\"convertToInteractive('df-77352e83-b667-4269-aec3-134d04006d31')\"\n",
              "            title=\"Convert this dataframe to an interactive table.\"\n",
              "            style=\"display:none;\">\n",
              "\n",
              "  <svg xmlns=\"http://www.w3.org/2000/svg\" height=\"24px\" viewBox=\"0 -960 960 960\">\n",
              "    <path d=\"M120-120v-720h720v720H120Zm60-500h600v-160H180v160Zm220 220h160v-160H400v160Zm0 220h160v-160H400v160ZM180-400h160v-160H180v160Zm440 0h160v-160H620v160ZM180-180h160v-160H180v160Zm440 0h160v-160H620v160Z\"/>\n",
              "  </svg>\n",
              "    </button>\n",
              "\n",
              "  <style>\n",
              "    .colab-df-container {\n",
              "      display:flex;\n",
              "      gap: 12px;\n",
              "    }\n",
              "\n",
              "    .colab-df-convert {\n",
              "      background-color: #E8F0FE;\n",
              "      border: none;\n",
              "      border-radius: 50%;\n",
              "      cursor: pointer;\n",
              "      display: none;\n",
              "      fill: #1967D2;\n",
              "      height: 32px;\n",
              "      padding: 0 0 0 0;\n",
              "      width: 32px;\n",
              "    }\n",
              "\n",
              "    .colab-df-convert:hover {\n",
              "      background-color: #E2EBFA;\n",
              "      box-shadow: 0px 1px 2px rgba(60, 64, 67, 0.3), 0px 1px 3px 1px rgba(60, 64, 67, 0.15);\n",
              "      fill: #174EA6;\n",
              "    }\n",
              "\n",
              "    .colab-df-buttons div {\n",
              "      margin-bottom: 4px;\n",
              "    }\n",
              "\n",
              "    [theme=dark] .colab-df-convert {\n",
              "      background-color: #3B4455;\n",
              "      fill: #D2E3FC;\n",
              "    }\n",
              "\n",
              "    [theme=dark] .colab-df-convert:hover {\n",
              "      background-color: #434B5C;\n",
              "      box-shadow: 0px 1px 3px 1px rgba(0, 0, 0, 0.15);\n",
              "      filter: drop-shadow(0px 1px 2px rgba(0, 0, 0, 0.3));\n",
              "      fill: #FFFFFF;\n",
              "    }\n",
              "  </style>\n",
              "\n",
              "    <script>\n",
              "      const buttonEl =\n",
              "        document.querySelector('#df-77352e83-b667-4269-aec3-134d04006d31 button.colab-df-convert');\n",
              "      buttonEl.style.display =\n",
              "        google.colab.kernel.accessAllowed ? 'block' : 'none';\n",
              "\n",
              "      async function convertToInteractive(key) {\n",
              "        const element = document.querySelector('#df-77352e83-b667-4269-aec3-134d04006d31');\n",
              "        const dataTable =\n",
              "          await google.colab.kernel.invokeFunction('convertToInteractive',\n",
              "                                                    [key], {});\n",
              "        if (!dataTable) return;\n",
              "\n",
              "        const docLinkHtml = 'Like what you see? Visit the ' +\n",
              "          '<a target=\"_blank\" href=https://colab.research.google.com/notebooks/data_table.ipynb>data table notebook</a>'\n",
              "          + ' to learn more about interactive tables.';\n",
              "        element.innerHTML = '';\n",
              "        dataTable['output_type'] = 'display_data';\n",
              "        await google.colab.output.renderOutput(dataTable, element);\n",
              "        const docLink = document.createElement('div');\n",
              "        docLink.innerHTML = docLinkHtml;\n",
              "        element.appendChild(docLink);\n",
              "      }\n",
              "    </script>\n",
              "  </div>\n",
              "\n",
              "\n",
              "<div id=\"df-52f8da24-9d06-4e81-b2c2-7e5d33239160\">\n",
              "  <button class=\"colab-df-quickchart\" onclick=\"quickchart('df-52f8da24-9d06-4e81-b2c2-7e5d33239160')\"\n",
              "            title=\"Suggest charts.\"\n",
              "            style=\"display:none;\">\n",
              "\n",
              "<svg xmlns=\"http://www.w3.org/2000/svg\" height=\"24px\"viewBox=\"0 0 24 24\"\n",
              "     width=\"24px\">\n",
              "    <g>\n",
              "        <path d=\"M19 3H5c-1.1 0-2 .9-2 2v14c0 1.1.9 2 2 2h14c1.1 0 2-.9 2-2V5c0-1.1-.9-2-2-2zM9 17H7v-7h2v7zm4 0h-2V7h2v10zm4 0h-2v-4h2v4z\"/>\n",
              "    </g>\n",
              "</svg>\n",
              "  </button>\n",
              "\n",
              "<style>\n",
              "  .colab-df-quickchart {\n",
              "      --bg-color: #E8F0FE;\n",
              "      --fill-color: #1967D2;\n",
              "      --hover-bg-color: #E2EBFA;\n",
              "      --hover-fill-color: #174EA6;\n",
              "      --disabled-fill-color: #AAA;\n",
              "      --disabled-bg-color: #DDD;\n",
              "  }\n",
              "\n",
              "  [theme=dark] .colab-df-quickchart {\n",
              "      --bg-color: #3B4455;\n",
              "      --fill-color: #D2E3FC;\n",
              "      --hover-bg-color: #434B5C;\n",
              "      --hover-fill-color: #FFFFFF;\n",
              "      --disabled-bg-color: #3B4455;\n",
              "      --disabled-fill-color: #666;\n",
              "  }\n",
              "\n",
              "  .colab-df-quickchart {\n",
              "    background-color: var(--bg-color);\n",
              "    border: none;\n",
              "    border-radius: 50%;\n",
              "    cursor: pointer;\n",
              "    display: none;\n",
              "    fill: var(--fill-color);\n",
              "    height: 32px;\n",
              "    padding: 0;\n",
              "    width: 32px;\n",
              "  }\n",
              "\n",
              "  .colab-df-quickchart:hover {\n",
              "    background-color: var(--hover-bg-color);\n",
              "    box-shadow: 0 1px 2px rgba(60, 64, 67, 0.3), 0 1px 3px 1px rgba(60, 64, 67, 0.15);\n",
              "    fill: var(--button-hover-fill-color);\n",
              "  }\n",
              "\n",
              "  .colab-df-quickchart-complete:disabled,\n",
              "  .colab-df-quickchart-complete:disabled:hover {\n",
              "    background-color: var(--disabled-bg-color);\n",
              "    fill: var(--disabled-fill-color);\n",
              "    box-shadow: none;\n",
              "  }\n",
              "\n",
              "  .colab-df-spinner {\n",
              "    border: 2px solid var(--fill-color);\n",
              "    border-color: transparent;\n",
              "    border-bottom-color: var(--fill-color);\n",
              "    animation:\n",
              "      spin 1s steps(1) infinite;\n",
              "  }\n",
              "\n",
              "  @keyframes spin {\n",
              "    0% {\n",
              "      border-color: transparent;\n",
              "      border-bottom-color: var(--fill-color);\n",
              "      border-left-color: var(--fill-color);\n",
              "    }\n",
              "    20% {\n",
              "      border-color: transparent;\n",
              "      border-left-color: var(--fill-color);\n",
              "      border-top-color: var(--fill-color);\n",
              "    }\n",
              "    30% {\n",
              "      border-color: transparent;\n",
              "      border-left-color: var(--fill-color);\n",
              "      border-top-color: var(--fill-color);\n",
              "      border-right-color: var(--fill-color);\n",
              "    }\n",
              "    40% {\n",
              "      border-color: transparent;\n",
              "      border-right-color: var(--fill-color);\n",
              "      border-top-color: var(--fill-color);\n",
              "    }\n",
              "    60% {\n",
              "      border-color: transparent;\n",
              "      border-right-color: var(--fill-color);\n",
              "    }\n",
              "    80% {\n",
              "      border-color: transparent;\n",
              "      border-right-color: var(--fill-color);\n",
              "      border-bottom-color: var(--fill-color);\n",
              "    }\n",
              "    90% {\n",
              "      border-color: transparent;\n",
              "      border-bottom-color: var(--fill-color);\n",
              "    }\n",
              "  }\n",
              "</style>\n",
              "\n",
              "  <script>\n",
              "    async function quickchart(key) {\n",
              "      const quickchartButtonEl =\n",
              "        document.querySelector('#' + key + ' button');\n",
              "      quickchartButtonEl.disabled = true;  // To prevent multiple clicks.\n",
              "      quickchartButtonEl.classList.add('colab-df-spinner');\n",
              "      try {\n",
              "        const charts = await google.colab.kernel.invokeFunction(\n",
              "            'suggestCharts', [key], {});\n",
              "      } catch (error) {\n",
              "        console.error('Error during call to suggestCharts:', error);\n",
              "      }\n",
              "      quickchartButtonEl.classList.remove('colab-df-spinner');\n",
              "      quickchartButtonEl.classList.add('colab-df-quickchart-complete');\n",
              "    }\n",
              "    (() => {\n",
              "      let quickchartButtonEl =\n",
              "        document.querySelector('#df-52f8da24-9d06-4e81-b2c2-7e5d33239160 button');\n",
              "      quickchartButtonEl.style.display =\n",
              "        google.colab.kernel.accessAllowed ? 'block' : 'none';\n",
              "    })();\n",
              "  </script>\n",
              "</div>\n",
              "    </div>\n",
              "  </div>\n"
            ]
          },
          "metadata": {},
          "execution_count": 14
        }
      ]
    },
    {
      "cell_type": "code",
      "source": [
        "faq_df"
      ],
      "metadata": {
        "id": "0sZ1WxvcE4Du",
        "colab": {
          "base_uri": "https://localhost:8080/",
          "height": 597
        },
        "outputId": "1fd3c573-66b9-4f8d-a834-45f4495b7603"
      },
      "execution_count": null,
      "outputs": [
        {
          "output_type": "execute_result",
          "data": {
            "text/plain": [
              "     intent                               Q  \\\n",
              "0         0  어떤 조건을 만족하면 지원할 수 있는지 알고 싶어요.    \n",
              "1         0                  지원자격이 어떻게 되나요?   \n",
              "2         0                    지원 조건이 궁금해요.   \n",
              "3         0               지원 자격에 대해서 알려주세요.   \n",
              "4         0                  지원 자격 기준이 있나요?   \n",
              "..      ...                             ...   \n",
              "787      22  KT 에이블스쿨만의 장점이 무엇인지 상세히 설명해주세요   \n",
              "788      22             다른 교육과의 차이점은 무엇인가요?   \n",
              "789      22                다른 교육과 차이점이 있나요?   \n",
              "790      22   다른 국비 지원 교육보다 특별한 점이 있는지 궁금해요   \n",
              "791      22             다른 교육보다 특별한 것이 있나요?   \n",
              "\n",
              "                                                     A  \n",
              "0    KT 에이블스쿨은 정규 4년제 대학 졸업자 및 졸업예정자 중 만 34세 이하 미취업...  \n",
              "1    KT 에이블스쿨은 정규 4년제 대학 졸업자 및 졸업예정자 중 만 34세 이하 미취업...  \n",
              "2    KT 에이블스쿨은 정규 4년제 대학 졸업자 및 졸업예정자 중 만 34세 이하 미취업...  \n",
              "3    KT 에이블스쿨은 정규 4년제 대학 졸업자 및 졸업예정자 중 만 34세 이하 미취업...  \n",
              "4    KT 에이블스쿨은 정규 4년제 대학 졸업자 및 졸업예정자 중 만 34세 이하 미취업...  \n",
              "..                                                 ...  \n",
              "787  KT 에이블스쿨에서는 이론/실습 교육에 나아가 기업 실전형 프로젝트를 중심으로 실무...  \n",
              "788  KT 에이블스쿨에서는 이론/실습 교육에 나아가 기업 실전형 프로젝트를 중심으로 실무...  \n",
              "789  KT 에이블스쿨에서는 이론/실습 교육에 나아가 기업 실전형 프로젝트를 중심으로 실무...  \n",
              "790  KT 에이블스쿨에서는 이론/실습 교육에 나아가 기업 실전형 프로젝트를 중심으로 실무...  \n",
              "791  KT 에이블스쿨에서는 이론/실습 교육에 나아가 기업 실전형 프로젝트를 중심으로 실무...  \n",
              "\n",
              "[792 rows x 3 columns]"
            ],
            "text/html": [
              "\n",
              "  <div id=\"df-2cad74c3-a580-4f95-b5c9-913ddcb4c768\" class=\"colab-df-container\">\n",
              "    <div>\n",
              "<style scoped>\n",
              "    .dataframe tbody tr th:only-of-type {\n",
              "        vertical-align: middle;\n",
              "    }\n",
              "\n",
              "    .dataframe tbody tr th {\n",
              "        vertical-align: top;\n",
              "    }\n",
              "\n",
              "    .dataframe thead th {\n",
              "        text-align: right;\n",
              "    }\n",
              "</style>\n",
              "<table border=\"1\" class=\"dataframe\">\n",
              "  <thead>\n",
              "    <tr style=\"text-align: right;\">\n",
              "      <th></th>\n",
              "      <th>intent</th>\n",
              "      <th>Q</th>\n",
              "      <th>A</th>\n",
              "    </tr>\n",
              "  </thead>\n",
              "  <tbody>\n",
              "    <tr>\n",
              "      <th>0</th>\n",
              "      <td>0</td>\n",
              "      <td>어떤 조건을 만족하면 지원할 수 있는지 알고 싶어요.</td>\n",
              "      <td>KT 에이블스쿨은 정규 4년제 대학 졸업자 및 졸업예정자 중 만 34세 이하 미취업...</td>\n",
              "    </tr>\n",
              "    <tr>\n",
              "      <th>1</th>\n",
              "      <td>0</td>\n",
              "      <td>지원자격이 어떻게 되나요?</td>\n",
              "      <td>KT 에이블스쿨은 정규 4년제 대학 졸업자 및 졸업예정자 중 만 34세 이하 미취업...</td>\n",
              "    </tr>\n",
              "    <tr>\n",
              "      <th>2</th>\n",
              "      <td>0</td>\n",
              "      <td>지원 조건이 궁금해요.</td>\n",
              "      <td>KT 에이블스쿨은 정규 4년제 대학 졸업자 및 졸업예정자 중 만 34세 이하 미취업...</td>\n",
              "    </tr>\n",
              "    <tr>\n",
              "      <th>3</th>\n",
              "      <td>0</td>\n",
              "      <td>지원 자격에 대해서 알려주세요.</td>\n",
              "      <td>KT 에이블스쿨은 정규 4년제 대학 졸업자 및 졸업예정자 중 만 34세 이하 미취업...</td>\n",
              "    </tr>\n",
              "    <tr>\n",
              "      <th>4</th>\n",
              "      <td>0</td>\n",
              "      <td>지원 자격 기준이 있나요?</td>\n",
              "      <td>KT 에이블스쿨은 정규 4년제 대학 졸업자 및 졸업예정자 중 만 34세 이하 미취업...</td>\n",
              "    </tr>\n",
              "    <tr>\n",
              "      <th>...</th>\n",
              "      <td>...</td>\n",
              "      <td>...</td>\n",
              "      <td>...</td>\n",
              "    </tr>\n",
              "    <tr>\n",
              "      <th>787</th>\n",
              "      <td>22</td>\n",
              "      <td>KT 에이블스쿨만의 장점이 무엇인지 상세히 설명해주세요</td>\n",
              "      <td>KT 에이블스쿨에서는 이론/실습 교육에 나아가 기업 실전형 프로젝트를 중심으로 실무...</td>\n",
              "    </tr>\n",
              "    <tr>\n",
              "      <th>788</th>\n",
              "      <td>22</td>\n",
              "      <td>다른 교육과의 차이점은 무엇인가요?</td>\n",
              "      <td>KT 에이블스쿨에서는 이론/실습 교육에 나아가 기업 실전형 프로젝트를 중심으로 실무...</td>\n",
              "    </tr>\n",
              "    <tr>\n",
              "      <th>789</th>\n",
              "      <td>22</td>\n",
              "      <td>다른 교육과 차이점이 있나요?</td>\n",
              "      <td>KT 에이블스쿨에서는 이론/실습 교육에 나아가 기업 실전형 프로젝트를 중심으로 실무...</td>\n",
              "    </tr>\n",
              "    <tr>\n",
              "      <th>790</th>\n",
              "      <td>22</td>\n",
              "      <td>다른 국비 지원 교육보다 특별한 점이 있는지 궁금해요</td>\n",
              "      <td>KT 에이블스쿨에서는 이론/실습 교육에 나아가 기업 실전형 프로젝트를 중심으로 실무...</td>\n",
              "    </tr>\n",
              "    <tr>\n",
              "      <th>791</th>\n",
              "      <td>22</td>\n",
              "      <td>다른 교육보다 특별한 것이 있나요?</td>\n",
              "      <td>KT 에이블스쿨에서는 이론/실습 교육에 나아가 기업 실전형 프로젝트를 중심으로 실무...</td>\n",
              "    </tr>\n",
              "  </tbody>\n",
              "</table>\n",
              "<p>792 rows × 3 columns</p>\n",
              "</div>\n",
              "    <div class=\"colab-df-buttons\">\n",
              "\n",
              "  <div class=\"colab-df-container\">\n",
              "    <button class=\"colab-df-convert\" onclick=\"convertToInteractive('df-2cad74c3-a580-4f95-b5c9-913ddcb4c768')\"\n",
              "            title=\"Convert this dataframe to an interactive table.\"\n",
              "            style=\"display:none;\">\n",
              "\n",
              "  <svg xmlns=\"http://www.w3.org/2000/svg\" height=\"24px\" viewBox=\"0 -960 960 960\">\n",
              "    <path d=\"M120-120v-720h720v720H120Zm60-500h600v-160H180v160Zm220 220h160v-160H400v160Zm0 220h160v-160H400v160ZM180-400h160v-160H180v160Zm440 0h160v-160H620v160ZM180-180h160v-160H180v160Zm440 0h160v-160H620v160Z\"/>\n",
              "  </svg>\n",
              "    </button>\n",
              "\n",
              "  <style>\n",
              "    .colab-df-container {\n",
              "      display:flex;\n",
              "      gap: 12px;\n",
              "    }\n",
              "\n",
              "    .colab-df-convert {\n",
              "      background-color: #E8F0FE;\n",
              "      border: none;\n",
              "      border-radius: 50%;\n",
              "      cursor: pointer;\n",
              "      display: none;\n",
              "      fill: #1967D2;\n",
              "      height: 32px;\n",
              "      padding: 0 0 0 0;\n",
              "      width: 32px;\n",
              "    }\n",
              "\n",
              "    .colab-df-convert:hover {\n",
              "      background-color: #E2EBFA;\n",
              "      box-shadow: 0px 1px 2px rgba(60, 64, 67, 0.3), 0px 1px 3px 1px rgba(60, 64, 67, 0.15);\n",
              "      fill: #174EA6;\n",
              "    }\n",
              "\n",
              "    .colab-df-buttons div {\n",
              "      margin-bottom: 4px;\n",
              "    }\n",
              "\n",
              "    [theme=dark] .colab-df-convert {\n",
              "      background-color: #3B4455;\n",
              "      fill: #D2E3FC;\n",
              "    }\n",
              "\n",
              "    [theme=dark] .colab-df-convert:hover {\n",
              "      background-color: #434B5C;\n",
              "      box-shadow: 0px 1px 3px 1px rgba(0, 0, 0, 0.15);\n",
              "      filter: drop-shadow(0px 1px 2px rgba(0, 0, 0, 0.3));\n",
              "      fill: #FFFFFF;\n",
              "    }\n",
              "  </style>\n",
              "\n",
              "    <script>\n",
              "      const buttonEl =\n",
              "        document.querySelector('#df-2cad74c3-a580-4f95-b5c9-913ddcb4c768 button.colab-df-convert');\n",
              "      buttonEl.style.display =\n",
              "        google.colab.kernel.accessAllowed ? 'block' : 'none';\n",
              "\n",
              "      async function convertToInteractive(key) {\n",
              "        const element = document.querySelector('#df-2cad74c3-a580-4f95-b5c9-913ddcb4c768');\n",
              "        const dataTable =\n",
              "          await google.colab.kernel.invokeFunction('convertToInteractive',\n",
              "                                                    [key], {});\n",
              "        if (!dataTable) return;\n",
              "\n",
              "        const docLinkHtml = 'Like what you see? Visit the ' +\n",
              "          '<a target=\"_blank\" href=https://colab.research.google.com/notebooks/data_table.ipynb>data table notebook</a>'\n",
              "          + ' to learn more about interactive tables.';\n",
              "        element.innerHTML = '';\n",
              "        dataTable['output_type'] = 'display_data';\n",
              "        await google.colab.output.renderOutput(dataTable, element);\n",
              "        const docLink = document.createElement('div');\n",
              "        docLink.innerHTML = docLinkHtml;\n",
              "        element.appendChild(docLink);\n",
              "      }\n",
              "    </script>\n",
              "  </div>\n",
              "\n",
              "\n",
              "<div id=\"df-69de419e-484c-4904-ba9f-233e39ff44d4\">\n",
              "  <button class=\"colab-df-quickchart\" onclick=\"quickchart('df-69de419e-484c-4904-ba9f-233e39ff44d4')\"\n",
              "            title=\"Suggest charts.\"\n",
              "            style=\"display:none;\">\n",
              "\n",
              "<svg xmlns=\"http://www.w3.org/2000/svg\" height=\"24px\"viewBox=\"0 0 24 24\"\n",
              "     width=\"24px\">\n",
              "    <g>\n",
              "        <path d=\"M19 3H5c-1.1 0-2 .9-2 2v14c0 1.1.9 2 2 2h14c1.1 0 2-.9 2-2V5c0-1.1-.9-2-2-2zM9 17H7v-7h2v7zm4 0h-2V7h2v10zm4 0h-2v-4h2v4z\"/>\n",
              "    </g>\n",
              "</svg>\n",
              "  </button>\n",
              "\n",
              "<style>\n",
              "  .colab-df-quickchart {\n",
              "      --bg-color: #E8F0FE;\n",
              "      --fill-color: #1967D2;\n",
              "      --hover-bg-color: #E2EBFA;\n",
              "      --hover-fill-color: #174EA6;\n",
              "      --disabled-fill-color: #AAA;\n",
              "      --disabled-bg-color: #DDD;\n",
              "  }\n",
              "\n",
              "  [theme=dark] .colab-df-quickchart {\n",
              "      --bg-color: #3B4455;\n",
              "      --fill-color: #D2E3FC;\n",
              "      --hover-bg-color: #434B5C;\n",
              "      --hover-fill-color: #FFFFFF;\n",
              "      --disabled-bg-color: #3B4455;\n",
              "      --disabled-fill-color: #666;\n",
              "  }\n",
              "\n",
              "  .colab-df-quickchart {\n",
              "    background-color: var(--bg-color);\n",
              "    border: none;\n",
              "    border-radius: 50%;\n",
              "    cursor: pointer;\n",
              "    display: none;\n",
              "    fill: var(--fill-color);\n",
              "    height: 32px;\n",
              "    padding: 0;\n",
              "    width: 32px;\n",
              "  }\n",
              "\n",
              "  .colab-df-quickchart:hover {\n",
              "    background-color: var(--hover-bg-color);\n",
              "    box-shadow: 0 1px 2px rgba(60, 64, 67, 0.3), 0 1px 3px 1px rgba(60, 64, 67, 0.15);\n",
              "    fill: var(--button-hover-fill-color);\n",
              "  }\n",
              "\n",
              "  .colab-df-quickchart-complete:disabled,\n",
              "  .colab-df-quickchart-complete:disabled:hover {\n",
              "    background-color: var(--disabled-bg-color);\n",
              "    fill: var(--disabled-fill-color);\n",
              "    box-shadow: none;\n",
              "  }\n",
              "\n",
              "  .colab-df-spinner {\n",
              "    border: 2px solid var(--fill-color);\n",
              "    border-color: transparent;\n",
              "    border-bottom-color: var(--fill-color);\n",
              "    animation:\n",
              "      spin 1s steps(1) infinite;\n",
              "  }\n",
              "\n",
              "  @keyframes spin {\n",
              "    0% {\n",
              "      border-color: transparent;\n",
              "      border-bottom-color: var(--fill-color);\n",
              "      border-left-color: var(--fill-color);\n",
              "    }\n",
              "    20% {\n",
              "      border-color: transparent;\n",
              "      border-left-color: var(--fill-color);\n",
              "      border-top-color: var(--fill-color);\n",
              "    }\n",
              "    30% {\n",
              "      border-color: transparent;\n",
              "      border-left-color: var(--fill-color);\n",
              "      border-top-color: var(--fill-color);\n",
              "      border-right-color: var(--fill-color);\n",
              "    }\n",
              "    40% {\n",
              "      border-color: transparent;\n",
              "      border-right-color: var(--fill-color);\n",
              "      border-top-color: var(--fill-color);\n",
              "    }\n",
              "    60% {\n",
              "      border-color: transparent;\n",
              "      border-right-color: var(--fill-color);\n",
              "    }\n",
              "    80% {\n",
              "      border-color: transparent;\n",
              "      border-right-color: var(--fill-color);\n",
              "      border-bottom-color: var(--fill-color);\n",
              "    }\n",
              "    90% {\n",
              "      border-color: transparent;\n",
              "      border-bottom-color: var(--fill-color);\n",
              "    }\n",
              "  }\n",
              "</style>\n",
              "\n",
              "  <script>\n",
              "    async function quickchart(key) {\n",
              "      const quickchartButtonEl =\n",
              "        document.querySelector('#' + key + ' button');\n",
              "      quickchartButtonEl.disabled = true;  // To prevent multiple clicks.\n",
              "      quickchartButtonEl.classList.add('colab-df-spinner');\n",
              "      try {\n",
              "        const charts = await google.colab.kernel.invokeFunction(\n",
              "            'suggestCharts', [key], {});\n",
              "      } catch (error) {\n",
              "        console.error('Error during call to suggestCharts:', error);\n",
              "      }\n",
              "      quickchartButtonEl.classList.remove('colab-df-spinner');\n",
              "      quickchartButtonEl.classList.add('colab-df-quickchart-complete');\n",
              "    }\n",
              "    (() => {\n",
              "      let quickchartButtonEl =\n",
              "        document.querySelector('#df-69de419e-484c-4904-ba9f-233e39ff44d4 button');\n",
              "      quickchartButtonEl.style.display =\n",
              "        google.colab.kernel.accessAllowed ? 'block' : 'none';\n",
              "    })();\n",
              "  </script>\n",
              "</div>\n",
              "    </div>\n",
              "  </div>\n"
            ]
          },
          "metadata": {},
          "execution_count": 15
        }
      ]
    },
    {
      "cell_type": "markdown",
      "source": [
        "## 2.데이터 탐색하기"
      ],
      "metadata": {
        "id": "5ZYs8nrhf22L"
      }
    },
    {
      "cell_type": "markdown",
      "source": [
        "\n",
        "* **세부 요구사항**\n",
        "    * 데이터에 대한 기본 전처리를 수행합니다.\n",
        "        * (필요시)한글 칼럼명을 영문명으로 변경,\n",
        "        * 두 데이터셋 하나로 통합\n",
        "        * 일상대화와 지원Q&A를 구분할 대화유형(type)칼럼 생성\n",
        "    * 데이터 탐색하기\n",
        "        * intent별 질문 수 확인\n",
        "        * 각 질문별 문장길이에 대한 분포 확인\n",
        "        * 대화유형(type)별 문장길이 분포 확인\n",
        "        * 그외, 필요하다고 생각되는 탐색적 분석 수행"
      ],
      "metadata": {
        "id": "9OkifR5rnr2D"
      }
    },
    {
      "cell_type": "markdown",
      "source": [
        "### (1) 데이터 기본 전처리"
      ],
      "metadata": {
        "id": "pVqihLqDgFuY"
      }
    },
    {
      "cell_type": "markdown",
      "source": [
        "#### 1) column이름 통일하기(선택사항)\n",
        "* 필수는 아니지만, 한글 칼럼명을 영문으로 변경합니다."
      ],
      "metadata": {
        "id": "X3G-WYCZQOaK"
      }
    },
    {
      "cell_type": "code",
      "source": [
        "# common_df의 컬럼 이름을 변경합니다. '질문'을 'Q'로, '답변'을 'A'로 변경\n",
        "common_df.rename(columns={'질문':'Q', '답변':'A'},inplace=True)"
      ],
      "metadata": {
        "id": "GTOtEwa1WBsg"
      },
      "execution_count": null,
      "outputs": []
    },
    {
      "cell_type": "markdown",
      "source": [
        "#### 2) 데이터셋 통합\n",
        "* intent 다시 번호 부여하기\n",
        "    * 두 데이터의 intent 번호를 확인합니다.\n",
        "    * 변경\n",
        "        * common_df : 1 부터 시작되도록 하고\n",
        "        * faq_df : common_df의 마지막 intent 이후부터 시작되도록 수정\n",
        "* 두 데이터 셋을 통합합니다. (pd.concat)"
      ],
      "metadata": {
        "id": "a_v186AtaYKZ"
      }
    },
    {
      "cell_type": "markdown",
      "source": [
        "* intent 번호 조정"
      ],
      "metadata": {
        "id": "DKDu96Veho2E"
      }
    },
    {
      "cell_type": "code",
      "source": [
        "common_df['intent'].unique()"
      ],
      "metadata": {
        "id": "-9L8vkO3gwPL",
        "colab": {
          "base_uri": "https://localhost:8080/"
        },
        "outputId": "628c3dc9-33e2-4f9a-86e1-9b35bbec3d08"
      },
      "execution_count": null,
      "outputs": [
        {
          "output_type": "execute_result",
          "data": {
            "text/plain": [
              "array([ 1,  2,  3,  4,  5,  6,  7,  8,  9, 10, 11, 12, 13, 14, 15, 16, 17,\n",
              "       18, 19, 20, 21, 22, 23, 24, 25, 26, 27, 28, 29, 30])"
            ]
          },
          "metadata": {},
          "execution_count": 17
        }
      ]
    },
    {
      "cell_type": "code",
      "source": [
        "faq_df['intent'].unique()"
      ],
      "metadata": {
        "id": "Cs0_Eeiz8WRR",
        "colab": {
          "base_uri": "https://localhost:8080/"
        },
        "outputId": "dab36a8b-e9a6-44e5-8e2c-6c9e6b575dd7"
      },
      "execution_count": null,
      "outputs": [
        {
          "output_type": "execute_result",
          "data": {
            "text/plain": [
              "array([ 0,  1,  2,  3,  4,  5,  6,  7,  8,  9, 10, 11, 12, 13, 14, 15, 16,\n",
              "       17, 18, 19, 20, 21, 22])"
            ]
          },
          "metadata": {},
          "execution_count": 18
        }
      ]
    },
    {
      "cell_type": "code",
      "source": [
        "faq_df['intent']=faq_df['intent']+31\n",
        "faq_df['intent'].unique()"
      ],
      "metadata": {
        "colab": {
          "base_uri": "https://localhost:8080/"
        },
        "id": "3fJg_EEyXWYJ",
        "outputId": "db83f269-dbbc-4921-dd82-83936ebdae32"
      },
      "execution_count": null,
      "outputs": [
        {
          "output_type": "execute_result",
          "data": {
            "text/plain": [
              "array([31, 32, 33, 34, 35, 36, 37, 38, 39, 40, 41, 42, 43, 44, 45, 46, 47,\n",
              "       48, 49, 50, 51, 52, 53])"
            ]
          },
          "metadata": {},
          "execution_count": 19
        }
      ]
    },
    {
      "cell_type": "code",
      "source": [
        "common_df.shape"
      ],
      "metadata": {
        "colab": {
          "base_uri": "https://localhost:8080/"
        },
        "id": "P8pSy28qZx6a",
        "outputId": "806192be-11b5-403e-a2e2-a25d31a1b52e"
      },
      "execution_count": null,
      "outputs": [
        {
          "output_type": "execute_result",
          "data": {
            "text/plain": [
              "(506, 3)"
            ]
          },
          "metadata": {},
          "execution_count": 24
        }
      ]
    },
    {
      "cell_type": "code",
      "source": [
        "faq_df.shape"
      ],
      "metadata": {
        "colab": {
          "base_uri": "https://localhost:8080/"
        },
        "id": "z4UViX10Z6Ex",
        "outputId": "a802cd63-0b65-49e1-96ee-08f54fe2092d"
      },
      "execution_count": null,
      "outputs": [
        {
          "output_type": "execute_result",
          "data": {
            "text/plain": [
              "(792, 3)"
            ]
          },
          "metadata": {},
          "execution_count": 25
        }
      ]
    },
    {
      "cell_type": "markdown",
      "source": [
        "* 데이터셋 통합(pd.concat)"
      ],
      "metadata": {
        "id": "tvnSokzAhqqF"
      }
    },
    {
      "cell_type": "code",
      "source": [
        "df=pd.concat([common_df,faq_df]).reset_index(drop=True)"
      ],
      "metadata": {
        "id": "B1veX2BI70Cj"
      },
      "execution_count": null,
      "outputs": []
    },
    {
      "cell_type": "code",
      "source": [
        "df"
      ],
      "metadata": {
        "id": "axDPv_zRN2PY",
        "colab": {
          "base_uri": "https://localhost:8080/",
          "height": 510
        },
        "outputId": "08973dc7-de37-4544-b636-3adc85440923"
      },
      "execution_count": null,
      "outputs": [
        {
          "output_type": "execute_result",
          "data": {
            "text/plain": [
              "      intent                               Q  \\\n",
              "0          1                떨어뜨려서 핸드폰 액정 나갔어   \n",
              "1          1                          액정 나갔어   \n",
              "2          1                핸드폰 떨어뜨려서 고장 났나봐   \n",
              "3          1                    노트북이 작동이 안되네   \n",
              "4          1                   노트북 키보드가 안먹히네   \n",
              "...      ...                             ...   \n",
              "1293      53  KT 에이블스쿨만의 장점이 무엇인지 상세히 설명해주세요   \n",
              "1294      53             다른 교육과의 차이점은 무엇인가요?   \n",
              "1295      53                다른 교육과 차이점이 있나요?   \n",
              "1296      53   다른 국비 지원 교육보다 특별한 점이 있는지 궁금해요   \n",
              "1297      53             다른 교육보다 특별한 것이 있나요?   \n",
              "\n",
              "                                                      A  \n",
              "0                                              as 맡기세요.  \n",
              "1                                              as 맡기세요.  \n",
              "2                                              as 맡기세요.  \n",
              "3                                          AS센터에 맡겨보세요.  \n",
              "4                                          AS센터에 맡겨보세요.  \n",
              "...                                                 ...  \n",
              "1293  KT 에이블스쿨에서는 이론/실습 교육에 나아가 기업 실전형 프로젝트를 중심으로 실무...  \n",
              "1294  KT 에이블스쿨에서는 이론/실습 교육에 나아가 기업 실전형 프로젝트를 중심으로 실무...  \n",
              "1295  KT 에이블스쿨에서는 이론/실습 교육에 나아가 기업 실전형 프로젝트를 중심으로 실무...  \n",
              "1296  KT 에이블스쿨에서는 이론/실습 교육에 나아가 기업 실전형 프로젝트를 중심으로 실무...  \n",
              "1297  KT 에이블스쿨에서는 이론/실습 교육에 나아가 기업 실전형 프로젝트를 중심으로 실무...  \n",
              "\n",
              "[1298 rows x 3 columns]"
            ],
            "text/html": [
              "\n",
              "  <div id=\"df-10f333c8-d240-4a2d-b27e-cc6f395134ea\" class=\"colab-df-container\">\n",
              "    <div>\n",
              "<style scoped>\n",
              "    .dataframe tbody tr th:only-of-type {\n",
              "        vertical-align: middle;\n",
              "    }\n",
              "\n",
              "    .dataframe tbody tr th {\n",
              "        vertical-align: top;\n",
              "    }\n",
              "\n",
              "    .dataframe thead th {\n",
              "        text-align: right;\n",
              "    }\n",
              "</style>\n",
              "<table border=\"1\" class=\"dataframe\">\n",
              "  <thead>\n",
              "    <tr style=\"text-align: right;\">\n",
              "      <th></th>\n",
              "      <th>intent</th>\n",
              "      <th>Q</th>\n",
              "      <th>A</th>\n",
              "    </tr>\n",
              "  </thead>\n",
              "  <tbody>\n",
              "    <tr>\n",
              "      <th>0</th>\n",
              "      <td>1</td>\n",
              "      <td>떨어뜨려서 핸드폰 액정 나갔어</td>\n",
              "      <td>as 맡기세요.</td>\n",
              "    </tr>\n",
              "    <tr>\n",
              "      <th>1</th>\n",
              "      <td>1</td>\n",
              "      <td>액정 나갔어</td>\n",
              "      <td>as 맡기세요.</td>\n",
              "    </tr>\n",
              "    <tr>\n",
              "      <th>2</th>\n",
              "      <td>1</td>\n",
              "      <td>핸드폰 떨어뜨려서 고장 났나봐</td>\n",
              "      <td>as 맡기세요.</td>\n",
              "    </tr>\n",
              "    <tr>\n",
              "      <th>3</th>\n",
              "      <td>1</td>\n",
              "      <td>노트북이 작동이 안되네</td>\n",
              "      <td>AS센터에 맡겨보세요.</td>\n",
              "    </tr>\n",
              "    <tr>\n",
              "      <th>4</th>\n",
              "      <td>1</td>\n",
              "      <td>노트북 키보드가 안먹히네</td>\n",
              "      <td>AS센터에 맡겨보세요.</td>\n",
              "    </tr>\n",
              "    <tr>\n",
              "      <th>...</th>\n",
              "      <td>...</td>\n",
              "      <td>...</td>\n",
              "      <td>...</td>\n",
              "    </tr>\n",
              "    <tr>\n",
              "      <th>1293</th>\n",
              "      <td>53</td>\n",
              "      <td>KT 에이블스쿨만의 장점이 무엇인지 상세히 설명해주세요</td>\n",
              "      <td>KT 에이블스쿨에서는 이론/실습 교육에 나아가 기업 실전형 프로젝트를 중심으로 실무...</td>\n",
              "    </tr>\n",
              "    <tr>\n",
              "      <th>1294</th>\n",
              "      <td>53</td>\n",
              "      <td>다른 교육과의 차이점은 무엇인가요?</td>\n",
              "      <td>KT 에이블스쿨에서는 이론/실습 교육에 나아가 기업 실전형 프로젝트를 중심으로 실무...</td>\n",
              "    </tr>\n",
              "    <tr>\n",
              "      <th>1295</th>\n",
              "      <td>53</td>\n",
              "      <td>다른 교육과 차이점이 있나요?</td>\n",
              "      <td>KT 에이블스쿨에서는 이론/실습 교육에 나아가 기업 실전형 프로젝트를 중심으로 실무...</td>\n",
              "    </tr>\n",
              "    <tr>\n",
              "      <th>1296</th>\n",
              "      <td>53</td>\n",
              "      <td>다른 국비 지원 교육보다 특별한 점이 있는지 궁금해요</td>\n",
              "      <td>KT 에이블스쿨에서는 이론/실습 교육에 나아가 기업 실전형 프로젝트를 중심으로 실무...</td>\n",
              "    </tr>\n",
              "    <tr>\n",
              "      <th>1297</th>\n",
              "      <td>53</td>\n",
              "      <td>다른 교육보다 특별한 것이 있나요?</td>\n",
              "      <td>KT 에이블스쿨에서는 이론/실습 교육에 나아가 기업 실전형 프로젝트를 중심으로 실무...</td>\n",
              "    </tr>\n",
              "  </tbody>\n",
              "</table>\n",
              "<p>1298 rows × 3 columns</p>\n",
              "</div>\n",
              "    <div class=\"colab-df-buttons\">\n",
              "\n",
              "  <div class=\"colab-df-container\">\n",
              "    <button class=\"colab-df-convert\" onclick=\"convertToInteractive('df-10f333c8-d240-4a2d-b27e-cc6f395134ea')\"\n",
              "            title=\"Convert this dataframe to an interactive table.\"\n",
              "            style=\"display:none;\">\n",
              "\n",
              "  <svg xmlns=\"http://www.w3.org/2000/svg\" height=\"24px\" viewBox=\"0 -960 960 960\">\n",
              "    <path d=\"M120-120v-720h720v720H120Zm60-500h600v-160H180v160Zm220 220h160v-160H400v160Zm0 220h160v-160H400v160ZM180-400h160v-160H180v160Zm440 0h160v-160H620v160ZM180-180h160v-160H180v160Zm440 0h160v-160H620v160Z\"/>\n",
              "  </svg>\n",
              "    </button>\n",
              "\n",
              "  <style>\n",
              "    .colab-df-container {\n",
              "      display:flex;\n",
              "      gap: 12px;\n",
              "    }\n",
              "\n",
              "    .colab-df-convert {\n",
              "      background-color: #E8F0FE;\n",
              "      border: none;\n",
              "      border-radius: 50%;\n",
              "      cursor: pointer;\n",
              "      display: none;\n",
              "      fill: #1967D2;\n",
              "      height: 32px;\n",
              "      padding: 0 0 0 0;\n",
              "      width: 32px;\n",
              "    }\n",
              "\n",
              "    .colab-df-convert:hover {\n",
              "      background-color: #E2EBFA;\n",
              "      box-shadow: 0px 1px 2px rgba(60, 64, 67, 0.3), 0px 1px 3px 1px rgba(60, 64, 67, 0.15);\n",
              "      fill: #174EA6;\n",
              "    }\n",
              "\n",
              "    .colab-df-buttons div {\n",
              "      margin-bottom: 4px;\n",
              "    }\n",
              "\n",
              "    [theme=dark] .colab-df-convert {\n",
              "      background-color: #3B4455;\n",
              "      fill: #D2E3FC;\n",
              "    }\n",
              "\n",
              "    [theme=dark] .colab-df-convert:hover {\n",
              "      background-color: #434B5C;\n",
              "      box-shadow: 0px 1px 3px 1px rgba(0, 0, 0, 0.15);\n",
              "      filter: drop-shadow(0px 1px 2px rgba(0, 0, 0, 0.3));\n",
              "      fill: #FFFFFF;\n",
              "    }\n",
              "  </style>\n",
              "\n",
              "    <script>\n",
              "      const buttonEl =\n",
              "        document.querySelector('#df-10f333c8-d240-4a2d-b27e-cc6f395134ea button.colab-df-convert');\n",
              "      buttonEl.style.display =\n",
              "        google.colab.kernel.accessAllowed ? 'block' : 'none';\n",
              "\n",
              "      async function convertToInteractive(key) {\n",
              "        const element = document.querySelector('#df-10f333c8-d240-4a2d-b27e-cc6f395134ea');\n",
              "        const dataTable =\n",
              "          await google.colab.kernel.invokeFunction('convertToInteractive',\n",
              "                                                    [key], {});\n",
              "        if (!dataTable) return;\n",
              "\n",
              "        const docLinkHtml = 'Like what you see? Visit the ' +\n",
              "          '<a target=\"_blank\" href=https://colab.research.google.com/notebooks/data_table.ipynb>data table notebook</a>'\n",
              "          + ' to learn more about interactive tables.';\n",
              "        element.innerHTML = '';\n",
              "        dataTable['output_type'] = 'display_data';\n",
              "        await google.colab.output.renderOutput(dataTable, element);\n",
              "        const docLink = document.createElement('div');\n",
              "        docLink.innerHTML = docLinkHtml;\n",
              "        element.appendChild(docLink);\n",
              "      }\n",
              "    </script>\n",
              "  </div>\n",
              "\n",
              "\n",
              "<div id=\"df-ab0daed3-dd67-48c0-be6d-cba2c9b1de30\">\n",
              "  <button class=\"colab-df-quickchart\" onclick=\"quickchart('df-ab0daed3-dd67-48c0-be6d-cba2c9b1de30')\"\n",
              "            title=\"Suggest charts.\"\n",
              "            style=\"display:none;\">\n",
              "\n",
              "<svg xmlns=\"http://www.w3.org/2000/svg\" height=\"24px\"viewBox=\"0 0 24 24\"\n",
              "     width=\"24px\">\n",
              "    <g>\n",
              "        <path d=\"M19 3H5c-1.1 0-2 .9-2 2v14c0 1.1.9 2 2 2h14c1.1 0 2-.9 2-2V5c0-1.1-.9-2-2-2zM9 17H7v-7h2v7zm4 0h-2V7h2v10zm4 0h-2v-4h2v4z\"/>\n",
              "    </g>\n",
              "</svg>\n",
              "  </button>\n",
              "\n",
              "<style>\n",
              "  .colab-df-quickchart {\n",
              "      --bg-color: #E8F0FE;\n",
              "      --fill-color: #1967D2;\n",
              "      --hover-bg-color: #E2EBFA;\n",
              "      --hover-fill-color: #174EA6;\n",
              "      --disabled-fill-color: #AAA;\n",
              "      --disabled-bg-color: #DDD;\n",
              "  }\n",
              "\n",
              "  [theme=dark] .colab-df-quickchart {\n",
              "      --bg-color: #3B4455;\n",
              "      --fill-color: #D2E3FC;\n",
              "      --hover-bg-color: #434B5C;\n",
              "      --hover-fill-color: #FFFFFF;\n",
              "      --disabled-bg-color: #3B4455;\n",
              "      --disabled-fill-color: #666;\n",
              "  }\n",
              "\n",
              "  .colab-df-quickchart {\n",
              "    background-color: var(--bg-color);\n",
              "    border: none;\n",
              "    border-radius: 50%;\n",
              "    cursor: pointer;\n",
              "    display: none;\n",
              "    fill: var(--fill-color);\n",
              "    height: 32px;\n",
              "    padding: 0;\n",
              "    width: 32px;\n",
              "  }\n",
              "\n",
              "  .colab-df-quickchart:hover {\n",
              "    background-color: var(--hover-bg-color);\n",
              "    box-shadow: 0 1px 2px rgba(60, 64, 67, 0.3), 0 1px 3px 1px rgba(60, 64, 67, 0.15);\n",
              "    fill: var(--button-hover-fill-color);\n",
              "  }\n",
              "\n",
              "  .colab-df-quickchart-complete:disabled,\n",
              "  .colab-df-quickchart-complete:disabled:hover {\n",
              "    background-color: var(--disabled-bg-color);\n",
              "    fill: var(--disabled-fill-color);\n",
              "    box-shadow: none;\n",
              "  }\n",
              "\n",
              "  .colab-df-spinner {\n",
              "    border: 2px solid var(--fill-color);\n",
              "    border-color: transparent;\n",
              "    border-bottom-color: var(--fill-color);\n",
              "    animation:\n",
              "      spin 1s steps(1) infinite;\n",
              "  }\n",
              "\n",
              "  @keyframes spin {\n",
              "    0% {\n",
              "      border-color: transparent;\n",
              "      border-bottom-color: var(--fill-color);\n",
              "      border-left-color: var(--fill-color);\n",
              "    }\n",
              "    20% {\n",
              "      border-color: transparent;\n",
              "      border-left-color: var(--fill-color);\n",
              "      border-top-color: var(--fill-color);\n",
              "    }\n",
              "    30% {\n",
              "      border-color: transparent;\n",
              "      border-left-color: var(--fill-color);\n",
              "      border-top-color: var(--fill-color);\n",
              "      border-right-color: var(--fill-color);\n",
              "    }\n",
              "    40% {\n",
              "      border-color: transparent;\n",
              "      border-right-color: var(--fill-color);\n",
              "      border-top-color: var(--fill-color);\n",
              "    }\n",
              "    60% {\n",
              "      border-color: transparent;\n",
              "      border-right-color: var(--fill-color);\n",
              "    }\n",
              "    80% {\n",
              "      border-color: transparent;\n",
              "      border-right-color: var(--fill-color);\n",
              "      border-bottom-color: var(--fill-color);\n",
              "    }\n",
              "    90% {\n",
              "      border-color: transparent;\n",
              "      border-bottom-color: var(--fill-color);\n",
              "    }\n",
              "  }\n",
              "</style>\n",
              "\n",
              "  <script>\n",
              "    async function quickchart(key) {\n",
              "      const quickchartButtonEl =\n",
              "        document.querySelector('#' + key + ' button');\n",
              "      quickchartButtonEl.disabled = true;  // To prevent multiple clicks.\n",
              "      quickchartButtonEl.classList.add('colab-df-spinner');\n",
              "      try {\n",
              "        const charts = await google.colab.kernel.invokeFunction(\n",
              "            'suggestCharts', [key], {});\n",
              "      } catch (error) {\n",
              "        console.error('Error during call to suggestCharts:', error);\n",
              "      }\n",
              "      quickchartButtonEl.classList.remove('colab-df-spinner');\n",
              "      quickchartButtonEl.classList.add('colab-df-quickchart-complete');\n",
              "    }\n",
              "    (() => {\n",
              "      let quickchartButtonEl =\n",
              "        document.querySelector('#df-ab0daed3-dd67-48c0-be6d-cba2c9b1de30 button');\n",
              "      quickchartButtonEl.style.display =\n",
              "        google.colab.kernel.accessAllowed ? 'block' : 'none';\n",
              "    })();\n",
              "  </script>\n",
              "</div>\n",
              "    </div>\n",
              "  </div>\n"
            ]
          },
          "metadata": {},
          "execution_count": 27
        }
      ]
    },
    {
      "cell_type": "markdown",
      "source": [
        "#### 3) 일상대화와 Q&A대화 구분 칼럼(대화유형) 만들기\n",
        "* 주어진 데이터셋은 두가지 종류입니다.\n",
        "* 통합 데이터에 type 칼럼을 추가하고, 일상대화를 0, Q&A를 1로 지정하시오."
      ],
      "metadata": {
        "id": "xJxEBD9lj3V3"
      }
    },
    {
      "cell_type": "code",
      "source": [
        "df['type'] = np.where(df['intent']<31, 0, 1)"
      ],
      "metadata": {
        "id": "-FsDFW_VkJ7H"
      },
      "execution_count": null,
      "outputs": []
    },
    {
      "cell_type": "code",
      "source": [
        "df"
      ],
      "metadata": {
        "colab": {
          "base_uri": "https://localhost:8080/",
          "height": 510
        },
        "id": "rkLugTcXeaX9",
        "outputId": "b513879a-44de-4829-ee6a-bd3f16fd8678"
      },
      "execution_count": null,
      "outputs": [
        {
          "output_type": "execute_result",
          "data": {
            "text/plain": [
              "      intent                               Q  \\\n",
              "0          1                떨어뜨려서 핸드폰 액정 나갔어   \n",
              "1          1                          액정 나갔어   \n",
              "2          1                핸드폰 떨어뜨려서 고장 났나봐   \n",
              "3          1                    노트북이 작동이 안되네   \n",
              "4          1                   노트북 키보드가 안먹히네   \n",
              "...      ...                             ...   \n",
              "1293      53  KT 에이블스쿨만의 장점이 무엇인지 상세히 설명해주세요   \n",
              "1294      53             다른 교육과의 차이점은 무엇인가요?   \n",
              "1295      53                다른 교육과 차이점이 있나요?   \n",
              "1296      53   다른 국비 지원 교육보다 특별한 점이 있는지 궁금해요   \n",
              "1297      53             다른 교육보다 특별한 것이 있나요?   \n",
              "\n",
              "                                                      A  type  \n",
              "0                                              as 맡기세요.     0  \n",
              "1                                              as 맡기세요.     0  \n",
              "2                                              as 맡기세요.     0  \n",
              "3                                          AS센터에 맡겨보세요.     0  \n",
              "4                                          AS센터에 맡겨보세요.     0  \n",
              "...                                                 ...   ...  \n",
              "1293  KT 에이블스쿨에서는 이론/실습 교육에 나아가 기업 실전형 프로젝트를 중심으로 실무...     1  \n",
              "1294  KT 에이블스쿨에서는 이론/실습 교육에 나아가 기업 실전형 프로젝트를 중심으로 실무...     1  \n",
              "1295  KT 에이블스쿨에서는 이론/실습 교육에 나아가 기업 실전형 프로젝트를 중심으로 실무...     1  \n",
              "1296  KT 에이블스쿨에서는 이론/실습 교육에 나아가 기업 실전형 프로젝트를 중심으로 실무...     1  \n",
              "1297  KT 에이블스쿨에서는 이론/실습 교육에 나아가 기업 실전형 프로젝트를 중심으로 실무...     1  \n",
              "\n",
              "[1298 rows x 4 columns]"
            ],
            "text/html": [
              "\n",
              "  <div id=\"df-8809f960-e606-4e4c-b82a-db0b19eb6bd9\" class=\"colab-df-container\">\n",
              "    <div>\n",
              "<style scoped>\n",
              "    .dataframe tbody tr th:only-of-type {\n",
              "        vertical-align: middle;\n",
              "    }\n",
              "\n",
              "    .dataframe tbody tr th {\n",
              "        vertical-align: top;\n",
              "    }\n",
              "\n",
              "    .dataframe thead th {\n",
              "        text-align: right;\n",
              "    }\n",
              "</style>\n",
              "<table border=\"1\" class=\"dataframe\">\n",
              "  <thead>\n",
              "    <tr style=\"text-align: right;\">\n",
              "      <th></th>\n",
              "      <th>intent</th>\n",
              "      <th>Q</th>\n",
              "      <th>A</th>\n",
              "      <th>type</th>\n",
              "    </tr>\n",
              "  </thead>\n",
              "  <tbody>\n",
              "    <tr>\n",
              "      <th>0</th>\n",
              "      <td>1</td>\n",
              "      <td>떨어뜨려서 핸드폰 액정 나갔어</td>\n",
              "      <td>as 맡기세요.</td>\n",
              "      <td>0</td>\n",
              "    </tr>\n",
              "    <tr>\n",
              "      <th>1</th>\n",
              "      <td>1</td>\n",
              "      <td>액정 나갔어</td>\n",
              "      <td>as 맡기세요.</td>\n",
              "      <td>0</td>\n",
              "    </tr>\n",
              "    <tr>\n",
              "      <th>2</th>\n",
              "      <td>1</td>\n",
              "      <td>핸드폰 떨어뜨려서 고장 났나봐</td>\n",
              "      <td>as 맡기세요.</td>\n",
              "      <td>0</td>\n",
              "    </tr>\n",
              "    <tr>\n",
              "      <th>3</th>\n",
              "      <td>1</td>\n",
              "      <td>노트북이 작동이 안되네</td>\n",
              "      <td>AS센터에 맡겨보세요.</td>\n",
              "      <td>0</td>\n",
              "    </tr>\n",
              "    <tr>\n",
              "      <th>4</th>\n",
              "      <td>1</td>\n",
              "      <td>노트북 키보드가 안먹히네</td>\n",
              "      <td>AS센터에 맡겨보세요.</td>\n",
              "      <td>0</td>\n",
              "    </tr>\n",
              "    <tr>\n",
              "      <th>...</th>\n",
              "      <td>...</td>\n",
              "      <td>...</td>\n",
              "      <td>...</td>\n",
              "      <td>...</td>\n",
              "    </tr>\n",
              "    <tr>\n",
              "      <th>1293</th>\n",
              "      <td>53</td>\n",
              "      <td>KT 에이블스쿨만의 장점이 무엇인지 상세히 설명해주세요</td>\n",
              "      <td>KT 에이블스쿨에서는 이론/실습 교육에 나아가 기업 실전형 프로젝트를 중심으로 실무...</td>\n",
              "      <td>1</td>\n",
              "    </tr>\n",
              "    <tr>\n",
              "      <th>1294</th>\n",
              "      <td>53</td>\n",
              "      <td>다른 교육과의 차이점은 무엇인가요?</td>\n",
              "      <td>KT 에이블스쿨에서는 이론/실습 교육에 나아가 기업 실전형 프로젝트를 중심으로 실무...</td>\n",
              "      <td>1</td>\n",
              "    </tr>\n",
              "    <tr>\n",
              "      <th>1295</th>\n",
              "      <td>53</td>\n",
              "      <td>다른 교육과 차이점이 있나요?</td>\n",
              "      <td>KT 에이블스쿨에서는 이론/실습 교육에 나아가 기업 실전형 프로젝트를 중심으로 실무...</td>\n",
              "      <td>1</td>\n",
              "    </tr>\n",
              "    <tr>\n",
              "      <th>1296</th>\n",
              "      <td>53</td>\n",
              "      <td>다른 국비 지원 교육보다 특별한 점이 있는지 궁금해요</td>\n",
              "      <td>KT 에이블스쿨에서는 이론/실습 교육에 나아가 기업 실전형 프로젝트를 중심으로 실무...</td>\n",
              "      <td>1</td>\n",
              "    </tr>\n",
              "    <tr>\n",
              "      <th>1297</th>\n",
              "      <td>53</td>\n",
              "      <td>다른 교육보다 특별한 것이 있나요?</td>\n",
              "      <td>KT 에이블스쿨에서는 이론/실습 교육에 나아가 기업 실전형 프로젝트를 중심으로 실무...</td>\n",
              "      <td>1</td>\n",
              "    </tr>\n",
              "  </tbody>\n",
              "</table>\n",
              "<p>1298 rows × 4 columns</p>\n",
              "</div>\n",
              "    <div class=\"colab-df-buttons\">\n",
              "\n",
              "  <div class=\"colab-df-container\">\n",
              "    <button class=\"colab-df-convert\" onclick=\"convertToInteractive('df-8809f960-e606-4e4c-b82a-db0b19eb6bd9')\"\n",
              "            title=\"Convert this dataframe to an interactive table.\"\n",
              "            style=\"display:none;\">\n",
              "\n",
              "  <svg xmlns=\"http://www.w3.org/2000/svg\" height=\"24px\" viewBox=\"0 -960 960 960\">\n",
              "    <path d=\"M120-120v-720h720v720H120Zm60-500h600v-160H180v160Zm220 220h160v-160H400v160Zm0 220h160v-160H400v160ZM180-400h160v-160H180v160Zm440 0h160v-160H620v160ZM180-180h160v-160H180v160Zm440 0h160v-160H620v160Z\"/>\n",
              "  </svg>\n",
              "    </button>\n",
              "\n",
              "  <style>\n",
              "    .colab-df-container {\n",
              "      display:flex;\n",
              "      gap: 12px;\n",
              "    }\n",
              "\n",
              "    .colab-df-convert {\n",
              "      background-color: #E8F0FE;\n",
              "      border: none;\n",
              "      border-radius: 50%;\n",
              "      cursor: pointer;\n",
              "      display: none;\n",
              "      fill: #1967D2;\n",
              "      height: 32px;\n",
              "      padding: 0 0 0 0;\n",
              "      width: 32px;\n",
              "    }\n",
              "\n",
              "    .colab-df-convert:hover {\n",
              "      background-color: #E2EBFA;\n",
              "      box-shadow: 0px 1px 2px rgba(60, 64, 67, 0.3), 0px 1px 3px 1px rgba(60, 64, 67, 0.15);\n",
              "      fill: #174EA6;\n",
              "    }\n",
              "\n",
              "    .colab-df-buttons div {\n",
              "      margin-bottom: 4px;\n",
              "    }\n",
              "\n",
              "    [theme=dark] .colab-df-convert {\n",
              "      background-color: #3B4455;\n",
              "      fill: #D2E3FC;\n",
              "    }\n",
              "\n",
              "    [theme=dark] .colab-df-convert:hover {\n",
              "      background-color: #434B5C;\n",
              "      box-shadow: 0px 1px 3px 1px rgba(0, 0, 0, 0.15);\n",
              "      filter: drop-shadow(0px 1px 2px rgba(0, 0, 0, 0.3));\n",
              "      fill: #FFFFFF;\n",
              "    }\n",
              "  </style>\n",
              "\n",
              "    <script>\n",
              "      const buttonEl =\n",
              "        document.querySelector('#df-8809f960-e606-4e4c-b82a-db0b19eb6bd9 button.colab-df-convert');\n",
              "      buttonEl.style.display =\n",
              "        google.colab.kernel.accessAllowed ? 'block' : 'none';\n",
              "\n",
              "      async function convertToInteractive(key) {\n",
              "        const element = document.querySelector('#df-8809f960-e606-4e4c-b82a-db0b19eb6bd9');\n",
              "        const dataTable =\n",
              "          await google.colab.kernel.invokeFunction('convertToInteractive',\n",
              "                                                    [key], {});\n",
              "        if (!dataTable) return;\n",
              "\n",
              "        const docLinkHtml = 'Like what you see? Visit the ' +\n",
              "          '<a target=\"_blank\" href=https://colab.research.google.com/notebooks/data_table.ipynb>data table notebook</a>'\n",
              "          + ' to learn more about interactive tables.';\n",
              "        element.innerHTML = '';\n",
              "        dataTable['output_type'] = 'display_data';\n",
              "        await google.colab.output.renderOutput(dataTable, element);\n",
              "        const docLink = document.createElement('div');\n",
              "        docLink.innerHTML = docLinkHtml;\n",
              "        element.appendChild(docLink);\n",
              "      }\n",
              "    </script>\n",
              "  </div>\n",
              "\n",
              "\n",
              "<div id=\"df-b3b3117b-f2ad-4b7e-ba5c-d74ec7d38222\">\n",
              "  <button class=\"colab-df-quickchart\" onclick=\"quickchart('df-b3b3117b-f2ad-4b7e-ba5c-d74ec7d38222')\"\n",
              "            title=\"Suggest charts.\"\n",
              "            style=\"display:none;\">\n",
              "\n",
              "<svg xmlns=\"http://www.w3.org/2000/svg\" height=\"24px\"viewBox=\"0 0 24 24\"\n",
              "     width=\"24px\">\n",
              "    <g>\n",
              "        <path d=\"M19 3H5c-1.1 0-2 .9-2 2v14c0 1.1.9 2 2 2h14c1.1 0 2-.9 2-2V5c0-1.1-.9-2-2-2zM9 17H7v-7h2v7zm4 0h-2V7h2v10zm4 0h-2v-4h2v4z\"/>\n",
              "    </g>\n",
              "</svg>\n",
              "  </button>\n",
              "\n",
              "<style>\n",
              "  .colab-df-quickchart {\n",
              "      --bg-color: #E8F0FE;\n",
              "      --fill-color: #1967D2;\n",
              "      --hover-bg-color: #E2EBFA;\n",
              "      --hover-fill-color: #174EA6;\n",
              "      --disabled-fill-color: #AAA;\n",
              "      --disabled-bg-color: #DDD;\n",
              "  }\n",
              "\n",
              "  [theme=dark] .colab-df-quickchart {\n",
              "      --bg-color: #3B4455;\n",
              "      --fill-color: #D2E3FC;\n",
              "      --hover-bg-color: #434B5C;\n",
              "      --hover-fill-color: #FFFFFF;\n",
              "      --disabled-bg-color: #3B4455;\n",
              "      --disabled-fill-color: #666;\n",
              "  }\n",
              "\n",
              "  .colab-df-quickchart {\n",
              "    background-color: var(--bg-color);\n",
              "    border: none;\n",
              "    border-radius: 50%;\n",
              "    cursor: pointer;\n",
              "    display: none;\n",
              "    fill: var(--fill-color);\n",
              "    height: 32px;\n",
              "    padding: 0;\n",
              "    width: 32px;\n",
              "  }\n",
              "\n",
              "  .colab-df-quickchart:hover {\n",
              "    background-color: var(--hover-bg-color);\n",
              "    box-shadow: 0 1px 2px rgba(60, 64, 67, 0.3), 0 1px 3px 1px rgba(60, 64, 67, 0.15);\n",
              "    fill: var(--button-hover-fill-color);\n",
              "  }\n",
              "\n",
              "  .colab-df-quickchart-complete:disabled,\n",
              "  .colab-df-quickchart-complete:disabled:hover {\n",
              "    background-color: var(--disabled-bg-color);\n",
              "    fill: var(--disabled-fill-color);\n",
              "    box-shadow: none;\n",
              "  }\n",
              "\n",
              "  .colab-df-spinner {\n",
              "    border: 2px solid var(--fill-color);\n",
              "    border-color: transparent;\n",
              "    border-bottom-color: var(--fill-color);\n",
              "    animation:\n",
              "      spin 1s steps(1) infinite;\n",
              "  }\n",
              "\n",
              "  @keyframes spin {\n",
              "    0% {\n",
              "      border-color: transparent;\n",
              "      border-bottom-color: var(--fill-color);\n",
              "      border-left-color: var(--fill-color);\n",
              "    }\n",
              "    20% {\n",
              "      border-color: transparent;\n",
              "      border-left-color: var(--fill-color);\n",
              "      border-top-color: var(--fill-color);\n",
              "    }\n",
              "    30% {\n",
              "      border-color: transparent;\n",
              "      border-left-color: var(--fill-color);\n",
              "      border-top-color: var(--fill-color);\n",
              "      border-right-color: var(--fill-color);\n",
              "    }\n",
              "    40% {\n",
              "      border-color: transparent;\n",
              "      border-right-color: var(--fill-color);\n",
              "      border-top-color: var(--fill-color);\n",
              "    }\n",
              "    60% {\n",
              "      border-color: transparent;\n",
              "      border-right-color: var(--fill-color);\n",
              "    }\n",
              "    80% {\n",
              "      border-color: transparent;\n",
              "      border-right-color: var(--fill-color);\n",
              "      border-bottom-color: var(--fill-color);\n",
              "    }\n",
              "    90% {\n",
              "      border-color: transparent;\n",
              "      border-bottom-color: var(--fill-color);\n",
              "    }\n",
              "  }\n",
              "</style>\n",
              "\n",
              "  <script>\n",
              "    async function quickchart(key) {\n",
              "      const quickchartButtonEl =\n",
              "        document.querySelector('#' + key + ' button');\n",
              "      quickchartButtonEl.disabled = true;  // To prevent multiple clicks.\n",
              "      quickchartButtonEl.classList.add('colab-df-spinner');\n",
              "      try {\n",
              "        const charts = await google.colab.kernel.invokeFunction(\n",
              "            'suggestCharts', [key], {});\n",
              "      } catch (error) {\n",
              "        console.error('Error during call to suggestCharts:', error);\n",
              "      }\n",
              "      quickchartButtonEl.classList.remove('colab-df-spinner');\n",
              "      quickchartButtonEl.classList.add('colab-df-quickchart-complete');\n",
              "    }\n",
              "    (() => {\n",
              "      let quickchartButtonEl =\n",
              "        document.querySelector('#df-b3b3117b-f2ad-4b7e-ba5c-d74ec7d38222 button');\n",
              "      quickchartButtonEl.style.display =\n",
              "        google.colab.kernel.accessAllowed ? 'block' : 'none';\n",
              "    })();\n",
              "  </script>\n",
              "</div>\n",
              "    </div>\n",
              "  </div>\n"
            ]
          },
          "metadata": {},
          "execution_count": 31
        }
      ]
    },
    {
      "cell_type": "markdown",
      "source": [
        "### (2) 데이터 탐색하기\n"
      ],
      "metadata": {
        "id": "5U2AP87sMbD8"
      }
    },
    {
      "cell_type": "markdown",
      "source": [
        "* 세부 요구사항\n",
        "    - intent별 질문 개수 분포를 확인합니다.\n",
        "        * 문의 유형별 길이에 대한 기초통계량과  시각화(히스토그램, 박스플롯 등)를 통해 분포를 확인합니다.\n",
        "    - 질문별 문장 길이 분포를 확인합니다."
      ],
      "metadata": {
        "id": "71DIY5a0aKCO"
      }
    },
    {
      "cell_type": "markdown",
      "source": [
        "#### 1) intent별 질문 개수 살펴보기\n",
        "* intent 별 데이터 개수를 bar plot 등을 이용하여 시각화 합니다."
      ],
      "metadata": {
        "id": "qYxOMPyBON_a"
      }
    },
    {
      "cell_type": "code",
      "source": [
        "df.groupby(['intent'])['Q'].count().plot(kind='bar')\n",
        "plt.show()"
      ],
      "metadata": {
        "id": "ym8JHH9EQP4L",
        "colab": {
          "base_uri": "https://localhost:8080/",
          "height": 453
        },
        "outputId": "5e7f09e2-5a5d-4321-f9a4-593b45ec1e98"
      },
      "execution_count": null,
      "outputs": [
        {
          "output_type": "display_data",
          "data": {
            "text/plain": [
              "<Figure size 640x480 with 1 Axes>"
            ],
            "image/png": "[encoded data removed]"
          },
          "metadata": {}
        }
      ]
    },
    {
      "cell_type": "markdown",
      "source": [
        "#### 2) 질문별 문장 길이 분포\n",
        "* 질문 별 문장 길이(글자 수)를 추출하여 분포를 살펴봅시다.\n",
        "    * 기초 통계량\n",
        "    * 히스토그램 및 박스 플롯으로 분포를 살펴봅니다."
      ],
      "metadata": {
        "id": "RwjvRvS_tLmF"
      }
    },
    {
      "cell_type": "code",
      "source": [],
      "metadata": {
        "id": "1JKgHcEY9kcP"
      },
      "execution_count": null,
      "outputs": []
    },
    {
      "cell_type": "code",
      "source": [],
      "metadata": {
        "id": "4p_YHybk9Ss6"
      },
      "execution_count": null,
      "outputs": []
    },
    {
      "cell_type": "code",
      "source": [],
      "metadata": {
        "id": "D1j0jfFYOrty"
      },
      "execution_count": null,
      "outputs": []
    },
    {
      "cell_type": "markdown",
      "source": [
        "#### 3) 대화 유형(type) 별 문장 길이 분포 비교\n",
        "* 타입별 문장 길이(글자 수)를 추출하여 분포를 살펴봅시다.\n",
        "    * 기초 통계량\n",
        "    * 히스토그램 및 박스 플롯으로 분포를 살펴봅니다."
      ],
      "metadata": {
        "id": "d0590HISmaoA"
      }
    },
    {
      "cell_type": "code",
      "source": [],
      "metadata": {
        "id": "SQjHs8prmaoB"
      },
      "execution_count": null,
      "outputs": []
    },
    {
      "cell_type": "code",
      "source": [],
      "metadata": {
        "id": "Q6rBVP5gnm8G"
      },
      "execution_count": null,
      "outputs": []
    },
    {
      "cell_type": "markdown",
      "source": [
        "## 3.데이터 전처리"
      ],
      "metadata": {
        "id": "0sNHtUq5qRBi"
      }
    },
    {
      "cell_type": "markdown",
      "source": [
        "* 세부요구사항\n",
        "    * 다음 항목에 해당되는 전처리 함수를 각각 생성하여 하나로 합쳐봅시다.\n",
        "        * 특수문자 제거 : 정규 표현식을 활용합니다. (띄어쓰기, \\n 등)\n",
        "        * 형태소 분석기 사용 : konlpy(mecab, kkma, Okt, etc), soynlp, khaiii 등 여러 형태소 분석기를 활용합니다.\n",
        "    * 문장길이를 조절하여 모델 input으로 활용하기\n",
        "    * joblib.dump를 이용하여 전처리 결과 데이터를 저장합니다."
      ],
      "metadata": {
        "id": "qHkolaWNVxx0"
      }
    },
    {
      "cell_type": "markdown",
      "source": [
        "### (1) 학습/평가 데이터 분리\n",
        "   * test 데이터 : intent마다 무작위로 질문 2개를 뽑아 test 데이터로 분리\n",
        "   * train 데이터 : 나머지 데이터\n"
      ],
      "metadata": {
        "id": "QkSFFjCEZ2gg"
      }
    },
    {
      "cell_type": "code",
      "source": [
        "np.random.seed(42)\n",
        "\n",
        "idx = []\n",
        "for i in df['intent'].unique():\n",
        "    idx.extend(np.random.choice(df[df['intent'] == i].index, 2))\n",
        "print(idx)"
      ],
      "metadata": {
        "colab": {
          "base_uri": "https://localhost:8080/"
        },
        "id": "NwI4qyHf2fMz",
        "outputId": "f29e14d9-c8ec-4d13-c0fe-2dd51929a4ed"
      },
      "execution_count": null,
      "outputs": [
        {
          "output_type": "stream",
          "name": "stdout",
          "text": [
            "[6, 3, 28, 30, 39, 52, 77, 80, 83, 87, 98, 95, 104, 108, 134, 113, 184, 183, 190, 196, 204, 200, 213, 209, 230, 240, 251, 243, 262, 255, 269, 266, 281, 275, 287, 285, 299, 297, 311, 320, 340, 350, 362, 370, 379, 380, 386, 383, 395, 398, 413, 414, 422, 429, 432, 443, 474, 461, 493, 483, 509, 507, 678, 598, 692, 686, 720, 714, 724, 732, 746, 756, 777, 776, 787, 793, 822, 859, 899, 880, 915, 917, 954, 952, 986, 972, 1010, 998, 1042, 1024, 1066, 1081, 1118, 1129, 1145, 1148, 1176, 1174, 1185, 1212, 1240, 1238, 1262, 1267, 1284, 1286]\n"
          ]
        }
      ]
    },
    {
      "cell_type": "code",
      "source": [
        "train = df.drop(idx, axis=0).reset_index(drop=True)\n",
        "test = df.loc[idx, :].reset_index(drop=True)"
      ],
      "metadata": {
        "id": "m5386yzTZ2Ln"
      },
      "execution_count": null,
      "outputs": []
    },
    {
      "cell_type": "code",
      "source": [
        "train.shape, test.shape"
      ],
      "metadata": {
        "colab": {
          "base_uri": "https://localhost:8080/"
        },
        "id": "Vzrctr9TPNXf",
        "outputId": "8473218d-818d-44f9-f58b-cf78b21257c1"
      },
      "execution_count": null,
      "outputs": [
        {
          "output_type": "execute_result",
          "data": {
            "text/plain": [
              "((1192, 4), (106, 4))"
            ]
          },
          "metadata": {},
          "execution_count": 66
        }
      ]
    },
    {
      "cell_type": "markdown",
      "source": [
        "### (2) 형태소 분석하기\n",
        "- konlpy, mecab 설치 후 형태소 분석 함수 생성\n",
        "    * Colab에서는 아래 두 코드셀을 순차적으로 실행하면 설치 됩니다.\n",
        "        * 참조 : https://konlpy.org/en/latest/install/\n",
        "- 형태소 분석 결과를 다음의 이름으로 생성하시오.\n",
        "    - clean_train_questions\n",
        "    - clean_test_questions"
      ],
      "metadata": {
        "id": "rHFuPUS6SkQp"
      }
    },
    {
      "cell_type": "markdown",
      "source": [
        "#### 1) 형태소 분석 패키지 설치"
      ],
      "metadata": {
        "id": "Agye3IUGHEN8"
      }
    },
    {
      "cell_type": "code",
      "source": [
        "# mecab 설치를 위한 관련 패키지 설치\n",
        "!apt-get install curl git\n",
        "!apt-get install build-essential\n",
        "!apt-get install cmake\n",
        "!apt-get install g++\n",
        "!apt-get install flex\n",
        "!apt-get install bison\n",
        "!apt-get install python-dev\n",
        "!pip install cython\n",
        "!pip install mecab-python"
      ],
      "metadata": {
        "id": "eRgLSScn0QFG"
      },
      "execution_count": null,
      "outputs": []
    },
    {
      "cell_type": "code",
      "source": [
        "# 형태소 기반 토크나이징 (Konlpy)\n",
        "!python3 -m pip install konlpy\n",
        "# mecab (ubuntu: linux, mac os 기준)\n",
        "# 다른 os 설치 방법 및 자세한 내용은 다음 참고: https://konlpy.org/ko/latest/install/#id1\n",
        "!bash <(curl -s https://raw.githubusercontent.com/konlpy/konlpy/master/scripts/mecab.sh)"
      ],
      "metadata": {
        "id": "7zwNEdPo3Rpm"
      },
      "execution_count": null,
      "outputs": []
    },
    {
      "cell_type": "markdown",
      "source": [
        "#### 2) 형태소 분석을 위한 함수를 제공합니다."
      ],
      "metadata": {
        "id": "nxFiiwePyV66"
      }
    },
    {
      "cell_type": "code",
      "source": [
        "from konlpy.tag import Okt, Komoran, Mecab, Hannanum, Kkma\n",
        "\n",
        "# 다양한 토크나이저를 사용할 수 있는 함수\n",
        "def get_tokenizer(tokenizer_name):\n",
        "    if tokenizer_name == \"komoran\":\n",
        "        tokenizer = Komoran()\n",
        "    elif tokenizer_name == \"okt\":\n",
        "        tokenizer = Okt()\n",
        "    elif tokenizer_name == \"mecab\":\n",
        "        tokenizer = Mecab()\n",
        "    elif tokenizer_name == \"hannanum\":\n",
        "        tokenizer = Hannanum()\n",
        "    else:\n",
        "        # \"kkma\":\n",
        "        tokenizer = Kkma()\n",
        "\n",
        "    return tokenizer"
      ],
      "metadata": {
        "id": "X28J-0LL3Tg3"
      },
      "execution_count": null,
      "outputs": []
    },
    {
      "cell_type": "code",
      "source": [
        "# 형태소 분석을 수행하는 함수\n",
        "\n",
        "def tokenize(tokenizer_name, original_sent, nouns=False):\n",
        "    # 미리 정의된 몇 가지 tokenizer 중 하나를 선택\n",
        "    tokenizer = get_tokenizer(tokenizer_name)\n",
        "\n",
        "    # tokenizer를 이용하여 original_sent를 토큰화하여 tokenized_sent에 저장하고, 이를 반환합니다.\n",
        "    sentence = original_sent.replace('\\n', '').strip()\n",
        "    if nouns:\n",
        "        # tokenizer.nouns(sentence) -> 명사만 추출\n",
        "        tokens = tokenizer.nouns(sentence)\n",
        "    else:\n",
        "        tokens = tokenizer.morphs(sentence)\n",
        "    tokenized_sent = ' '.join(tokens)\n",
        "\n",
        "    return tokenized_sent"
      ],
      "metadata": {
        "id": "_wKR6SSo3WIx"
      },
      "execution_count": null,
      "outputs": []
    },
    {
      "cell_type": "markdown",
      "source": [
        "#### 3) 형태소 분석 테스트\n",
        "* 몇개 데이터에 대해 형태소 분석 확인하기"
      ],
      "metadata": {
        "id": "SfqazZg4yPSU"
      }
    },
    {
      "cell_type": "code",
      "source": [
        "tokenize('mecab', train['Q'][0])"
      ],
      "metadata": {
        "id": "BQa_-Qy8u7ZK",
        "colab": {
          "base_uri": "https://localhost:8080/",
          "height": 35
        },
        "outputId": "929f7caa-adc5-4279-b3d7-0c6d9758e5c0"
      },
      "execution_count": null,
      "outputs": [
        {
          "output_type": "execute_result",
          "data": {
            "text/plain": [
              "'떨어뜨려서 핸드폰 액정 나갔 어'"
            ],
            "application/vnd.google.colaboratory.intrinsic+json": {
              "type": "string"
            }
          },
          "metadata": {},
          "execution_count": 57
        }
      ]
    },
    {
      "cell_type": "code",
      "source": [
        "tokenize('komoran', train['Q'][0])"
      ],
      "metadata": {
        "id": "3eqf98Nz4Oal",
        "colab": {
          "base_uri": "https://localhost:8080/",
          "height": 35
        },
        "outputId": "77cc45cc-a5df-4866-cdb6-5f3f2ba70e67"
      },
      "execution_count": null,
      "outputs": [
        {
          "output_type": "execute_result",
          "data": {
            "text/plain": [
              "'떨어뜨리 어서 핸드폰 액정 나가 았 어'"
            ],
            "application/vnd.google.colaboratory.intrinsic+json": {
              "type": "string"
            }
          },
          "metadata": {},
          "execution_count": 54
        }
      ]
    },
    {
      "cell_type": "code",
      "source": [
        "tokenize('Hannanum', train['Q'][0])"
      ],
      "metadata": {
        "colab": {
          "base_uri": "https://localhost:8080/",
          "height": 35
        },
        "id": "5QKA4GZH49EV",
        "outputId": "1b390bee-07c5-4b6d-c09b-45c8f5665496"
      },
      "execution_count": null,
      "outputs": [
        {
          "output_type": "execute_result",
          "data": {
            "text/plain": [
              "'떨어뜨리 어서 핸드폰 액정 나가 었 어'"
            ],
            "application/vnd.google.colaboratory.intrinsic+json": {
              "type": "string"
            }
          },
          "metadata": {},
          "execution_count": 55
        }
      ]
    },
    {
      "cell_type": "markdown",
      "source": [
        "#### 4) train, test의 Q에 대해 형태소 분석하여 저장하기\n",
        "* 데이터프레임의 각 행 별로 함수를 적용하는 방법\n",
        "    * .apply(lambda ..........) 를 활용하면 손쉽게 처리할수 있습니다."
      ],
      "metadata": {
        "id": "4iai3aqbHVto"
      }
    },
    {
      "cell_type": "code",
      "source": [
        "train['Q'].apply(lambda x: tokenize('mecab', x))"
      ],
      "metadata": {
        "colab": {
          "base_uri": "https://localhost:8080/"
        },
        "id": "9DOXnZ4P51P3",
        "outputId": "ba81ae37-3087-4316-ab96-b3fce2935cd1"
      },
      "execution_count": null,
      "outputs": [
        {
          "output_type": "execute_result",
          "data": {
            "text/plain": [
              "0                              떨어뜨려서 핸드폰 액정 나갔 어\n",
              "1                                        액정 나갔 어\n",
              "2                             핸드폰 떨어뜨려서 고장 났 나 봐\n",
              "3                               노트북 키보드 가 안 먹히 네\n",
              "4                               노트북 전원 이 안 들어와 .\n",
              "                          ...                   \n",
              "1187    KT 에 이 블 스쿨 만 의 장점 이 무엇 인지 상세히 설명 해 주 세요\n",
              "1188                    다른 교육 과 의 차이점 은 무엇 인가요 ?\n",
              "1189                        다른 교육 과 차이점 이 있 나요 ?\n",
              "1190          다른 국비 지원 교육 보다 특별 한 점 이 있 는지 궁금 해요\n",
              "1191                    다른 교육 보다 특별 한 것 이 있 나요 ?\n",
              "Name: Q, Length: 1192, dtype: object"
            ]
          },
          "metadata": {},
          "execution_count": 62
        }
      ]
    },
    {
      "cell_type": "code",
      "source": [
        "train['Q'].apply(lambda x: tokenize('Hannanum', x))"
      ],
      "metadata": {
        "colab": {
          "base_uri": "https://localhost:8080/"
        },
        "id": "V-EQkjR857K7",
        "outputId": "b3995141-3f7c-4295-a89b-bebb8d90906a"
      },
      "execution_count": null,
      "outputs": [
        {
          "output_type": "execute_result",
          "data": {
            "text/plain": [
              "0                               떨어뜨리 어서 핸드폰 액정 나가 었 어\n",
              "1                                           액정 나가 었 어\n",
              "2                            핸드폰 떨어뜨리 어서 고장 나 었 나 보 아\n",
              "3                                    노트북 키보드 가 안 먹히 네\n",
              "4                                  노트북 전원 이 안 들어오 아 .\n",
              "                            ...                      \n",
              "1187    KT 에이 블 ㄹ 스쿨 만 의 장점 이 무엇 이 ㄴ지 상세히 설명 하 어 주 세요\n",
              "1188                        다른 교육과 의 차이점 은 무엇 이 ㄴ가요 ?\n",
              "1189                           다르 ㄴ 교육 과 차이점 이 있 나요 ?\n",
              "1190            다른 국비 지원 교육 보다 특별 하 ㄴ 점 이 있 는지 궁금하 어요\n",
              "1191                     다르 ㄴ 교육 보다 특별 하 ㄴ 것 이 있 나요 ?\n",
              "Name: Q, Length: 1192, dtype: object"
            ]
          },
          "metadata": {},
          "execution_count": 63
        }
      ]
    },
    {
      "cell_type": "code",
      "source": [
        "clean_train_questions = train['Q'].apply(lambda x: tokenize('mecab', x))\n",
        "clean_test_questions = test['Q'].apply(lambda x: tokenize('mecab', x))"
      ],
      "metadata": {
        "id": "9ESXnWH6v5Ao"
      },
      "execution_count": null,
      "outputs": []
    },
    {
      "cell_type": "markdown",
      "source": [
        "### (3) 전처리 완료된 데이터를 파일로 저장하기\n",
        "- 총 4개의 파일을 저장합니다.\n",
        "    * train 셋\n",
        "    * test 셋\n",
        "    * 전처리된 데이터\n",
        "        * clean_train_questions\n",
        "        * clean_test_questions\n",
        "- 저장방법\n",
        "    * joblib 라이브러리를 이용하여 저장합니다."
      ],
      "metadata": {
        "id": "efCi4v4gZgek"
      }
    },
    {
      "cell_type": "code",
      "source": [
        "path='/content/drive/MyDrive/미니프로젝트/제목없는 폴더/2023.10.30_미니프로젝트6차_실습자료 및 데이터/데이터'"
      ],
      "metadata": {
        "id": "WKWteXjn8pek"
      },
      "execution_count": null,
      "outputs": []
    },
    {
      "cell_type": "code",
      "source": [
        "joblib.dump(train, path + 'train_data.pkl')\n",
        "joblib.dump(test, path + 'test_data.pkl')\n",
        "joblib.dump(clean_train_questions, path + 'clean_train_Q.pkl')\n",
        "joblib.dump(clean_test_questions, path + 'clean_test_Q.pkl')"
      ],
      "metadata": {
        "id": "e6U4Vj5paTxg",
        "colab": {
          "base_uri": "https://localhost:8080/"
        },
        "outputId": "2ef69693-d755-454f-e354-7c149bb71757"
      },
      "execution_count": null,
      "outputs": [
        {
          "output_type": "execute_result",
          "data": {
            "text/plain": [
              "['/content/drive/MyDrive/미니프로젝트/제목없는 폴더/2023.10.30_미니프로젝트6차_실습자료 및 데이터/데이터clean_test_Q.pkl']"
            ]
          },
          "metadata": {},
          "execution_count": 65
        }
      ]
    },
    {
      "cell_type": "code",
      "source": [],
      "metadata": {
        "id": "EYui5urE09pB"
      },
      "execution_count": null,
      "outputs": []
    }
  ]
}