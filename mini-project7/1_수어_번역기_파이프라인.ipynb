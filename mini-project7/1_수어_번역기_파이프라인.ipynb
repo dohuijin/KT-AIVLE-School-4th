{
  "cells": [
    {
      "cell_type": "markdown",
      "metadata": {
        "id": "P2n_mLirFD6s"
      },
      "source": [
        "#  과제1. 수어 번역기 파이프라인\n",
        "\n",
        "* 데이터 출처 : https://www.kaggle.com/datasets/datamunge/sign-language-mnist?select=sign_mnist_train"
      ]
    },
    {
      "cell_type": "code",
      "source": [],
      "metadata": {
        "id": "2QG92VDMDg2e"
      },
      "execution_count": null,
      "outputs": []
    },
    {
      "cell_type": "markdown",
      "metadata": {
        "id": "gIN5d51gtker"
      },
      "source": [
        "## 1.환경준비"
      ]
    },
    {
      "cell_type": "markdown",
      "metadata": {
        "id": "98K82DAxvX6I"
      },
      "source": [
        "### (1) 라이브러리 로딩"
      ]
    },
    {
      "cell_type": "code",
      "execution_count": null,
      "metadata": {
        "id": "qUG9ltiWCJXr"
      },
      "outputs": [],
      "source": [
        "import pandas as pd\n",
        "import numpy as np\n",
        "import matplotlib.pyplot as plt\n",
        "import seaborn as sns\n",
        "import random as rd\n",
        "import cv2\n",
        "import joblib\n",
        "\n",
        "from sklearn.model_selection import train_test_split\n",
        "from sklearn.metrics import *\n",
        "from sklearn.preprocessing import StandardScaler, MinMaxScaler\n",
        "\n",
        "from keras.models import Sequential\n",
        "from keras.layers import Dense, Flatten, Conv2D, MaxPooling2D, Dropout\n",
        "from keras.backend import clear_session\n",
        "from keras.optimizers import Adam\n",
        "\n",
        "np.set_printoptions(linewidth=np.inf)"
      ]
    },
    {
      "cell_type": "code",
      "execution_count": null,
      "metadata": {
        "id": "JWswaopv7yBI"
      },
      "outputs": [],
      "source": [
        "# 학습곡선 함수\n",
        "def dl_history_plot(history):\n",
        "    plt.figure(figsize=(10,6))\n",
        "    plt.plot(history['loss'], label='train_err')\n",
        "    plt.plot(history['val_loss'], label='val_err')\n",
        "\n",
        "    plt.ylabel('Loss')\n",
        "    plt.xlabel('Epoch')\n",
        "    plt.legend()\n",
        "    plt.grid()\n",
        "    plt.show()"
      ]
    },
    {
      "cell_type": "markdown",
      "metadata": {
        "id": "6wuqykgvviCc"
      },
      "source": [
        "### (2) 데이터로딩"
      ]
    },
    {
      "cell_type": "code",
      "source": [
        "from google.colab import drive\n",
        "drive.mount('/content/drive')"
      ],
      "metadata": {
        "colab": {
          "base_uri": "https://localhost:8080/"
        },
        "id": "cAL82Lh4LfO2",
        "outputId": "12519a26-6f2c-4f52-9381-aecf717f0806"
      },
      "execution_count": null,
      "outputs": [
        {
          "output_type": "stream",
          "name": "stdout",
          "text": [
            "Mounted at /content/drive\n"
          ]
        }
      ]
    },
    {
      "cell_type": "code",
      "execution_count": null,
      "metadata": {
        "colab": {
          "base_uri": "https://localhost:8080/",
          "height": 255
        },
        "id": "sYm5EweXNELc",
        "outputId": "1599bab8-4348-4420-960f-92fcf0b5b1b0"
      },
      "outputs": [
        {
          "output_type": "execute_result",
          "data": {
            "text/plain": [
              "   label  pixel1  pixel2  pixel3  pixel4  pixel5  pixel6  pixel7  pixel8  \\\n",
              "0     22     186     186     185     185     185     184     185     184   \n",
              "1     24     175     177     179     181     181     182     182     182   \n",
              "2      6     187     187     187     187     187     186     187     186   \n",
              "3      2     169     169     169     170     169     170     169     169   \n",
              "4     21     153     165     170     179     190     198     203     206   \n",
              "\n",
              "   pixel9  ...  pixel775  pixel776  pixel777  pixel778  pixel779  pixel780  \\\n",
              "0     184  ...       171       122        65        62       215       180   \n",
              "1     183  ...       202       202       201       200       199       197   \n",
              "2     186  ...        45        23        25        34        41        43   \n",
              "3     169  ...       204       203       200       199       198       196   \n",
              "4     213  ...       161       122       132        96        75        63   \n",
              "\n",
              "   pixel781  pixel782  pixel783  pixel784  \n",
              "0        99        47        31        25  \n",
              "1       195       193       191       189  \n",
              "2        39        40        43        35  \n",
              "3       194       193       191       190  \n",
              "4        37        43        70        66  \n",
              "\n",
              "[5 rows x 785 columns]"
            ],
            "text/html": [
              "\n",
              "  <div id=\"df-bcbd5047-471f-4e02-a04b-62594fc24b16\" class=\"colab-df-container\">\n",
              "    <div>\n",
              "<style scoped>\n",
              "    .dataframe tbody tr th:only-of-type {\n",
              "        vertical-align: middle;\n",
              "    }\n",
              "\n",
              "    .dataframe tbody tr th {\n",
              "        vertical-align: top;\n",
              "    }\n",
              "\n",
              "    .dataframe thead th {\n",
              "        text-align: right;\n",
              "    }\n",
              "</style>\n",
              "<table border=\"1\" class=\"dataframe\">\n",
              "  <thead>\n",
              "    <tr style=\"text-align: right;\">\n",
              "      <th></th>\n",
              "      <th>label</th>\n",
              "      <th>pixel1</th>\n",
              "      <th>pixel2</th>\n",
              "      <th>pixel3</th>\n",
              "      <th>pixel4</th>\n",
              "      <th>pixel5</th>\n",
              "      <th>pixel6</th>\n",
              "      <th>pixel7</th>\n",
              "      <th>pixel8</th>\n",
              "      <th>pixel9</th>\n",
              "      <th>...</th>\n",
              "      <th>pixel775</th>\n",
              "      <th>pixel776</th>\n",
              "      <th>pixel777</th>\n",
              "      <th>pixel778</th>\n",
              "      <th>pixel779</th>\n",
              "      <th>pixel780</th>\n",
              "      <th>pixel781</th>\n",
              "      <th>pixel782</th>\n",
              "      <th>pixel783</th>\n",
              "      <th>pixel784</th>\n",
              "    </tr>\n",
              "  </thead>\n",
              "  <tbody>\n",
              "    <tr>\n",
              "      <th>0</th>\n",
              "      <td>22</td>\n",
              "      <td>186</td>\n",
              "      <td>186</td>\n",
              "      <td>185</td>\n",
              "      <td>185</td>\n",
              "      <td>185</td>\n",
              "      <td>184</td>\n",
              "      <td>185</td>\n",
              "      <td>184</td>\n",
              "      <td>184</td>\n",
              "      <td>...</td>\n",
              "      <td>171</td>\n",
              "      <td>122</td>\n",
              "      <td>65</td>\n",
              "      <td>62</td>\n",
              "      <td>215</td>\n",
              "      <td>180</td>\n",
              "      <td>99</td>\n",
              "      <td>47</td>\n",
              "      <td>31</td>\n",
              "      <td>25</td>\n",
              "    </tr>\n",
              "    <tr>\n",
              "      <th>1</th>\n",
              "      <td>24</td>\n",
              "      <td>175</td>\n",
              "      <td>177</td>\n",
              "      <td>179</td>\n",
              "      <td>181</td>\n",
              "      <td>181</td>\n",
              "      <td>182</td>\n",
              "      <td>182</td>\n",
              "      <td>182</td>\n",
              "      <td>183</td>\n",
              "      <td>...</td>\n",
              "      <td>202</td>\n",
              "      <td>202</td>\n",
              "      <td>201</td>\n",
              "      <td>200</td>\n",
              "      <td>199</td>\n",
              "      <td>197</td>\n",
              "      <td>195</td>\n",
              "      <td>193</td>\n",
              "      <td>191</td>\n",
              "      <td>189</td>\n",
              "    </tr>\n",
              "    <tr>\n",
              "      <th>2</th>\n",
              "      <td>6</td>\n",
              "      <td>187</td>\n",
              "      <td>187</td>\n",
              "      <td>187</td>\n",
              "      <td>187</td>\n",
              "      <td>187</td>\n",
              "      <td>186</td>\n",
              "      <td>187</td>\n",
              "      <td>186</td>\n",
              "      <td>186</td>\n",
              "      <td>...</td>\n",
              "      <td>45</td>\n",
              "      <td>23</td>\n",
              "      <td>25</td>\n",
              "      <td>34</td>\n",
              "      <td>41</td>\n",
              "      <td>43</td>\n",
              "      <td>39</td>\n",
              "      <td>40</td>\n",
              "      <td>43</td>\n",
              "      <td>35</td>\n",
              "    </tr>\n",
              "    <tr>\n",
              "      <th>3</th>\n",
              "      <td>2</td>\n",
              "      <td>169</td>\n",
              "      <td>169</td>\n",
              "      <td>169</td>\n",
              "      <td>170</td>\n",
              "      <td>169</td>\n",
              "      <td>170</td>\n",
              "      <td>169</td>\n",
              "      <td>169</td>\n",
              "      <td>169</td>\n",
              "      <td>...</td>\n",
              "      <td>204</td>\n",
              "      <td>203</td>\n",
              "      <td>200</td>\n",
              "      <td>199</td>\n",
              "      <td>198</td>\n",
              "      <td>196</td>\n",
              "      <td>194</td>\n",
              "      <td>193</td>\n",
              "      <td>191</td>\n",
              "      <td>190</td>\n",
              "    </tr>\n",
              "    <tr>\n",
              "      <th>4</th>\n",
              "      <td>21</td>\n",
              "      <td>153</td>\n",
              "      <td>165</td>\n",
              "      <td>170</td>\n",
              "      <td>179</td>\n",
              "      <td>190</td>\n",
              "      <td>198</td>\n",
              "      <td>203</td>\n",
              "      <td>206</td>\n",
              "      <td>213</td>\n",
              "      <td>...</td>\n",
              "      <td>161</td>\n",
              "      <td>122</td>\n",
              "      <td>132</td>\n",
              "      <td>96</td>\n",
              "      <td>75</td>\n",
              "      <td>63</td>\n",
              "      <td>37</td>\n",
              "      <td>43</td>\n",
              "      <td>70</td>\n",
              "      <td>66</td>\n",
              "    </tr>\n",
              "  </tbody>\n",
              "</table>\n",
              "<p>5 rows × 785 columns</p>\n",
              "</div>\n",
              "    <div class=\"colab-df-buttons\">\n",
              "\n",
              "  <div class=\"colab-df-container\">\n",
              "    <button class=\"colab-df-convert\" onclick=\"convertToInteractive('df-bcbd5047-471f-4e02-a04b-62594fc24b16')\"\n",
              "            title=\"Convert this dataframe to an interactive table.\"\n",
              "            style=\"display:none;\">\n",
              "\n",
              "  <svg xmlns=\"http://www.w3.org/2000/svg\" height=\"24px\" viewBox=\"0 -960 960 960\">\n",
              "    <path d=\"M120-120v-720h720v720H120Zm60-500h600v-160H180v160Zm220 220h160v-160H400v160Zm0 220h160v-160H400v160ZM180-400h160v-160H180v160Zm440 0h160v-160H620v160ZM180-180h160v-160H180v160Zm440 0h160v-160H620v160Z\"/>\n",
              "  </svg>\n",
              "    </button>\n",
              "\n",
              "  <style>\n",
              "    .colab-df-container {\n",
              "      display:flex;\n",
              "      gap: 12px;\n",
              "    }\n",
              "\n",
              "    .colab-df-convert {\n",
              "      background-color: #E8F0FE;\n",
              "      border: none;\n",
              "      border-radius: 50%;\n",
              "      cursor: pointer;\n",
              "      display: none;\n",
              "      fill: #1967D2;\n",
              "      height: 32px;\n",
              "      padding: 0 0 0 0;\n",
              "      width: 32px;\n",
              "    }\n",
              "\n",
              "    .colab-df-convert:hover {\n",
              "      background-color: #E2EBFA;\n",
              "      box-shadow: 0px 1px 2px rgba(60, 64, 67, 0.3), 0px 1px 3px 1px rgba(60, 64, 67, 0.15);\n",
              "      fill: #174EA6;\n",
              "    }\n",
              "\n",
              "    .colab-df-buttons div {\n",
              "      margin-bottom: 4px;\n",
              "    }\n",
              "\n",
              "    [theme=dark] .colab-df-convert {\n",
              "      background-color: #3B4455;\n",
              "      fill: #D2E3FC;\n",
              "    }\n",
              "\n",
              "    [theme=dark] .colab-df-convert:hover {\n",
              "      background-color: #434B5C;\n",
              "      box-shadow: 0px 1px 3px 1px rgba(0, 0, 0, 0.15);\n",
              "      filter: drop-shadow(0px 1px 2px rgba(0, 0, 0, 0.3));\n",
              "      fill: #FFFFFF;\n",
              "    }\n",
              "  </style>\n",
              "\n",
              "    <script>\n",
              "      const buttonEl =\n",
              "        document.querySelector('#df-bcbd5047-471f-4e02-a04b-62594fc24b16 button.colab-df-convert');\n",
              "      buttonEl.style.display =\n",
              "        google.colab.kernel.accessAllowed ? 'block' : 'none';\n",
              "\n",
              "      async function convertToInteractive(key) {\n",
              "        const element = document.querySelector('#df-bcbd5047-471f-4e02-a04b-62594fc24b16');\n",
              "        const dataTable =\n",
              "          await google.colab.kernel.invokeFunction('convertToInteractive',\n",
              "                                                    [key], {});\n",
              "        if (!dataTable) return;\n",
              "\n",
              "        const docLinkHtml = 'Like what you see? Visit the ' +\n",
              "          '<a target=\"_blank\" href=https://colab.research.google.com/notebooks/data_table.ipynb>data table notebook</a>'\n",
              "          + ' to learn more about interactive tables.';\n",
              "        element.innerHTML = '';\n",
              "        dataTable['output_type'] = 'display_data';\n",
              "        await google.colab.output.renderOutput(dataTable, element);\n",
              "        const docLink = document.createElement('div');\n",
              "        docLink.innerHTML = docLinkHtml;\n",
              "        element.appendChild(docLink);\n",
              "      }\n",
              "    </script>\n",
              "  </div>\n",
              "\n",
              "\n",
              "<div id=\"df-95a401f8-d76a-4017-9083-3925673e363f\">\n",
              "  <button class=\"colab-df-quickchart\" onclick=\"quickchart('df-95a401f8-d76a-4017-9083-3925673e363f')\"\n",
              "            title=\"Suggest charts\"\n",
              "            style=\"display:none;\">\n",
              "\n",
              "<svg xmlns=\"http://www.w3.org/2000/svg\" height=\"24px\"viewBox=\"0 0 24 24\"\n",
              "     width=\"24px\">\n",
              "    <g>\n",
              "        <path d=\"M19 3H5c-1.1 0-2 .9-2 2v14c0 1.1.9 2 2 2h14c1.1 0 2-.9 2-2V5c0-1.1-.9-2-2-2zM9 17H7v-7h2v7zm4 0h-2V7h2v10zm4 0h-2v-4h2v4z\"/>\n",
              "    </g>\n",
              "</svg>\n",
              "  </button>\n",
              "\n",
              "<style>\n",
              "  .colab-df-quickchart {\n",
              "      --bg-color: #E8F0FE;\n",
              "      --fill-color: #1967D2;\n",
              "      --hover-bg-color: #E2EBFA;\n",
              "      --hover-fill-color: #174EA6;\n",
              "      --disabled-fill-color: #AAA;\n",
              "      --disabled-bg-color: #DDD;\n",
              "  }\n",
              "\n",
              "  [theme=dark] .colab-df-quickchart {\n",
              "      --bg-color: #3B4455;\n",
              "      --fill-color: #D2E3FC;\n",
              "      --hover-bg-color: #434B5C;\n",
              "      --hover-fill-color: #FFFFFF;\n",
              "      --disabled-bg-color: #3B4455;\n",
              "      --disabled-fill-color: #666;\n",
              "  }\n",
              "\n",
              "  .colab-df-quickchart {\n",
              "    background-color: var(--bg-color);\n",
              "    border: none;\n",
              "    border-radius: 50%;\n",
              "    cursor: pointer;\n",
              "    display: none;\n",
              "    fill: var(--fill-color);\n",
              "    height: 32px;\n",
              "    padding: 0;\n",
              "    width: 32px;\n",
              "  }\n",
              "\n",
              "  .colab-df-quickchart:hover {\n",
              "    background-color: var(--hover-bg-color);\n",
              "    box-shadow: 0 1px 2px rgba(60, 64, 67, 0.3), 0 1px 3px 1px rgba(60, 64, 67, 0.15);\n",
              "    fill: var(--button-hover-fill-color);\n",
              "  }\n",
              "\n",
              "  .colab-df-quickchart-complete:disabled,\n",
              "  .colab-df-quickchart-complete:disabled:hover {\n",
              "    background-color: var(--disabled-bg-color);\n",
              "    fill: var(--disabled-fill-color);\n",
              "    box-shadow: none;\n",
              "  }\n",
              "\n",
              "  .colab-df-spinner {\n",
              "    border: 2px solid var(--fill-color);\n",
              "    border-color: transparent;\n",
              "    border-bottom-color: var(--fill-color);\n",
              "    animation:\n",
              "      spin 1s steps(1) infinite;\n",
              "  }\n",
              "\n",
              "  @keyframes spin {\n",
              "    0% {\n",
              "      border-color: transparent;\n",
              "      border-bottom-color: var(--fill-color);\n",
              "      border-left-color: var(--fill-color);\n",
              "    }\n",
              "    20% {\n",
              "      border-color: transparent;\n",
              "      border-left-color: var(--fill-color);\n",
              "      border-top-color: var(--fill-color);\n",
              "    }\n",
              "    30% {\n",
              "      border-color: transparent;\n",
              "      border-left-color: var(--fill-color);\n",
              "      border-top-color: var(--fill-color);\n",
              "      border-right-color: var(--fill-color);\n",
              "    }\n",
              "    40% {\n",
              "      border-color: transparent;\n",
              "      border-right-color: var(--fill-color);\n",
              "      border-top-color: var(--fill-color);\n",
              "    }\n",
              "    60% {\n",
              "      border-color: transparent;\n",
              "      border-right-color: var(--fill-color);\n",
              "    }\n",
              "    80% {\n",
              "      border-color: transparent;\n",
              "      border-right-color: var(--fill-color);\n",
              "      border-bottom-color: var(--fill-color);\n",
              "    }\n",
              "    90% {\n",
              "      border-color: transparent;\n",
              "      border-bottom-color: var(--fill-color);\n",
              "    }\n",
              "  }\n",
              "</style>\n",
              "\n",
              "  <script>\n",
              "    async function quickchart(key) {\n",
              "      const quickchartButtonEl =\n",
              "        document.querySelector('#' + key + ' button');\n",
              "      quickchartButtonEl.disabled = true;  // To prevent multiple clicks.\n",
              "      quickchartButtonEl.classList.add('colab-df-spinner');\n",
              "      try {\n",
              "        const charts = await google.colab.kernel.invokeFunction(\n",
              "            'suggestCharts', [key], {});\n",
              "      } catch (error) {\n",
              "        console.error('Error during call to suggestCharts:', error);\n",
              "      }\n",
              "      quickchartButtonEl.classList.remove('colab-df-spinner');\n",
              "      quickchartButtonEl.classList.add('colab-df-quickchart-complete');\n",
              "    }\n",
              "    (() => {\n",
              "      let quickchartButtonEl =\n",
              "        document.querySelector('#df-95a401f8-d76a-4017-9083-3925673e363f button');\n",
              "      quickchartButtonEl.style.display =\n",
              "        google.colab.kernel.accessAllowed ? 'block' : 'none';\n",
              "    })();\n",
              "  </script>\n",
              "</div>\n",
              "\n",
              "    </div>\n",
              "  </div>\n"
            ],
            "application/vnd.google.colaboratory.intrinsic+json": {
              "type": "dataframe",
              "variable_name": "data"
            }
          },
          "metadata": {},
          "execution_count": 6
        }
      ],
      "source": [
        "data = pd.read_csv('/content/drive/MyDrive/미니프로젝트/7차/2023.11.30_미니프로젝트 7차_2일차 실습자료/data/sign_language.csv')\n",
        "data.head()"
      ]
    },
    {
      "cell_type": "code",
      "execution_count": null,
      "metadata": {
        "colab": {
          "base_uri": "https://localhost:8080/"
        },
        "id": "e_Q8IByAcBs6",
        "outputId": "87b80377-fc4a-479d-9cfe-813a445866b0"
      },
      "outputs": [
        {
          "output_type": "execute_result",
          "data": {
            "text/plain": [
              "(8000, 785)"
            ]
          },
          "metadata": {},
          "execution_count": 7
        }
      ],
      "source": [
        "data.shape"
      ]
    },
    {
      "cell_type": "markdown",
      "metadata": {
        "id": "opj8SF72N5mT"
      },
      "source": [
        "### (3) class names\n",
        "* label이 0 ~ 27 까지의 숫자로 표현됩니다.\n",
        "* 수어 중에서 J(9) 와 Z(27)는 손을 움직이면서 표현해야 하므로, 여기서는 제외합니다.\n",
        "* 숫자로 레이블링 된 것을, 나중에 문자 변환하기 위해 문자로 된 리스트를 생성합니다."
      ]
    },
    {
      "cell_type": "code",
      "execution_count": null,
      "metadata": {
        "colab": {
          "base_uri": "https://localhost:8080/"
        },
        "id": "BGqj86QDN8FN",
        "outputId": "34a1a171-82ed-4040-94a9-43e4dc6a2ffd"
      },
      "outputs": [
        {
          "output_type": "execute_result",
          "data": {
            "text/plain": [
              "(26,\n",
              " array(['a', 'b', 'c', 'd', 'e', 'f', 'g', 'h', 'i', 'j', 'k', 'l', 'm', 'n', 'o', 'p', 'q', 'r', 's', 't', 'u', 'v', 'w', 'x', 'y', 'z'], dtype='<U1'))"
            ]
          },
          "metadata": {},
          "execution_count": 8
        }
      ],
      "source": [
        "import string\n",
        "class_names = list(string.ascii_lowercase)\n",
        "class_names = np.array(class_names)\n",
        "len(class_names), class_names"
      ]
    },
    {
      "cell_type": "markdown",
      "metadata": {
        "id": "fjFX5Xkfe-XU"
      },
      "source": [
        "## 2 데이터 살펴보기"
      ]
    },
    {
      "cell_type": "markdown",
      "metadata": {
        "id": "P9tLw-sROpy4"
      },
      "source": [
        "### (1) 데이터 한 건을 2차원으로 변환하고 그림 그리기"
      ]
    },
    {
      "cell_type": "code",
      "execution_count": null,
      "metadata": {
        "id": "XJ24tyaqcJ4a",
        "colab": {
          "base_uri": "https://localhost:8080/",
          "height": 452
        },
        "outputId": "a2f0c8a3-804f-40be-aed5-cd3f9892a55a"
      },
      "outputs": [
        {
          "output_type": "display_data",
          "data": {
            "text/plain": [
              "<Figure size 640x480 with 2 Axes>"
            ],
            "image/png": "[encoded data removed]"
          },
          "metadata": {}
        }
      ],
      "source": [
        "# 아래 숫자를 바꿔가며 화면에 그려 봅시다.\n",
        "n = 100\n",
        "sign_fig = data.iloc[n, 1:].values\n",
        "sign_fig = sign_fig.reshape(28, 28)\n",
        "\n",
        "sign = class_names[data.iloc[n,0]]\n",
        "\n",
        "plt.title(sign)\n",
        "plt.imshow(255-sign_fig, cmap=plt.cm.binary)\n",
        "plt.colorbar()\n",
        "plt.show()"
      ]
    },
    {
      "cell_type": "markdown",
      "metadata": {
        "id": "ZVQ0RH1Oi1Cb"
      },
      "source": [
        "## 3.데이터 준비\n",
        "\n",
        "* 주어진 데이터셋\n",
        "    * 2차원 데이터셋, 1차원 데이터포인트(분석단위, 예측단위) 입니다.\n",
        "    * 흑백 이미지데이터\n",
        "    * 이 데이터로부터 데이터 준비작업을 수행합니다.\n",
        "        * 데이터 분할1 : x, y\n",
        "        * 데이터 분할2 : train, validation\n",
        "        * 만약 CNN으로 모델링을 한다면, shape를 맞춰야 합니다. (n, 28, 28, 1)\n",
        "        * scaling\n",
        "* 그러나 운영에서 발생될 데이터는 이미지 한장 한장 입니다. 이미지 한장, 한장 들어온다면 어떻게 데이터가 처리되어야 할까요?(Data Pipeline 구성)"
      ]
    },
    {
      "cell_type": "markdown",
      "metadata": {
        "id": "h4HIhIFnYdJe"
      },
      "source": [
        "### (1) 데이터 분할1 : x, y 나누기"
      ]
    },
    {
      "cell_type": "code",
      "execution_count": null,
      "metadata": {
        "id": "C_9oF93vi1Cc"
      },
      "outputs": [],
      "source": [
        "target = 'label'\n",
        "x = data.drop(target, axis = 1)\n",
        "y = data.loc[:, target]"
      ]
    },
    {
      "cell_type": "markdown",
      "metadata": {
        "id": "16O9S_b8YylG"
      },
      "source": [
        "### (2) 데이터 분할2 : train, validation\n",
        "\n",
        "* train : val : test = 5000 : 2000 : 1000\n",
        "* 여기서 test set은 파이프라인 점검을 위한 용도로 사용합니다."
      ]
    },
    {
      "cell_type": "code",
      "execution_count": null,
      "metadata": {
        "id": "ZI7ePK3kY5kY"
      },
      "outputs": [],
      "source": [
        "x_train, x_test, y_train, y_test = train_test_split(x, y, test_size = 1000, random_state = 20)\n",
        "x_train, x_val, y_train, y_val = train_test_split(x_train, y_train, test_size = 2000, random_state = 20)"
      ]
    },
    {
      "cell_type": "code",
      "execution_count": null,
      "metadata": {
        "colab": {
          "base_uri": "https://localhost:8080/"
        },
        "id": "KFuwVnDbZUrU",
        "outputId": "c3ca198e-905f-4b7f-849b-d739ee765291"
      },
      "outputs": [
        {
          "output_type": "execute_result",
          "data": {
            "text/plain": [
              "((5000, 784), (2000, 784), (1000, 784))"
            ]
          },
          "metadata": {},
          "execution_count": 12
        }
      ],
      "source": [
        "x_train.shape, x_val.shape, x_test.shape"
      ]
    },
    {
      "cell_type": "code",
      "execution_count": null,
      "metadata": {
        "id": "XwKXttU7a5G8"
      },
      "outputs": [],
      "source": [
        "# 모두 넘파이로 변환\n",
        "x_train, x_val, y_train, y_val = x_train.values, x_val.values, y_train.values, y_val.values"
      ]
    },
    {
      "cell_type": "markdown",
      "metadata": {
        "id": "zxb0XCivZpKH"
      },
      "source": [
        "### (3) shape 맞추기 n, 28,28,1\n",
        "\n",
        "* reshape\n",
        "    * x_train.shape : (-1, 28, 28, 1)\n",
        "    * x_val.shape : (-1, 28, 28, 1)"
      ]
    },
    {
      "cell_type": "code",
      "execution_count": null,
      "metadata": {
        "id": "e4yXKxRAi1Cc"
      },
      "outputs": [],
      "source": [
        "x_train = x_train.reshape(5000,28,28,1)\n",
        "x_val = x_val.reshape(2000,28,28,1)"
      ]
    },
    {
      "cell_type": "code",
      "execution_count": null,
      "metadata": {
        "id": "rCgiJHPrZ1Bm",
        "colab": {
          "base_uri": "https://localhost:8080/"
        },
        "outputId": "768addb8-cd46-462d-e161-cdb3b19762b9"
      },
      "outputs": [
        {
          "output_type": "execute_result",
          "data": {
            "text/plain": [
              "((5000, 28, 28, 1), (2000, 28, 28, 1))"
            ]
          },
          "metadata": {},
          "execution_count": 15
        }
      ],
      "source": [
        "x_train.shape, x_val.shape"
      ]
    },
    {
      "cell_type": "markdown",
      "metadata": {
        "id": "iIcND_sxi1Cc"
      },
      "source": [
        "### (4) Scaling : Min-Max\n",
        "\n",
        "* 0-255 값으로 되어 있는 데이터를 0-1사이 값으로 변환\n",
        "* x_train, x_test를 그냥 255로 나누면 됨"
      ]
    },
    {
      "cell_type": "code",
      "execution_count": null,
      "metadata": {
        "id": "CPf7j6-pi1Cc"
      },
      "outputs": [],
      "source": [
        "x_train = x_train / 255.\n",
        "x_val = x_val / 255."
      ]
    },
    {
      "cell_type": "markdown",
      "metadata": {
        "id": "n-6ejz9fw0PN"
      },
      "source": [
        "## 4.모델링"
      ]
    },
    {
      "cell_type": "markdown",
      "metadata": {
        "id": "oJ-Vjwf0Cgnf"
      },
      "source": [
        "### (1) 모델 설계"
      ]
    },
    {
      "cell_type": "code",
      "execution_count": null,
      "metadata": {
        "id": "ZSanAB59aeAF",
        "colab": {
          "base_uri": "https://localhost:8080/"
        },
        "outputId": "82566677-cc5a-4c39-8b29-c5500daab10d"
      },
      "outputs": [
        {
          "output_type": "stream",
          "name": "stdout",
          "text": [
            "Model: \"sequential\"\n",
            "_________________________________________________________________\n",
            " Layer (type)                Output Shape              Param #   \n",
            "=================================================================\n",
            " conv2d (Conv2D)             (None, 28, 28, 16)        160       \n",
            "                                                                 \n",
            " max_pooling2d (MaxPooling2  (None, 14, 14, 16)        0         \n",
            " D)                                                              \n",
            "                                                                 \n",
            " flatten (Flatten)           (None, 3136)              0         \n",
            "                                                                 \n",
            " dense (Dense)               (None, 128)               401536    \n",
            "                                                                 \n",
            " dense_1 (Dense)             (None, 26)                3354      \n",
            "                                                                 \n",
            "=================================================================\n",
            "Total params: 405050 (1.55 MB)\n",
            "Trainable params: 405050 (1.55 MB)\n",
            "Non-trainable params: 0 (0.00 Byte)\n",
            "_________________________________________________________________\n"
          ]
        }
      ],
      "source": [
        "clear_session()\n",
        "\n",
        "model = Sequential([Conv2D(16, kernel_size=3, input_shape=(28, 28, 1), padding='same', strides =1, activation='relu'),\n",
        "                    MaxPooling2D(pool_size=2, strides=2),\n",
        "                    Flatten(),\n",
        "                    Dense(128, activation = 'relu'),\n",
        "                    Dense(26, activation='softmax')\n",
        "])\n",
        "\n",
        "model.summary()"
      ]
    },
    {
      "cell_type": "markdown",
      "metadata": {
        "id": "lyHx0KcQClAo"
      },
      "source": [
        "### (2) 학습"
      ]
    },
    {
      "cell_type": "code",
      "execution_count": null,
      "metadata": {
        "id": "JH4ZRJ9bgHEb",
        "colab": {
          "base_uri": "https://localhost:8080/"
        },
        "outputId": "73f403d8-6dc3-42a1-af24-21e00366f79b"
      },
      "outputs": [
        {
          "output_type": "stream",
          "name": "stdout",
          "text": [
            "Epoch 1/10\n",
            "125/125 [==============================] - 3s 20ms/step - loss: 3.0479 - val_loss: 2.7392\n",
            "Epoch 2/10\n",
            "125/125 [==============================] - 3s 28ms/step - loss: 2.2490 - val_loss: 1.7942\n",
            "Epoch 3/10\n",
            "125/125 [==============================] - 3s 21ms/step - loss: 1.5419 - val_loss: 1.3589\n",
            "Epoch 4/10\n",
            "125/125 [==============================] - 2s 17ms/step - loss: 1.1102 - val_loss: 0.9675\n",
            "Epoch 5/10\n",
            "125/125 [==============================] - 2s 17ms/step - loss: 0.8375 - val_loss: 0.7374\n",
            "Epoch 6/10\n",
            "125/125 [==============================] - 2s 17ms/step - loss: 0.6660 - val_loss: 0.6338\n",
            "Epoch 7/10\n",
            "125/125 [==============================] - 3s 21ms/step - loss: 0.5175 - val_loss: 0.4997\n",
            "Epoch 8/10\n",
            "125/125 [==============================] - 4s 29ms/step - loss: 0.4151 - val_loss: 0.4117\n",
            "Epoch 9/10\n",
            "125/125 [==============================] - 4s 30ms/step - loss: 0.3357 - val_loss: 0.3801\n",
            "Epoch 10/10\n",
            "125/125 [==============================] - 3s 23ms/step - loss: 0.2794 - val_loss: 0.3281\n"
          ]
        }
      ],
      "source": [
        "model.compile(optimizer = 'adam', loss='sparse_categorical_crossentropy')\n",
        "\n",
        "history = model.fit(x_train, y_train, epochs = 10, validation_split=0.2).history"
      ]
    },
    {
      "cell_type": "markdown",
      "metadata": {
        "id": "AXNt_toTgHEb"
      },
      "source": [
        "### (3) 학습결과 그래프"
      ]
    },
    {
      "cell_type": "code",
      "execution_count": null,
      "metadata": {
        "id": "mFcI6_iqgHEb",
        "colab": {
          "base_uri": "https://localhost:8080/",
          "height": 471
        },
        "outputId": "7af47c04-895e-42f7-93e1-79e458236e12"
      },
      "outputs": [
        {
          "output_type": "display_data",
          "data": {
            "text/plain": [
              "<Figure size 1000x600 with 1 Axes>"
            ],
            "image/png": "[encoded data removed]"
          },
          "metadata": {}
        }
      ],
      "source": [
        "dl_history_plot(history)"
      ]
    },
    {
      "cell_type": "markdown",
      "metadata": {
        "id": "OQQZ0QfK14uH"
      },
      "source": [
        "### (4) 예측 및 검증"
      ]
    },
    {
      "cell_type": "code",
      "execution_count": null,
      "metadata": {
        "id": "cGWm-19agHEc",
        "colab": {
          "base_uri": "https://localhost:8080/"
        },
        "outputId": "225e667f-cbdd-4615-d940-aa2d1047c8f5"
      },
      "outputs": [
        {
          "output_type": "stream",
          "name": "stdout",
          "text": [
            "63/63 [==============================] - 0s 6ms/step\n"
          ]
        }
      ],
      "source": [
        "pred = model.predict(x_val)"
      ]
    },
    {
      "cell_type": "code",
      "execution_count": null,
      "metadata": {
        "id": "NZrmAw4WXs0T"
      },
      "outputs": [],
      "source": [
        "pred_1 = pred.argmax(axis=1)"
      ]
    },
    {
      "cell_type": "code",
      "execution_count": null,
      "metadata": {
        "id": "oPNVxdnNgHEc",
        "colab": {
          "base_uri": "https://localhost:8080/"
        },
        "outputId": "2e8607d9-014c-48f6-be1b-a9e8ddaa618c"
      },
      "outputs": [
        {
          "output_type": "stream",
          "name": "stdout",
          "text": [
            "0.902\n",
            "------------------------------------------------------------\n",
            "[[75  0  0  0  1  0  0  0  0  0  0  0  0  0  0  0  0  1  0  0  0  0  0  0]\n",
            " [ 0 64  0  0  0  0  0  0  0  0  0  0  0  0  0  0  0  0  0  0  0  0  0  0]\n",
            " [ 0  0 68  0  0  0  0  0  0  0  0  0  0  1  0  0  0  0  0  0  0  0  0  0]\n",
            " [ 0  0  0 90  0  0  0  0  0  0  0  0  0  0  0  0  2  0  0  0  0  0  4  0]\n",
            " [ 0  0  0  0 62  0  0  0  0  0  0  3  2  0  0  0  0  2  0  0  0  0  0  0]\n",
            " [ 0  0  0  0  0 98  0  0  0  0  0  0  0  0  0  0  1  0  2  0  0  2  0  0]\n",
            " [ 0  0  0  0  0  0 79  0  0  0  0  0  0  0  0  0  0  0  0  0  0  0  1  0]\n",
            " [ 0  0  0  0  0  0  4 72  0  0  0  0  0  0  0  0  0  1  0  0  0  0  0  4]\n",
            " [ 0  0  0  0  0  0  0  0 79  1  0  0  0  0  0  0  0  5  0  0  0  0  0  0]\n",
            " [ 0  0  0  1  0  0  0  0  1 74  0  0  0  0  1  0  4  0  0  0  0  0  0  0]\n",
            " [ 0  0  0  0  0  0  0  0  0  0 85  0  0  0  0  0  1  0  0  0  0  0  0  0]\n",
            " [ 3  0  0  0  0  0  0  0  0  0  0 79  0  0  0  1  0 10  0  0  0  0  0  0]\n",
            " [ 2  0  0  0  3  0  0  0  0  0  0  9 53  0  0  0  0  4  0  0  0  0  0  0]\n",
            " [ 0  0  0  0  0  2  0  0  0  0  0  1  2 82  0  0  0  0  0  0  0  0  0  0]\n",
            " [ 0  0  0  0  0  0  0  0  0  0  0  0  0  0 81  0  1  0  0  0  0  0  0  2]\n",
            " [ 0  0  0  0  0  0  0  0  0  0  0  0  0  0  0 92  0  0  0  0  0  0  2  0]\n",
            " [ 0  0  0  0  0  0  0  0  0  8  0  0  0  0  0  0 73  0  0  8  0  0  0  0]\n",
            " [ 0  0  0  0  0  0  0  0  0  0  0  7  0  0  2  0  4 81  0  0  0  0  0  0]\n",
            " [ 0  0  0  0  0  0 11  1  1  0  0  0  0  0  1  0  0  0 76  0  0  0  1  0]\n",
            " [ 0  1  0  0  0  0  0  0  0  9  0  0  0  0  0  0  7  0  0 60  0  0  0  0]\n",
            " [ 0  0  0  0  0  0  0  0  0  8  5  0  0  0  0  0  5  0  0  7 47  0  0  0]\n",
            " [ 0  0  0  0  0  0  0  0  0  4  1  0  0  0  0  0  1  2  0  1  2 75  0  0]\n",
            " [ 0  0  0  1  0  0  0  0  0  0  6  0  0  0  0  0  1  0  0  0  0  0 82  0]\n",
            " [ 0  0  0  0  0  0  2  0  0  1  0  0  0  0  0  0  1  0  0  0  0  0  0 77]]\n"
          ]
        }
      ],
      "source": [
        "print(accuracy_score(y_val,pred_1))\n",
        "print('-'*60)\n",
        "print(confusion_matrix(y_val, pred_1))"
      ]
    },
    {
      "cell_type": "code",
      "execution_count": null,
      "metadata": {
        "colab": {
          "base_uri": "https://localhost:8080/"
        },
        "id": "xEpYjPB1G2E1",
        "outputId": "9acc9e8c-db59-4aa5-ee0c-d46fd90026f8"
      },
      "outputs": [
        {
          "output_type": "stream",
          "name": "stdout",
          "text": [
            "              precision    recall  f1-score   support\n",
            "\n",
            "           a       0.94      0.97      0.96        77\n",
            "           b       0.98      1.00      0.99        64\n",
            "           c       1.00      0.99      0.99        69\n",
            "           d       0.98      0.94      0.96        96\n",
            "           e       0.94      0.90      0.92        69\n",
            "           f       0.98      0.95      0.97       103\n",
            "           g       0.82      0.99      0.90        80\n",
            "           h       0.99      0.89      0.94        81\n",
            "           i       0.98      0.93      0.95        85\n",
            "           k       0.70      0.91      0.80        81\n",
            "           l       0.88      0.99      0.93        86\n",
            "           m       0.80      0.85      0.82        93\n",
            "           n       0.93      0.75      0.83        71\n",
            "           o       0.99      0.94      0.96        87\n",
            "           p       0.95      0.96      0.96        84\n",
            "           q       0.99      0.98      0.98        94\n",
            "           r       0.72      0.82      0.77        89\n",
            "           s       0.76      0.86      0.81        94\n",
            "           t       0.97      0.84      0.90        91\n",
            "           u       0.79      0.78      0.78        77\n",
            "           v       0.96      0.65      0.78        72\n",
            "           w       0.97      0.87      0.92        86\n",
            "           x       0.91      0.91      0.91        90\n",
            "           y       0.93      0.95      0.94        81\n",
            "\n",
            "    accuracy                           0.90      2000\n",
            "   macro avg       0.91      0.90      0.90      2000\n",
            "weighted avg       0.91      0.90      0.90      2000\n",
            "\n"
          ]
        }
      ],
      "source": [
        "print(classification_report(class_names[y_val], class_names[pred_1]))"
      ]
    },
    {
      "cell_type": "markdown",
      "metadata": {
        "id": "k12UHrCixe3y"
      },
      "source": [
        "## 5.저장하기\n",
        "\n",
        "* 여기서는 joblib을 이용하여 모델과 데이터셋을 저장하겠습니다."
      ]
    },
    {
      "cell_type": "markdown",
      "metadata": {
        "id": "mcFV233C0PzI"
      },
      "source": [
        "### (1) 모델 저장하기"
      ]
    },
    {
      "cell_type": "code",
      "execution_count": null,
      "metadata": {
        "id": "nlLUxdf_xEv3",
        "colab": {
          "base_uri": "https://localhost:8080/"
        },
        "outputId": "4bf25a34-0f87-42dc-91c8-5276f46e34f7"
      },
      "outputs": [
        {
          "output_type": "execute_result",
          "data": {
            "text/plain": [
              "['model.pkl']"
            ]
          },
          "metadata": {},
          "execution_count": 24
        }
      ],
      "source": [
        "joblib.dump(model, 'model.pkl')"
      ]
    },
    {
      "cell_type": "markdown",
      "metadata": {
        "id": "iJIqlIxN0Rbv"
      },
      "source": [
        "### (2) 모델 로딩하기\n",
        "* 로딩시 model2로 저장합니다."
      ]
    },
    {
      "cell_type": "code",
      "execution_count": null,
      "metadata": {
        "id": "3sgmABExx23j"
      },
      "outputs": [],
      "source": [
        "model2 = joblib.load('model.pkl')"
      ]
    },
    {
      "cell_type": "markdown",
      "metadata": {
        "id": "-bYdmXwg0ffE"
      },
      "source": [
        "### (3) test 셋으로 예측하고 평가해보기\n",
        "\n",
        "* test 셋에 필요한 전처리는 다음과 같습니다.\n",
        "    * 넘파이 어레이로 변환\n",
        "    * 4차원 데이터셋으로 변환\n",
        "    * 스케일링"
      ]
    },
    {
      "cell_type": "code",
      "execution_count": null,
      "metadata": {
        "id": "9h2jL7BCG2E3"
      },
      "outputs": [],
      "source": [
        "# 넘파이 어레이로 변환\n",
        "new_dataset = x_test.values\n",
        "\n",
        "# 4차원 데이터셋\n",
        "new_dataset = new_dataset.reshape(-1, 28, 28, 1)\n",
        "\n",
        "# 스케일링\n",
        "new_dataset = new_dataset / 255"
      ]
    },
    {
      "cell_type": "code",
      "execution_count": null,
      "metadata": {
        "id": "PI4yePjYxEqQ",
        "colab": {
          "base_uri": "https://localhost:8080/"
        },
        "outputId": "0497a34d-fe55-4984-8c2e-cfc94a950cd6"
      },
      "outputs": [
        {
          "output_type": "stream",
          "name": "stdout",
          "text": [
            "32/32 [==============================] - 0s 6ms/step\n",
            "0.898\n",
            "------------------------------------------------------------\n",
            "[[45  0  0  0  1  0  0  0  0  0  0  0  0  0  0  0  0  0  0  0  0  0  0  0]\n",
            " [ 0 38  0  1  0  0  0  0  0  0  0  0  0  0  0  0  0  0  0  0  0  0  0  0]\n",
            " [ 0  0 41  0  0  0  0  0  0  0  0  0  0  1  0  0  0  0  0  0  0  0  1  0]\n",
            " [ 0  0  0 45  0  0  0  0  0  0  0  0  0  0  0  0  0  0  0  0  0  0  0  0]\n",
            " [ 0  2  0  0 31  0  0  0  0  0  0  2  2  0  0  0  0  3  0  0  0  0  0  0]\n",
            " [ 0  0  0  0  0 40  0  0  0  0  0  0  0  0  0  0  0  0  0  0  0  2  0  0]\n",
            " [ 0  0  0  0  0  0 45  0  0  0  0  0  0  0  0  0  0  0  0  0  0  0  0  0]\n",
            " [ 0  0  0  0  0  0  2 39  0  0  0  0  0  0  0  0  0  0  0  0  0  0  0  2]\n",
            " [ 0  0  0  0  0  0  0  0 39  0  0  0  0  0  0  0  0  2  0  0  0  0  0  1]\n",
            " [ 0  0  0  0  0  0  0  0  0 37  0  0  0  0  0  0  0  0  0  0  0  0  0  0]\n",
            " [ 0  0  0  0  0  0  0  0  0  0 38  0  0  0  0  0  1  0  0  0  0  0  0  0]\n",
            " [ 2  0  0  0  0  0  0  0  0  0  0 40  0  0  0  0  0  3  0  0  0  0  0  0]\n",
            " [ 1  0  0  0  1  0  0  0  0  0  0  5 29  0  0  0  0  6  0  0  0  0  0  0]\n",
            " [ 0  0  0  0  0  0  0  0  0  0  0  0  0 34  0  0  0  0  0  0  0  0  0  0]\n",
            " [ 0  0  0  0  0  0  0  0  0  0  0  0  0  0 33  0  0  0  0  0  0  0  0  0]\n",
            " [ 0  0  0  0  0  0  0  0  0  0  0  0  0  0  0 44  0  0  0  0  0  0  0  0]\n",
            " [ 0  0  0  0  0  0  0  0  0  2  0  0  0  0  0  0 43  1  0  7  0  0  0  0]\n",
            " [ 0  0  0  0  0  0  0  0  0  0  0  1  0  0  0  0  2 39  0  0  0  0  0  0]\n",
            " [ 0  0  0  0  0  0  7  0  0  0  0  0  0  0  0  0  0  0 42  0  0  0  2  0]\n",
            " [ 0  0  0  0  0  0  0  0  0  8  0  0  0  0  0  0 12  0  0 29  0  0  0  0]\n",
            " [ 0  0  0  0  0  0  0  0  0  4  2  0  0  0  0  0  2  0  0  2 20  0  0  0]\n",
            " [ 0  0  0  0  0  0  0  0  0  1  0  0  0  0  0  0  0  0  0  0  1 31  0  0]\n",
            " [ 0  0  0  0  0  0  0  0  0  0  2  0  0  0  0  0  2  0  0  0  0  0 42  0]\n",
            " [ 0  0  0  0  0  0  1  0  0  2  0  0  0  0  0  0  0  0  0  0  0  0  0 34]]\n",
            "------------------------------------------------------------\n",
            "              precision    recall  f1-score   support\n",
            "\n",
            "           a       0.94      0.98      0.96        46\n",
            "           b       0.95      0.97      0.96        39\n",
            "           c       1.00      0.95      0.98        43\n",
            "           d       0.98      1.00      0.99        45\n",
            "           e       0.94      0.78      0.85        40\n",
            "           f       1.00      0.95      0.98        42\n",
            "           g       0.82      1.00      0.90        45\n",
            "           h       1.00      0.91      0.95        43\n",
            "           i       1.00      0.93      0.96        42\n",
            "           k       0.69      1.00      0.81        37\n",
            "           l       0.90      0.97      0.94        39\n",
            "           m       0.83      0.89      0.86        45\n",
            "           n       0.94      0.69      0.79        42\n",
            "           o       0.97      1.00      0.99        34\n",
            "           p       1.00      1.00      1.00        33\n",
            "           q       1.00      1.00      1.00        44\n",
            "           r       0.69      0.81      0.75        53\n",
            "           s       0.72      0.93      0.81        42\n",
            "           t       1.00      0.82      0.90        51\n",
            "           u       0.76      0.59      0.67        49\n",
            "           v       0.95      0.67      0.78        30\n",
            "           w       0.94      0.94      0.94        33\n",
            "           x       0.93      0.91      0.92        46\n",
            "           y       0.92      0.92      0.92        37\n",
            "\n",
            "    accuracy                           0.90      1000\n",
            "   macro avg       0.91      0.90      0.90      1000\n",
            "weighted avg       0.91      0.90      0.90      1000\n",
            "\n"
          ]
        }
      ],
      "source": [
        "# 예측하고 평가하기\n",
        "pred = model2.predict(new_dataset)\n",
        "pred_1 = pred.argmax(axis=1)\n",
        "\n",
        "print(accuracy_score(y_test, pred_1))\n",
        "print('-'*60)\n",
        "print(confusion_matrix(y_test, pred_1))\n",
        "print('-'*60)\n",
        "print(classification_report(class_names[y_test], class_names[pred_1]))"
      ]
    },
    {
      "cell_type": "markdown",
      "metadata": {
        "id": "WEVqG02ozsaC"
      },
      "source": [
        "## 6.Data Pipeline 구성"
      ]
    },
    {
      "cell_type": "markdown",
      "metadata": {
        "id": "Jatp0ujy0GnP"
      },
      "source": [
        "### (1) 라이브러리 로딩"
      ]
    },
    {
      "cell_type": "code",
      "execution_count": null,
      "metadata": {
        "id": "J2LlAIt8zbYI"
      },
      "outputs": [],
      "source": [
        "# 파이프라인에서 필요한 라이브러리/함수\n",
        "import pandas as pd\n",
        "import numpy as np\n",
        "import cv2\n",
        "import joblib"
      ]
    },
    {
      "cell_type": "markdown",
      "metadata": {
        "id": "g1goEhNkowOZ"
      },
      "source": [
        "### (2) 테스트 데이터 로딩\n",
        "* 제공받은 이미지로 테스트 해보기\n",
        "* 직접 찍은 사진으로 테스트 해보기"
      ]
    },
    {
      "cell_type": "code",
      "execution_count": null,
      "metadata": {
        "id": "youK_dRjukYv",
        "colab": {
          "base_uri": "https://localhost:8080/",
          "height": 277
        },
        "outputId": "6ab5ae55-b349-4f56-e929-2f916b504e02"
      },
      "outputs": [
        {
          "output_type": "display_data",
          "data": {
            "text/plain": [
              "<PIL.Image.Image image mode=RGB size=228x260>"
            ],
            "image/png": "[encoded data removed]"
          },
          "metadata": {}
        }
      ],
      "source": [
        "from google.colab.patches import cv2_imshow\n",
        "import cv2\n",
        "\n",
        "path = '/content/drive/MyDrive/미니프로젝트/7차/2023.11.30_미니프로젝트 7차_2일차 실습자료/test image/'\n",
        "file = 'v.png'\n",
        "filename = path + file\n",
        "\n",
        "img = cv2.imread(filename)\n",
        "cv2_imshow(img)"
      ]
    },
    {
      "cell_type": "markdown",
      "metadata": {
        "id": "j9gu_O5ZgnBQ"
      },
      "source": [
        "### (3) Data Pipeline에 포함되어야 할 절차\n",
        "* 이미지 크기 맞추기\n",
        "* 흑백이미지\n",
        "* 스케일링"
      ]
    },
    {
      "cell_type": "markdown",
      "metadata": {
        "id": "CPfsMsFCg3Rj"
      },
      "source": [
        "#### 1)이미지 읽을 때 흑백으로 읽기"
      ]
    },
    {
      "cell_type": "code",
      "execution_count": null,
      "metadata": {
        "id": "Ly1AC8rdg7rR",
        "colab": {
          "base_uri": "https://localhost:8080/",
          "height": 295
        },
        "outputId": "389e9226-73de-4e79-c132-1b5851e3cac8"
      },
      "outputs": [
        {
          "output_type": "stream",
          "name": "stdout",
          "text": [
            "(260, 228)\n"
          ]
        },
        {
          "output_type": "display_data",
          "data": {
            "text/plain": [
              "<PIL.Image.Image image mode=L size=228x260>"
            ],
            "image/png": "[encoded data removed]"
          },
          "metadata": {}
        }
      ],
      "source": [
        "# 파일 열기\n",
        "img = cv2.imread(filename , cv2.IMREAD_GRAYSCALE)\n",
        "\n",
        "# 조회는 파이프라인 불필요\n",
        "print(img.shape)\n",
        "cv2_imshow(img)\n"
      ]
    },
    {
      "cell_type": "markdown",
      "metadata": {
        "id": "EA_5Z8WbalbA"
      },
      "source": [
        "#### 2)이미지 크기를 28, 28, 1 로 맞추기\n",
        "* 이미지 크기를 조절하는 방법은 크게 두가지 입니다.\n",
        "    * numpy\n",
        "    * opencv의 resize 함수 이용"
      ]
    },
    {
      "cell_type": "code",
      "execution_count": null,
      "metadata": {
        "id": "pP3-P4eSu3a4",
        "colab": {
          "base_uri": "https://localhost:8080/",
          "height": 63
        },
        "outputId": "67ed681a-8967-49db-fec1-936c4118a385"
      },
      "outputs": [
        {
          "output_type": "stream",
          "name": "stdout",
          "text": [
            "(28, 28)\n"
          ]
        },
        {
          "output_type": "display_data",
          "data": {
            "text/plain": [
              "<PIL.Image.Image image mode=L size=28x28>"
            ],
            "image/png": "[encoded data removed]"
          },
          "metadata": {}
        }
      ],
      "source": [
        "# 크기 조절하기\n",
        "img = cv2.resize(img, (28, 28))\n",
        "\n",
        "# 조회는 파이프라인 불필요\n",
        "print(img.shape)\n",
        "cv2_imshow(img)\n"
      ]
    },
    {
      "cell_type": "code",
      "execution_count": null,
      "metadata": {
        "id": "kt4Azj08G2E5"
      },
      "outputs": [],
      "source": [
        "# 입력데이터 형식을 갖추기\n",
        "test_sign = img.reshape(1,28,28,1)"
      ]
    },
    {
      "cell_type": "markdown",
      "metadata": {
        "id": "O2MjaWcFoDUH"
      },
      "source": [
        "#### 3)스케일링"
      ]
    },
    {
      "cell_type": "code",
      "execution_count": null,
      "metadata": {
        "id": "kDibzHsGoGUT"
      },
      "outputs": [],
      "source": [
        "test_sign = test_sign / 255."
      ]
    },
    {
      "cell_type": "markdown",
      "metadata": {
        "id": "iAS5-pvazOci"
      },
      "source": [
        "#### 4)모델 로딩하기"
      ]
    },
    {
      "cell_type": "code",
      "execution_count": null,
      "metadata": {
        "id": "9Nx5opQPzOcj"
      },
      "outputs": [],
      "source": [
        "model2 = joblib.load('model.pkl')"
      ]
    },
    {
      "cell_type": "markdown",
      "metadata": {
        "id": "mYpZg-lNasb7"
      },
      "source": [
        "#### 5)예측하기"
      ]
    },
    {
      "cell_type": "code",
      "execution_count": null,
      "metadata": {
        "id": "pRRZGbntv73S",
        "colab": {
          "base_uri": "https://localhost:8080/"
        },
        "outputId": "b2f77947-1b31-446b-bfcc-70b3fd10364b"
      },
      "outputs": [
        {
          "output_type": "stream",
          "name": "stdout",
          "text": [
            "1/1 [==============================] - 0s 72ms/step\n",
            "['v']\n"
          ]
        }
      ],
      "source": [
        "pred = model2.predict(test_sign)\n",
        "pred_1 = pred.argmax(axis=1)\n",
        "print(class_names[pred_1])"
      ]
    },
    {
      "cell_type": "markdown",
      "metadata": {
        "id": "nWof0qvdo11r"
      },
      "source": [
        "### (4) 하나의 셀로 합치기\n",
        "\n",
        "* 폴더 구조를 만들어 놓고 개발하기 필요한 코드를 하나로 모으기"
      ]
    },
    {
      "cell_type": "code",
      "execution_count": null,
      "metadata": {
        "id": "QBgnikmI0edH",
        "colab": {
          "base_uri": "https://localhost:8080/"
        },
        "outputId": "83a454e8-e41b-4bd1-e674-14b338a62dc5"
      },
      "outputs": [
        {
          "output_type": "stream",
          "name": "stdout",
          "text": [
            "1/1 [==============================] - 0s 31ms/step\n",
            "['v']\n"
          ]
        }
      ],
      "source": [
        "# 파이프라인에서 필요한 라이브러리/함수\n",
        "import pandas as pd\n",
        "import numpy as np\n",
        "import cv2\n",
        "import joblib\n",
        "\n",
        "# class names 준비\n",
        "class_names = list(string.ascii_lowercase)\n",
        "class_names = np.array(class_names)\n",
        "\n",
        "# 파일 로딩\n",
        "file = '/content/drive/MyDrive/미니프로젝트/7차/2023.11.30_미니프로젝트 7차_2일차 실습자료/test image/v.png'\n",
        "\n",
        "# 흑백으로 읽기\n",
        "img = cv2.imread(file , cv2.IMREAD_GRAYSCALE)\n",
        "\n",
        "# 크기 조정\n",
        "img = cv2.resize(img, (28, 28))\n",
        "\n",
        "# input shape 맞추기\n",
        "test_sign = img.reshape(1,28,28,1)\n",
        "\n",
        "# 스케일링\n",
        "test_sign = test_sign / 255.\n",
        "\n",
        "# 모델 로딩\n",
        "model2 = joblib.load('model.pkl')\n",
        "\n",
        "# 예측\n",
        "pred = model.predict(test_sign)\n",
        "pred_1 = pred.argmax(axis=1)\n",
        "print(class_names[pred_1])"
      ]
    },
    {
      "cell_type": "code",
      "source": [],
      "metadata": {
        "id": "7hJviPPeMQY9"
      },
      "execution_count": null,
      "outputs": []
    }
  ],
  "metadata": {
    "accelerator": "GPU",
    "colab": {
      "provenance": []
    },
    "gpuClass": "standard",
    "kernelspec": {
      "display_name": "Python 3",
      "name": "python3"
    },
    "language_info": {
      "codemirror_mode": {
        "name": "ipython",
        "version": 3
      },
      "file_extension": ".py",
      "mimetype": "text/x-python",
      "name": "python",
      "nbconvert_exporter": "python",
      "pygments_lexer": "ipython3",
      "version": "3.10.11"
    }
  },
  "nbformat": 4,
  "nbformat_minor": 0
}