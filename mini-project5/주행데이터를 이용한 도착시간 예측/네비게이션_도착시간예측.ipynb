{ 
  "cells": [
    {
      "cell_type": "markdown",
      "id": "1f32dd86-1670-4327-bfe9-9d99b93a5d9c",
      "metadata": {
        "id": "1f32dd86-1670-4327-bfe9-9d99b93a5d9c"
      },
      "source": [
        "**AIVLE School 미니프로젝트**\n",
        "### **네비게이션 주행데이터를 이용한 <span style=\"color:darkgreen\">도착시각</span> 예측 문제**\n",
        "---"
      ]
    },
    {
      "cell_type": "markdown",
      "id": "d2341ad0-ca25-4cd0-8a66-63ba196797cb",
      "metadata": {
        "id": "d2341ad0-ca25-4cd0-8a66-63ba196797cb"
      },
      "source": [
        "<br>"
      ]
    },
    {
      "cell_type": "markdown",
      "id": "1951fedb-3724-418c-8de8-ac69b120d310",
      "metadata": {
        "id": "1951fedb-3724-418c-8de8-ac69b120d310"
      },
      "source": [
        "#### **<span style=\"color:red\">[미션 안내]</span>**\n",
        "* 네비게이션 주행데이터를 읽어들여 데이터를 분석 및 전처리한 후 머신러닝과 딥러닝으로 도착시각을 예측하고 결과를 분석하세요."
      ]
    },
    {
      "cell_type": "markdown",
      "id": "07c798aa-1b49-4dae-af82-dd853b9e7886",
      "metadata": {
        "id": "07c798aa-1b49-4dae-af82-dd853b9e7886"
      },
      "source": [
        "#### **<span style=\"color:red\">[유의 사항]</span>**\n",
        "* 각 문항의 답안코드는 반드시 '#여기에 답안코드를 작성하세요'로 표시된 cell에 작성해야 합니다.\n",
        "* 제공된 cell을 추가/삭제하고 다른 cell에 답안코드를 작성 시 채점되지 않습니다.\n",
        "* 반드시 문제에 제시된 가이드를 읽고 답안 작성하세요.\n",
        "* 문제에 변수명이 제시된 경우 반드시 해당 변수명을 사용하세요.\n",
        "* 문제와 데이터는 제3자에게 공유하거나 개인적인 용도로 사용하는 등 외부로 유출할 수 없으며 유출로 인한 책임은 응시자 본인에게 있습니다."
      ]
    },
    {
      "cell_type": "markdown",
      "id": "f2e1c59a-e306-45f5-90d0-252e63994de8",
      "metadata": {
        "id": "f2e1c59a-e306-45f5-90d0-252e63994de8"
      },
      "source": [
        "<br>"
      ]
    },
    {
      "cell_type": "markdown",
      "id": "cb429a27-f439-4323-a69f-aa554cebeb5f",
      "metadata": {
        "id": "cb429a27-f439-4323-a69f-aa554cebeb5f"
      },
      "source": [
        "### 1. scikit-learn 패키지는 머신러닝 교육을 위한 최고의 파이썬 패키지입니다.\n",
        "### scikit-learn를 별칭(alias) sk로 임포트하는 코드를 작성하고 실행하세요."
      ]
    },
    {
      "cell_type": "code",
      "execution_count": null,
      "id": "78bfda52-7125-4bf4-99cc-a49888f3557b",
      "metadata": {
        "tags": [],
        "id": "78bfda52-7125-4bf4-99cc-a49888f3557b"
      },
      "outputs": [],
      "source": [
        "# 여기에 답안코드를 작성하세요.\n",
        "import sklearn as sk"
      ]
    },
    {
      "cell_type": "markdown",
      "id": "7d66e4d1-6a30-484d-920e-772b815f50c7",
      "metadata": {
        "id": "7d66e4d1-6a30-484d-920e-772b815f50c7"
      },
      "source": [
        "<br>"
      ]
    },
    {
      "cell_type": "markdown",
      "id": "d792db90-2273-4eef-a0f2-3cb37d2edf7c",
      "metadata": {
        "id": "d792db90-2273-4eef-a0f2-3cb37d2edf7c"
      },
      "source": [
        "### 2. Pandas는 데이터 분석을 위해 널리 사용되는 파이썬 라이브러리입니다.\n",
        "### Pandas를 사용할 수 있도록 별칭(alias)을 pd로 해서 불러오세요."
      ]
    },
    {
      "cell_type": "code",
      "execution_count": null,
      "id": "771f7972-0473-4db8-8797-95ddc19017fc",
      "metadata": {
        "tags": [],
        "id": "771f7972-0473-4db8-8797-95ddc19017fc"
      },
      "outputs": [],
      "source": [
        "# 여기에 답안코드를 작성하세요.\n",
        "import pandas as pd"
      ]
    },
    {
      "cell_type": "markdown",
      "id": "326a5dea-8170-4655-a4c6-ed1d3e4a1718",
      "metadata": {
        "id": "326a5dea-8170-4655-a4c6-ed1d3e4a1718"
      },
      "source": [
        "<br>"
      ]
    },
    {
      "cell_type": "markdown",
      "id": "55ced9e0-391e-4169-acd5-2165cd5b3ee0",
      "metadata": {
        "id": "55ced9e0-391e-4169-acd5-2165cd5b3ee0"
      },
      "source": [
        "### 3. 모델링을 위해 분석 및 처리할 데이터 파일을 읽어오려고 합니다.\n",
        "### Pandas함수로 데이터 파일을 읽어 데이터프레임 변수명 df에 할당하는 코드를 작성하세요.\n",
        "* A0007IT.json 파일을 읽어 데이터 프레임 변수명 df에 할당하세요."
      ]
    },
    {
      "cell_type": "code",
      "source": [
        "from google.colab import drive\n",
        "drive.mount('/content/drive')"
      ],
      "metadata": {
        "colab": {
          "base_uri": "https://localhost:8080/"
        },
        "id": "RtdU2YZe2MMK",
        "outputId": "b2c358eb-f792-4a2e-ec52-12244e918383"
      },
      "id": "RtdU2YZe2MMK",
      "execution_count": null,
      "outputs": [
        {
          "output_type": "stream",
          "name": "stdout",
          "text": [
            "Mounted at /content/drive\n"
          ]
        }
      ]
    },
    {
      "cell_type": "code",
      "execution_count": null,
      "id": "dbc291ca-4629-4beb-be81-1633aa8e62b2",
      "metadata": {
        "tags": [],
        "id": "dbc291ca-4629-4beb-be81-1633aa8e62b2"
      },
      "outputs": [],
      "source": [
        "# 여기에 답안코드를 작성하세요.\n",
        "df=pd.read_json('/content/drive/MyDrive/미니프로젝트/5차_주행데이터를 이용한 도착시각 예측/A0007IT.json')"
      ]
    },
    {
      "cell_type": "markdown",
      "id": "6a34284c-1724-4326-8079-b823f1e9b08b",
      "metadata": {
        "id": "6a34284c-1724-4326-8079-b823f1e9b08b"
      },
      "source": [
        "<br>"
      ]
    },
    {
      "cell_type": "code",
      "execution_count": null,
      "id": "9d9eca44-9aa4-48c2-8744-cc421ca4d2b0",
      "metadata": {
        "tags": [],
        "id": "9d9eca44-9aa4-48c2-8744-cc421ca4d2b0"
      },
      "outputs": [],
      "source": [
        "import matplotlib.pyplot as plt\n",
        "import matplotlib.font_manager as fm\n",
        "plt.rc('font', family = 'NanumGothicCoding')"
      ]
    },
    {
      "cell_type": "code",
      "source": [
        "!pip install koreanize-matplotlib\n",
        "import koreanize_matplotlib"
      ],
      "metadata": {
        "colab": {
          "base_uri": "https://localhost:8080/"
        },
        "id": "Ox_ees8e2A1p",
        "outputId": "9185913a-bc0e-4e0c-e5ba-ae369e8b1e15"
      },
      "id": "Ox_ees8e2A1p",
      "execution_count": null,
      "outputs": [
        {
          "output_type": "stream",
          "name": "stdout",
          "text": [
            "Collecting koreanize-matplotlib\n",
            "  Downloading koreanize_matplotlib-0.1.1-py3-none-any.whl (7.9 MB)\n",
            "\u001b[2K     \u001b[90m━━━━━━━━━━━━━━━━━━━━━━━━━━━━━━━━━━━━━━━━\u001b[0m \u001b[32m7.9/7.9 MB\u001b[0m \u001b[31m27.8 MB/s\u001b[0m eta \u001b[36m0:00:00\u001b[0m\n",
            "\u001b[?25hRequirement already satisfied: matplotlib in /usr/local/lib/python3.10/dist-packages (from koreanize-matplotlib) (3.7.1)\n",
            "Requirement already satisfied: contourpy>=1.0.1 in /usr/local/lib/python3.10/dist-packages (from matplotlib->koreanize-matplotlib) (1.2.0)\n",
            "Requirement already satisfied: cycler>=0.10 in /usr/local/lib/python3.10/dist-packages (from matplotlib->koreanize-matplotlib) (0.12.1)\n",
            "Requirement already satisfied: fonttools>=4.22.0 in /usr/local/lib/python3.10/dist-packages (from matplotlib->koreanize-matplotlib) (4.49.0)\n",
            "Requirement already satisfied: kiwisolver>=1.0.1 in /usr/local/lib/python3.10/dist-packages (from matplotlib->koreanize-matplotlib) (1.4.5)\n",
            "Requirement already satisfied: numpy>=1.20 in /usr/local/lib/python3.10/dist-packages (from matplotlib->koreanize-matplotlib) (1.25.2)\n",
            "Requirement already satisfied: packaging>=20.0 in /usr/local/lib/python3.10/dist-packages (from matplotlib->koreanize-matplotlib) (23.2)\n",
            "Requirement already satisfied: pillow>=6.2.0 in /usr/local/lib/python3.10/dist-packages (from matplotlib->koreanize-matplotlib) (9.4.0)\n",
            "Requirement already satisfied: pyparsing>=2.3.1 in /usr/local/lib/python3.10/dist-packages (from matplotlib->koreanize-matplotlib) (3.1.1)\n",
            "Requirement already satisfied: python-dateutil>=2.7 in /usr/local/lib/python3.10/dist-packages (from matplotlib->koreanize-matplotlib) (2.8.2)\n",
            "Requirement already satisfied: six>=1.5 in /usr/local/lib/python3.10/dist-packages (from python-dateutil>=2.7->matplotlib->koreanize-matplotlib) (1.16.0)\n",
            "Installing collected packages: koreanize-matplotlib\n",
            "Successfully installed koreanize-matplotlib-0.1.1\n"
          ]
        }
      ]
    },
    {
      "cell_type": "markdown",
      "id": "a1c7f855-339a-4600-a87d-64a5525edcc8",
      "metadata": {
        "id": "a1c7f855-339a-4600-a87d-64a5525edcc8"
      },
      "source": [
        "### 4. Address1(주소1)에 대한 분포도를 알아 보려고 합니다.\n",
        "### Address1(주소1)에 대해 countplot그래프로 만들고 아래 가이드에 따라 답하세요.\n",
        "* Seaborn을 활용하세요.\n",
        "* 첫번째, Address1(주소1)에 대해서 분포를 보여주는 countplot그래프 그리세요.\n",
        "* 두번째, 지역명이 없는 '-'에 해당되는 row(행)을 삭제하세요."
      ]
    },
    {
      "cell_type": "code",
      "execution_count": null,
      "id": "865d5d47-ce7e-4536-828f-b9d5ab804780",
      "metadata": {
        "tags": [],
        "colab": {
          "base_uri": "https://localhost:8080/",
          "height": 448
        },
        "id": "865d5d47-ce7e-4536-828f-b9d5ab804780",
        "outputId": "a173c9b4-2326-49df-ebde-e9e26930b102"
      },
      "outputs": [
        {
          "output_type": "display_data",
          "data": {
            "text/plain": [
              "<Figure size 640x480 with 1 Axes>"
            ],
            "image/png": "[encoded data removed]"
          },
          "metadata": {}
        }
      ],
      "source": [
        "# 여기에 답안코드를 작성하세요.\n",
        "import seaborn as sns\n",
        "\n",
        "sns.countplot(x='Address1', data= df)\n",
        "plt.show()\n",
        "\n",
        "df.drop(df[df['Address1'] == '-'].index, inplace=True)"
      ]
    },
    {
      "cell_type": "code",
      "execution_count": null,
      "id": "445dba6e-30c1-44c5-8fb9-3d3ecab01520",
      "metadata": {
        "tags": [],
        "colab": {
          "base_uri": "https://localhost:8080/"
        },
        "id": "445dba6e-30c1-44c5-8fb9-3d3ecab01520",
        "outputId": "4cf45dfb-230e-4742-9a62-d4ca26934f9e"
      },
      "outputs": [
        {
          "output_type": "execute_result",
          "data": {
            "text/plain": [
              "경기도      33217\n",
              "서울특별시    22045\n",
              "인천광역시      175\n",
              "강원도          2\n",
              "충청북도         1\n",
              "충청남도         1\n",
              "Name: Address1, dtype: int64"
            ]
          },
          "metadata": {},
          "execution_count": 8
        }
      ],
      "source": [
        "df['Address1'].value_counts()"
      ]
    },
    {
      "cell_type": "markdown",
      "id": "594967e8-9231-4671-a88e-7b54898ffa4e",
      "metadata": {
        "id": "594967e8-9231-4671-a88e-7b54898ffa4e"
      },
      "source": [
        "<br>"
      ]
    },
    {
      "cell_type": "markdown",
      "id": "ff6b633c-fbb2-40d1-982e-5e57daac66cc",
      "metadata": {
        "id": "ff6b633c-fbb2-40d1-982e-5e57daac66cc"
      },
      "source": [
        "### 5. 실주행시간과 평균시속의 분포를 같이 확인하려고 합니다.\n",
        "### Time_Driving(실주행시간)과 Speed_Per_Hour(평균시속)을 jointplot 그래프로 만드세요.\n",
        "* Seaborn을 활용하세요.\n",
        "* X축에는 Time_Driving(실주행시간)을 표시하고 Y축에는 Speed_Per_Hour(평균시속)을 표시하세요."
      ]
    },
    {
      "cell_type": "code",
      "execution_count": null,
      "id": "23c0e7e5-c4e7-42e8-9258-2bd3fb7a1551",
      "metadata": {
        "tags": [],
        "colab": {
          "base_uri": "https://localhost:8080/",
          "height": 625
        },
        "id": "23c0e7e5-c4e7-42e8-9258-2bd3fb7a1551",
        "outputId": "c963d501-404f-437a-c737-0a4071eafbd8"
      },
      "outputs": [
        {
          "output_type": "execute_result",
          "data": {
            "text/plain": [
              "<seaborn.axisgrid.JointGrid at 0x7900308f7100>"
            ]
          },
          "metadata": {},
          "execution_count": 9
        },
        {
          "output_type": "display_data",
          "data": {
            "text/plain": [
              "<Figure size 600x600 with 3 Axes>"
            ],
            "image/png": "[encoded data removed]"
          },
          "metadata": {}
        }
      ],
      "source": [
        "# 여기에 답안코드를 작성하세요.\n",
        "sns.jointplot(x='Time_Driving', y='Speed_Per_Hour', data=df)"
      ]
    },
    {
      "cell_type": "markdown",
      "id": "7c3d46d9-2a4a-49ce-ace2-b007933c2a53",
      "metadata": {
        "id": "7c3d46d9-2a4a-49ce-ace2-b007933c2a53"
      },
      "source": [
        "<br>"
      ]
    },
    {
      "cell_type": "markdown",
      "id": "c7ba7823-db7b-409c-91a2-13519680b52c",
      "metadata": {
        "id": "c7ba7823-db7b-409c-91a2-13519680b52c"
      },
      "source": [
        "### 6. 위의 jointplot 그래프에서 시속 300이 넘는 이상치를 발견할 수 있습니다.\n",
        "### jointplot 그래프에서 발견한 이상치 1개를 삭제하세요.\n",
        "* 대상 데이터프레임: df\n",
        "* jointplot 그래프를 보고 시속 300 이상되는 이상치를 찾아 해당 행(Row)을 삭제하세요.\n",
        "* 전처리 반영 후에 새로운 데이터프레임 변수명 df_temp에 저장하세요."
      ]
    },
    {
      "cell_type": "code",
      "execution_count": null,
      "id": "414a676e-0392-4e52-a8fa-bc4dd71482b8",
      "metadata": {
        "tags": [],
        "id": "414a676e-0392-4e52-a8fa-bc4dd71482b8"
      },
      "outputs": [],
      "source": [
        "# 여기에 답안코드를 작성하세요.\n",
        "temp = df[df['Speed_Per_Hour'] >= 300].index\n",
        "df_temp=df.drop(temp)"
      ]
    },
    {
      "cell_type": "markdown",
      "id": "43d2735b-8ba6-44c9-9e08-6c53002f1b46",
      "metadata": {
        "id": "43d2735b-8ba6-44c9-9e08-6c53002f1b46"
      },
      "source": [
        "<br>"
      ]
    },
    {
      "cell_type": "markdown",
      "id": "f086ac8c-cef8-4944-a518-81fc042b1444",
      "metadata": {
        "id": "f086ac8c-cef8-4944-a518-81fc042b1444"
      },
      "source": [
        "### 7. 모델링 성능을 제대로 얻기 위해서 결측치 처리는 필수입니다.\n",
        "### 아래 가이드를 따라 결측치 처리하세요.\n",
        "* 대상 데이터프레임: df_temp\n",
        "* 결측치를 확인하는 코드를 작성하세요.\n",
        "* 결측치가 있는 행(raw)를 삭제 하세요.\n",
        "* 전처리 반영된 결과를 새로운 데이터프레임 변수명 df_na에 저장하세요."
      ]
    },
    {
      "cell_type": "code",
      "execution_count": null,
      "id": "ccc8da5a-221a-4c13-ab4e-792264ea48a8",
      "metadata": {
        "tags": [],
        "id": "ccc8da5a-221a-4c13-ab4e-792264ea48a8"
      },
      "outputs": [],
      "source": [
        "# 여기에 답안코드를 작성하세요.\n",
        "df_temp.isnull().sum()\n",
        "df_na = df_temp.dropna(axis=0)"
      ]
    },
    {
      "cell_type": "markdown",
      "id": "46c64f89-a3ee-45d7-94f4-5ede4c6d6e92",
      "metadata": {
        "id": "46c64f89-a3ee-45d7-94f4-5ede4c6d6e92"
      },
      "source": [
        "<br>"
      ]
    },
    {
      "cell_type": "markdown",
      "id": "590a5dfe-8ebf-4fdc-9c6b-f3b03fc57890",
      "metadata": {
        "id": "590a5dfe-8ebf-4fdc-9c6b-f3b03fc57890"
      },
      "source": [
        "### 8. 모델링 성능을 제대로 얻기 위해서 불필요한 변수는 삭제해야 합니다.\n",
        "### 아래 가이드를 따라 불필요 데이터를 삭제 처리하세요.\n",
        "* 대상 데이터프레임: df_na\n",
        "* 'Time_Departure', 'Time_Arrival' 2개 컬럼을 삭제하세요.\n",
        "* 전처리 반영된 결과를 새로운 데이터프레임 변수명 df_del에 저장하세요.d"
      ]
    },
    {
      "cell_type": "code",
      "execution_count": null,
      "id": "7573f7e1-eeb9-436b-8fb4-af7ba4872782",
      "metadata": {
        "tags": [],
        "id": "7573f7e1-eeb9-436b-8fb4-af7ba4872782"
      },
      "outputs": [],
      "source": [
        "# 여기에 답안코드를 작성하세요.\n",
        "df_del = df_na.drop(['Time_Departure', 'Time_Arrival'], axis=1)"
      ]
    },
    {
      "cell_type": "markdown",
      "id": "9db815d3-4725-42e4-a34d-a693ef160dc4",
      "metadata": {
        "id": "9db815d3-4725-42e4-a34d-a693ef160dc4"
      },
      "source": [
        "<br>"
      ]
    },
    {
      "cell_type": "markdown",
      "id": "2364a91e-b4d4-4471-8171-82cd7a87cb25",
      "metadata": {
        "id": "2364a91e-b4d4-4471-8171-82cd7a87cb25"
      },
      "source": [
        "### 9. 원-핫 인코딩(One-hot encoding)은 범주형 변수를 1과 0의 이진형 벡터로 변환하기 위하여 사용하는 방법입니다.\n",
        "### 원-핫 인코딩으로 아래 조건에 해당하는 컬럼 데이터를 변환하세요.\n",
        "* 대상 데이터프레임: df_del\n",
        "* 원-핫 인코딩 대상: object 타입의 전체 컬럼\n",
        "* 활용 함수: pandas의 get_dummies\n",
        "* 해당 전처리가 반영된 결과를 데이터프레임 변수 df_preset에 저장해 주세요."
      ]
    },
    {
      "cell_type": "code",
      "execution_count": null,
      "id": "abbad879-2bf9-4177-837a-0dcca9adcd43",
      "metadata": {
        "tags": [],
        "id": "abbad879-2bf9-4177-837a-0dcca9adcd43"
      },
      "outputs": [],
      "source": [
        "# 여기에 답안코드를 작성하세요.\n",
        "object_cols = df_del.select_dtypes(include=['object']).columns\n",
        "df_preset = pd.get_dummies(df_del, columns=object_cols, drop_first=True)"
      ]
    },
    {
      "cell_type": "code",
      "execution_count": null,
      "id": "4a88ccc4-5691-46d4-a6b5-67222cb32041",
      "metadata": {
        "tags": [],
        "colab": {
          "base_uri": "https://localhost:8080/",
          "height": 186
        },
        "id": "4a88ccc4-5691-46d4-a6b5-67222cb32041",
        "outputId": "9c2ca038-ad16-41d5-b4e3-2d5cd93b0f8c"
      },
      "outputs": [
        {
          "output_type": "execute_result",
          "data": {
            "text/plain": [
              "<bound method NDFrame.head of        Distance  Time_Driving  Speed_Per_Hour  Signaltype  Weekday  Hour  Day  \\\n",
              "0       12914.0   1201.534058       38.692536           7        0     5   20   \n",
              "1        7483.0    823.817017       32.699980          31        0     5   20   \n",
              "2        8087.0    526.710998       55.273575           6        0     0   20   \n",
              "3       10528.0    898.581970       42.178456           2        0     0   20   \n",
              "4       10636.0    957.758972       39.978326          28        0     0   20   \n",
              "...         ...           ...             ...         ...      ...   ...  ...   \n",
              "55526    4448.0    544.301025       29.419015          22        4    23   24   \n",
              "55527    3106.0    535.666992       20.874163          16        4    23   24   \n",
              "55528   10325.0    610.799988       60.854618           5        4    23   24   \n",
              "55529    4458.0    878.479004       18.268849          32        4    23   24   \n",
              "55530    3780.0    553.580994       24.581769          18        4    23   24   \n",
              "\n",
              "       Address1_경기도  Address1_서울특별시  Address1_인천광역시  ...  Address2_중구  \\\n",
              "0                 1               0               0  ...            0   \n",
              "1                 0               1               0  ...            0   \n",
              "2                 1               0               0  ...            0   \n",
              "3                 1               0               0  ...            0   \n",
              "4                 1               0               0  ...            0   \n",
              "...             ...             ...             ...  ...          ...   \n",
              "55526             1               0               0  ...            0   \n",
              "55527             0               1               0  ...            0   \n",
              "55528             0               1               0  ...            0   \n",
              "55529             0               1               0  ...            0   \n",
              "55530             0               1               0  ...            0   \n",
              "\n",
              "       Address2_중랑구  Address2_진천군  Address2_철원군  Address2_파주시  Address2_평택시  \\\n",
              "0                 0             0             0             0             0   \n",
              "1                 0             0             0             0             0   \n",
              "2                 0             0             0             0             0   \n",
              "3                 0             0             0             0             0   \n",
              "4                 0             0             0             0             0   \n",
              "...             ...           ...           ...           ...           ...   \n",
              "55526             0             0             0             1             0   \n",
              "55527             0             0             0             0             0   \n",
              "55528             0             0             0             0             0   \n",
              "55529             0             0             0             0             0   \n",
              "55530             0             0             0             0             0   \n",
              "\n",
              "       Address2_포천시  Address2_하남시  Address2_홍천군  Address2_화성시  \n",
              "0                 0             0             0             0  \n",
              "1                 0             0             0             0  \n",
              "2                 0             0             0             0  \n",
              "3                 0             0             0             0  \n",
              "4                 0             0             0             0  \n",
              "...             ...           ...           ...           ...  \n",
              "55526             0             0             0             0  \n",
              "55527             0             0             0             0  \n",
              "55528             0             0             0             0  \n",
              "55529             0             0             0             0  \n",
              "55530             0             0             0             0  \n",
              "\n",
              "[55431 rows x 88 columns]>"
            ],
            "text/html": [
              "<div style=\"max-width:800px; border: 1px solid var(--colab-border-color);\"><style>\n",
              "      pre.function-repr-contents {\n",
              "        overflow-x: auto;\n",
              "        padding: 8px 12px;\n",
              "        max-height: 500px;\n",
              "      }\n",
              "\n",
              "      pre.function-repr-contents.function-repr-contents-collapsed {\n",
              "        cursor: pointer;\n",
              "        max-height: 100px;\n",
              "      }\n",
              "    </style>\n",
              "    <pre style=\"white-space: initial; background:\n",
              "         var(--colab-secondary-surface-color); padding: 8px 12px;\n",
              "         border-bottom: 1px solid var(--colab-border-color);\"><b>pandas.core.generic.NDFrame.head</b><br/>def head(n: int=5) -&gt; NDFrameT</pre><pre class=\"function-repr-contents function-repr-contents-collapsed\" style=\"\"><a class=\"filepath\" style=\"display:none\" href=\"#\">/usr/local/lib/python3.10/dist-packages/pandas/core/generic.py</a>Return the first `n` rows.\n",
              "\n",
              "This function returns the first `n` rows for the object based\n",
              "on position. It is useful for quickly testing if your object\n",
              "has the right type of data in it.\n",
              "\n",
              "For negative values of `n`, this function returns all rows except\n",
              "the last `|n|` rows, equivalent to ``df[:n]``.\n",
              "\n",
              "If n is larger than the number of rows, this function returns all rows.\n",
              "\n",
              "Parameters\n",
              "----------\n",
              "n : int, default 5\n",
              "    Number of rows to select.\n",
              "\n",
              "Returns\n",
              "-------\n",
              "same type as caller\n",
              "    The first `n` rows of the caller object.\n",
              "\n",
              "See Also\n",
              "--------\n",
              "DataFrame.tail: Returns the last `n` rows.\n",
              "\n",
              "Examples\n",
              "--------\n",
              "&gt;&gt;&gt; df = pd.DataFrame({&#x27;animal&#x27;: [&#x27;alligator&#x27;, &#x27;bee&#x27;, &#x27;falcon&#x27;, &#x27;lion&#x27;,\n",
              "...                    &#x27;monkey&#x27;, &#x27;parrot&#x27;, &#x27;shark&#x27;, &#x27;whale&#x27;, &#x27;zebra&#x27;]})\n",
              "&gt;&gt;&gt; df\n",
              "      animal\n",
              "0  alligator\n",
              "1        bee\n",
              "2     falcon\n",
              "3       lion\n",
              "4     monkey\n",
              "5     parrot\n",
              "6      shark\n",
              "7      whale\n",
              "8      zebra\n",
              "\n",
              "Viewing the first 5 lines\n",
              "\n",
              "&gt;&gt;&gt; df.head()\n",
              "      animal\n",
              "0  alligator\n",
              "1        bee\n",
              "2     falcon\n",
              "3       lion\n",
              "4     monkey\n",
              "\n",
              "Viewing the first `n` lines (three in this case)\n",
              "\n",
              "&gt;&gt;&gt; df.head(3)\n",
              "      animal\n",
              "0  alligator\n",
              "1        bee\n",
              "2     falcon\n",
              "\n",
              "For negative values of `n`\n",
              "\n",
              "&gt;&gt;&gt; df.head(-3)\n",
              "      animal\n",
              "0  alligator\n",
              "1        bee\n",
              "2     falcon\n",
              "3       lion\n",
              "4     monkey\n",
              "5     parrot</pre>\n",
              "      <script>\n",
              "      if (google.colab.kernel.accessAllowed && google.colab.files && google.colab.files.view) {\n",
              "        for (const element of document.querySelectorAll('.filepath')) {\n",
              "          element.style.display = 'block'\n",
              "          element.onclick = (event) => {\n",
              "            event.preventDefault();\n",
              "            event.stopPropagation();\n",
              "            google.colab.files.view(element.textContent, 5474);\n",
              "          };\n",
              "        }\n",
              "      }\n",
              "      for (const element of document.querySelectorAll('.function-repr-contents')) {\n",
              "        element.onclick = (event) => {\n",
              "          event.preventDefault();\n",
              "          event.stopPropagation();\n",
              "          element.classList.toggle('function-repr-contents-collapsed');\n",
              "        };\n",
              "      }\n",
              "      </script>\n",
              "      </div>"
            ]
          },
          "metadata": {},
          "execution_count": 14
        }
      ],
      "source": [
        "df_preset.head"
      ]
    },
    {
      "cell_type": "markdown",
      "id": "4266bd53-b060-4355-b473-c051cbbc908e",
      "metadata": {
        "id": "4266bd53-b060-4355-b473-c051cbbc908e"
      },
      "source": [
        "<br>"
      ]
    },
    {
      "cell_type": "markdown",
      "id": "6b01b0e7-30e3-4a64-8e6a-1e45507a8262",
      "metadata": {
        "id": "6b01b0e7-30e3-4a64-8e6a-1e45507a8262"
      },
      "source": [
        "### 10. 훈련과 검증 각각에 사용할 데이터셋을 분리하려고 합니다.\n",
        "### Time_Driving(실주행시간) 컬럼을 label값 y로, 나머지 컬럼을 feature값 X로 할당한 후 훈련데이터셋과 검증데이터셋으로 분리하세요.\n",
        "* 대상 데이터프레임: df_preset\n",
        "* 훈련 데이터셋 label: y_train, 훈련 데이터셋 Feature: X_train\n",
        "* 검증 데이터셋 label: y_valid, 검증 데이터셋 Feature: X_valid\n",
        "* 훈련 데이터셋과 검증데이터셋 비율은 80:20\n",
        "* random_state: 42\n",
        "* Scikit-learn의 train_test_split 함수를 활용하세요."
      ]
    },
    {
      "cell_type": "code",
      "execution_count": null,
      "id": "da848455-7b93-47fd-8ac4-d844b2a4e7be",
      "metadata": {
        "tags": [],
        "colab": {
          "base_uri": "https://localhost:8080/"
        },
        "id": "da848455-7b93-47fd-8ac4-d844b2a4e7be",
        "outputId": "c01be9e9-4f32-4cd6-f632-da9cee2358ef"
      },
      "outputs": [
        {
          "output_type": "execute_result",
          "data": {
            "text/plain": [
              "((44344, 87), (11087, 87), (44344,), (11087,))"
            ]
          },
          "metadata": {},
          "execution_count": 15
        }
      ],
      "source": [
        "# 여기에 답안코드를 작성하세요.\n",
        "from sklearn.model_selection import train_test_split\n",
        "\n",
        "X=df_preset.drop('Time_Driving', axis=1)\n",
        "y=df_preset['Time_Driving']\n",
        "X_train, X_valid, y_train, y_valid = train_test_split(X, y, test_size=0.2, random_state=42)\n",
        "\n",
        "X_train.shape, X_valid.shape, y_train.shape, y_valid.shape"
      ]
    },
    {
      "cell_type": "markdown",
      "id": "a0f356a6-f40f-45e2-a559-d5d04e75ea3f",
      "metadata": {
        "id": "a0f356a6-f40f-45e2-a559-d5d04e75ea3f"
      },
      "source": [
        "<br>"
      ]
    },
    {
      "cell_type": "markdown",
      "id": "8fb3c92a-4027-4076-bdb0-6f3bda7da917",
      "metadata": {
        "id": "8fb3c92a-4027-4076-bdb0-6f3bda7da917"
      },
      "source": [
        "### 11. Time_Driving(실주행시간)을 예측하는 머신러닝 모델을 만들려고 합니다.\n",
        "### 의사결정나무(decision tree)는 여러 가지 규칙을 순차적으로 적용하면서 독립 변수 공간을 분할하는 모형으로\n",
        "### 분류(classification)와 회귀 분석(regression)에 모두 사용될 수 있습니다.\n",
        "### 의사결정나무(decision tree)로 학습을 진행하세요.\n",
        "* 트리의 최대 깊이: 5로 설정\n",
        "* 노드를 분할하기 위한 최소한의 샘플 데이터수(min_samples_split): 3로 설정\n",
        "* random_state: 120로 설정"
      ]
    },
    {
      "cell_type": "code",
      "execution_count": null,
      "id": "8901a3f2-3839-4831-afeb-fd2877eef954",
      "metadata": {
        "tags": [],
        "colab": {
          "base_uri": "https://localhost:8080/",
          "height": 74
        },
        "id": "8901a3f2-3839-4831-afeb-fd2877eef954",
        "outputId": "4d028cf6-e355-4c51-8fca-6f4262b4ebcc"
      },
      "outputs": [
        {
          "output_type": "execute_result",
          "data": {
            "text/plain": [
              "DecisionTreeRegressor(max_depth=5, min_samples_split=3, random_state=120)"
            ],
            "text/html": [
              "<style>#sk-container-id-1 {color: black;background-color: white;}#sk-container-id-1 pre{padding: 0;}#sk-container-id-1 div.sk-toggleable {background-color: white;}#sk-container-id-1 label.sk-toggleable__label {cursor: pointer;display: block;width: 100%;margin-bottom: 0;padding: 0.3em;box-sizing: border-box;text-align: center;}#sk-container-id-1 label.sk-toggleable__label-arrow:before {content: \"▸\";float: left;margin-right: 0.25em;color: #696969;}#sk-container-id-1 label.sk-toggleable__label-arrow:hover:before {color: black;}#sk-container-id-1 div.sk-estimator:hover label.sk-toggleable__label-arrow:before {color: black;}#sk-container-id-1 div.sk-toggleable__content {max-height: 0;max-width: 0;overflow: hidden;text-align: left;background-color: #f0f8ff;}#sk-container-id-1 div.sk-toggleable__content pre {margin: 0.2em;color: black;border-radius: 0.25em;background-color: #f0f8ff;}#sk-container-id-1 input.sk-toggleable__control:checked~div.sk-toggleable__content {max-height: 200px;max-width: 100%;overflow: auto;}#sk-container-id-1 input.sk-toggleable__control:checked~label.sk-toggleable__label-arrow:before {content: \"▾\";}#sk-container-id-1 div.sk-estimator input.sk-toggleable__control:checked~label.sk-toggleable__label {background-color: #d4ebff;}#sk-container-id-1 div.sk-label input.sk-toggleable__control:checked~label.sk-toggleable__label {background-color: #d4ebff;}#sk-container-id-1 input.sk-hidden--visually {border: 0;clip: rect(1px 1px 1px 1px);clip: rect(1px, 1px, 1px, 1px);height: 1px;margin: -1px;overflow: hidden;padding: 0;position: absolute;width: 1px;}#sk-container-id-1 div.sk-estimator {font-family: monospace;background-color: #f0f8ff;border: 1px dotted black;border-radius: 0.25em;box-sizing: border-box;margin-bottom: 0.5em;}#sk-container-id-1 div.sk-estimator:hover {background-color: #d4ebff;}#sk-container-id-1 div.sk-parallel-item::after {content: \"\";width: 100%;border-bottom: 1px solid gray;flex-grow: 1;}#sk-container-id-1 div.sk-label:hover label.sk-toggleable__label {background-color: #d4ebff;}#sk-container-id-1 div.sk-serial::before {content: \"\";position: absolute;border-left: 1px solid gray;box-sizing: border-box;top: 0;bottom: 0;left: 50%;z-index: 0;}#sk-container-id-1 div.sk-serial {display: flex;flex-direction: column;align-items: center;background-color: white;padding-right: 0.2em;padding-left: 0.2em;position: relative;}#sk-container-id-1 div.sk-item {position: relative;z-index: 1;}#sk-container-id-1 div.sk-parallel {display: flex;align-items: stretch;justify-content: center;background-color: white;position: relative;}#sk-container-id-1 div.sk-item::before, #sk-container-id-1 div.sk-parallel-item::before {content: \"\";position: absolute;border-left: 1px solid gray;box-sizing: border-box;top: 0;bottom: 0;left: 50%;z-index: -1;}#sk-container-id-1 div.sk-parallel-item {display: flex;flex-direction: column;z-index: 1;position: relative;background-color: white;}#sk-container-id-1 div.sk-parallel-item:first-child::after {align-self: flex-end;width: 50%;}#sk-container-id-1 div.sk-parallel-item:last-child::after {align-self: flex-start;width: 50%;}#sk-container-id-1 div.sk-parallel-item:only-child::after {width: 0;}#sk-container-id-1 div.sk-dashed-wrapped {border: 1px dashed gray;margin: 0 0.4em 0.5em 0.4em;box-sizing: border-box;padding-bottom: 0.4em;background-color: white;}#sk-container-id-1 div.sk-label label {font-family: monospace;font-weight: bold;display: inline-block;line-height: 1.2em;}#sk-container-id-1 div.sk-label-container {text-align: center;}#sk-container-id-1 div.sk-container {/* jupyter's `normalize.less` sets `[hidden] { display: none; }` but bootstrap.min.css set `[hidden] { display: none !important; }` so we also need the `!important` here to be able to override the default hidden behavior on the sphinx rendered scikit-learn.org. See: https://github.com/scikit-learn/scikit-learn/issues/21755 */display: inline-block !important;position: relative;}#sk-container-id-1 div.sk-text-repr-fallback {display: none;}</style><div id=\"sk-container-id-1\" class=\"sk-top-container\"><div class=\"sk-text-repr-fallback\"><pre>DecisionTreeRegressor(max_depth=5, min_samples_split=3, random_state=120)</pre><b>In a Jupyter environment, please rerun this cell to show the HTML representation or trust the notebook. <br />On GitHub, the HTML representation is unable to render, please try loading this page with nbviewer.org.</b></div><div class=\"sk-container\" hidden><div class=\"sk-item\"><div class=\"sk-estimator sk-toggleable\"><input class=\"sk-toggleable__control sk-hidden--visually\" id=\"sk-estimator-id-1\" type=\"checkbox\" checked><label for=\"sk-estimator-id-1\" class=\"sk-toggleable__label sk-toggleable__label-arrow\">DecisionTreeRegressor</label><div class=\"sk-toggleable__content\"><pre>DecisionTreeRegressor(max_depth=5, min_samples_split=3, random_state=120)</pre></div></div></div></div></div>"
            ]
          },
          "metadata": {},
          "execution_count": 16
        }
      ],
      "source": [
        "# 여기에 답안코드를 작성하세요.\n",
        "from sklearn.tree import DecisionTreeRegressor\n",
        "\n",
        "dt = DecisionTreeRegressor(max_depth=5, min_samples_split=3, random_state=120)\n",
        "dt.fit(X_train, y_train)"
      ]
    },
    {
      "cell_type": "markdown",
      "id": "c42fb023-9864-4471-8a45-44fdbfd35e93",
      "metadata": {
        "id": "c42fb023-9864-4471-8a45-44fdbfd35e93"
      },
      "source": [
        "<br>"
      ]
    },
    {
      "cell_type": "markdown",
      "id": "1ccbcefa-d9b4-454f-b82a-f755d5f16283",
      "metadata": {
        "id": "1ccbcefa-d9b4-454f-b82a-f755d5f16283"
      },
      "source": [
        "### 12. 위 의사결정나무(decision tree) 모델의 성능을 평가하려고 합니다.\n",
        "### 예측 결과의 mae(Mean Absolute Error)를 구하세요.\n",
        "* 성능 평가는 검증 데이터셋을 활용하세요.\n",
        "* 11번 문제에서 만든 의사결정나무(decision tree) 모델로 y값을 예측(predict)하여 y_pred에 저장하세요.\n",
        "* 검증 정답(y_valid)과 예측값(y_pred)의 mae(Mean Absolute Error)를 구하고 dt_mae 변수에 저장하세요."
      ]
    },
    {
      "cell_type": "code",
      "execution_count": null,
      "id": "8a8b9d20-a680-4000-9b3a-aadfe5d6cb02",
      "metadata": {
        "tags": [],
        "id": "8a8b9d20-a680-4000-9b3a-aadfe5d6cb02"
      },
      "outputs": [],
      "source": [
        "# 여기에 답안코드를 작성하세요.\n",
        "from sklearn.metrics import mean_absolute_error\n",
        "\n",
        "y_pred = dt.predict(X_valid)\n",
        "dt_mae = mean_absolute_error(y_valid, y_pred)"
      ]
    },
    {
      "cell_type": "markdown",
      "id": "ca8e3bcd-70a1-41fe-b050-2a7b3d97280b",
      "metadata": {
        "tags": [],
        "id": "ca8e3bcd-70a1-41fe-b050-2a7b3d97280b"
      },
      "source": [
        "<br>"
      ]
    },
    {
      "cell_type": "markdown",
      "id": "9d72df85-cb80-4f1b-a4db-01ea5b4ec30d",
      "metadata": {
        "id": "9d72df85-cb80-4f1b-a4db-01ea5b4ec30d"
      },
      "source": [
        "##### **<span style=\"color:red\">다음 문항을 풀기 전에</span> 아래 코드를 실행하세요.**"
      ]
    },
    {
      "cell_type": "code",
      "execution_count": null,
      "id": "5f6e8b6d-f740-4d98-9189-78cdb98991d0",
      "metadata": {
        "tags": [],
        "id": "5f6e8b6d-f740-4d98-9189-78cdb98991d0"
      },
      "outputs": [],
      "source": [
        "import tensorflow as tf\n",
        "from tensorflow.keras.models import Sequential, load_model\n",
        "from tensorflow.keras.layers import Dense, Activation, Dropout, BatchNormalization\n",
        "from tensorflow.keras.callbacks import EarlyStopping, ModelCheckpoint\n",
        "from tensorflow.keras.utils import to_categorical\n",
        "\n",
        "tf.random.set_seed(1)"
      ]
    },
    {
      "cell_type": "markdown",
      "id": "0d15cb7c-f9fd-45ce-85e0-7ea72a4091a5",
      "metadata": {
        "tags": [],
        "id": "0d15cb7c-f9fd-45ce-85e0-7ea72a4091a5"
      },
      "source": [
        "<br>"
      ]
    },
    {
      "cell_type": "markdown",
      "id": "e897fb3e-1364-4445-ac10-920f82ae4232",
      "metadata": {
        "id": "e897fb3e-1364-4445-ac10-920f82ae4232"
      },
      "source": [
        "### 13. Time_Driving(실주행시간)을 예측하는 딥러닝 모델을 만들려고 합니다.\n",
        "### 아래 가이드에 따라 모델링하고 학습을 진행하세요.\n",
        "* Tensoflow framework를 사용하여 딥러닝 모델을 만드세요.\n",
        "* 히든레이어(hidden layer) 2개이상으로 모델을 구성하세요.\n",
        "* dropout 비율 0.2로 Dropout 레이어 1개를 추가해 주세요.\n",
        "* 손실함수는 MSE(Mean Squared Error)를 사용하세요.\n",
        "* 하이퍼파라미터 epochs: 30, batch_size: 16으로 설정해주세요.\n",
        "* 각 에포크마다 loss와 metrics 평가하기 위한 데이터로 X_valid, y_valid 사용하세요.\n",
        "* 학습정보는 history 변수에 저장해주세요"
      ]
    },
    {
      "cell_type": "code",
      "execution_count": null,
      "id": "df129f00-16d9-427b-adef-af90f3ab177c",
      "metadata": {
        "tags": [],
        "colab": {
          "base_uri": "https://localhost:8080/"
        },
        "id": "df129f00-16d9-427b-adef-af90f3ab177c",
        "outputId": "ed81ccf3-a365-4cea-eef4-2f3d4af51ddb"
      },
      "outputs": [
        {
          "output_type": "stream",
          "name": "stdout",
          "text": [
            "Epoch 1/30\n",
            "2772/2772 [==============================] - 7s 2ms/step - loss: 186266.9531 - mae: 297.8747 - val_loss: 104921.7891 - val_mae: 211.2800\n",
            "Epoch 2/30\n",
            "2772/2772 [==============================] - 8s 3ms/step - loss: 71561.5859 - mae: 174.4492 - val_loss: 41041.1758 - val_mae: 137.0592\n",
            "Epoch 3/30\n",
            "2772/2772 [==============================] - 5s 2ms/step - loss: 37581.2539 - mae: 126.4923 - val_loss: 38873.5938 - val_mae: 150.7154\n",
            "Epoch 4/30\n",
            "2772/2772 [==============================] - 7s 3ms/step - loss: 26948.5898 - mae: 105.0675 - val_loss: 39758.5781 - val_mae: 156.6749\n",
            "Epoch 5/30\n",
            "2772/2772 [==============================] - 5s 2ms/step - loss: 20428.8457 - mae: 90.3234 - val_loss: 31718.2598 - val_mae: 149.7634\n",
            "Epoch 6/30\n",
            "2772/2772 [==============================] - 7s 2ms/step - loss: 19544.3633 - mae: 86.4707 - val_loss: 32387.4453 - val_mae: 145.0866\n",
            "Epoch 7/30\n",
            "2772/2772 [==============================] - 6s 2ms/step - loss: 17606.5059 - mae: 82.3817 - val_loss: 134248.3750 - val_mae: 294.2412\n",
            "Epoch 8/30\n",
            "2772/2772 [==============================] - 7s 2ms/step - loss: 17303.4121 - mae: 80.6542 - val_loss: 41531.3281 - val_mae: 165.5936\n",
            "Epoch 9/30\n",
            "2772/2772 [==============================] - 6s 2ms/step - loss: 14881.7119 - mae: 74.9105 - val_loss: 53437.2852 - val_mae: 181.2052\n",
            "Epoch 10/30\n",
            "2772/2772 [==============================] - 6s 2ms/step - loss: 17815.2129 - mae: 78.6217 - val_loss: 120970.7266 - val_mae: 276.7787\n",
            "Epoch 11/30\n",
            "2772/2772 [==============================] - 6s 2ms/step - loss: 15488.5010 - mae: 72.1998 - val_loss: 45601.5312 - val_mae: 164.6401\n",
            "Epoch 12/30\n",
            "2772/2772 [==============================] - 6s 2ms/step - loss: 14704.8096 - mae: 69.3890 - val_loss: 25625.3906 - val_mae: 122.8002\n",
            "Epoch 13/30\n",
            "2772/2772 [==============================] - 7s 3ms/step - loss: 16236.1045 - mae: 73.6959 - val_loss: 41245.3203 - val_mae: 153.2048\n",
            "Epoch 14/30\n",
            "2772/2772 [==============================] - 6s 2ms/step - loss: 13754.4736 - mae: 66.7896 - val_loss: 31785.5918 - val_mae: 133.5782\n",
            "Epoch 15/30\n",
            "2772/2772 [==============================] - 7s 3ms/step - loss: 21543.6816 - mae: 83.3393 - val_loss: 23945.9297 - val_mae: 108.7322\n",
            "Epoch 16/30\n",
            "2772/2772 [==============================] - 5s 2ms/step - loss: 19715.8223 - mae: 78.9259 - val_loss: 21517.4336 - val_mae: 103.1468\n",
            "Epoch 17/30\n",
            "2772/2772 [==============================] - 7s 3ms/step - loss: 19012.0879 - mae: 76.1397 - val_loss: 24188.4883 - val_mae: 106.9733\n",
            "Epoch 18/30\n",
            "2772/2772 [==============================] - 6s 2ms/step - loss: 19337.9238 - mae: 75.7554 - val_loss: 30884.9277 - val_mae: 95.2481\n",
            "Epoch 19/30\n",
            "2772/2772 [==============================] - 7s 2ms/step - loss: 23021.0059 - mae: 83.7006 - val_loss: 32028.9199 - val_mae: 97.4719\n",
            "Epoch 20/30\n",
            "2772/2772 [==============================] - 6s 2ms/step - loss: 22375.1504 - mae: 82.2844 - val_loss: 29780.0938 - val_mae: 117.2129\n",
            "Epoch 21/30\n",
            "2772/2772 [==============================] - 6s 2ms/step - loss: 22978.4414 - mae: 83.1229 - val_loss: 35006.8359 - val_mae: 118.2972\n",
            "Epoch 22/30\n",
            "2772/2772 [==============================] - 6s 2ms/step - loss: 21097.6328 - mae: 80.8086 - val_loss: 27262.7676 - val_mae: 98.7893\n",
            "Epoch 23/30\n",
            "2772/2772 [==============================] - 6s 2ms/step - loss: 21568.0625 - mae: 81.5606 - val_loss: 31608.8164 - val_mae: 109.7293\n",
            "Epoch 24/30\n",
            "2772/2772 [==============================] - 7s 2ms/step - loss: 19813.4883 - mae: 78.6993 - val_loss: 18526.3555 - val_mae: 95.6093\n",
            "Epoch 25/30\n",
            "2772/2772 [==============================] - 6s 2ms/step - loss: 30479.9746 - mae: 94.3282 - val_loss: 24165.6230 - val_mae: 88.2050\n",
            "Epoch 26/30\n",
            "2772/2772 [==============================] - 7s 3ms/step - loss: 39578.5312 - mae: 114.8233 - val_loss: 47877.7383 - val_mae: 155.0611\n",
            "Epoch 27/30\n",
            "2772/2772 [==============================] - 6s 2ms/step - loss: 38795.1953 - mae: 111.4782 - val_loss: 44780.7188 - val_mae: 142.0480\n",
            "Epoch 28/30\n",
            "2772/2772 [==============================] - 8s 3ms/step - loss: 36964.4883 - mae: 109.1266 - val_loss: 48907.1797 - val_mae: 160.5448\n",
            "Epoch 29/30\n",
            "2772/2772 [==============================] - 6s 2ms/step - loss: 36003.0156 - mae: 110.0493 - val_loss: 39398.3398 - val_mae: 129.3926\n",
            "Epoch 30/30\n",
            "2772/2772 [==============================] - 7s 2ms/step - loss: 35259.2812 - mae: 107.3256 - val_loss: 37157.8359 - val_mae: 103.3853\n"
          ]
        }
      ],
      "source": [
        "import tensorflow as tf\n",
        "from tensorflow.keras.models import Sequential\n",
        "from tensorflow.keras.layers import Dense, Dropout\n",
        "from sklearn.metrics import mean_squared_error\n",
        "import numpy as np\n",
        "\n",
        "# 모델 초기화\n",
        "model = Sequential()\n",
        "\n",
        "# 입력 레이어 및 첫 번째 히든 레이어\n",
        "model.add(Dense(64, activation='relu', input_shape=(X_train.shape[1],)))\n",
        "model.add(Dropout(0.2))\n",
        "\n",
        "# 두 번째 히든 레이어\n",
        "model.add(Dense(32, activation='relu'))\n",
        "\n",
        "# 세 번째 히든 레이어\n",
        "model.add(Dense(16, activation='relu'))\n",
        "\n",
        "# 출력 레이어\n",
        "model.add(Dense(1))\n",
        "\n",
        "# 모델 컴파일\n",
        "model.compile(optimizer='adam', loss='mse', metrics=['mae'])\n",
        "\n",
        "# 학습\n",
        "history = model.fit(X_train, y_train, epochs=30, batch_size=16, validation_data=(X_valid, y_valid))\n",
        "\n",
        "# 학습 정보 저장\n",
        "train_loss = history.history['loss']\n",
        "val_loss = history.history['val_loss']\n",
        "train_mae = history.history['mae']\n",
        "val_mae = history.history['val_mae']\n"
      ]
    },
    {
      "cell_type": "markdown",
      "id": "12f33874-3f1e-4b63-ba3e-91d90ee5e512",
      "metadata": {
        "id": "12f33874-3f1e-4b63-ba3e-91d90ee5e512"
      },
      "source": [
        "<br>"
      ]
    },
    {
      "cell_type": "markdown",
      "id": "8989c197-ec84-4192-955d-1c52d34cb006",
      "metadata": {
        "id": "8989c197-ec84-4192-955d-1c52d34cb006"
      },
      "source": [
        "### 14. 위 딥러닝 모델의 성능을 평가하려고 합니다.\n",
        "### Matplotlib 라이브러리 활용해서 학습 mse와 검증 mse를 그래프로 표시하세요.\n",
        "* 1개의 그래프에 학습 mse과 검증 mse 2가지를 모두 표시하세요.\n",
        "* 위 2가지 각각의 범례를 'mse', 'val_mse'로 표시하세요.\n",
        "* 그래프의 타이틀은 'Model MSE'로 표시하세요.\n",
        "* X축에는 'Epochs'라고 표시하고 Y축에는 'MSE'라고 표시하세요."
      ]
    },
    {
      "cell_type": "code",
      "execution_count": null,
      "id": "e5094d66-0b51-45bf-89f0-07af04d7909e",
      "metadata": {
        "tags": [],
        "colab": {
          "base_uri": "https://localhost:8080/",
          "height": 507
        },
        "id": "e5094d66-0b51-45bf-89f0-07af04d7909e",
        "outputId": "c316836f-1622-4c6b-b2f1-34476ba578eb"
      },
      "outputs": [
        {
          "output_type": "stream",
          "name": "stderr",
          "text": [
            "WARNING:matplotlib.legend:No artists with labels found to put in legend.  Note that artists whose label start with an underscore are ignored when legend() is called with no argument.\n"
          ]
        },
        {
          "output_type": "display_data",
          "data": {
            "text/plain": [
              "<Figure size 640x480 with 1 Axes>"
            ],
            "image/png": "[encoded data removed]"
          },
          "metadata": {}
        }
      ],
      "source": [
        "# 여기에 답안코드를 작성하세요.\n",
        "plt.plot(history.history['loss'])\n",
        "plt.plot(history.history['val_loss'])\n",
        "plt.title('Model MSE')\n",
        "plt.xlabel('Epochs')\n",
        "plt.ylabel('MSE')\n",
        "plt.legend()\n",
        "plt.show()\n"
      ]
    }
  ],
  "metadata": {
    "kernelspec": {
      "display_name": "Python 3 (ipykernel)",
      "language": "python",
      "name": "python3"
    },
    "language_info": {
      "codemirror_mode": {
        "name": "ipython",
        "version": 3
      },
      "file_extension": ".py",
      "mimetype": "text/x-python",
      "name": "python",
      "nbconvert_exporter": "python",
      "pygments_lexer": "ipython3",
      "version": "3.11.3"
    },
    "colab": {
      "provenance": []
    }
  },
  "nbformat": 4,
  "nbformat_minor": 5
}
