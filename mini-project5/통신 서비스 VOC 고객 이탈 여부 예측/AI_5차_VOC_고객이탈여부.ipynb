{
  "cells": [
    {
      "cell_type": "markdown",
      "metadata": {
        "id": "qWK_nqYtsuJu"
      },
      "source": [
        "**AIVLE School 미니프로젝트**\n",
        "### **VOC를 제기한 고객의 <span style=\"color:darkgreen\">해지 여부</span> 예측 문제**\n",
        "---"
      ]
    },
    {
      "cell_type": "markdown",
      "metadata": {
        "tags": [],
        "id": "UshZxd_LsuJy"
      },
      "source": [
        "#### **<span style=\"color:red\">[미션 안내]</span>**\n",
        "* VOC를 제기한 고객의 데이터를 읽어들여 데이터를 분석 및 전처리한 후 머신러닝과 딥러닝으로 해지 여부를 예측하고 결과를 분석하세요."
      ]
    },
    {
      "cell_type": "markdown",
      "metadata": {
        "id": "LJX550mosuJz"
      },
      "source": [
        "#### **<span style=\"color:red\">[유의 사항]</span>**\n",
        "* 각 문항의 답안코드는 반드시 '#여기에 답안코드를 작성하세요'로 표시된 cell에 작성해야 합니다.\n",
        "* 제공된 cell을 추가/삭제하고 다른 cell에 답안코드를 작성 시 채점되지 않습니다.\n",
        "* 반드시 문제에 제시된 가이드를 읽고 답안 작성하세요.\n",
        "* 문제에 변수명이 제시된 경우 반드시 해당 변수명을 사용하세요.\n",
        "* 문제와 데이터는 제3자에게 공유하거나 개인적인 용도로 사용하는 등 외부로 유출할 수 없으며 유출로 인한 책임은 응시자 본인에게 있습니다."
      ]
    },
    {
      "cell_type": "code",
      "execution_count": null,
      "metadata": {
        "tags": [],
        "id": "lf5KSBG_suJz"
      },
      "outputs": [],
      "source": [
        "# 코드실행시 경고 메시지 무시\n",
        "import warnings\n",
        "warnings.filterwarnings(action='ignore')"
      ]
    },
    {
      "cell_type": "markdown",
      "metadata": {
        "id": "W5RqF9C_suJ0"
      },
      "source": [
        "<br>"
      ]
    },
    {
      "cell_type": "markdown",
      "metadata": {
        "id": "ddQuMrAvsuJ0"
      },
      "source": [
        "## **<span style=\"color:black\">1. 필요한 라이브러리 설치</span>**"
      ]
    },
    {
      "cell_type": "markdown",
      "metadata": {
        "id": "VLTUVT8TsuJ0"
      },
      "source": [
        "<Br>\n",
        "<font color=blue>1-1. pip 이용해서 seaborn을 설치하세요.</font>"
      ]
    },
    {
      "cell_type": "code",
      "execution_count": null,
      "metadata": {
        "tags": [],
        "colab": {
          "base_uri": "https://localhost:8080/"
        },
        "id": "JG6ny4l3suJ0",
        "outputId": "6225d648-9993-4d27-f4de-40e21c2383de"
      },
      "outputs": [
        {
          "output_type": "stream",
          "name": "stdout",
          "text": [
            "Requirement already satisfied: seaborn in /usr/local/lib/python3.10/dist-packages (0.13.1)\n",
            "Requirement already satisfied: numpy!=1.24.0,>=1.20 in /usr/local/lib/python3.10/dist-packages (from seaborn) (1.25.2)\n",
            "Requirement already satisfied: pandas>=1.2 in /usr/local/lib/python3.10/dist-packages (from seaborn) (1.5.3)\n",
            "Requirement already satisfied: matplotlib!=3.6.1,>=3.4 in /usr/local/lib/python3.10/dist-packages (from seaborn) (3.7.1)\n",
            "Requirement already satisfied: contourpy>=1.0.1 in /usr/local/lib/python3.10/dist-packages (from matplotlib!=3.6.1,>=3.4->seaborn) (1.2.0)\n",
            "Requirement already satisfied: cycler>=0.10 in /usr/local/lib/python3.10/dist-packages (from matplotlib!=3.6.1,>=3.4->seaborn) (0.12.1)\n",
            "Requirement already satisfied: fonttools>=4.22.0 in /usr/local/lib/python3.10/dist-packages (from matplotlib!=3.6.1,>=3.4->seaborn) (4.49.0)\n",
            "Requirement already satisfied: kiwisolver>=1.0.1 in /usr/local/lib/python3.10/dist-packages (from matplotlib!=3.6.1,>=3.4->seaborn) (1.4.5)\n",
            "Requirement already satisfied: packaging>=20.0 in /usr/local/lib/python3.10/dist-packages (from matplotlib!=3.6.1,>=3.4->seaborn) (23.2)\n",
            "Requirement already satisfied: pillow>=6.2.0 in /usr/local/lib/python3.10/dist-packages (from matplotlib!=3.6.1,>=3.4->seaborn) (9.4.0)\n",
            "Requirement already satisfied: pyparsing>=2.3.1 in /usr/local/lib/python3.10/dist-packages (from matplotlib!=3.6.1,>=3.4->seaborn) (3.1.1)\n",
            "Requirement already satisfied: python-dateutil>=2.7 in /usr/local/lib/python3.10/dist-packages (from matplotlib!=3.6.1,>=3.4->seaborn) (2.8.2)\n",
            "Requirement already satisfied: pytz>=2020.1 in /usr/local/lib/python3.10/dist-packages (from pandas>=1.2->seaborn) (2023.4)\n",
            "Requirement already satisfied: six>=1.5 in /usr/local/lib/python3.10/dist-packages (from python-dateutil>=2.7->matplotlib!=3.6.1,>=3.4->seaborn) (1.16.0)\n"
          ]
        }
      ],
      "source": [
        "# 여기에 답안코드를 작성하세요.\n",
        "\n",
        "!pip install seaborn"
      ]
    },
    {
      "cell_type": "markdown",
      "metadata": {
        "id": "0i-fPGx6suJ1"
      },
      "source": [
        "<br>\n",
        "<font color=blue>1-2. numpy 별칭을 np로, pandas 별칭을 pd로 해서 임포트 하세요</font>"
      ]
    },
    {
      "cell_type": "code",
      "execution_count": null,
      "metadata": {
        "tags": [],
        "id": "n2CMCFYisuJ1"
      },
      "outputs": [],
      "source": [
        "# 여기에 답안코드를 작성하세요.\n",
        "import numpy as np\n",
        "import pandas as pd\n"
      ]
    },
    {
      "cell_type": "markdown",
      "metadata": {
        "id": "xbUg-XO6suJ1"
      },
      "source": [
        "<br>\n",
        "<font color=blue>1-3. matplotlib 라이브러리를 plt로, seaborn을 sns로 해서 임포트 하세요"
      ]
    },
    {
      "cell_type": "code",
      "execution_count": null,
      "metadata": {
        "tags": [],
        "id": "LaatlD33suJ1"
      },
      "outputs": [],
      "source": [
        "# 여기에 답안코드를 작성하세요.\n",
        "import matplotlib as plt\n",
        "import seaborn as sns\n"
      ]
    },
    {
      "cell_type": "code",
      "source": [
        "from google.colab import drive\n",
        "drive.mount('/content/drive')"
      ],
      "metadata": {
        "colab": {
          "base_uri": "https://localhost:8080/"
        },
        "id": "mfa4fxtuwmsR",
        "outputId": "67ad0838-46cb-4cfb-ad3b-707abe70ef62"
      },
      "execution_count": null,
      "outputs": [
        {
          "output_type": "stream",
          "name": "stdout",
          "text": [
            "Mounted at /content/drive\n"
          ]
        }
      ]
    },
    {
      "cell_type": "markdown",
      "metadata": {
        "id": "OPbcPhh_suJ1"
      },
      "source": [
        "<br>"
      ]
    },
    {
      "cell_type": "markdown",
      "metadata": {
        "id": "jvH-PEW2suJ2"
      },
      "source": [
        "## **<span style=\"color:black\">2. Tabular 데이터 로딩</span>**"
      ]
    },
    {
      "cell_type": "markdown",
      "metadata": {
        "id": "MJzR-piasuJ2"
      },
      "source": [
        "<br>\n",
        "<font color=blue>2-1. pandas read_csv 함수를 사용하여 voc_data.csv 파일을 읽어온 후 df에 저장하세요.</font>"
      ]
    },
    {
      "cell_type": "code",
      "execution_count": null,
      "metadata": {
        "tags": [],
        "id": "M1D2fPdDsuJ2"
      },
      "outputs": [],
      "source": [
        "# 여기에 답안코드를 작성하세요.\n",
        "\n",
        "df= pd.read_csv('/content/drive/MyDrive/미니프로젝트/5차_답변 챗봇 만들기/2023.10.23_미니프로젝트5차_실습자료/voc_data.csv')"
      ]
    },
    {
      "cell_type": "markdown",
      "metadata": {
        "id": "wGNj0n9bsuJ2"
      },
      "source": [
        "<br>"
      ]
    },
    {
      "cell_type": "markdown",
      "metadata": {
        "id": "hOfHLbs3suJ2"
      },
      "source": [
        "## **<span style=\"color:black\">3. 데이터의 구성 확인</span>**"
      ]
    },
    {
      "cell_type": "markdown",
      "metadata": {
        "id": "8SDlE4LjsuJ2"
      },
      "source": [
        "<br>\n",
        "<font color=blue>3-1. \"df\" DataFrame 이용해서 읽어들인 파일의 앞부분 5줄, 뒷부분 5줄을 출력하세요</font>"
      ]
    },
    {
      "cell_type": "code",
      "execution_count": null,
      "metadata": {
        "tags": [],
        "colab": {
          "base_uri": "https://localhost:8080/",
          "height": 255
        },
        "id": "M63e86B-suJ2",
        "outputId": "c68fdcf4-3139-4acd-e5f4-38374272f80f"
      },
      "outputs": [
        {
          "output_type": "execute_result",
          "data": {
            "text/plain": [
              "  voc_trt_perd_itg_cd  voc_prod_sbt_id  voc_wjt_sorc_id  voc_type_itg_cd  \\\n",
              "0                   _       1000665328             2153            10009   \n",
              "1                   _       1001028714             3311            10009   \n",
              "2                   _       1001028567             1575            10009   \n",
              "3               10000       1000665328             3546            10009   \n",
              "4                   _       1000779276             3086            10009   \n",
              "\n",
              "   voc_sttus_itg_cd voc_trt_reslt_itg_cd cust_clas_itg_cd  bprod_sbt_id  \\\n",
              "0             10002                    _                F    1000001126   \n",
              "1             10002                10081                G    1000852226   \n",
              "2             10002                    _                G    1000851875   \n",
              "3             10002                    _                _    1000001126   \n",
              "4             10002                    _                G    1000764639   \n",
              "\n",
              "  age_itg_cd cont_sttus_itg_cd  ...  voc_dupl_tmscnt  oos_cause_type_itg_cd  \\\n",
              "0         36             10001  ...                0                      _   \n",
              "1         32             10001  ...                0                      _   \n",
              "2         52             10001  ...                0                  10268   \n",
              "3          _             10001  ...                0                      _   \n",
              "4         50             10001  ...                0                      _   \n",
              "\n",
              "  voc_trt_need_time_itg_cd  engt_cperd_type_itg_cd  engt_tgt_div_itg_cd  \\\n",
              "0                    10001                       _                    _   \n",
              "1                    10001                   15098                15244   \n",
              "2                    10001                   15097                15244   \n",
              "3                    10001                       _                    _   \n",
              "4                    10001                       _                    _   \n",
              "\n",
              "  cont_fns_pam_date  voc_mis_pbls_yn fclt_oos_yn  \\\n",
              "0          99991231                N           _   \n",
              "1          20220319                N           _   \n",
              "2          20220508                N           N   \n",
              "3          99991231                N           _   \n",
              "4          99991231                N           _   \n",
              "\n",
              "  cust_snsry_base_conf_need_time  trm_yn  \n",
              "0                              0       N  \n",
              "1                              0       N  \n",
              "2                              0       N  \n",
              "3                              0       N  \n",
              "4                              0       N  \n",
              "\n",
              "[5 rows x 24 columns]"
            ],
            "text/html": [
              "\n",
              "  <div id=\"df-9606ae46-0f54-4195-b69e-26a5b81da66c\" class=\"colab-df-container\">\n",
              "    <div>\n",
              "<style scoped>\n",
              "    .dataframe tbody tr th:only-of-type {\n",
              "        vertical-align: middle;\n",
              "    }\n",
              "\n",
              "    .dataframe tbody tr th {\n",
              "        vertical-align: top;\n",
              "    }\n",
              "\n",
              "    .dataframe thead th {\n",
              "        text-align: right;\n",
              "    }\n",
              "</style>\n",
              "<table border=\"1\" class=\"dataframe\">\n",
              "  <thead>\n",
              "    <tr style=\"text-align: right;\">\n",
              "      <th></th>\n",
              "      <th>voc_trt_perd_itg_cd</th>\n",
              "      <th>voc_prod_sbt_id</th>\n",
              "      <th>voc_wjt_sorc_id</th>\n",
              "      <th>voc_type_itg_cd</th>\n",
              "      <th>voc_sttus_itg_cd</th>\n",
              "      <th>voc_trt_reslt_itg_cd</th>\n",
              "      <th>cust_clas_itg_cd</th>\n",
              "      <th>bprod_sbt_id</th>\n",
              "      <th>age_itg_cd</th>\n",
              "      <th>cont_sttus_itg_cd</th>\n",
              "      <th>...</th>\n",
              "      <th>voc_dupl_tmscnt</th>\n",
              "      <th>oos_cause_type_itg_cd</th>\n",
              "      <th>voc_trt_need_time_itg_cd</th>\n",
              "      <th>engt_cperd_type_itg_cd</th>\n",
              "      <th>engt_tgt_div_itg_cd</th>\n",
              "      <th>cont_fns_pam_date</th>\n",
              "      <th>voc_mis_pbls_yn</th>\n",
              "      <th>fclt_oos_yn</th>\n",
              "      <th>cust_snsry_base_conf_need_time</th>\n",
              "      <th>trm_yn</th>\n",
              "    </tr>\n",
              "  </thead>\n",
              "  <tbody>\n",
              "    <tr>\n",
              "      <th>0</th>\n",
              "      <td>_</td>\n",
              "      <td>1000665328</td>\n",
              "      <td>2153</td>\n",
              "      <td>10009</td>\n",
              "      <td>10002</td>\n",
              "      <td>_</td>\n",
              "      <td>F</td>\n",
              "      <td>1000001126</td>\n",
              "      <td>36</td>\n",
              "      <td>10001</td>\n",
              "      <td>...</td>\n",
              "      <td>0</td>\n",
              "      <td>_</td>\n",
              "      <td>10001</td>\n",
              "      <td>_</td>\n",
              "      <td>_</td>\n",
              "      <td>99991231</td>\n",
              "      <td>N</td>\n",
              "      <td>_</td>\n",
              "      <td>0</td>\n",
              "      <td>N</td>\n",
              "    </tr>\n",
              "    <tr>\n",
              "      <th>1</th>\n",
              "      <td>_</td>\n",
              "      <td>1001028714</td>\n",
              "      <td>3311</td>\n",
              "      <td>10009</td>\n",
              "      <td>10002</td>\n",
              "      <td>10081</td>\n",
              "      <td>G</td>\n",
              "      <td>1000852226</td>\n",
              "      <td>32</td>\n",
              "      <td>10001</td>\n",
              "      <td>...</td>\n",
              "      <td>0</td>\n",
              "      <td>_</td>\n",
              "      <td>10001</td>\n",
              "      <td>15098</td>\n",
              "      <td>15244</td>\n",
              "      <td>20220319</td>\n",
              "      <td>N</td>\n",
              "      <td>_</td>\n",
              "      <td>0</td>\n",
              "      <td>N</td>\n",
              "    </tr>\n",
              "    <tr>\n",
              "      <th>2</th>\n",
              "      <td>_</td>\n",
              "      <td>1001028567</td>\n",
              "      <td>1575</td>\n",
              "      <td>10009</td>\n",
              "      <td>10002</td>\n",
              "      <td>_</td>\n",
              "      <td>G</td>\n",
              "      <td>1000851875</td>\n",
              "      <td>52</td>\n",
              "      <td>10001</td>\n",
              "      <td>...</td>\n",
              "      <td>0</td>\n",
              "      <td>10268</td>\n",
              "      <td>10001</td>\n",
              "      <td>15097</td>\n",
              "      <td>15244</td>\n",
              "      <td>20220508</td>\n",
              "      <td>N</td>\n",
              "      <td>N</td>\n",
              "      <td>0</td>\n",
              "      <td>N</td>\n",
              "    </tr>\n",
              "    <tr>\n",
              "      <th>3</th>\n",
              "      <td>10000</td>\n",
              "      <td>1000665328</td>\n",
              "      <td>3546</td>\n",
              "      <td>10009</td>\n",
              "      <td>10002</td>\n",
              "      <td>_</td>\n",
              "      <td>_</td>\n",
              "      <td>1000001126</td>\n",
              "      <td>_</td>\n",
              "      <td>10001</td>\n",
              "      <td>...</td>\n",
              "      <td>0</td>\n",
              "      <td>_</td>\n",
              "      <td>10001</td>\n",
              "      <td>_</td>\n",
              "      <td>_</td>\n",
              "      <td>99991231</td>\n",
              "      <td>N</td>\n",
              "      <td>_</td>\n",
              "      <td>0</td>\n",
              "      <td>N</td>\n",
              "    </tr>\n",
              "    <tr>\n",
              "      <th>4</th>\n",
              "      <td>_</td>\n",
              "      <td>1000779276</td>\n",
              "      <td>3086</td>\n",
              "      <td>10009</td>\n",
              "      <td>10002</td>\n",
              "      <td>_</td>\n",
              "      <td>G</td>\n",
              "      <td>1000764639</td>\n",
              "      <td>50</td>\n",
              "      <td>10001</td>\n",
              "      <td>...</td>\n",
              "      <td>0</td>\n",
              "      <td>_</td>\n",
              "      <td>10001</td>\n",
              "      <td>_</td>\n",
              "      <td>_</td>\n",
              "      <td>99991231</td>\n",
              "      <td>N</td>\n",
              "      <td>_</td>\n",
              "      <td>0</td>\n",
              "      <td>N</td>\n",
              "    </tr>\n",
              "  </tbody>\n",
              "</table>\n",
              "<p>5 rows × 24 columns</p>\n",
              "</div>\n",
              "    <div class=\"colab-df-buttons\">\n",
              "\n",
              "  <div class=\"colab-df-container\">\n",
              "    <button class=\"colab-df-convert\" onclick=\"convertToInteractive('df-9606ae46-0f54-4195-b69e-26a5b81da66c')\"\n",
              "            title=\"Convert this dataframe to an interactive table.\"\n",
              "            style=\"display:none;\">\n",
              "\n",
              "  <svg xmlns=\"http://www.w3.org/2000/svg\" height=\"24px\" viewBox=\"0 -960 960 960\">\n",
              "    <path d=\"M120-120v-720h720v720H120Zm60-500h600v-160H180v160Zm220 220h160v-160H400v160Zm0 220h160v-160H400v160ZM180-400h160v-160H180v160Zm440 0h160v-160H620v160ZM180-180h160v-160H180v160Zm440 0h160v-160H620v160Z\"/>\n",
              "  </svg>\n",
              "    </button>\n",
              "\n",
              "  <style>\n",
              "    .colab-df-container {\n",
              "      display:flex;\n",
              "      gap: 12px;\n",
              "    }\n",
              "\n",
              "    .colab-df-convert {\n",
              "      background-color: #E8F0FE;\n",
              "      border: none;\n",
              "      border-radius: 50%;\n",
              "      cursor: pointer;\n",
              "      display: none;\n",
              "      fill: #1967D2;\n",
              "      height: 32px;\n",
              "      padding: 0 0 0 0;\n",
              "      width: 32px;\n",
              "    }\n",
              "\n",
              "    .colab-df-convert:hover {\n",
              "      background-color: #E2EBFA;\n",
              "      box-shadow: 0px 1px 2px rgba(60, 64, 67, 0.3), 0px 1px 3px 1px rgba(60, 64, 67, 0.15);\n",
              "      fill: #174EA6;\n",
              "    }\n",
              "\n",
              "    .colab-df-buttons div {\n",
              "      margin-bottom: 4px;\n",
              "    }\n",
              "\n",
              "    [theme=dark] .colab-df-convert {\n",
              "      background-color: #3B4455;\n",
              "      fill: #D2E3FC;\n",
              "    }\n",
              "\n",
              "    [theme=dark] .colab-df-convert:hover {\n",
              "      background-color: #434B5C;\n",
              "      box-shadow: 0px 1px 3px 1px rgba(0, 0, 0, 0.15);\n",
              "      filter: drop-shadow(0px 1px 2px rgba(0, 0, 0, 0.3));\n",
              "      fill: #FFFFFF;\n",
              "    }\n",
              "  </style>\n",
              "\n",
              "    <script>\n",
              "      const buttonEl =\n",
              "        document.querySelector('#df-9606ae46-0f54-4195-b69e-26a5b81da66c button.colab-df-convert');\n",
              "      buttonEl.style.display =\n",
              "        google.colab.kernel.accessAllowed ? 'block' : 'none';\n",
              "\n",
              "      async function convertToInteractive(key) {\n",
              "        const element = document.querySelector('#df-9606ae46-0f54-4195-b69e-26a5b81da66c');\n",
              "        const dataTable =\n",
              "          await google.colab.kernel.invokeFunction('convertToInteractive',\n",
              "                                                    [key], {});\n",
              "        if (!dataTable) return;\n",
              "\n",
              "        const docLinkHtml = 'Like what you see? Visit the ' +\n",
              "          '<a target=\"_blank\" href=https://colab.research.google.com/notebooks/data_table.ipynb>data table notebook</a>'\n",
              "          + ' to learn more about interactive tables.';\n",
              "        element.innerHTML = '';\n",
              "        dataTable['output_type'] = 'display_data';\n",
              "        await google.colab.output.renderOutput(dataTable, element);\n",
              "        const docLink = document.createElement('div');\n",
              "        docLink.innerHTML = docLinkHtml;\n",
              "        element.appendChild(docLink);\n",
              "      }\n",
              "    </script>\n",
              "  </div>\n",
              "\n",
              "\n",
              "<div id=\"df-7b69455b-5684-4bb3-830e-c1e6a78dd069\">\n",
              "  <button class=\"colab-df-quickchart\" onclick=\"quickchart('df-7b69455b-5684-4bb3-830e-c1e6a78dd069')\"\n",
              "            title=\"Suggest charts\"\n",
              "            style=\"display:none;\">\n",
              "\n",
              "<svg xmlns=\"http://www.w3.org/2000/svg\" height=\"24px\"viewBox=\"0 0 24 24\"\n",
              "     width=\"24px\">\n",
              "    <g>\n",
              "        <path d=\"M19 3H5c-1.1 0-2 .9-2 2v14c0 1.1.9 2 2 2h14c1.1 0 2-.9 2-2V5c0-1.1-.9-2-2-2zM9 17H7v-7h2v7zm4 0h-2V7h2v10zm4 0h-2v-4h2v4z\"/>\n",
              "    </g>\n",
              "</svg>\n",
              "  </button>\n",
              "\n",
              "<style>\n",
              "  .colab-df-quickchart {\n",
              "      --bg-color: #E8F0FE;\n",
              "      --fill-color: #1967D2;\n",
              "      --hover-bg-color: #E2EBFA;\n",
              "      --hover-fill-color: #174EA6;\n",
              "      --disabled-fill-color: #AAA;\n",
              "      --disabled-bg-color: #DDD;\n",
              "  }\n",
              "\n",
              "  [theme=dark] .colab-df-quickchart {\n",
              "      --bg-color: #3B4455;\n",
              "      --fill-color: #D2E3FC;\n",
              "      --hover-bg-color: #434B5C;\n",
              "      --hover-fill-color: #FFFFFF;\n",
              "      --disabled-bg-color: #3B4455;\n",
              "      --disabled-fill-color: #666;\n",
              "  }\n",
              "\n",
              "  .colab-df-quickchart {\n",
              "    background-color: var(--bg-color);\n",
              "    border: none;\n",
              "    border-radius: 50%;\n",
              "    cursor: pointer;\n",
              "    display: none;\n",
              "    fill: var(--fill-color);\n",
              "    height: 32px;\n",
              "    padding: 0;\n",
              "    width: 32px;\n",
              "  }\n",
              "\n",
              "  .colab-df-quickchart:hover {\n",
              "    background-color: var(--hover-bg-color);\n",
              "    box-shadow: 0 1px 2px rgba(60, 64, 67, 0.3), 0 1px 3px 1px rgba(60, 64, 67, 0.15);\n",
              "    fill: var(--button-hover-fill-color);\n",
              "  }\n",
              "\n",
              "  .colab-df-quickchart-complete:disabled,\n",
              "  .colab-df-quickchart-complete:disabled:hover {\n",
              "    background-color: var(--disabled-bg-color);\n",
              "    fill: var(--disabled-fill-color);\n",
              "    box-shadow: none;\n",
              "  }\n",
              "\n",
              "  .colab-df-spinner {\n",
              "    border: 2px solid var(--fill-color);\n",
              "    border-color: transparent;\n",
              "    border-bottom-color: var(--fill-color);\n",
              "    animation:\n",
              "      spin 1s steps(1) infinite;\n",
              "  }\n",
              "\n",
              "  @keyframes spin {\n",
              "    0% {\n",
              "      border-color: transparent;\n",
              "      border-bottom-color: var(--fill-color);\n",
              "      border-left-color: var(--fill-color);\n",
              "    }\n",
              "    20% {\n",
              "      border-color: transparent;\n",
              "      border-left-color: var(--fill-color);\n",
              "      border-top-color: var(--fill-color);\n",
              "    }\n",
              "    30% {\n",
              "      border-color: transparent;\n",
              "      border-left-color: var(--fill-color);\n",
              "      border-top-color: var(--fill-color);\n",
              "      border-right-color: var(--fill-color);\n",
              "    }\n",
              "    40% {\n",
              "      border-color: transparent;\n",
              "      border-right-color: var(--fill-color);\n",
              "      border-top-color: var(--fill-color);\n",
              "    }\n",
              "    60% {\n",
              "      border-color: transparent;\n",
              "      border-right-color: var(--fill-color);\n",
              "    }\n",
              "    80% {\n",
              "      border-color: transparent;\n",
              "      border-right-color: var(--fill-color);\n",
              "      border-bottom-color: var(--fill-color);\n",
              "    }\n",
              "    90% {\n",
              "      border-color: transparent;\n",
              "      border-bottom-color: var(--fill-color);\n",
              "    }\n",
              "  }\n",
              "</style>\n",
              "\n",
              "  <script>\n",
              "    async function quickchart(key) {\n",
              "      const quickchartButtonEl =\n",
              "        document.querySelector('#' + key + ' button');\n",
              "      quickchartButtonEl.disabled = true;  // To prevent multiple clicks.\n",
              "      quickchartButtonEl.classList.add('colab-df-spinner');\n",
              "      try {\n",
              "        const charts = await google.colab.kernel.invokeFunction(\n",
              "            'suggestCharts', [key], {});\n",
              "      } catch (error) {\n",
              "        console.error('Error during call to suggestCharts:', error);\n",
              "      }\n",
              "      quickchartButtonEl.classList.remove('colab-df-spinner');\n",
              "      quickchartButtonEl.classList.add('colab-df-quickchart-complete');\n",
              "    }\n",
              "    (() => {\n",
              "      let quickchartButtonEl =\n",
              "        document.querySelector('#df-7b69455b-5684-4bb3-830e-c1e6a78dd069 button');\n",
              "      quickchartButtonEl.style.display =\n",
              "        google.colab.kernel.accessAllowed ? 'block' : 'none';\n",
              "    })();\n",
              "  </script>\n",
              "</div>\n",
              "\n",
              "    </div>\n",
              "  </div>\n"
            ],
            "application/vnd.google.colaboratory.intrinsic+json": {
              "type": "dataframe",
              "variable_name": "df"
            }
          },
          "metadata": {},
          "execution_count": 7
        }
      ],
      "source": [
        "# 여기에 답안코드를 작성하세요.\n",
        "df.head(5)"
      ]
    },
    {
      "cell_type": "code",
      "execution_count": null,
      "metadata": {
        "tags": [],
        "colab": {
          "base_uri": "https://localhost:8080/",
          "height": 255
        },
        "id": "oMjtTLIssuJ2",
        "outputId": "c1f376a6-6be8-4665-9e06-6cd399f6359d"
      },
      "outputs": [
        {
          "output_type": "execute_result",
          "data": {
            "text/plain": [
              "     voc_trt_perd_itg_cd  voc_prod_sbt_id  voc_wjt_sorc_id  voc_type_itg_cd  \\\n",
              "9995                   _       1000811136             2123            10009   \n",
              "9996                   _       1001047799             2153            10009   \n",
              "9997                   _       1001027819              379            10009   \n",
              "9998                   _       1001027819              314            10009   \n",
              "9999                   _       1001047802             2266            10009   \n",
              "\n",
              "      voc_sttus_itg_cd voc_trt_reslt_itg_cd cust_clas_itg_cd  bprod_sbt_id  \\\n",
              "9995             10002                    _                G    1000809259   \n",
              "9996             10002                    _                I    1001046521   \n",
              "9997             10002                    _                G    1000720809   \n",
              "9998             10002                    _                I    1000720809   \n",
              "9999             10002                    _                G    1001046524   \n",
              "\n",
              "     age_itg_cd cont_sttus_itg_cd  ...  voc_dupl_tmscnt  \\\n",
              "9995         17             10001  ...                0   \n",
              "9996         35             10001  ...                0   \n",
              "9997         51             10001  ...                0   \n",
              "9998          _             10001  ...                0   \n",
              "9999         27             10001  ...                0   \n",
              "\n",
              "      oos_cause_type_itg_cd voc_trt_need_time_itg_cd  engt_cperd_type_itg_cd  \\\n",
              "9995                      _                    10001                       _   \n",
              "9996                      _                    10001                       _   \n",
              "9997                  10270                    10001                   15097   \n",
              "9998                      _                    10001                   15097   \n",
              "9999                      _                    10001                       _   \n",
              "\n",
              "      engt_tgt_div_itg_cd cont_fns_pam_date  voc_mis_pbls_yn fclt_oos_yn  \\\n",
              "9995                    _          99991231                N           _   \n",
              "9996                    _          99991231                N           _   \n",
              "9997                15244          20180903                N           N   \n",
              "9998                15244          20210412                N           _   \n",
              "9999                    _          99991231                N           _   \n",
              "\n",
              "     cust_snsry_base_conf_need_time  trm_yn  \n",
              "9995                              0       N  \n",
              "9996                              0       N  \n",
              "9997                              0       N  \n",
              "9998                              0       N  \n",
              "9999                              0       N  \n",
              "\n",
              "[5 rows x 24 columns]"
            ],
            "text/html": [
              "\n",
              "  <div id=\"df-37855abf-d953-46bd-8de5-da3139796192\" class=\"colab-df-container\">\n",
              "    <div>\n",
              "<style scoped>\n",
              "    .dataframe tbody tr th:only-of-type {\n",
              "        vertical-align: middle;\n",
              "    }\n",
              "\n",
              "    .dataframe tbody tr th {\n",
              "        vertical-align: top;\n",
              "    }\n",
              "\n",
              "    .dataframe thead th {\n",
              "        text-align: right;\n",
              "    }\n",
              "</style>\n",
              "<table border=\"1\" class=\"dataframe\">\n",
              "  <thead>\n",
              "    <tr style=\"text-align: right;\">\n",
              "      <th></th>\n",
              "      <th>voc_trt_perd_itg_cd</th>\n",
              "      <th>voc_prod_sbt_id</th>\n",
              "      <th>voc_wjt_sorc_id</th>\n",
              "      <th>voc_type_itg_cd</th>\n",
              "      <th>voc_sttus_itg_cd</th>\n",
              "      <th>voc_trt_reslt_itg_cd</th>\n",
              "      <th>cust_clas_itg_cd</th>\n",
              "      <th>bprod_sbt_id</th>\n",
              "      <th>age_itg_cd</th>\n",
              "      <th>cont_sttus_itg_cd</th>\n",
              "      <th>...</th>\n",
              "      <th>voc_dupl_tmscnt</th>\n",
              "      <th>oos_cause_type_itg_cd</th>\n",
              "      <th>voc_trt_need_time_itg_cd</th>\n",
              "      <th>engt_cperd_type_itg_cd</th>\n",
              "      <th>engt_tgt_div_itg_cd</th>\n",
              "      <th>cont_fns_pam_date</th>\n",
              "      <th>voc_mis_pbls_yn</th>\n",
              "      <th>fclt_oos_yn</th>\n",
              "      <th>cust_snsry_base_conf_need_time</th>\n",
              "      <th>trm_yn</th>\n",
              "    </tr>\n",
              "  </thead>\n",
              "  <tbody>\n",
              "    <tr>\n",
              "      <th>9995</th>\n",
              "      <td>_</td>\n",
              "      <td>1000811136</td>\n",
              "      <td>2123</td>\n",
              "      <td>10009</td>\n",
              "      <td>10002</td>\n",
              "      <td>_</td>\n",
              "      <td>G</td>\n",
              "      <td>1000809259</td>\n",
              "      <td>17</td>\n",
              "      <td>10001</td>\n",
              "      <td>...</td>\n",
              "      <td>0</td>\n",
              "      <td>_</td>\n",
              "      <td>10001</td>\n",
              "      <td>_</td>\n",
              "      <td>_</td>\n",
              "      <td>99991231</td>\n",
              "      <td>N</td>\n",
              "      <td>_</td>\n",
              "      <td>0</td>\n",
              "      <td>N</td>\n",
              "    </tr>\n",
              "    <tr>\n",
              "      <th>9996</th>\n",
              "      <td>_</td>\n",
              "      <td>1001047799</td>\n",
              "      <td>2153</td>\n",
              "      <td>10009</td>\n",
              "      <td>10002</td>\n",
              "      <td>_</td>\n",
              "      <td>I</td>\n",
              "      <td>1001046521</td>\n",
              "      <td>35</td>\n",
              "      <td>10001</td>\n",
              "      <td>...</td>\n",
              "      <td>0</td>\n",
              "      <td>_</td>\n",
              "      <td>10001</td>\n",
              "      <td>_</td>\n",
              "      <td>_</td>\n",
              "      <td>99991231</td>\n",
              "      <td>N</td>\n",
              "      <td>_</td>\n",
              "      <td>0</td>\n",
              "      <td>N</td>\n",
              "    </tr>\n",
              "    <tr>\n",
              "      <th>9997</th>\n",
              "      <td>_</td>\n",
              "      <td>1001027819</td>\n",
              "      <td>379</td>\n",
              "      <td>10009</td>\n",
              "      <td>10002</td>\n",
              "      <td>_</td>\n",
              "      <td>G</td>\n",
              "      <td>1000720809</td>\n",
              "      <td>51</td>\n",
              "      <td>10001</td>\n",
              "      <td>...</td>\n",
              "      <td>0</td>\n",
              "      <td>10270</td>\n",
              "      <td>10001</td>\n",
              "      <td>15097</td>\n",
              "      <td>15244</td>\n",
              "      <td>20180903</td>\n",
              "      <td>N</td>\n",
              "      <td>N</td>\n",
              "      <td>0</td>\n",
              "      <td>N</td>\n",
              "    </tr>\n",
              "    <tr>\n",
              "      <th>9998</th>\n",
              "      <td>_</td>\n",
              "      <td>1001027819</td>\n",
              "      <td>314</td>\n",
              "      <td>10009</td>\n",
              "      <td>10002</td>\n",
              "      <td>_</td>\n",
              "      <td>I</td>\n",
              "      <td>1000720809</td>\n",
              "      <td>_</td>\n",
              "      <td>10001</td>\n",
              "      <td>...</td>\n",
              "      <td>0</td>\n",
              "      <td>_</td>\n",
              "      <td>10001</td>\n",
              "      <td>15097</td>\n",
              "      <td>15244</td>\n",
              "      <td>20210412</td>\n",
              "      <td>N</td>\n",
              "      <td>_</td>\n",
              "      <td>0</td>\n",
              "      <td>N</td>\n",
              "    </tr>\n",
              "    <tr>\n",
              "      <th>9999</th>\n",
              "      <td>_</td>\n",
              "      <td>1001047802</td>\n",
              "      <td>2266</td>\n",
              "      <td>10009</td>\n",
              "      <td>10002</td>\n",
              "      <td>_</td>\n",
              "      <td>G</td>\n",
              "      <td>1001046524</td>\n",
              "      <td>27</td>\n",
              "      <td>10001</td>\n",
              "      <td>...</td>\n",
              "      <td>0</td>\n",
              "      <td>_</td>\n",
              "      <td>10001</td>\n",
              "      <td>_</td>\n",
              "      <td>_</td>\n",
              "      <td>99991231</td>\n",
              "      <td>N</td>\n",
              "      <td>_</td>\n",
              "      <td>0</td>\n",
              "      <td>N</td>\n",
              "    </tr>\n",
              "  </tbody>\n",
              "</table>\n",
              "<p>5 rows × 24 columns</p>\n",
              "</div>\n",
              "    <div class=\"colab-df-buttons\">\n",
              "\n",
              "  <div class=\"colab-df-container\">\n",
              "    <button class=\"colab-df-convert\" onclick=\"convertToInteractive('df-37855abf-d953-46bd-8de5-da3139796192')\"\n",
              "            title=\"Convert this dataframe to an interactive table.\"\n",
              "            style=\"display:none;\">\n",
              "\n",
              "  <svg xmlns=\"http://www.w3.org/2000/svg\" height=\"24px\" viewBox=\"0 -960 960 960\">\n",
              "    <path d=\"M120-120v-720h720v720H120Zm60-500h600v-160H180v160Zm220 220h160v-160H400v160Zm0 220h160v-160H400v160ZM180-400h160v-160H180v160Zm440 0h160v-160H620v160ZM180-180h160v-160H180v160Zm440 0h160v-160H620v160Z\"/>\n",
              "  </svg>\n",
              "    </button>\n",
              "\n",
              "  <style>\n",
              "    .colab-df-container {\n",
              "      display:flex;\n",
              "      gap: 12px;\n",
              "    }\n",
              "\n",
              "    .colab-df-convert {\n",
              "      background-color: #E8F0FE;\n",
              "      border: none;\n",
              "      border-radius: 50%;\n",
              "      cursor: pointer;\n",
              "      display: none;\n",
              "      fill: #1967D2;\n",
              "      height: 32px;\n",
              "      padding: 0 0 0 0;\n",
              "      width: 32px;\n",
              "    }\n",
              "\n",
              "    .colab-df-convert:hover {\n",
              "      background-color: #E2EBFA;\n",
              "      box-shadow: 0px 1px 2px rgba(60, 64, 67, 0.3), 0px 1px 3px 1px rgba(60, 64, 67, 0.15);\n",
              "      fill: #174EA6;\n",
              "    }\n",
              "\n",
              "    .colab-df-buttons div {\n",
              "      margin-bottom: 4px;\n",
              "    }\n",
              "\n",
              "    [theme=dark] .colab-df-convert {\n",
              "      background-color: #3B4455;\n",
              "      fill: #D2E3FC;\n",
              "    }\n",
              "\n",
              "    [theme=dark] .colab-df-convert:hover {\n",
              "      background-color: #434B5C;\n",
              "      box-shadow: 0px 1px 3px 1px rgba(0, 0, 0, 0.15);\n",
              "      filter: drop-shadow(0px 1px 2px rgba(0, 0, 0, 0.3));\n",
              "      fill: #FFFFFF;\n",
              "    }\n",
              "  </style>\n",
              "\n",
              "    <script>\n",
              "      const buttonEl =\n",
              "        document.querySelector('#df-37855abf-d953-46bd-8de5-da3139796192 button.colab-df-convert');\n",
              "      buttonEl.style.display =\n",
              "        google.colab.kernel.accessAllowed ? 'block' : 'none';\n",
              "\n",
              "      async function convertToInteractive(key) {\n",
              "        const element = document.querySelector('#df-37855abf-d953-46bd-8de5-da3139796192');\n",
              "        const dataTable =\n",
              "          await google.colab.kernel.invokeFunction('convertToInteractive',\n",
              "                                                    [key], {});\n",
              "        if (!dataTable) return;\n",
              "\n",
              "        const docLinkHtml = 'Like what you see? Visit the ' +\n",
              "          '<a target=\"_blank\" href=https://colab.research.google.com/notebooks/data_table.ipynb>data table notebook</a>'\n",
              "          + ' to learn more about interactive tables.';\n",
              "        element.innerHTML = '';\n",
              "        dataTable['output_type'] = 'display_data';\n",
              "        await google.colab.output.renderOutput(dataTable, element);\n",
              "        const docLink = document.createElement('div');\n",
              "        docLink.innerHTML = docLinkHtml;\n",
              "        element.appendChild(docLink);\n",
              "      }\n",
              "    </script>\n",
              "  </div>\n",
              "\n",
              "\n",
              "<div id=\"df-ef144a8c-afa3-4211-8617-fcbbfdc4f4d0\">\n",
              "  <button class=\"colab-df-quickchart\" onclick=\"quickchart('df-ef144a8c-afa3-4211-8617-fcbbfdc4f4d0')\"\n",
              "            title=\"Suggest charts\"\n",
              "            style=\"display:none;\">\n",
              "\n",
              "<svg xmlns=\"http://www.w3.org/2000/svg\" height=\"24px\"viewBox=\"0 0 24 24\"\n",
              "     width=\"24px\">\n",
              "    <g>\n",
              "        <path d=\"M19 3H5c-1.1 0-2 .9-2 2v14c0 1.1.9 2 2 2h14c1.1 0 2-.9 2-2V5c0-1.1-.9-2-2-2zM9 17H7v-7h2v7zm4 0h-2V7h2v10zm4 0h-2v-4h2v4z\"/>\n",
              "    </g>\n",
              "</svg>\n",
              "  </button>\n",
              "\n",
              "<style>\n",
              "  .colab-df-quickchart {\n",
              "      --bg-color: #E8F0FE;\n",
              "      --fill-color: #1967D2;\n",
              "      --hover-bg-color: #E2EBFA;\n",
              "      --hover-fill-color: #174EA6;\n",
              "      --disabled-fill-color: #AAA;\n",
              "      --disabled-bg-color: #DDD;\n",
              "  }\n",
              "\n",
              "  [theme=dark] .colab-df-quickchart {\n",
              "      --bg-color: #3B4455;\n",
              "      --fill-color: #D2E3FC;\n",
              "      --hover-bg-color: #434B5C;\n",
              "      --hover-fill-color: #FFFFFF;\n",
              "      --disabled-bg-color: #3B4455;\n",
              "      --disabled-fill-color: #666;\n",
              "  }\n",
              "\n",
              "  .colab-df-quickchart {\n",
              "    background-color: var(--bg-color);\n",
              "    border: none;\n",
              "    border-radius: 50%;\n",
              "    cursor: pointer;\n",
              "    display: none;\n",
              "    fill: var(--fill-color);\n",
              "    height: 32px;\n",
              "    padding: 0;\n",
              "    width: 32px;\n",
              "  }\n",
              "\n",
              "  .colab-df-quickchart:hover {\n",
              "    background-color: var(--hover-bg-color);\n",
              "    box-shadow: 0 1px 2px rgba(60, 64, 67, 0.3), 0 1px 3px 1px rgba(60, 64, 67, 0.15);\n",
              "    fill: var(--button-hover-fill-color);\n",
              "  }\n",
              "\n",
              "  .colab-df-quickchart-complete:disabled,\n",
              "  .colab-df-quickchart-complete:disabled:hover {\n",
              "    background-color: var(--disabled-bg-color);\n",
              "    fill: var(--disabled-fill-color);\n",
              "    box-shadow: none;\n",
              "  }\n",
              "\n",
              "  .colab-df-spinner {\n",
              "    border: 2px solid var(--fill-color);\n",
              "    border-color: transparent;\n",
              "    border-bottom-color: var(--fill-color);\n",
              "    animation:\n",
              "      spin 1s steps(1) infinite;\n",
              "  }\n",
              "\n",
              "  @keyframes spin {\n",
              "    0% {\n",
              "      border-color: transparent;\n",
              "      border-bottom-color: var(--fill-color);\n",
              "      border-left-color: var(--fill-color);\n",
              "    }\n",
              "    20% {\n",
              "      border-color: transparent;\n",
              "      border-left-color: var(--fill-color);\n",
              "      border-top-color: var(--fill-color);\n",
              "    }\n",
              "    30% {\n",
              "      border-color: transparent;\n",
              "      border-left-color: var(--fill-color);\n",
              "      border-top-color: var(--fill-color);\n",
              "      border-right-color: var(--fill-color);\n",
              "    }\n",
              "    40% {\n",
              "      border-color: transparent;\n",
              "      border-right-color: var(--fill-color);\n",
              "      border-top-color: var(--fill-color);\n",
              "    }\n",
              "    60% {\n",
              "      border-color: transparent;\n",
              "      border-right-color: var(--fill-color);\n",
              "    }\n",
              "    80% {\n",
              "      border-color: transparent;\n",
              "      border-right-color: var(--fill-color);\n",
              "      border-bottom-color: var(--fill-color);\n",
              "    }\n",
              "    90% {\n",
              "      border-color: transparent;\n",
              "      border-bottom-color: var(--fill-color);\n",
              "    }\n",
              "  }\n",
              "</style>\n",
              "\n",
              "  <script>\n",
              "    async function quickchart(key) {\n",
              "      const quickchartButtonEl =\n",
              "        document.querySelector('#' + key + ' button');\n",
              "      quickchartButtonEl.disabled = true;  // To prevent multiple clicks.\n",
              "      quickchartButtonEl.classList.add('colab-df-spinner');\n",
              "      try {\n",
              "        const charts = await google.colab.kernel.invokeFunction(\n",
              "            'suggestCharts', [key], {});\n",
              "      } catch (error) {\n",
              "        console.error('Error during call to suggestCharts:', error);\n",
              "      }\n",
              "      quickchartButtonEl.classList.remove('colab-df-spinner');\n",
              "      quickchartButtonEl.classList.add('colab-df-quickchart-complete');\n",
              "    }\n",
              "    (() => {\n",
              "      let quickchartButtonEl =\n",
              "        document.querySelector('#df-ef144a8c-afa3-4211-8617-fcbbfdc4f4d0 button');\n",
              "      quickchartButtonEl.style.display =\n",
              "        google.colab.kernel.accessAllowed ? 'block' : 'none';\n",
              "    })();\n",
              "  </script>\n",
              "</div>\n",
              "\n",
              "    </div>\n",
              "  </div>\n"
            ],
            "application/vnd.google.colaboratory.intrinsic+json": {
              "type": "dataframe"
            }
          },
          "metadata": {},
          "execution_count": 8
        }
      ],
      "source": [
        "# 여기에 답안코드를 작성하세요.\n",
        "df.tail(5)\n"
      ]
    },
    {
      "cell_type": "markdown",
      "metadata": {
        "id": "YXiMtJRpsuJ2"
      },
      "source": [
        "<br>\n",
        "<font color=blue>3-2. 데이터프레임 정보(컬럼정보, Null 여부, 타입) 출력하세요</font>"
      ]
    },
    {
      "cell_type": "code",
      "execution_count": null,
      "metadata": {
        "tags": [],
        "colab": {
          "base_uri": "https://localhost:8080/"
        },
        "id": "5usYlj1hsuJ2",
        "outputId": "1f62a16a-453e-4c14-b1c3-6ab81d8fd02f"
      },
      "outputs": [
        {
          "output_type": "stream",
          "name": "stdout",
          "text": [
            "<class 'pandas.core.frame.DataFrame'>\n",
            "RangeIndex: 10000 entries, 0 to 9999\n",
            "Data columns (total 24 columns):\n",
            " #   Column                          Non-Null Count  Dtype \n",
            "---  ------                          --------------  ----- \n",
            " 0   voc_trt_perd_itg_cd             10000 non-null  object\n",
            " 1   voc_prod_sbt_id                 10000 non-null  int64 \n",
            " 2   voc_wjt_sorc_id                 10000 non-null  int64 \n",
            " 3   voc_type_itg_cd                 10000 non-null  int64 \n",
            " 4   voc_sttus_itg_cd                10000 non-null  int64 \n",
            " 5   voc_trt_reslt_itg_cd            10000 non-null  object\n",
            " 6   cust_clas_itg_cd                10000 non-null  object\n",
            " 7   bprod_sbt_id                    10000 non-null  int64 \n",
            " 8   age_itg_cd                      10000 non-null  object\n",
            " 9   cont_sttus_itg_cd               10000 non-null  object\n",
            " 10  new_date                        10000 non-null  int64 \n",
            " 11  opn_nfl_chg_date                10000 non-null  int64 \n",
            " 12  cust_dtl_ctg_itg_cd             10000 non-null  object\n",
            " 13  voc_trt_degr_div_itg_cd         10000 non-null  int64 \n",
            " 14  voc_dupl_tmscnt                 10000 non-null  int64 \n",
            " 15  oos_cause_type_itg_cd           10000 non-null  object\n",
            " 16  voc_trt_need_time_itg_cd        10000 non-null  int64 \n",
            " 17  engt_cperd_type_itg_cd          10000 non-null  object\n",
            " 18  engt_tgt_div_itg_cd             10000 non-null  object\n",
            " 19  cont_fns_pam_date               10000 non-null  int64 \n",
            " 20  voc_mis_pbls_yn                 10000 non-null  object\n",
            " 21  fclt_oos_yn                     10000 non-null  object\n",
            " 22  cust_snsry_base_conf_need_time  10000 non-null  int64 \n",
            " 23  trm_yn                          10000 non-null  object\n",
            "dtypes: int64(12), object(12)\n",
            "memory usage: 1.8+ MB\n"
          ]
        }
      ],
      "source": [
        "# 여기에 답안코드를 작성하세요.\n",
        "df.info()\n"
      ]
    },
    {
      "cell_type": "markdown",
      "metadata": {
        "id": "2eb_83z0suJ2"
      },
      "source": [
        "<br>\n",
        "<font color=blue>3-3. 데이터프레임 인덱스를 확인하세요</font>"
      ]
    },
    {
      "cell_type": "code",
      "execution_count": null,
      "metadata": {
        "tags": [],
        "colab": {
          "base_uri": "https://localhost:8080/"
        },
        "id": "vrrd6ni-suJ2",
        "outputId": "ba43c431-843d-4333-a1c4-1fa2fedd2f4a"
      },
      "outputs": [
        {
          "output_type": "execute_result",
          "data": {
            "text/plain": [
              "RangeIndex(start=0, stop=10000, step=1)"
            ]
          },
          "metadata": {},
          "execution_count": 10
        }
      ],
      "source": [
        "# 여기에 답안코드를 작성하세요.\n",
        "df.index\n"
      ]
    },
    {
      "cell_type": "markdown",
      "metadata": {
        "id": "JHBxcM4FsuJ3"
      },
      "source": [
        "<br>\n",
        "<font color=blue>3-4. 데이터프레임 컬럼을 확인하세요</font>"
      ]
    },
    {
      "cell_type": "code",
      "execution_count": null,
      "metadata": {
        "tags": [],
        "colab": {
          "base_uri": "https://localhost:8080/"
        },
        "id": "uyIAUrTnsuJ3",
        "outputId": "4a98dad2-75ad-4a06-cc28-8e45edc20647"
      },
      "outputs": [
        {
          "output_type": "execute_result",
          "data": {
            "text/plain": [
              "Index(['voc_trt_perd_itg_cd', 'voc_prod_sbt_id', 'voc_wjt_sorc_id',\n",
              "       'voc_type_itg_cd', 'voc_sttus_itg_cd', 'voc_trt_reslt_itg_cd',\n",
              "       'cust_clas_itg_cd', 'bprod_sbt_id', 'age_itg_cd', 'cont_sttus_itg_cd',\n",
              "       'new_date', 'opn_nfl_chg_date', 'cust_dtl_ctg_itg_cd',\n",
              "       'voc_trt_degr_div_itg_cd', 'voc_dupl_tmscnt', 'oos_cause_type_itg_cd',\n",
              "       'voc_trt_need_time_itg_cd', 'engt_cperd_type_itg_cd',\n",
              "       'engt_tgt_div_itg_cd', 'cont_fns_pam_date', 'voc_mis_pbls_yn',\n",
              "       'fclt_oos_yn', 'cust_snsry_base_conf_need_time', 'trm_yn'],\n",
              "      dtype='object')"
            ]
          },
          "metadata": {},
          "execution_count": 11
        }
      ],
      "source": [
        "# 여기에 답안코드를 작성하세요.\n",
        "df.columns\n"
      ]
    },
    {
      "cell_type": "markdown",
      "metadata": {
        "id": "8wE3A3CTsuJ5"
      },
      "source": [
        "<br>\n",
        "<font color=blue>3-5. 데이터프레임 값(value)을 확인하세요</font>"
      ]
    },
    {
      "cell_type": "code",
      "execution_count": null,
      "metadata": {
        "tags": [],
        "colab": {
          "base_uri": "https://localhost:8080/"
        },
        "id": "7dXGsHCVsuJ5",
        "outputId": "d40ba613-5918-48bb-87cd-a3b9f4bc1ada"
      },
      "outputs": [
        {
          "output_type": "execute_result",
          "data": {
            "text/plain": [
              "voc_trt_perd_itg_cd  voc_prod_sbt_id  voc_wjt_sorc_id  voc_type_itg_cd  voc_sttus_itg_cd  voc_trt_reslt_itg_cd  cust_clas_itg_cd  bprod_sbt_id  age_itg_cd  cont_sttus_itg_cd  new_date  opn_nfl_chg_date  cust_dtl_ctg_itg_cd  voc_trt_degr_div_itg_cd  voc_dupl_tmscnt  oos_cause_type_itg_cd  voc_trt_need_time_itg_cd  engt_cperd_type_itg_cd  engt_tgt_div_itg_cd  cont_fns_pam_date  voc_mis_pbls_yn  fclt_oos_yn  cust_snsry_base_conf_need_time  trm_yn\n",
              "_                    1000787867       2153             10009            10002             _                     _                 -998          _           _                  10101     10101             _                    20001                    0                _                      10001                     _                       _                    99991231           N                _            0                               N         139\n",
              "                     1001027747       2153             10009            10002             _                     _                 -998          _           _                  10101     10101             _                    20001                    0                _                      10001                     _                       _                    99991231           N                _            0                               N          89\n",
              "10000                1000787867       2153             10009            10002             _                     _                 -998          _           _                  10101     10101             _                    20001                    0                _                      10001                     _                       _                    99991231           N                _            0                               N          68\n",
              "                     1001027747       2153             10009            10002             _                     _                 -998          _           _                  10101     10101             _                    20001                    0                _                      10001                     _                       _                    99991231           N                _            0                               N          56\n",
              "_                    1001044841       2153             10009            10002             _                     _                 -998          _           _                  10101     10101             _                    20001                    0                _                      10001                     _                       _                    99991231           N                _            0                               N          33\n",
              "                                                                                                                                                                                                                                                                                                                                                                                                                                                                  ... \n",
              "10000                1001044841       294              10009            10002             _                     G                  1001044103   32          10001              20190228  20190228          10002                20001                    0                _                      10001                     15097                   15244                20220227           N                _            0                               N           1\n",
              "                                      289              10009            10002             _                     L                  1001044103   37          10001              20190422  20190422          10003                20001                    0                _                      10001                     15097                   15244                20220421           N                _            0                               N           1\n",
              "                                                                                                                                                28          10001              20200409  20200409          10003                20001                    0                _                      10001                     15097                   15244                20230408           N                _            0                               N           1\n",
              "                                                                                                                I                  1001044103   62          10001              20200410  20200410          10003                20001                    0                _                      10001                     15097                   15244                20210409           N                _            0                               N           1\n",
              "_                    1001079423       2075             10009            10002             _                     _                 -998          _           _                  10101     10101             _                    20001                    0                _                      10001                     _                       _                    99991231           N                _            0                               N           1\n",
              "Length: 9220, dtype: int64"
            ]
          },
          "metadata": {},
          "execution_count": 12
        }
      ],
      "source": [
        "# 여기에 답안코드를 작성하세요.\n",
        "df.value_counts()\n"
      ]
    },
    {
      "cell_type": "markdown",
      "metadata": {
        "id": "zLN2fSlesuJ5"
      },
      "source": [
        "<br>\n",
        "<font color=blue>3-6. 데이터프레임의 계산 가능한 값들에 대한 통계치를 확인하세요</font>"
      ]
    },
    {
      "cell_type": "code",
      "execution_count": null,
      "metadata": {
        "tags": [],
        "colab": {
          "base_uri": "https://localhost:8080/",
          "height": 320
        },
        "id": "1e874EU-suJ5",
        "outputId": "6ce75eb5-57ac-4e6e-8b55-28b0a274cb6d"
      },
      "outputs": [
        {
          "output_type": "execute_result",
          "data": {
            "text/plain": [
              "       voc_prod_sbt_id  voc_wjt_sorc_id  voc_type_itg_cd  voc_sttus_itg_cd  \\\n",
              "count     1.000000e+04      10000.00000      10000.00000      10000.000000   \n",
              "mean      9.907267e+08       1578.29170      10008.52360      10002.043400   \n",
              "std       1.005780e+08       1078.63717          1.57927          0.314843   \n",
              "min      -9.980000e+02        126.00000      10003.00000      10002.000000   \n",
              "25%       1.000782e+09        360.00000      10009.00000      10002.000000   \n",
              "50%       1.001028e+09       2056.00000      10009.00000      10002.000000   \n",
              "75%       1.001036e+09       2153.00000      10009.00000      10002.000000   \n",
              "max       1.001079e+09       3856.00000      10017.00000      10005.000000   \n",
              "\n",
              "       bprod_sbt_id      new_date  opn_nfl_chg_date  voc_trt_degr_div_itg_cd  \\\n",
              "count  1.000000e+04  1.000000e+04      1.000000e+04             10000.000000   \n",
              "mean   8.838173e+08  1.744283e+07      1.744505e+07             20001.074200   \n",
              "std    3.214229e+08  6.849207e+06      6.850077e+06                 0.262109   \n",
              "min   -9.980000e+02  1.010100e+04      1.010100e+04             20001.000000   \n",
              "25%    1.000003e+09  2.008053e+07      2.008123e+07             20001.000000   \n",
              "50%    1.000749e+09  2.014121e+07      2.015031e+07             20001.000000   \n",
              "75%    1.001044e+09  2.018010e+07      2.018032e+07             20001.000000   \n",
              "max    1.001078e+09  2.020041e+07      2.020041e+07             20002.000000   \n",
              "\n",
              "       voc_dupl_tmscnt  voc_trt_need_time_itg_cd  cont_fns_pam_date  \\\n",
              "count     10000.000000              10000.000000       1.000000e+04   \n",
              "mean          0.008800              10002.656800       7.004469e+07   \n",
              "std           0.103555                  6.576864       3.863802e+07   \n",
              "min           0.000000              10001.000000       2.001063e+07   \n",
              "25%           0.000000              10001.000000       2.021102e+07   \n",
              "50%           0.000000              10001.000000       9.999123e+07   \n",
              "75%           0.000000              10001.000000       9.999123e+07   \n",
              "max           3.000000              10038.000000       9.999123e+07   \n",
              "\n",
              "       cust_snsry_base_conf_need_time  \n",
              "count                     10000.00000  \n",
              "mean                        193.88010  \n",
              "std                        6970.03853  \n",
              "min                           0.00000  \n",
              "25%                           0.00000  \n",
              "50%                           0.00000  \n",
              "75%                           0.00000  \n",
              "max                      367991.00000  "
            ],
            "text/html": [
              "\n",
              "  <div id=\"df-94f33181-2678-455c-89cb-9c352072de41\" class=\"colab-df-container\">\n",
              "    <div>\n",
              "<style scoped>\n",
              "    .dataframe tbody tr th:only-of-type {\n",
              "        vertical-align: middle;\n",
              "    }\n",
              "\n",
              "    .dataframe tbody tr th {\n",
              "        vertical-align: top;\n",
              "    }\n",
              "\n",
              "    .dataframe thead th {\n",
              "        text-align: right;\n",
              "    }\n",
              "</style>\n",
              "<table border=\"1\" class=\"dataframe\">\n",
              "  <thead>\n",
              "    <tr style=\"text-align: right;\">\n",
              "      <th></th>\n",
              "      <th>voc_prod_sbt_id</th>\n",
              "      <th>voc_wjt_sorc_id</th>\n",
              "      <th>voc_type_itg_cd</th>\n",
              "      <th>voc_sttus_itg_cd</th>\n",
              "      <th>bprod_sbt_id</th>\n",
              "      <th>new_date</th>\n",
              "      <th>opn_nfl_chg_date</th>\n",
              "      <th>voc_trt_degr_div_itg_cd</th>\n",
              "      <th>voc_dupl_tmscnt</th>\n",
              "      <th>voc_trt_need_time_itg_cd</th>\n",
              "      <th>cont_fns_pam_date</th>\n",
              "      <th>cust_snsry_base_conf_need_time</th>\n",
              "    </tr>\n",
              "  </thead>\n",
              "  <tbody>\n",
              "    <tr>\n",
              "      <th>count</th>\n",
              "      <td>1.000000e+04</td>\n",
              "      <td>10000.00000</td>\n",
              "      <td>10000.00000</td>\n",
              "      <td>10000.000000</td>\n",
              "      <td>1.000000e+04</td>\n",
              "      <td>1.000000e+04</td>\n",
              "      <td>1.000000e+04</td>\n",
              "      <td>10000.000000</td>\n",
              "      <td>10000.000000</td>\n",
              "      <td>10000.000000</td>\n",
              "      <td>1.000000e+04</td>\n",
              "      <td>10000.00000</td>\n",
              "    </tr>\n",
              "    <tr>\n",
              "      <th>mean</th>\n",
              "      <td>9.907267e+08</td>\n",
              "      <td>1578.29170</td>\n",
              "      <td>10008.52360</td>\n",
              "      <td>10002.043400</td>\n",
              "      <td>8.838173e+08</td>\n",
              "      <td>1.744283e+07</td>\n",
              "      <td>1.744505e+07</td>\n",
              "      <td>20001.074200</td>\n",
              "      <td>0.008800</td>\n",
              "      <td>10002.656800</td>\n",
              "      <td>7.004469e+07</td>\n",
              "      <td>193.88010</td>\n",
              "    </tr>\n",
              "    <tr>\n",
              "      <th>std</th>\n",
              "      <td>1.005780e+08</td>\n",
              "      <td>1078.63717</td>\n",
              "      <td>1.57927</td>\n",
              "      <td>0.314843</td>\n",
              "      <td>3.214229e+08</td>\n",
              "      <td>6.849207e+06</td>\n",
              "      <td>6.850077e+06</td>\n",
              "      <td>0.262109</td>\n",
              "      <td>0.103555</td>\n",
              "      <td>6.576864</td>\n",
              "      <td>3.863802e+07</td>\n",
              "      <td>6970.03853</td>\n",
              "    </tr>\n",
              "    <tr>\n",
              "      <th>min</th>\n",
              "      <td>-9.980000e+02</td>\n",
              "      <td>126.00000</td>\n",
              "      <td>10003.00000</td>\n",
              "      <td>10002.000000</td>\n",
              "      <td>-9.980000e+02</td>\n",
              "      <td>1.010100e+04</td>\n",
              "      <td>1.010100e+04</td>\n",
              "      <td>20001.000000</td>\n",
              "      <td>0.000000</td>\n",
              "      <td>10001.000000</td>\n",
              "      <td>2.001063e+07</td>\n",
              "      <td>0.00000</td>\n",
              "    </tr>\n",
              "    <tr>\n",
              "      <th>25%</th>\n",
              "      <td>1.000782e+09</td>\n",
              "      <td>360.00000</td>\n",
              "      <td>10009.00000</td>\n",
              "      <td>10002.000000</td>\n",
              "      <td>1.000003e+09</td>\n",
              "      <td>2.008053e+07</td>\n",
              "      <td>2.008123e+07</td>\n",
              "      <td>20001.000000</td>\n",
              "      <td>0.000000</td>\n",
              "      <td>10001.000000</td>\n",
              "      <td>2.021102e+07</td>\n",
              "      <td>0.00000</td>\n",
              "    </tr>\n",
              "    <tr>\n",
              "      <th>50%</th>\n",
              "      <td>1.001028e+09</td>\n",
              "      <td>2056.00000</td>\n",
              "      <td>10009.00000</td>\n",
              "      <td>10002.000000</td>\n",
              "      <td>1.000749e+09</td>\n",
              "      <td>2.014121e+07</td>\n",
              "      <td>2.015031e+07</td>\n",
              "      <td>20001.000000</td>\n",
              "      <td>0.000000</td>\n",
              "      <td>10001.000000</td>\n",
              "      <td>9.999123e+07</td>\n",
              "      <td>0.00000</td>\n",
              "    </tr>\n",
              "    <tr>\n",
              "      <th>75%</th>\n",
              "      <td>1.001036e+09</td>\n",
              "      <td>2153.00000</td>\n",
              "      <td>10009.00000</td>\n",
              "      <td>10002.000000</td>\n",
              "      <td>1.001044e+09</td>\n",
              "      <td>2.018010e+07</td>\n",
              "      <td>2.018032e+07</td>\n",
              "      <td>20001.000000</td>\n",
              "      <td>0.000000</td>\n",
              "      <td>10001.000000</td>\n",
              "      <td>9.999123e+07</td>\n",
              "      <td>0.00000</td>\n",
              "    </tr>\n",
              "    <tr>\n",
              "      <th>max</th>\n",
              "      <td>1.001079e+09</td>\n",
              "      <td>3856.00000</td>\n",
              "      <td>10017.00000</td>\n",
              "      <td>10005.000000</td>\n",
              "      <td>1.001078e+09</td>\n",
              "      <td>2.020041e+07</td>\n",
              "      <td>2.020041e+07</td>\n",
              "      <td>20002.000000</td>\n",
              "      <td>3.000000</td>\n",
              "      <td>10038.000000</td>\n",
              "      <td>9.999123e+07</td>\n",
              "      <td>367991.00000</td>\n",
              "    </tr>\n",
              "  </tbody>\n",
              "</table>\n",
              "</div>\n",
              "    <div class=\"colab-df-buttons\">\n",
              "\n",
              "  <div class=\"colab-df-container\">\n",
              "    <button class=\"colab-df-convert\" onclick=\"convertToInteractive('df-94f33181-2678-455c-89cb-9c352072de41')\"\n",
              "            title=\"Convert this dataframe to an interactive table.\"\n",
              "            style=\"display:none;\">\n",
              "\n",
              "  <svg xmlns=\"http://www.w3.org/2000/svg\" height=\"24px\" viewBox=\"0 -960 960 960\">\n",
              "    <path d=\"M120-120v-720h720v720H120Zm60-500h600v-160H180v160Zm220 220h160v-160H400v160Zm0 220h160v-160H400v160ZM180-400h160v-160H180v160Zm440 0h160v-160H620v160ZM180-180h160v-160H180v160Zm440 0h160v-160H620v160Z\"/>\n",
              "  </svg>\n",
              "    </button>\n",
              "\n",
              "  <style>\n",
              "    .colab-df-container {\n",
              "      display:flex;\n",
              "      gap: 12px;\n",
              "    }\n",
              "\n",
              "    .colab-df-convert {\n",
              "      background-color: #E8F0FE;\n",
              "      border: none;\n",
              "      border-radius: 50%;\n",
              "      cursor: pointer;\n",
              "      display: none;\n",
              "      fill: #1967D2;\n",
              "      height: 32px;\n",
              "      padding: 0 0 0 0;\n",
              "      width: 32px;\n",
              "    }\n",
              "\n",
              "    .colab-df-convert:hover {\n",
              "      background-color: #E2EBFA;\n",
              "      box-shadow: 0px 1px 2px rgba(60, 64, 67, 0.3), 0px 1px 3px 1px rgba(60, 64, 67, 0.15);\n",
              "      fill: #174EA6;\n",
              "    }\n",
              "\n",
              "    .colab-df-buttons div {\n",
              "      margin-bottom: 4px;\n",
              "    }\n",
              "\n",
              "    [theme=dark] .colab-df-convert {\n",
              "      background-color: #3B4455;\n",
              "      fill: #D2E3FC;\n",
              "    }\n",
              "\n",
              "    [theme=dark] .colab-df-convert:hover {\n",
              "      background-color: #434B5C;\n",
              "      box-shadow: 0px 1px 3px 1px rgba(0, 0, 0, 0.15);\n",
              "      filter: drop-shadow(0px 1px 2px rgba(0, 0, 0, 0.3));\n",
              "      fill: #FFFFFF;\n",
              "    }\n",
              "  </style>\n",
              "\n",
              "    <script>\n",
              "      const buttonEl =\n",
              "        document.querySelector('#df-94f33181-2678-455c-89cb-9c352072de41 button.colab-df-convert');\n",
              "      buttonEl.style.display =\n",
              "        google.colab.kernel.accessAllowed ? 'block' : 'none';\n",
              "\n",
              "      async function convertToInteractive(key) {\n",
              "        const element = document.querySelector('#df-94f33181-2678-455c-89cb-9c352072de41');\n",
              "        const dataTable =\n",
              "          await google.colab.kernel.invokeFunction('convertToInteractive',\n",
              "                                                    [key], {});\n",
              "        if (!dataTable) return;\n",
              "\n",
              "        const docLinkHtml = 'Like what you see? Visit the ' +\n",
              "          '<a target=\"_blank\" href=https://colab.research.google.com/notebooks/data_table.ipynb>data table notebook</a>'\n",
              "          + ' to learn more about interactive tables.';\n",
              "        element.innerHTML = '';\n",
              "        dataTable['output_type'] = 'display_data';\n",
              "        await google.colab.output.renderOutput(dataTable, element);\n",
              "        const docLink = document.createElement('div');\n",
              "        docLink.innerHTML = docLinkHtml;\n",
              "        element.appendChild(docLink);\n",
              "      }\n",
              "    </script>\n",
              "  </div>\n",
              "\n",
              "\n",
              "<div id=\"df-62e45b1c-c97b-444a-8318-7256509352d6\">\n",
              "  <button class=\"colab-df-quickchart\" onclick=\"quickchart('df-62e45b1c-c97b-444a-8318-7256509352d6')\"\n",
              "            title=\"Suggest charts\"\n",
              "            style=\"display:none;\">\n",
              "\n",
              "<svg xmlns=\"http://www.w3.org/2000/svg\" height=\"24px\"viewBox=\"0 0 24 24\"\n",
              "     width=\"24px\">\n",
              "    <g>\n",
              "        <path d=\"M19 3H5c-1.1 0-2 .9-2 2v14c0 1.1.9 2 2 2h14c1.1 0 2-.9 2-2V5c0-1.1-.9-2-2-2zM9 17H7v-7h2v7zm4 0h-2V7h2v10zm4 0h-2v-4h2v4z\"/>\n",
              "    </g>\n",
              "</svg>\n",
              "  </button>\n",
              "\n",
              "<style>\n",
              "  .colab-df-quickchart {\n",
              "      --bg-color: #E8F0FE;\n",
              "      --fill-color: #1967D2;\n",
              "      --hover-bg-color: #E2EBFA;\n",
              "      --hover-fill-color: #174EA6;\n",
              "      --disabled-fill-color: #AAA;\n",
              "      --disabled-bg-color: #DDD;\n",
              "  }\n",
              "\n",
              "  [theme=dark] .colab-df-quickchart {\n",
              "      --bg-color: #3B4455;\n",
              "      --fill-color: #D2E3FC;\n",
              "      --hover-bg-color: #434B5C;\n",
              "      --hover-fill-color: #FFFFFF;\n",
              "      --disabled-bg-color: #3B4455;\n",
              "      --disabled-fill-color: #666;\n",
              "  }\n",
              "\n",
              "  .colab-df-quickchart {\n",
              "    background-color: var(--bg-color);\n",
              "    border: none;\n",
              "    border-radius: 50%;\n",
              "    cursor: pointer;\n",
              "    display: none;\n",
              "    fill: var(--fill-color);\n",
              "    height: 32px;\n",
              "    padding: 0;\n",
              "    width: 32px;\n",
              "  }\n",
              "\n",
              "  .colab-df-quickchart:hover {\n",
              "    background-color: var(--hover-bg-color);\n",
              "    box-shadow: 0 1px 2px rgba(60, 64, 67, 0.3), 0 1px 3px 1px rgba(60, 64, 67, 0.15);\n",
              "    fill: var(--button-hover-fill-color);\n",
              "  }\n",
              "\n",
              "  .colab-df-quickchart-complete:disabled,\n",
              "  .colab-df-quickchart-complete:disabled:hover {\n",
              "    background-color: var(--disabled-bg-color);\n",
              "    fill: var(--disabled-fill-color);\n",
              "    box-shadow: none;\n",
              "  }\n",
              "\n",
              "  .colab-df-spinner {\n",
              "    border: 2px solid var(--fill-color);\n",
              "    border-color: transparent;\n",
              "    border-bottom-color: var(--fill-color);\n",
              "    animation:\n",
              "      spin 1s steps(1) infinite;\n",
              "  }\n",
              "\n",
              "  @keyframes spin {\n",
              "    0% {\n",
              "      border-color: transparent;\n",
              "      border-bottom-color: var(--fill-color);\n",
              "      border-left-color: var(--fill-color);\n",
              "    }\n",
              "    20% {\n",
              "      border-color: transparent;\n",
              "      border-left-color: var(--fill-color);\n",
              "      border-top-color: var(--fill-color);\n",
              "    }\n",
              "    30% {\n",
              "      border-color: transparent;\n",
              "      border-left-color: var(--fill-color);\n",
              "      border-top-color: var(--fill-color);\n",
              "      border-right-color: var(--fill-color);\n",
              "    }\n",
              "    40% {\n",
              "      border-color: transparent;\n",
              "      border-right-color: var(--fill-color);\n",
              "      border-top-color: var(--fill-color);\n",
              "    }\n",
              "    60% {\n",
              "      border-color: transparent;\n",
              "      border-right-color: var(--fill-color);\n",
              "    }\n",
              "    80% {\n",
              "      border-color: transparent;\n",
              "      border-right-color: var(--fill-color);\n",
              "      border-bottom-color: var(--fill-color);\n",
              "    }\n",
              "    90% {\n",
              "      border-color: transparent;\n",
              "      border-bottom-color: var(--fill-color);\n",
              "    }\n",
              "  }\n",
              "</style>\n",
              "\n",
              "  <script>\n",
              "    async function quickchart(key) {\n",
              "      const quickchartButtonEl =\n",
              "        document.querySelector('#' + key + ' button');\n",
              "      quickchartButtonEl.disabled = true;  // To prevent multiple clicks.\n",
              "      quickchartButtonEl.classList.add('colab-df-spinner');\n",
              "      try {\n",
              "        const charts = await google.colab.kernel.invokeFunction(\n",
              "            'suggestCharts', [key], {});\n",
              "      } catch (error) {\n",
              "        console.error('Error during call to suggestCharts:', error);\n",
              "      }\n",
              "      quickchartButtonEl.classList.remove('colab-df-spinner');\n",
              "      quickchartButtonEl.classList.add('colab-df-quickchart-complete');\n",
              "    }\n",
              "    (() => {\n",
              "      let quickchartButtonEl =\n",
              "        document.querySelector('#df-62e45b1c-c97b-444a-8318-7256509352d6 button');\n",
              "      quickchartButtonEl.style.display =\n",
              "        google.colab.kernel.accessAllowed ? 'block' : 'none';\n",
              "    })();\n",
              "  </script>\n",
              "</div>\n",
              "\n",
              "    </div>\n",
              "  </div>\n"
            ],
            "application/vnd.google.colaboratory.intrinsic+json": {
              "type": "dataframe",
              "summary": "{\n  \"name\": \"df\",\n  \"rows\": 8,\n  \"fields\": [\n    {\n      \"column\": \"voc_prod_sbt_id\",\n      \"properties\": {\n        \"dtype\": \"number\",\n        \"std\": 500617737.4024175,\n        \"min\": -998.0,\n        \"max\": 1001079425.0,\n        \"num_unique_values\": 8,\n        \"samples\": [\n          990726671.5935,\n          1001027747.0,\n          10000.0\n        ],\n        \"semantic_type\": \"\",\n        \"description\": \"\"\n      }\n    },\n    {\n      \"column\": \"voc_wjt_sorc_id\",\n      \"properties\": {\n        \"dtype\": \"number\",\n        \"std\": 3191.712235624527,\n        \"min\": 126.0,\n        \"max\": 10000.0,\n        \"num_unique_values\": 8,\n        \"samples\": [\n          1578.2917,\n          2056.0,\n          10000.0\n        ],\n        \"semantic_type\": \"\",\n        \"description\": \"\"\n      }\n    },\n    {\n      \"column\": \"voc_type_itg_cd\",\n      \"properties\": {\n        \"dtype\": \"number\",\n        \"std\": 3537.7834128922154,\n        \"min\": 1.5792695935922163,\n        \"max\": 10017.0,\n        \"num_unique_values\": 6,\n        \"samples\": [\n          10000.0,\n          10008.5236,\n          10017.0\n        ],\n        \"semantic_type\": \"\",\n        \"description\": \"\"\n      }\n    },\n    {\n      \"column\": \"voc_sttus_itg_cd\",\n      \"properties\": {\n        \"dtype\": \"number\",\n        \"std\": 3536.1826579164012,\n        \"min\": 0.3148433779441192,\n        \"max\": 10005.0,\n        \"num_unique_values\": 5,\n        \"samples\": [\n          10002.0434,\n          10005.0,\n          0.3148433779441192\n        ],\n        \"semantic_type\": \"\",\n        \"description\": \"\"\n      }\n    },\n    {\n      \"column\": \"bprod_sbt_id\",\n      \"properties\": {\n        \"dtype\": \"number\",\n        \"std\": 462852582.81464607,\n        \"min\": -998.0,\n        \"max\": 1001078031.0,\n        \"num_unique_values\": 8,\n        \"samples\": [\n          883817287.0952,\n          1000748648.0,\n          10000.0\n        ],\n        \"semantic_type\": \"\",\n        \"description\": \"\"\n      }\n    },\n    {\n      \"column\": \"new_date\",\n      \"properties\": {\n        \"dtype\": \"number\",\n        \"std\": 9254146.040525392,\n        \"min\": 10000.0,\n        \"max\": 20200410.0,\n        \"num_unique_values\": 8,\n        \"samples\": [\n          17442832.2065,\n          20141206.5,\n          10000.0\n        ],\n        \"semantic_type\": \"\",\n        \"description\": \"\"\n      }\n    },\n    {\n      \"column\": \"opn_nfl_chg_date\",\n      \"properties\": {\n        \"dtype\": \"number\",\n        \"std\": 9255297.788330361,\n        \"min\": 10000.0,\n        \"max\": 20200410.0,\n        \"num_unique_values\": 8,\n        \"samples\": [\n          17445053.0997,\n          20150309.0,\n          10000.0\n        ],\n        \"semantic_type\": \"\",\n        \"description\": \"\"\n      }\n    },\n    {\n      \"column\": \"voc_trt_degr_div_itg_cd\",\n      \"properties\": {\n        \"dtype\": \"number\",\n        \"std\": 7440.665681107619,\n        \"min\": 0.2621091950371301,\n        \"max\": 20002.0,\n        \"num_unique_values\": 5,\n        \"samples\": [\n          20001.0742,\n          20002.0,\n          0.2621091950371301\n        ],\n        \"semantic_type\": \"\",\n        \"description\": \"\"\n      }\n    },\n    {\n      \"column\": \"voc_dupl_tmscnt\",\n      \"properties\": {\n        \"dtype\": \"number\",\n        \"std\": 3535.376862363074,\n        \"min\": 0.0,\n        \"max\": 10000.0,\n        \"num_unique_values\": 5,\n        \"samples\": [\n          0.0088,\n          3.0,\n          0.10355497266300795\n        ],\n        \"semantic_type\": \"\",\n        \"description\": \"\"\n      }\n    },\n    {\n      \"column\": \"voc_trt_need_time_itg_cd\",\n      \"properties\": {\n        \"dtype\": \"number\",\n        \"std\": 3535.48778375873,\n        \"min\": 6.576863939137511,\n        \"max\": 10038.0,\n        \"num_unique_values\": 5,\n        \"samples\": [\n          10002.6568,\n          10038.0,\n          6.576863939137511\n        ],\n        \"semantic_type\": \"\",\n        \"description\": \"\"\n      }\n    },\n    {\n      \"column\": \"cont_fns_pam_date\",\n      \"properties\": {\n        \"dtype\": \"number\",\n        \"std\": 41430224.19800288,\n        \"min\": 10000.0,\n        \"max\": 99991231.0,\n        \"num_unique_values\": 6,\n        \"samples\": [\n          10000.0,\n          70044691.9807,\n          99991231.0\n        ],\n        \"semantic_type\": \"\",\n        \"description\": \"\"\n      }\n    },\n    {\n      \"column\": \"cust_snsry_base_conf_need_time\",\n      \"properties\": {\n        \"dtype\": \"number\",\n        \"std\": 129296.42365482595,\n        \"min\": 0.0,\n        \"max\": 367991.0,\n        \"num_unique_values\": 5,\n        \"samples\": [\n          193.8801,\n          367991.0,\n          6970.038529939048\n        ],\n        \"semantic_type\": \"\",\n        \"description\": \"\"\n      }\n    }\n  ]\n}"
            }
          },
          "metadata": {},
          "execution_count": 13
        }
      ],
      "source": [
        "# 여기에 답안코드를 작성하세요.\n",
        "df.describe()\n"
      ]
    },
    {
      "cell_type": "markdown",
      "metadata": {
        "id": "XRbZmPMasuJ5"
      },
      "source": [
        "<br>\n",
        "<font color=blue>3-7. DataFrame 컬럼 항목에 Null 존재하는지 확인하세요.  (null값의 합계 포함)</font>"
      ]
    },
    {
      "cell_type": "code",
      "execution_count": null,
      "metadata": {
        "tags": [],
        "colab": {
          "base_uri": "https://localhost:8080/"
        },
        "id": "QgWRAX7ksuJ5",
        "outputId": "a1d7bcb9-ce06-4947-da2e-e818bb3bf429"
      },
      "outputs": [
        {
          "output_type": "execute_result",
          "data": {
            "text/plain": [
              "voc_trt_perd_itg_cd               0\n",
              "voc_prod_sbt_id                   0\n",
              "voc_wjt_sorc_id                   0\n",
              "voc_type_itg_cd                   0\n",
              "voc_sttus_itg_cd                  0\n",
              "voc_trt_reslt_itg_cd              0\n",
              "cust_clas_itg_cd                  0\n",
              "bprod_sbt_id                      0\n",
              "age_itg_cd                        0\n",
              "cont_sttus_itg_cd                 0\n",
              "new_date                          0\n",
              "opn_nfl_chg_date                  0\n",
              "cust_dtl_ctg_itg_cd               0\n",
              "voc_trt_degr_div_itg_cd           0\n",
              "voc_dupl_tmscnt                   0\n",
              "oos_cause_type_itg_cd             0\n",
              "voc_trt_need_time_itg_cd          0\n",
              "engt_cperd_type_itg_cd            0\n",
              "engt_tgt_div_itg_cd               0\n",
              "cont_fns_pam_date                 0\n",
              "voc_mis_pbls_yn                   0\n",
              "fclt_oos_yn                       0\n",
              "cust_snsry_base_conf_need_time    0\n",
              "trm_yn                            0\n",
              "dtype: int64"
            ]
          },
          "metadata": {},
          "execution_count": 14
        }
      ],
      "source": [
        "# 여기에 답안코드를 작성하세요.\n",
        "df.isnull().sum()\n"
      ]
    },
    {
      "cell_type": "markdown",
      "metadata": {
        "id": "4immakZMsuJ5"
      },
      "source": [
        "<br>\n",
        "<font color=blue>3-8. voc_trt_perd_itg_cd 컬럼의 데이터를 확인하세요</font>"
      ]
    },
    {
      "cell_type": "code",
      "execution_count": null,
      "metadata": {
        "tags": [],
        "colab": {
          "base_uri": "https://localhost:8080/"
        },
        "id": "JKOfZoocsuJ6",
        "outputId": "d1a1125a-e904-4234-ad91-7666f031d7a0"
      },
      "outputs": [
        {
          "output_type": "execute_result",
          "data": {
            "text/plain": [
              "0           _\n",
              "1           _\n",
              "2           _\n",
              "3       10000\n",
              "4           _\n",
              "        ...  \n",
              "9995        _\n",
              "9996        _\n",
              "9997        _\n",
              "9998        _\n",
              "9999        _\n",
              "Name: voc_trt_perd_itg_cd, Length: 10000, dtype: object"
            ]
          },
          "metadata": {},
          "execution_count": 15
        }
      ],
      "source": [
        "# 여기에 답안코드를 작성하세요.\n",
        "df['voc_trt_perd_itg_cd']\n"
      ]
    },
    {
      "cell_type": "markdown",
      "metadata": {
        "id": "GCkEKiImsuJ6"
      },
      "source": [
        "<br>\n",
        "<font color=blue>3-9. voc_trt_perd_itg_cd 컬럼 데이터별 건수를 나열하세요</font>"
      ]
    },
    {
      "cell_type": "code",
      "execution_count": null,
      "metadata": {
        "tags": [],
        "colab": {
          "base_uri": "https://localhost:8080/"
        },
        "id": "WMM6zS6UsuJ6",
        "outputId": "4fa8c093-5684-4b9d-c36b-f371fb29427e"
      },
      "outputs": [
        {
          "output_type": "execute_result",
          "data": {
            "text/plain": [
              "_        5422\n",
              "10000    4283\n",
              "10001     163\n",
              "10002      58\n",
              "10003      25\n",
              "10004      16\n",
              "10005      10\n",
              "10006       6\n",
              "10008       3\n",
              "10009       3\n",
              "10016       2\n",
              "10011       2\n",
              "10012       2\n",
              "10007       2\n",
              "10014       1\n",
              "10013       1\n",
              "10015       1\n",
              "Name: voc_trt_perd_itg_cd, dtype: int64"
            ]
          },
          "metadata": {},
          "execution_count": 16
        }
      ],
      "source": [
        "# 여기에 답안코드를 작성하세요.\n",
        "df['voc_trt_perd_itg_cd'].value_counts()\n"
      ]
    },
    {
      "cell_type": "markdown",
      "metadata": {
        "id": "w2-n8uyysuJ6"
      },
      "source": [
        "### 컬럼에서  '_' 값이 차지하는 비율\n",
        "- voc_trt_perd_itg_cd : 0.54\n",
        "- voc_trt_reslt_itg_cd : 0.88\n",
        "- oos_cause_type_itg_cd : 0.9\n",
        "- engt_cperd_type_itg_cd : 0.63\n",
        "- engt_tgt_div_itg_cd : 0.63\n",
        "- fclt_oos_yn : 0.90  \n",
        "- cust_clas_itg_cd : 0.2\n",
        "- age_itg_cd : 0.22\n",
        "- cont_sttus_itg_cd : 0.11\n",
        "- cust_dtl_ctg_itg_cd : 0.11\n",
        "- voc_mis_pbls_yn : 0.008\n"
      ]
    },
    {
      "cell_type": "code",
      "execution_count": null,
      "metadata": {
        "id": "fydBTWvKsuJ6"
      },
      "outputs": [],
      "source": []
    },
    {
      "cell_type": "markdown",
      "metadata": {
        "id": "uV-3mXXfsuJ-"
      },
      "source": [
        "## **<span style=\"color:black\">4. 데이터 결측치 처리</span>**"
      ]
    },
    {
      "cell_type": "markdown",
      "metadata": {
        "id": "RgdD8JEVsuJ-"
      },
      "source": [
        "<br>\n",
        "<font color=blue>4-1. voc_trt_perd_itg_cd 컬럼에서 '_' 값이 차지하는 비율이 50%가 넘는 것을 확인하고, 이 voc_trt_perd_itg_cd 컬럼을 삭제하세요. (컬럼이 삭제된 데이터를 df1에 저장하세요)</font>"
      ]
    },
    {
      "cell_type": "code",
      "execution_count": null,
      "metadata": {
        "tags": [],
        "colab": {
          "base_uri": "https://localhost:8080/"
        },
        "id": "4RcMLtxbsuJ-",
        "outputId": "fea6d12e-68fe-432d-fd8c-c1aaece87b00"
      },
      "outputs": [
        {
          "output_type": "stream",
          "name": "stdout",
          "text": [
            "_        0.5422\n",
            "10000    0.4283\n",
            "10001    0.0163\n",
            "10002    0.0058\n",
            "10003    0.0025\n",
            "10004    0.0016\n",
            "10005    0.0010\n",
            "10006    0.0006\n",
            "10008    0.0003\n",
            "10009    0.0003\n",
            "10016    0.0002\n",
            "10011    0.0002\n",
            "10012    0.0002\n",
            "10007    0.0002\n",
            "10014    0.0001\n",
            "10013    0.0001\n",
            "10015    0.0001\n",
            "Name: voc_trt_perd_itg_cd, dtype: float64\n"
          ]
        }
      ],
      "source": [
        "# 여기에 답안코드를 작성하세요.\n",
        "print(df['voc_trt_perd_itg_cd'].value_counts(normalize=True))\n",
        "df1=df.drop('voc_trt_perd_itg_cd', axis=1)\n"
      ]
    },
    {
      "cell_type": "code",
      "execution_count": null,
      "metadata": {
        "tags": [],
        "colab": {
          "base_uri": "https://localhost:8080/",
          "height": 443
        },
        "id": "siVEJoyzsuJ-",
        "outputId": "34d52410-0f45-4518-8d6c-3f3ac1477c99"
      },
      "outputs": [
        {
          "output_type": "execute_result",
          "data": {
            "text/plain": [
              "      voc_prod_sbt_id  voc_wjt_sorc_id  voc_type_itg_cd  voc_sttus_itg_cd  \\\n",
              "0          1000665328             2153            10009             10002   \n",
              "1          1001028714             3311            10009             10002   \n",
              "2          1001028567             1575            10009             10002   \n",
              "3          1000665328             3546            10009             10002   \n",
              "4          1000779276             3086            10009             10002   \n",
              "...               ...              ...              ...               ...   \n",
              "9995       1000811136             2123            10009             10002   \n",
              "9996       1001047799             2153            10009             10002   \n",
              "9997       1001027819              379            10009             10002   \n",
              "9998       1001027819              314            10009             10002   \n",
              "9999       1001047802             2266            10009             10002   \n",
              "\n",
              "     voc_trt_reslt_itg_cd cust_clas_itg_cd  bprod_sbt_id age_itg_cd  \\\n",
              "0                       _                F    1000001126         36   \n",
              "1                   10081                G    1000852226         32   \n",
              "2                       _                G    1000851875         52   \n",
              "3                       _                _    1000001126          _   \n",
              "4                       _                G    1000764639         50   \n",
              "...                   ...              ...           ...        ...   \n",
              "9995                    _                G    1000809259         17   \n",
              "9996                    _                I    1001046521         35   \n",
              "9997                    _                G    1000720809         51   \n",
              "9998                    _                I    1000720809          _   \n",
              "9999                    _                G    1001046524         27   \n",
              "\n",
              "     cont_sttus_itg_cd  new_date  ...  voc_dupl_tmscnt oos_cause_type_itg_cd  \\\n",
              "0                10001  19881005  ...                0                     _   \n",
              "1                10001  20130817  ...                0                     _   \n",
              "2                10001  20190509  ...                0                 10268   \n",
              "3                10001  20190731  ...                0                     _   \n",
              "4                10001  20180403  ...                0                     _   \n",
              "...                ...       ...  ...              ...                   ...   \n",
              "9995             10001  20180313  ...                0                     _   \n",
              "9996             10001  20141208  ...                0                     _   \n",
              "9997             10001  20150904  ...                0                 10270   \n",
              "9998             10001  20160206  ...                0                     _   \n",
              "9999             10001  20200409  ...                0                     _   \n",
              "\n",
              "      voc_trt_need_time_itg_cd  engt_cperd_type_itg_cd engt_tgt_div_itg_cd  \\\n",
              "0                        10001                       _                   _   \n",
              "1                        10001                   15098               15244   \n",
              "2                        10001                   15097               15244   \n",
              "3                        10001                       _                   _   \n",
              "4                        10001                       _                   _   \n",
              "...                        ...                     ...                 ...   \n",
              "9995                     10001                       _                   _   \n",
              "9996                     10001                       _                   _   \n",
              "9997                     10001                   15097               15244   \n",
              "9998                     10001                   15097               15244   \n",
              "9999                     10001                       _                   _   \n",
              "\n",
              "      cont_fns_pam_date voc_mis_pbls_yn fclt_oos_yn  \\\n",
              "0              99991231               N           _   \n",
              "1              20220319               N           _   \n",
              "2              20220508               N           N   \n",
              "3              99991231               N           _   \n",
              "4              99991231               N           _   \n",
              "...                 ...             ...         ...   \n",
              "9995           99991231               N           _   \n",
              "9996           99991231               N           _   \n",
              "9997           20180903               N           N   \n",
              "9998           20210412               N           _   \n",
              "9999           99991231               N           _   \n",
              "\n",
              "      cust_snsry_base_conf_need_time trm_yn  \n",
              "0                                  0      N  \n",
              "1                                  0      N  \n",
              "2                                  0      N  \n",
              "3                                  0      N  \n",
              "4                                  0      N  \n",
              "...                              ...    ...  \n",
              "9995                               0      N  \n",
              "9996                               0      N  \n",
              "9997                               0      N  \n",
              "9998                               0      N  \n",
              "9999                               0      N  \n",
              "\n",
              "[10000 rows x 23 columns]"
            ],
            "text/html": [
              "\n",
              "  <div id=\"df-37f3308f-98cf-4a73-986d-d6eb57dd4836\" class=\"colab-df-container\">\n",
              "    <div>\n",
              "<style scoped>\n",
              "    .dataframe tbody tr th:only-of-type {\n",
              "        vertical-align: middle;\n",
              "    }\n",
              "\n",
              "    .dataframe tbody tr th {\n",
              "        vertical-align: top;\n",
              "    }\n",
              "\n",
              "    .dataframe thead th {\n",
              "        text-align: right;\n",
              "    }\n",
              "</style>\n",
              "<table border=\"1\" class=\"dataframe\">\n",
              "  <thead>\n",
              "    <tr style=\"text-align: right;\">\n",
              "      <th></th>\n",
              "      <th>voc_prod_sbt_id</th>\n",
              "      <th>voc_wjt_sorc_id</th>\n",
              "      <th>voc_type_itg_cd</th>\n",
              "      <th>voc_sttus_itg_cd</th>\n",
              "      <th>voc_trt_reslt_itg_cd</th>\n",
              "      <th>cust_clas_itg_cd</th>\n",
              "      <th>bprod_sbt_id</th>\n",
              "      <th>age_itg_cd</th>\n",
              "      <th>cont_sttus_itg_cd</th>\n",
              "      <th>new_date</th>\n",
              "      <th>...</th>\n",
              "      <th>voc_dupl_tmscnt</th>\n",
              "      <th>oos_cause_type_itg_cd</th>\n",
              "      <th>voc_trt_need_time_itg_cd</th>\n",
              "      <th>engt_cperd_type_itg_cd</th>\n",
              "      <th>engt_tgt_div_itg_cd</th>\n",
              "      <th>cont_fns_pam_date</th>\n",
              "      <th>voc_mis_pbls_yn</th>\n",
              "      <th>fclt_oos_yn</th>\n",
              "      <th>cust_snsry_base_conf_need_time</th>\n",
              "      <th>trm_yn</th>\n",
              "    </tr>\n",
              "  </thead>\n",
              "  <tbody>\n",
              "    <tr>\n",
              "      <th>0</th>\n",
              "      <td>1000665328</td>\n",
              "      <td>2153</td>\n",
              "      <td>10009</td>\n",
              "      <td>10002</td>\n",
              "      <td>_</td>\n",
              "      <td>F</td>\n",
              "      <td>1000001126</td>\n",
              "      <td>36</td>\n",
              "      <td>10001</td>\n",
              "      <td>19881005</td>\n",
              "      <td>...</td>\n",
              "      <td>0</td>\n",
              "      <td>_</td>\n",
              "      <td>10001</td>\n",
              "      <td>_</td>\n",
              "      <td>_</td>\n",
              "      <td>99991231</td>\n",
              "      <td>N</td>\n",
              "      <td>_</td>\n",
              "      <td>0</td>\n",
              "      <td>N</td>\n",
              "    </tr>\n",
              "    <tr>\n",
              "      <th>1</th>\n",
              "      <td>1001028714</td>\n",
              "      <td>3311</td>\n",
              "      <td>10009</td>\n",
              "      <td>10002</td>\n",
              "      <td>10081</td>\n",
              "      <td>G</td>\n",
              "      <td>1000852226</td>\n",
              "      <td>32</td>\n",
              "      <td>10001</td>\n",
              "      <td>20130817</td>\n",
              "      <td>...</td>\n",
              "      <td>0</td>\n",
              "      <td>_</td>\n",
              "      <td>10001</td>\n",
              "      <td>15098</td>\n",
              "      <td>15244</td>\n",
              "      <td>20220319</td>\n",
              "      <td>N</td>\n",
              "      <td>_</td>\n",
              "      <td>0</td>\n",
              "      <td>N</td>\n",
              "    </tr>\n",
              "    <tr>\n",
              "      <th>2</th>\n",
              "      <td>1001028567</td>\n",
              "      <td>1575</td>\n",
              "      <td>10009</td>\n",
              "      <td>10002</td>\n",
              "      <td>_</td>\n",
              "      <td>G</td>\n",
              "      <td>1000851875</td>\n",
              "      <td>52</td>\n",
              "      <td>10001</td>\n",
              "      <td>20190509</td>\n",
              "      <td>...</td>\n",
              "      <td>0</td>\n",
              "      <td>10268</td>\n",
              "      <td>10001</td>\n",
              "      <td>15097</td>\n",
              "      <td>15244</td>\n",
              "      <td>20220508</td>\n",
              "      <td>N</td>\n",
              "      <td>N</td>\n",
              "      <td>0</td>\n",
              "      <td>N</td>\n",
              "    </tr>\n",
              "    <tr>\n",
              "      <th>3</th>\n",
              "      <td>1000665328</td>\n",
              "      <td>3546</td>\n",
              "      <td>10009</td>\n",
              "      <td>10002</td>\n",
              "      <td>_</td>\n",
              "      <td>_</td>\n",
              "      <td>1000001126</td>\n",
              "      <td>_</td>\n",
              "      <td>10001</td>\n",
              "      <td>20190731</td>\n",
              "      <td>...</td>\n",
              "      <td>0</td>\n",
              "      <td>_</td>\n",
              "      <td>10001</td>\n",
              "      <td>_</td>\n",
              "      <td>_</td>\n",
              "      <td>99991231</td>\n",
              "      <td>N</td>\n",
              "      <td>_</td>\n",
              "      <td>0</td>\n",
              "      <td>N</td>\n",
              "    </tr>\n",
              "    <tr>\n",
              "      <th>4</th>\n",
              "      <td>1000779276</td>\n",
              "      <td>3086</td>\n",
              "      <td>10009</td>\n",
              "      <td>10002</td>\n",
              "      <td>_</td>\n",
              "      <td>G</td>\n",
              "      <td>1000764639</td>\n",
              "      <td>50</td>\n",
              "      <td>10001</td>\n",
              "      <td>20180403</td>\n",
              "      <td>...</td>\n",
              "      <td>0</td>\n",
              "      <td>_</td>\n",
              "      <td>10001</td>\n",
              "      <td>_</td>\n",
              "      <td>_</td>\n",
              "      <td>99991231</td>\n",
              "      <td>N</td>\n",
              "      <td>_</td>\n",
              "      <td>0</td>\n",
              "      <td>N</td>\n",
              "    </tr>\n",
              "    <tr>\n",
              "      <th>...</th>\n",
              "      <td>...</td>\n",
              "      <td>...</td>\n",
              "      <td>...</td>\n",
              "      <td>...</td>\n",
              "      <td>...</td>\n",
              "      <td>...</td>\n",
              "      <td>...</td>\n",
              "      <td>...</td>\n",
              "      <td>...</td>\n",
              "      <td>...</td>\n",
              "      <td>...</td>\n",
              "      <td>...</td>\n",
              "      <td>...</td>\n",
              "      <td>...</td>\n",
              "      <td>...</td>\n",
              "      <td>...</td>\n",
              "      <td>...</td>\n",
              "      <td>...</td>\n",
              "      <td>...</td>\n",
              "      <td>...</td>\n",
              "      <td>...</td>\n",
              "    </tr>\n",
              "    <tr>\n",
              "      <th>9995</th>\n",
              "      <td>1000811136</td>\n",
              "      <td>2123</td>\n",
              "      <td>10009</td>\n",
              "      <td>10002</td>\n",
              "      <td>_</td>\n",
              "      <td>G</td>\n",
              "      <td>1000809259</td>\n",
              "      <td>17</td>\n",
              "      <td>10001</td>\n",
              "      <td>20180313</td>\n",
              "      <td>...</td>\n",
              "      <td>0</td>\n",
              "      <td>_</td>\n",
              "      <td>10001</td>\n",
              "      <td>_</td>\n",
              "      <td>_</td>\n",
              "      <td>99991231</td>\n",
              "      <td>N</td>\n",
              "      <td>_</td>\n",
              "      <td>0</td>\n",
              "      <td>N</td>\n",
              "    </tr>\n",
              "    <tr>\n",
              "      <th>9996</th>\n",
              "      <td>1001047799</td>\n",
              "      <td>2153</td>\n",
              "      <td>10009</td>\n",
              "      <td>10002</td>\n",
              "      <td>_</td>\n",
              "      <td>I</td>\n",
              "      <td>1001046521</td>\n",
              "      <td>35</td>\n",
              "      <td>10001</td>\n",
              "      <td>20141208</td>\n",
              "      <td>...</td>\n",
              "      <td>0</td>\n",
              "      <td>_</td>\n",
              "      <td>10001</td>\n",
              "      <td>_</td>\n",
              "      <td>_</td>\n",
              "      <td>99991231</td>\n",
              "      <td>N</td>\n",
              "      <td>_</td>\n",
              "      <td>0</td>\n",
              "      <td>N</td>\n",
              "    </tr>\n",
              "    <tr>\n",
              "      <th>9997</th>\n",
              "      <td>1001027819</td>\n",
              "      <td>379</td>\n",
              "      <td>10009</td>\n",
              "      <td>10002</td>\n",
              "      <td>_</td>\n",
              "      <td>G</td>\n",
              "      <td>1000720809</td>\n",
              "      <td>51</td>\n",
              "      <td>10001</td>\n",
              "      <td>20150904</td>\n",
              "      <td>...</td>\n",
              "      <td>0</td>\n",
              "      <td>10270</td>\n",
              "      <td>10001</td>\n",
              "      <td>15097</td>\n",
              "      <td>15244</td>\n",
              "      <td>20180903</td>\n",
              "      <td>N</td>\n",
              "      <td>N</td>\n",
              "      <td>0</td>\n",
              "      <td>N</td>\n",
              "    </tr>\n",
              "    <tr>\n",
              "      <th>9998</th>\n",
              "      <td>1001027819</td>\n",
              "      <td>314</td>\n",
              "      <td>10009</td>\n",
              "      <td>10002</td>\n",
              "      <td>_</td>\n",
              "      <td>I</td>\n",
              "      <td>1000720809</td>\n",
              "      <td>_</td>\n",
              "      <td>10001</td>\n",
              "      <td>20160206</td>\n",
              "      <td>...</td>\n",
              "      <td>0</td>\n",
              "      <td>_</td>\n",
              "      <td>10001</td>\n",
              "      <td>15097</td>\n",
              "      <td>15244</td>\n",
              "      <td>20210412</td>\n",
              "      <td>N</td>\n",
              "      <td>_</td>\n",
              "      <td>0</td>\n",
              "      <td>N</td>\n",
              "    </tr>\n",
              "    <tr>\n",
              "      <th>9999</th>\n",
              "      <td>1001047802</td>\n",
              "      <td>2266</td>\n",
              "      <td>10009</td>\n",
              "      <td>10002</td>\n",
              "      <td>_</td>\n",
              "      <td>G</td>\n",
              "      <td>1001046524</td>\n",
              "      <td>27</td>\n",
              "      <td>10001</td>\n",
              "      <td>20200409</td>\n",
              "      <td>...</td>\n",
              "      <td>0</td>\n",
              "      <td>_</td>\n",
              "      <td>10001</td>\n",
              "      <td>_</td>\n",
              "      <td>_</td>\n",
              "      <td>99991231</td>\n",
              "      <td>N</td>\n",
              "      <td>_</td>\n",
              "      <td>0</td>\n",
              "      <td>N</td>\n",
              "    </tr>\n",
              "  </tbody>\n",
              "</table>\n",
              "<p>10000 rows × 23 columns</p>\n",
              "</div>\n",
              "    <div class=\"colab-df-buttons\">\n",
              "\n",
              "  <div class=\"colab-df-container\">\n",
              "    <button class=\"colab-df-convert\" onclick=\"convertToInteractive('df-37f3308f-98cf-4a73-986d-d6eb57dd4836')\"\n",
              "            title=\"Convert this dataframe to an interactive table.\"\n",
              "            style=\"display:none;\">\n",
              "\n",
              "  <svg xmlns=\"http://www.w3.org/2000/svg\" height=\"24px\" viewBox=\"0 -960 960 960\">\n",
              "    <path d=\"M120-120v-720h720v720H120Zm60-500h600v-160H180v160Zm220 220h160v-160H400v160Zm0 220h160v-160H400v160ZM180-400h160v-160H180v160Zm440 0h160v-160H620v160ZM180-180h160v-160H180v160Zm440 0h160v-160H620v160Z\"/>\n",
              "  </svg>\n",
              "    </button>\n",
              "\n",
              "  <style>\n",
              "    .colab-df-container {\n",
              "      display:flex;\n",
              "      gap: 12px;\n",
              "    }\n",
              "\n",
              "    .colab-df-convert {\n",
              "      background-color: #E8F0FE;\n",
              "      border: none;\n",
              "      border-radius: 50%;\n",
              "      cursor: pointer;\n",
              "      display: none;\n",
              "      fill: #1967D2;\n",
              "      height: 32px;\n",
              "      padding: 0 0 0 0;\n",
              "      width: 32px;\n",
              "    }\n",
              "\n",
              "    .colab-df-convert:hover {\n",
              "      background-color: #E2EBFA;\n",
              "      box-shadow: 0px 1px 2px rgba(60, 64, 67, 0.3), 0px 1px 3px 1px rgba(60, 64, 67, 0.15);\n",
              "      fill: #174EA6;\n",
              "    }\n",
              "\n",
              "    .colab-df-buttons div {\n",
              "      margin-bottom: 4px;\n",
              "    }\n",
              "\n",
              "    [theme=dark] .colab-df-convert {\n",
              "      background-color: #3B4455;\n",
              "      fill: #D2E3FC;\n",
              "    }\n",
              "\n",
              "    [theme=dark] .colab-df-convert:hover {\n",
              "      background-color: #434B5C;\n",
              "      box-shadow: 0px 1px 3px 1px rgba(0, 0, 0, 0.15);\n",
              "      filter: drop-shadow(0px 1px 2px rgba(0, 0, 0, 0.3));\n",
              "      fill: #FFFFFF;\n",
              "    }\n",
              "  </style>\n",
              "\n",
              "    <script>\n",
              "      const buttonEl =\n",
              "        document.querySelector('#df-37f3308f-98cf-4a73-986d-d6eb57dd4836 button.colab-df-convert');\n",
              "      buttonEl.style.display =\n",
              "        google.colab.kernel.accessAllowed ? 'block' : 'none';\n",
              "\n",
              "      async function convertToInteractive(key) {\n",
              "        const element = document.querySelector('#df-37f3308f-98cf-4a73-986d-d6eb57dd4836');\n",
              "        const dataTable =\n",
              "          await google.colab.kernel.invokeFunction('convertToInteractive',\n",
              "                                                    [key], {});\n",
              "        if (!dataTable) return;\n",
              "\n",
              "        const docLinkHtml = 'Like what you see? Visit the ' +\n",
              "          '<a target=\"_blank\" href=https://colab.research.google.com/notebooks/data_table.ipynb>data table notebook</a>'\n",
              "          + ' to learn more about interactive tables.';\n",
              "        element.innerHTML = '';\n",
              "        dataTable['output_type'] = 'display_data';\n",
              "        await google.colab.output.renderOutput(dataTable, element);\n",
              "        const docLink = document.createElement('div');\n",
              "        docLink.innerHTML = docLinkHtml;\n",
              "        element.appendChild(docLink);\n",
              "      }\n",
              "    </script>\n",
              "  </div>\n",
              "\n",
              "\n",
              "<div id=\"df-f752b0ba-06d5-45aa-bc41-c955093e2bd6\">\n",
              "  <button class=\"colab-df-quickchart\" onclick=\"quickchart('df-f752b0ba-06d5-45aa-bc41-c955093e2bd6')\"\n",
              "            title=\"Suggest charts\"\n",
              "            style=\"display:none;\">\n",
              "\n",
              "<svg xmlns=\"http://www.w3.org/2000/svg\" height=\"24px\"viewBox=\"0 0 24 24\"\n",
              "     width=\"24px\">\n",
              "    <g>\n",
              "        <path d=\"M19 3H5c-1.1 0-2 .9-2 2v14c0 1.1.9 2 2 2h14c1.1 0 2-.9 2-2V5c0-1.1-.9-2-2-2zM9 17H7v-7h2v7zm4 0h-2V7h2v10zm4 0h-2v-4h2v4z\"/>\n",
              "    </g>\n",
              "</svg>\n",
              "  </button>\n",
              "\n",
              "<style>\n",
              "  .colab-df-quickchart {\n",
              "      --bg-color: #E8F0FE;\n",
              "      --fill-color: #1967D2;\n",
              "      --hover-bg-color: #E2EBFA;\n",
              "      --hover-fill-color: #174EA6;\n",
              "      --disabled-fill-color: #AAA;\n",
              "      --disabled-bg-color: #DDD;\n",
              "  }\n",
              "\n",
              "  [theme=dark] .colab-df-quickchart {\n",
              "      --bg-color: #3B4455;\n",
              "      --fill-color: #D2E3FC;\n",
              "      --hover-bg-color: #434B5C;\n",
              "      --hover-fill-color: #FFFFFF;\n",
              "      --disabled-bg-color: #3B4455;\n",
              "      --disabled-fill-color: #666;\n",
              "  }\n",
              "\n",
              "  .colab-df-quickchart {\n",
              "    background-color: var(--bg-color);\n",
              "    border: none;\n",
              "    border-radius: 50%;\n",
              "    cursor: pointer;\n",
              "    display: none;\n",
              "    fill: var(--fill-color);\n",
              "    height: 32px;\n",
              "    padding: 0;\n",
              "    width: 32px;\n",
              "  }\n",
              "\n",
              "  .colab-df-quickchart:hover {\n",
              "    background-color: var(--hover-bg-color);\n",
              "    box-shadow: 0 1px 2px rgba(60, 64, 67, 0.3), 0 1px 3px 1px rgba(60, 64, 67, 0.15);\n",
              "    fill: var(--button-hover-fill-color);\n",
              "  }\n",
              "\n",
              "  .colab-df-quickchart-complete:disabled,\n",
              "  .colab-df-quickchart-complete:disabled:hover {\n",
              "    background-color: var(--disabled-bg-color);\n",
              "    fill: var(--disabled-fill-color);\n",
              "    box-shadow: none;\n",
              "  }\n",
              "\n",
              "  .colab-df-spinner {\n",
              "    border: 2px solid var(--fill-color);\n",
              "    border-color: transparent;\n",
              "    border-bottom-color: var(--fill-color);\n",
              "    animation:\n",
              "      spin 1s steps(1) infinite;\n",
              "  }\n",
              "\n",
              "  @keyframes spin {\n",
              "    0% {\n",
              "      border-color: transparent;\n",
              "      border-bottom-color: var(--fill-color);\n",
              "      border-left-color: var(--fill-color);\n",
              "    }\n",
              "    20% {\n",
              "      border-color: transparent;\n",
              "      border-left-color: var(--fill-color);\n",
              "      border-top-color: var(--fill-color);\n",
              "    }\n",
              "    30% {\n",
              "      border-color: transparent;\n",
              "      border-left-color: var(--fill-color);\n",
              "      border-top-color: var(--fill-color);\n",
              "      border-right-color: var(--fill-color);\n",
              "    }\n",
              "    40% {\n",
              "      border-color: transparent;\n",
              "      border-right-color: var(--fill-color);\n",
              "      border-top-color: var(--fill-color);\n",
              "    }\n",
              "    60% {\n",
              "      border-color: transparent;\n",
              "      border-right-color: var(--fill-color);\n",
              "    }\n",
              "    80% {\n",
              "      border-color: transparent;\n",
              "      border-right-color: var(--fill-color);\n",
              "      border-bottom-color: var(--fill-color);\n",
              "    }\n",
              "    90% {\n",
              "      border-color: transparent;\n",
              "      border-bottom-color: var(--fill-color);\n",
              "    }\n",
              "  }\n",
              "</style>\n",
              "\n",
              "  <script>\n",
              "    async function quickchart(key) {\n",
              "      const quickchartButtonEl =\n",
              "        document.querySelector('#' + key + ' button');\n",
              "      quickchartButtonEl.disabled = true;  // To prevent multiple clicks.\n",
              "      quickchartButtonEl.classList.add('colab-df-spinner');\n",
              "      try {\n",
              "        const charts = await google.colab.kernel.invokeFunction(\n",
              "            'suggestCharts', [key], {});\n",
              "      } catch (error) {\n",
              "        console.error('Error during call to suggestCharts:', error);\n",
              "      }\n",
              "      quickchartButtonEl.classList.remove('colab-df-spinner');\n",
              "      quickchartButtonEl.classList.add('colab-df-quickchart-complete');\n",
              "    }\n",
              "    (() => {\n",
              "      let quickchartButtonEl =\n",
              "        document.querySelector('#df-f752b0ba-06d5-45aa-bc41-c955093e2bd6 button');\n",
              "      quickchartButtonEl.style.display =\n",
              "        google.colab.kernel.accessAllowed ? 'block' : 'none';\n",
              "    })();\n",
              "  </script>\n",
              "</div>\n",
              "\n",
              "  <div id=\"id_878d6943-b939-45f0-b498-7718f87c89e4\">\n",
              "    <style>\n",
              "      .colab-df-generate {\n",
              "        background-color: #E8F0FE;\n",
              "        border: none;\n",
              "        border-radius: 50%;\n",
              "        cursor: pointer;\n",
              "        display: none;\n",
              "        fill: #1967D2;\n",
              "        height: 32px;\n",
              "        padding: 0 0 0 0;\n",
              "        width: 32px;\n",
              "      }\n",
              "\n",
              "      .colab-df-generate:hover {\n",
              "        background-color: #E2EBFA;\n",
              "        box-shadow: 0px 1px 2px rgba(60, 64, 67, 0.3), 0px 1px 3px 1px rgba(60, 64, 67, 0.15);\n",
              "        fill: #174EA6;\n",
              "      }\n",
              "\n",
              "      [theme=dark] .colab-df-generate {\n",
              "        background-color: #3B4455;\n",
              "        fill: #D2E3FC;\n",
              "      }\n",
              "\n",
              "      [theme=dark] .colab-df-generate:hover {\n",
              "        background-color: #434B5C;\n",
              "        box-shadow: 0px 1px 3px 1px rgba(0, 0, 0, 0.15);\n",
              "        filter: drop-shadow(0px 1px 2px rgba(0, 0, 0, 0.3));\n",
              "        fill: #FFFFFF;\n",
              "      }\n",
              "    </style>\n",
              "    <button class=\"colab-df-generate\" onclick=\"generateWithVariable('df1')\"\n",
              "            title=\"Generate code using this dataframe.\"\n",
              "            style=\"display:none;\">\n",
              "\n",
              "  <svg xmlns=\"http://www.w3.org/2000/svg\" height=\"24px\"viewBox=\"0 0 24 24\"\n",
              "       width=\"24px\">\n",
              "    <path d=\"M7,19H8.4L18.45,9,17,7.55,7,17.6ZM5,21V16.75L18.45,3.32a2,2,0,0,1,2.83,0l1.4,1.43a1.91,1.91,0,0,1,.58,1.4,1.91,1.91,0,0,1-.58,1.4L9.25,21ZM18.45,9,17,7.55Zm-12,3A5.31,5.31,0,0,0,4.9,8.1,5.31,5.31,0,0,0,1,6.5,5.31,5.31,0,0,0,4.9,4.9,5.31,5.31,0,0,0,6.5,1,5.31,5.31,0,0,0,8.1,4.9,5.31,5.31,0,0,0,12,6.5,5.46,5.46,0,0,0,6.5,12Z\"/>\n",
              "  </svg>\n",
              "    </button>\n",
              "    <script>\n",
              "      (() => {\n",
              "      const buttonEl =\n",
              "        document.querySelector('#id_878d6943-b939-45f0-b498-7718f87c89e4 button.colab-df-generate');\n",
              "      buttonEl.style.display =\n",
              "        google.colab.kernel.accessAllowed ? 'block' : 'none';\n",
              "\n",
              "      buttonEl.onclick = () => {\n",
              "        google.colab.notebook.generateWithVariable('df1');\n",
              "      }\n",
              "      })();\n",
              "    </script>\n",
              "  </div>\n",
              "\n",
              "    </div>\n",
              "  </div>\n"
            ],
            "application/vnd.google.colaboratory.intrinsic+json": {
              "type": "dataframe",
              "variable_name": "df1"
            }
          },
          "metadata": {},
          "execution_count": 18
        }
      ],
      "source": [
        "df1"
      ]
    },
    {
      "cell_type": "markdown",
      "metadata": {
        "id": "ai3Msl8lsuJ-"
      },
      "source": [
        "<br>\n",
        "<font color=blue>4-2. 'df1' DataFrame에서 '_' 값이 50% 이상되는 나머지 컬럼도 삭제하세요</font>"
      ]
    },
    {
      "cell_type": "code",
      "execution_count": null,
      "metadata": {
        "tags": [],
        "id": "LM9w4_0JsuJ-"
      },
      "outputs": [],
      "source": [
        "# 여기에 답안코드를 작성하세요.\n",
        "df1 = df1.drop( ['voc_trt_reslt_itg_cd', 'oos_cause_type_itg_cd', 'engt_cperd_type_itg_cd', 'engt_tgt_div_itg_cd', 'fclt_oos_yn'], axis=1)"
      ]
    },
    {
      "cell_type": "code",
      "execution_count": null,
      "metadata": {
        "tags": [],
        "colab": {
          "base_uri": "https://localhost:8080/"
        },
        "id": "i0D4d0-csuJ-",
        "outputId": "525b2de8-6a19-437e-dec8-d05b6d3c6abe"
      },
      "outputs": [
        {
          "output_type": "stream",
          "name": "stdout",
          "text": [
            "<class 'pandas.core.frame.DataFrame'>\n",
            "RangeIndex: 10000 entries, 0 to 9999\n",
            "Data columns (total 18 columns):\n",
            " #   Column                          Non-Null Count  Dtype \n",
            "---  ------                          --------------  ----- \n",
            " 0   voc_prod_sbt_id                 10000 non-null  int64 \n",
            " 1   voc_wjt_sorc_id                 10000 non-null  int64 \n",
            " 2   voc_type_itg_cd                 10000 non-null  int64 \n",
            " 3   voc_sttus_itg_cd                10000 non-null  int64 \n",
            " 4   cust_clas_itg_cd                10000 non-null  object\n",
            " 5   bprod_sbt_id                    10000 non-null  int64 \n",
            " 6   age_itg_cd                      10000 non-null  object\n",
            " 7   cont_sttus_itg_cd               10000 non-null  object\n",
            " 8   new_date                        10000 non-null  int64 \n",
            " 9   opn_nfl_chg_date                10000 non-null  int64 \n",
            " 10  cust_dtl_ctg_itg_cd             10000 non-null  object\n",
            " 11  voc_trt_degr_div_itg_cd         10000 non-null  int64 \n",
            " 12  voc_dupl_tmscnt                 10000 non-null  int64 \n",
            " 13  voc_trt_need_time_itg_cd        10000 non-null  int64 \n",
            " 14  cont_fns_pam_date               10000 non-null  int64 \n",
            " 15  voc_mis_pbls_yn                 10000 non-null  object\n",
            " 16  cust_snsry_base_conf_need_time  10000 non-null  int64 \n",
            " 17  trm_yn                          10000 non-null  object\n",
            "dtypes: int64(12), object(6)\n",
            "memory usage: 1.4+ MB\n"
          ]
        }
      ],
      "source": [
        "df1.info()"
      ]
    },
    {
      "cell_type": "markdown",
      "metadata": {
        "id": "-tKLynjSsuJ-"
      },
      "source": [
        "<br>\n",
        "<font color=blue>4-3. 'df1' DataFrame의 'cust_clas_itg_cd' 컬럼에 '_' 값이 몇 개 있는지 확인하여 출력하세요 </font>"
      ]
    },
    {
      "cell_type": "code",
      "execution_count": null,
      "metadata": {
        "tags": [],
        "colab": {
          "base_uri": "https://localhost:8080/"
        },
        "id": "-MiWFoE5suJ-",
        "outputId": "f9bae678-4724-4c72-c67f-3f92b19d85cf"
      },
      "outputs": [
        {
          "output_type": "execute_result",
          "data": {
            "text/plain": [
              "1934"
            ]
          },
          "metadata": {},
          "execution_count": 21
        }
      ],
      "source": [
        "# 여기에 답안코드를 작성하세요.\n",
        "\n",
        "(df1['cust_clas_itg_cd']=='_').sum()"
      ]
    },
    {
      "cell_type": "markdown",
      "metadata": {
        "id": "iETwBQG0suJ_"
      },
      "source": [
        "<br>\n",
        "<font color=blue>4-4. df1의 남아있는 '_'값을 null로 변경: DataFrame replace 함수를 사용해서 모든 컬럼에 대해 '_'값을 null로 변경하고 df2에 저장하세요.</font>"
      ]
    },
    {
      "cell_type": "code",
      "execution_count": null,
      "metadata": {
        "tags": [],
        "id": "Qwd0vliHsuJ_"
      },
      "outputs": [],
      "source": [
        "# 여기에 답안코드를 작성하세요.\n",
        "df1.replace('_',np.nan, inplace=True)\n",
        "df2=df1"
      ]
    },
    {
      "cell_type": "markdown",
      "metadata": {
        "id": "9ippJXfBsuJ_"
      },
      "source": [
        "<br>\n",
        "<font color=blue>4-5. df2의 컬럼별 Null 갯수를 확인해보세요.</font>"
      ]
    },
    {
      "cell_type": "code",
      "execution_count": null,
      "metadata": {
        "tags": [],
        "colab": {
          "base_uri": "https://localhost:8080/"
        },
        "id": "rB7U1uomsuJ_",
        "outputId": "7d7af865-6489-4a61-f26c-d23c54a22a22"
      },
      "outputs": [
        {
          "output_type": "execute_result",
          "data": {
            "text/plain": [
              "voc_prod_sbt_id                      0\n",
              "voc_wjt_sorc_id                      0\n",
              "voc_type_itg_cd                      0\n",
              "voc_sttus_itg_cd                     0\n",
              "cust_clas_itg_cd                  1934\n",
              "bprod_sbt_id                         0\n",
              "age_itg_cd                        2129\n",
              "cont_sttus_itg_cd                 1168\n",
              "new_date                             0\n",
              "opn_nfl_chg_date                     0\n",
              "cust_dtl_ctg_itg_cd               1168\n",
              "voc_trt_degr_div_itg_cd              0\n",
              "voc_dupl_tmscnt                      0\n",
              "voc_trt_need_time_itg_cd             0\n",
              "cont_fns_pam_date                    0\n",
              "voc_mis_pbls_yn                     86\n",
              "cust_snsry_base_conf_need_time       0\n",
              "trm_yn                               0\n",
              "dtype: int64"
            ]
          },
          "metadata": {},
          "execution_count": 23
        }
      ],
      "source": [
        "# 여기에 답안코드를 작성하세요.\n",
        "df2.isnull().sum()\n"
      ]
    },
    {
      "cell_type": "markdown",
      "metadata": {
        "id": "eGWqRmh_suJ_"
      },
      "source": [
        "<br>\n",
        "<font color=blue>4-6. df2 데이터프레임 컬럼들의 데이터타입을 확인하세요.</font>"
      ]
    },
    {
      "cell_type": "code",
      "execution_count": null,
      "metadata": {
        "tags": [],
        "colab": {
          "base_uri": "https://localhost:8080/"
        },
        "id": "XGxPnFJCsuJ_",
        "outputId": "1a016572-6103-4ff9-99c5-ced4e5631988"
      },
      "outputs": [
        {
          "output_type": "execute_result",
          "data": {
            "text/plain": [
              "voc_prod_sbt_id                    int64\n",
              "voc_wjt_sorc_id                    int64\n",
              "voc_type_itg_cd                    int64\n",
              "voc_sttus_itg_cd                   int64\n",
              "cust_clas_itg_cd                  object\n",
              "bprod_sbt_id                       int64\n",
              "age_itg_cd                        object\n",
              "cont_sttus_itg_cd                 object\n",
              "new_date                           int64\n",
              "opn_nfl_chg_date                   int64\n",
              "cust_dtl_ctg_itg_cd               object\n",
              "voc_trt_degr_div_itg_cd            int64\n",
              "voc_dupl_tmscnt                    int64\n",
              "voc_trt_need_time_itg_cd           int64\n",
              "cont_fns_pam_date                  int64\n",
              "voc_mis_pbls_yn                   object\n",
              "cust_snsry_base_conf_need_time     int64\n",
              "trm_yn                            object\n",
              "dtype: object"
            ]
          },
          "metadata": {},
          "execution_count": 24
        }
      ],
      "source": [
        "# 여기에 답안코드를 작성하세요.\n",
        "df2.dtypes\n"
      ]
    },
    {
      "cell_type": "markdown",
      "metadata": {
        "id": "bh-r9yIBsuJ_"
      },
      "source": [
        "<br>\n",
        "<font color=blue>4-7. df2 데이터프레임에 대해 먼저, 'cust_clas_itg_cd' 컬럼의 최빈값을 확인하는 코드로 확인하고 다음으로, 이 컬럼의 Null 값을 최빈값으로 변경하세요(fillna 함수 사용). 처리된 데이터프레임은 df3에 저장하세요</font>"
      ]
    },
    {
      "cell_type": "code",
      "execution_count": null,
      "metadata": {
        "tags": [],
        "colab": {
          "base_uri": "https://localhost:8080/"
        },
        "id": "tL2U1rrzsuJ_",
        "outputId": "02c13978-8f9c-40b2-b3cc-67bc0d0a1c0c"
      },
      "outputs": [
        {
          "output_type": "stream",
          "name": "stdout",
          "text": [
            "L    2769\n",
            "G    1777\n",
            "I    1266\n",
            "J    1071\n",
            "F     903\n",
            "O     275\n",
            "H       4\n",
            "M       1\n",
            "Name: cust_clas_itg_cd, dtype: int64\n"
          ]
        }
      ],
      "source": [
        "# 여기에 답안코드를 작성하세요.\n",
        "print(df2['cust_clas_itg_cd'].value_counts())\n",
        "df2['cust_clas_itg_cd'].fillna('L',inplace=True)\n",
        "df3=df2"
      ]
    },
    {
      "cell_type": "code",
      "execution_count": null,
      "metadata": {
        "tags": [],
        "colab": {
          "base_uri": "https://localhost:8080/"
        },
        "id": "CPDp3siYsuJ_",
        "outputId": "577a0219-50e2-4bf4-f35e-4f7fe6c004dc"
      },
      "outputs": [
        {
          "output_type": "execute_result",
          "data": {
            "text/plain": [
              "0"
            ]
          },
          "metadata": {},
          "execution_count": 26
        }
      ],
      "source": [
        "df1['cust_clas_itg_cd'].isnull().sum()"
      ]
    },
    {
      "cell_type": "markdown",
      "metadata": {
        "id": "-n9LqT-msuJ_"
      },
      "source": [
        "<br>\n",
        "<font color=blue>4-8. df3에 대해 'age_itg_cd'의 null 값을 중앙값(median)으로 변경하고 데이터 타입을 정수(int)로 변경하세요. 데이터 처리 후 데이터프레임을 df4에 저장하세요.</font>"
      ]
    },
    {
      "cell_type": "code",
      "execution_count": null,
      "metadata": {
        "tags": [],
        "id": "mqDkspO6suJ_"
      },
      "outputs": [],
      "source": [
        "# 여기에 답안코드를 작성하세요.\n",
        "df3['age_itg_cd'].median()\n",
        "df3['age_itg_cd'].fillna('49', inplace=True)\n",
        "df4=df3"
      ]
    },
    {
      "cell_type": "markdown",
      "metadata": {
        "id": "Y9OjD0KdsuJ_"
      },
      "source": [
        "<br>\n",
        "<font color=blue>4-9. df4에 대해 'cont_sttus_itg_cd'의 null 값을 최빈값(mode)으로 변경하세요. 데이터 처리 후 데이터프레임을 df5에 저장하세요.</font>"
      ]
    },
    {
      "cell_type": "code",
      "execution_count": null,
      "metadata": {
        "tags": [],
        "id": "ofVLxXOnsuKA"
      },
      "outputs": [],
      "source": [
        "# 여기에 답안코드를 작성하세요.\n",
        "df4['cont_sttus_itg_cd'].mode()\n",
        "df4['cont_sttus_itg_cd'].fillna('10001', inplace=True)\n",
        "df5=df4"
      ]
    },
    {
      "cell_type": "markdown",
      "metadata": {
        "id": "2ooQ7twhsuKA"
      },
      "source": [
        "<br>\n",
        "<font color=blue>4-10. df5에 대해 'cust_dtl_ctg_itg_cd'의 null 값을 최빈값(mode)으로 변경하세요</font>"
      ]
    },
    {
      "cell_type": "code",
      "execution_count": null,
      "metadata": {
        "tags": [],
        "id": "0IVePt7HsuKA"
      },
      "outputs": [],
      "source": [
        "# 여기에 답안코드를 작성하세요.\n",
        "df5['cust_dtl_ctg_itg_cd'].mode()\n",
        "df5['cust_dtl_ctg_itg_cd'].fillna('10003', inplace=True)"
      ]
    },
    {
      "cell_type": "markdown",
      "metadata": {
        "id": "_9Du4SOwsuKA"
      },
      "source": [
        "<br>\n",
        "<font color=blue>4-11. df5에 대해 다음 날짜 관련 컬럼을 확인 후 삭제하세요. (날짜 관련 컬럼: new_date, opn_nfl_chg_date, cont_fns_pam_date)</font>"
      ]
    },
    {
      "cell_type": "code",
      "execution_count": null,
      "metadata": {
        "tags": [],
        "id": "vwBrCNn-suKA"
      },
      "outputs": [],
      "source": [
        "# 여기에 답안코드를 작성하세요.\n",
        "df5.head()\n",
        "df5.drop(['new_date', 'opn_nfl_chg_date', 'cont_fns_pam_date'], axis=1, inplace=True)"
      ]
    },
    {
      "cell_type": "markdown",
      "metadata": {
        "id": "UuNcrrYasuKA"
      },
      "source": [
        "<br>\n",
        "<font color=blue>4-12. df5에 대해 'voc_mis_pbls_yn' 컬럼을 삭제하세요.</font>"
      ]
    },
    {
      "cell_type": "code",
      "execution_count": null,
      "metadata": {
        "tags": [],
        "id": "bUMpU7KvsuKA"
      },
      "outputs": [],
      "source": [
        "# 여기에 답안코드를 작성하세요.\n",
        "df5.drop(['voc_mis_pbls_yn'],axis=1,inplace=True)\n"
      ]
    },
    {
      "cell_type": "markdown",
      "metadata": {
        "tags": [],
        "id": "u0CsLesssuKA"
      },
      "source": [
        "## **<span style=\"color:black\">5. 라벨 인코딩, 원핫 인코딩</span>**"
      ]
    },
    {
      "cell_type": "markdown",
      "metadata": {
        "id": "qhtyPfqxsuKA"
      },
      "source": [
        "<br>\n",
        "<font color=blue>5-1. df5에 대해 object 타입 컬럼을 cat_cols에 저장하세요. 그 중 cat_cols의 cust_clas_itg_cd 컬럼에 대해 LabelEncoder를 적용해보세요. (적용 후 df5에 저장)</font>"
      ]
    },
    {
      "cell_type": "code",
      "execution_count": null,
      "metadata": {
        "id": "TiZ596VssuKA"
      },
      "outputs": [],
      "source": [
        "# 여기에 답안코드를 작성하세요.\n",
        "from sklearn.preprocessing import LabelEncoder\n",
        "cat_cols = df5.select_dtypes(include='object')\n",
        "le=LabelEncoder()\n",
        "df5['cust_clas_itg_cd']=le.fit_transform(cat_cols['cust_clas_itg_cd'])"
      ]
    },
    {
      "cell_type": "code",
      "execution_count": null,
      "metadata": {
        "tags": [],
        "colab": {
          "base_uri": "https://localhost:8080/"
        },
        "id": "kSyS5_l9suKA",
        "outputId": "95fce6aa-efae-4c38-b1d9-11d63977876d"
      },
      "outputs": [
        {
          "output_type": "stream",
          "name": "stdout",
          "text": [
            "<class 'pandas.core.frame.DataFrame'>\n",
            "RangeIndex: 10000 entries, 0 to 9999\n",
            "Data columns (total 5 columns):\n",
            " #   Column               Non-Null Count  Dtype \n",
            "---  ------               --------------  ----- \n",
            " 0   cust_clas_itg_cd     10000 non-null  object\n",
            " 1   age_itg_cd           10000 non-null  object\n",
            " 2   cont_sttus_itg_cd    10000 non-null  object\n",
            " 3   cust_dtl_ctg_itg_cd  10000 non-null  object\n",
            " 4   trm_yn               10000 non-null  object\n",
            "dtypes: object(5)\n",
            "memory usage: 390.8+ KB\n"
          ]
        }
      ],
      "source": [
        "cat_cols.info()"
      ]
    },
    {
      "cell_type": "markdown",
      "metadata": {
        "id": "9s1JCX04suKA"
      },
      "source": [
        "<br>\n",
        "<font color=blue>5-2. df5의 나머지 object 컬럼에 대해서 One-Hot-Encoding될수 있도록 Pandas의 get_dummies 함수를 적용하세요. (적용 후 df6에 저장)</font>"
      ]
    },
    {
      "cell_type": "code",
      "execution_count": null,
      "metadata": {
        "id": "wjjwirJJsuKA"
      },
      "outputs": [],
      "source": [
        "# 여기에 답안코드를 작성하세요.\n",
        "df6=pd.get_dummies(data=df5, columns=['age_itg_cd','cont_sttus_itg_cd','cust_dtl_ctg_itg_cd','trm_yn'], drop_first=True)\n"
      ]
    },
    {
      "cell_type": "markdown",
      "metadata": {
        "id": "H59P_7k0suKA"
      },
      "source": [
        "## **<span style=\"color:black\">6. x,y 데이터 분리</span>**"
      ]
    },
    {
      "cell_type": "markdown",
      "metadata": {
        "id": "rlz46GtgsuKA"
      },
      "source": [
        "<br>\n",
        "<font color=blue>6-1. df6에 대해 X, y 값을 가지고 8:2 비율로 Train , Test Dataset으로 나누세요. (y 클래스 비율에 맞게 분리, y 값은 'trm_yn_Y' 컬럼, random_state는 42)</font>"
      ]
    },
    {
      "cell_type": "code",
      "execution_count": null,
      "metadata": {
        "id": "LNuAZxGWsuKB"
      },
      "outputs": [],
      "source": [
        "# 여기에 답안코드를 작성하세요.\n",
        "from sklearn.model_selection import train_test_split\n",
        "X=df6.drop(['trm_yn_Y'], axis=1)\n",
        "y=df6['trm_yn_Y']\n",
        "\n",
        "X_train,X_val,y_train,y_val = train_test_split(X,y,test_size=0.2,random_state=42,stratify=y)"
      ]
    },
    {
      "cell_type": "markdown",
      "metadata": {
        "id": "LTeQLz_1suKB"
      },
      "source": [
        "<br>"
      ]
    },
    {
      "cell_type": "markdown",
      "metadata": {
        "id": "jJC3ly07suKB"
      },
      "source": [
        "## **<span style=\"color:black\">7. 데이터 정규분포화, 표준화</span>**"
      ]
    },
    {
      "cell_type": "markdown",
      "metadata": {
        "id": "kGa_RHhmsuKB"
      },
      "source": [
        "<br>\n",
        "<font color=blue>7-1. 사이킷런의 StandardScaler로 훈련데이터셋은 정규분포화(fit_transform)하고 테스트 데이터셋은 표준화(transform)하세요.</font>"
      ]
    },
    {
      "cell_type": "code",
      "execution_count": null,
      "metadata": {
        "id": "Cr0hg06asuKB"
      },
      "outputs": [],
      "source": [
        "# 여기에 답안코드를 작성하세요.\n",
        "from sklearn.preprocessing import StandardScaler\n",
        "sc=StandardScaler()\n",
        "X_train = sc.fit_transform(X_train)\n",
        "X_val = sc.transform(X_val)\n"
      ]
    },
    {
      "cell_type": "markdown",
      "metadata": {
        "id": "AD3PtItPsuKB"
      },
      "source": [
        "## **<span style=\"color:black\">8. 머신러닝 모델링 & 모델 성능평가 및 그래프 출력</span>**"
      ]
    },
    {
      "cell_type": "markdown",
      "metadata": {
        "id": "zEANF-JnsuKB"
      },
      "source": [
        "### 로지스틱 회귀 (LogisticRegression, 분류)"
      ]
    },
    {
      "cell_type": "markdown",
      "metadata": {
        "id": "LbC2OrXQsuKB"
      },
      "source": [
        "<br>\n",
        "<font color=blue>8-1. LogisticRegression 모델을 만들고 학습을 진행하세요 (단, 규제강도C는 10으로 설정, 계산에 사용할 작업수 max_iter는 2000으로 설정하세요)</font>"
      ]
    },
    {
      "cell_type": "code",
      "execution_count": null,
      "metadata": {
        "colab": {
          "base_uri": "https://localhost:8080/",
          "height": 74
        },
        "id": "gNEWXYE7suKB",
        "outputId": "7810da65-a4a9-49e9-b62b-e46d59c0a90c"
      },
      "outputs": [
        {
          "output_type": "execute_result",
          "data": {
            "text/plain": [
              "LogisticRegression(C=10, max_iter=2000)"
            ],
            "text/html": [
              "<style>#sk-container-id-1 {color: black;background-color: white;}#sk-container-id-1 pre{padding: 0;}#sk-container-id-1 div.sk-toggleable {background-color: white;}#sk-container-id-1 label.sk-toggleable__label {cursor: pointer;display: block;width: 100%;margin-bottom: 0;padding: 0.3em;box-sizing: border-box;text-align: center;}#sk-container-id-1 label.sk-toggleable__label-arrow:before {content: \"▸\";float: left;margin-right: 0.25em;color: #696969;}#sk-container-id-1 label.sk-toggleable__label-arrow:hover:before {color: black;}#sk-container-id-1 div.sk-estimator:hover label.sk-toggleable__label-arrow:before {color: black;}#sk-container-id-1 div.sk-toggleable__content {max-height: 0;max-width: 0;overflow: hidden;text-align: left;background-color: #f0f8ff;}#sk-container-id-1 div.sk-toggleable__content pre {margin: 0.2em;color: black;border-radius: 0.25em;background-color: #f0f8ff;}#sk-container-id-1 input.sk-toggleable__control:checked~div.sk-toggleable__content {max-height: 200px;max-width: 100%;overflow: auto;}#sk-container-id-1 input.sk-toggleable__control:checked~label.sk-toggleable__label-arrow:before {content: \"▾\";}#sk-container-id-1 div.sk-estimator input.sk-toggleable__control:checked~label.sk-toggleable__label {background-color: #d4ebff;}#sk-container-id-1 div.sk-label input.sk-toggleable__control:checked~label.sk-toggleable__label {background-color: #d4ebff;}#sk-container-id-1 input.sk-hidden--visually {border: 0;clip: rect(1px 1px 1px 1px);clip: rect(1px, 1px, 1px, 1px);height: 1px;margin: -1px;overflow: hidden;padding: 0;position: absolute;width: 1px;}#sk-container-id-1 div.sk-estimator {font-family: monospace;background-color: #f0f8ff;border: 1px dotted black;border-radius: 0.25em;box-sizing: border-box;margin-bottom: 0.5em;}#sk-container-id-1 div.sk-estimator:hover {background-color: #d4ebff;}#sk-container-id-1 div.sk-parallel-item::after {content: \"\";width: 100%;border-bottom: 1px solid gray;flex-grow: 1;}#sk-container-id-1 div.sk-label:hover label.sk-toggleable__label {background-color: #d4ebff;}#sk-container-id-1 div.sk-serial::before {content: \"\";position: absolute;border-left: 1px solid gray;box-sizing: border-box;top: 0;bottom: 0;left: 50%;z-index: 0;}#sk-container-id-1 div.sk-serial {display: flex;flex-direction: column;align-items: center;background-color: white;padding-right: 0.2em;padding-left: 0.2em;position: relative;}#sk-container-id-1 div.sk-item {position: relative;z-index: 1;}#sk-container-id-1 div.sk-parallel {display: flex;align-items: stretch;justify-content: center;background-color: white;position: relative;}#sk-container-id-1 div.sk-item::before, #sk-container-id-1 div.sk-parallel-item::before {content: \"\";position: absolute;border-left: 1px solid gray;box-sizing: border-box;top: 0;bottom: 0;left: 50%;z-index: -1;}#sk-container-id-1 div.sk-parallel-item {display: flex;flex-direction: column;z-index: 1;position: relative;background-color: white;}#sk-container-id-1 div.sk-parallel-item:first-child::after {align-self: flex-end;width: 50%;}#sk-container-id-1 div.sk-parallel-item:last-child::after {align-self: flex-start;width: 50%;}#sk-container-id-1 div.sk-parallel-item:only-child::after {width: 0;}#sk-container-id-1 div.sk-dashed-wrapped {border: 1px dashed gray;margin: 0 0.4em 0.5em 0.4em;box-sizing: border-box;padding-bottom: 0.4em;background-color: white;}#sk-container-id-1 div.sk-label label {font-family: monospace;font-weight: bold;display: inline-block;line-height: 1.2em;}#sk-container-id-1 div.sk-label-container {text-align: center;}#sk-container-id-1 div.sk-container {/* jupyter's `normalize.less` sets `[hidden] { display: none; }` but bootstrap.min.css set `[hidden] { display: none !important; }` so we also need the `!important` here to be able to override the default hidden behavior on the sphinx rendered scikit-learn.org. See: https://github.com/scikit-learn/scikit-learn/issues/21755 */display: inline-block !important;position: relative;}#sk-container-id-1 div.sk-text-repr-fallback {display: none;}</style><div id=\"sk-container-id-1\" class=\"sk-top-container\"><div class=\"sk-text-repr-fallback\"><pre>LogisticRegression(C=10, max_iter=2000)</pre><b>In a Jupyter environment, please rerun this cell to show the HTML representation or trust the notebook. <br />On GitHub, the HTML representation is unable to render, please try loading this page with nbviewer.org.</b></div><div class=\"sk-container\" hidden><div class=\"sk-item\"><div class=\"sk-estimator sk-toggleable\"><input class=\"sk-toggleable__control sk-hidden--visually\" id=\"sk-estimator-id-1\" type=\"checkbox\" checked><label for=\"sk-estimator-id-1\" class=\"sk-toggleable__label sk-toggleable__label-arrow\">LogisticRegression</label><div class=\"sk-toggleable__content\"><pre>LogisticRegression(C=10, max_iter=2000)</pre></div></div></div></div></div>"
            ]
          },
          "metadata": {},
          "execution_count": 37
        }
      ],
      "source": [
        "# 여기에 답안코드를 작성하세요.\n",
        "from sklearn.linear_model import LogisticRegression\n",
        "model = LogisticRegression(C=10, max_iter=2000)\n",
        "model.fit(X_train, y_train)"
      ]
    },
    {
      "cell_type": "markdown",
      "metadata": {
        "id": "mEhPuypfsuKB"
      },
      "source": [
        "<br>\n",
        "<font color=blue>8-2. 위 모델의 성능을 평가하려고 합니다. y값을 예측하여 confusion matrix를 구하고 heatmap 그래프로 시각화하세요. 그리고 Scikit-learn의 classification_report를 활용하여 성능을 출력하세요.</font>"
      ]
    },
    {
      "cell_type": "code",
      "execution_count": null,
      "metadata": {
        "colab": {
          "base_uri": "https://localhost:8080/",
          "height": 594
        },
        "id": "8Kau3V1JsuKB",
        "outputId": "71c1e6be-2c8a-498d-e5f3-49ffbe0fc7ee"
      },
      "outputs": [
        {
          "output_type": "stream",
          "name": "stdout",
          "text": [
            "              precision    recall  f1-score   support\n",
            "\n",
            "           0       0.98      1.00      0.99      1955\n",
            "           1       0.25      0.02      0.04        45\n",
            "\n",
            "    accuracy                           0.98      2000\n",
            "   macro avg       0.61      0.51      0.51      2000\n",
            "weighted avg       0.96      0.98      0.97      2000\n",
            "\n"
          ]
        },
        {
          "output_type": "display_data",
          "data": {
            "text/plain": [
              "<Figure size 640x480 with 2 Axes>"
            ],
            "image/png": "[encoded data removed]"
          },
          "metadata": {}
        }
      ],
      "source": [
        "# 여기에 답안코드를 작성하세요.\n",
        "from sklearn.metrics import confusion_matrix, classification_report\n",
        "y_pred = model.predict(X_val)\n",
        "cm = confusion_matrix(y_val,y_pred)\n",
        "sns.heatmap(cm)\n",
        "print(classification_report(y_val,y_pred))"
      ]
    },
    {
      "cell_type": "markdown",
      "metadata": {
        "id": "A8WZBLqOsuKB"
      },
      "source": [
        "<br>\n",
        "<font color=blue>8-3. DecisionTree 모델을 만들고 학습을 진행하세요. (단, max_depth는 10, random_state는 42로 설정)</font>"
      ]
    },
    {
      "cell_type": "code",
      "execution_count": null,
      "metadata": {
        "colab": {
          "base_uri": "https://localhost:8080/",
          "height": 74
        },
        "id": "6VoEVn68suKB",
        "outputId": "50d72af1-5ed0-4e00-fe95-2ddd70778416"
      },
      "outputs": [
        {
          "output_type": "execute_result",
          "data": {
            "text/plain": [
              "DecisionTreeClassifier(max_depth=10, random_state=42)"
            ],
            "text/html": [
              "<style>#sk-container-id-2 {color: black;background-color: white;}#sk-container-id-2 pre{padding: 0;}#sk-container-id-2 div.sk-toggleable {background-color: white;}#sk-container-id-2 label.sk-toggleable__label {cursor: pointer;display: block;width: 100%;margin-bottom: 0;padding: 0.3em;box-sizing: border-box;text-align: center;}#sk-container-id-2 label.sk-toggleable__label-arrow:before {content: \"▸\";float: left;margin-right: 0.25em;color: #696969;}#sk-container-id-2 label.sk-toggleable__label-arrow:hover:before {color: black;}#sk-container-id-2 div.sk-estimator:hover label.sk-toggleable__label-arrow:before {color: black;}#sk-container-id-2 div.sk-toggleable__content {max-height: 0;max-width: 0;overflow: hidden;text-align: left;background-color: #f0f8ff;}#sk-container-id-2 div.sk-toggleable__content pre {margin: 0.2em;color: black;border-radius: 0.25em;background-color: #f0f8ff;}#sk-container-id-2 input.sk-toggleable__control:checked~div.sk-toggleable__content {max-height: 200px;max-width: 100%;overflow: auto;}#sk-container-id-2 input.sk-toggleable__control:checked~label.sk-toggleable__label-arrow:before {content: \"▾\";}#sk-container-id-2 div.sk-estimator input.sk-toggleable__control:checked~label.sk-toggleable__label {background-color: #d4ebff;}#sk-container-id-2 div.sk-label input.sk-toggleable__control:checked~label.sk-toggleable__label {background-color: #d4ebff;}#sk-container-id-2 input.sk-hidden--visually {border: 0;clip: rect(1px 1px 1px 1px);clip: rect(1px, 1px, 1px, 1px);height: 1px;margin: -1px;overflow: hidden;padding: 0;position: absolute;width: 1px;}#sk-container-id-2 div.sk-estimator {font-family: monospace;background-color: #f0f8ff;border: 1px dotted black;border-radius: 0.25em;box-sizing: border-box;margin-bottom: 0.5em;}#sk-container-id-2 div.sk-estimator:hover {background-color: #d4ebff;}#sk-container-id-2 div.sk-parallel-item::after {content: \"\";width: 100%;border-bottom: 1px solid gray;flex-grow: 1;}#sk-container-id-2 div.sk-label:hover label.sk-toggleable__label {background-color: #d4ebff;}#sk-container-id-2 div.sk-serial::before {content: \"\";position: absolute;border-left: 1px solid gray;box-sizing: border-box;top: 0;bottom: 0;left: 50%;z-index: 0;}#sk-container-id-2 div.sk-serial {display: flex;flex-direction: column;align-items: center;background-color: white;padding-right: 0.2em;padding-left: 0.2em;position: relative;}#sk-container-id-2 div.sk-item {position: relative;z-index: 1;}#sk-container-id-2 div.sk-parallel {display: flex;align-items: stretch;justify-content: center;background-color: white;position: relative;}#sk-container-id-2 div.sk-item::before, #sk-container-id-2 div.sk-parallel-item::before {content: \"\";position: absolute;border-left: 1px solid gray;box-sizing: border-box;top: 0;bottom: 0;left: 50%;z-index: -1;}#sk-container-id-2 div.sk-parallel-item {display: flex;flex-direction: column;z-index: 1;position: relative;background-color: white;}#sk-container-id-2 div.sk-parallel-item:first-child::after {align-self: flex-end;width: 50%;}#sk-container-id-2 div.sk-parallel-item:last-child::after {align-self: flex-start;width: 50%;}#sk-container-id-2 div.sk-parallel-item:only-child::after {width: 0;}#sk-container-id-2 div.sk-dashed-wrapped {border: 1px dashed gray;margin: 0 0.4em 0.5em 0.4em;box-sizing: border-box;padding-bottom: 0.4em;background-color: white;}#sk-container-id-2 div.sk-label label {font-family: monospace;font-weight: bold;display: inline-block;line-height: 1.2em;}#sk-container-id-2 div.sk-label-container {text-align: center;}#sk-container-id-2 div.sk-container {/* jupyter's `normalize.less` sets `[hidden] { display: none; }` but bootstrap.min.css set `[hidden] { display: none !important; }` so we also need the `!important` here to be able to override the default hidden behavior on the sphinx rendered scikit-learn.org. See: https://github.com/scikit-learn/scikit-learn/issues/21755 */display: inline-block !important;position: relative;}#sk-container-id-2 div.sk-text-repr-fallback {display: none;}</style><div id=\"sk-container-id-2\" class=\"sk-top-container\"><div class=\"sk-text-repr-fallback\"><pre>DecisionTreeClassifier(max_depth=10, random_state=42)</pre><b>In a Jupyter environment, please rerun this cell to show the HTML representation or trust the notebook. <br />On GitHub, the HTML representation is unable to render, please try loading this page with nbviewer.org.</b></div><div class=\"sk-container\" hidden><div class=\"sk-item\"><div class=\"sk-estimator sk-toggleable\"><input class=\"sk-toggleable__control sk-hidden--visually\" id=\"sk-estimator-id-2\" type=\"checkbox\" checked><label for=\"sk-estimator-id-2\" class=\"sk-toggleable__label sk-toggleable__label-arrow\">DecisionTreeClassifier</label><div class=\"sk-toggleable__content\"><pre>DecisionTreeClassifier(max_depth=10, random_state=42)</pre></div></div></div></div></div>"
            ]
          },
          "metadata": {},
          "execution_count": 39
        }
      ],
      "source": [
        "# 여기에 답안코드를 작성하세요.\n",
        "from sklearn.tree import DecisionTreeClassifier\n",
        "model=DecisionTreeClassifier(max_depth=10, random_state=42)\n",
        "model.fit(X_train, y_train)"
      ]
    },
    {
      "cell_type": "markdown",
      "metadata": {
        "id": "Hr2cChX_suKB"
      },
      "source": [
        "<br>\n",
        "<font color=blue>8-4. RandomForest 모델을 만들고 학습을 진행하세요. (단, n_estimators=100, random_state=42 설정)</font>"
      ]
    },
    {
      "cell_type": "code",
      "execution_count": null,
      "metadata": {
        "colab": {
          "base_uri": "https://localhost:8080/",
          "height": 74
        },
        "id": "tKH7lSGnsuKC",
        "outputId": "e0ed0452-e9bf-4bbc-9165-1fcc9a7064a8"
      },
      "outputs": [
        {
          "output_type": "execute_result",
          "data": {
            "text/plain": [
              "RandomForestClassifier(random_state=42)"
            ],
            "text/html": [
              "<style>#sk-container-id-3 {color: black;background-color: white;}#sk-container-id-3 pre{padding: 0;}#sk-container-id-3 div.sk-toggleable {background-color: white;}#sk-container-id-3 label.sk-toggleable__label {cursor: pointer;display: block;width: 100%;margin-bottom: 0;padding: 0.3em;box-sizing: border-box;text-align: center;}#sk-container-id-3 label.sk-toggleable__label-arrow:before {content: \"▸\";float: left;margin-right: 0.25em;color: #696969;}#sk-container-id-3 label.sk-toggleable__label-arrow:hover:before {color: black;}#sk-container-id-3 div.sk-estimator:hover label.sk-toggleable__label-arrow:before {color: black;}#sk-container-id-3 div.sk-toggleable__content {max-height: 0;max-width: 0;overflow: hidden;text-align: left;background-color: #f0f8ff;}#sk-container-id-3 div.sk-toggleable__content pre {margin: 0.2em;color: black;border-radius: 0.25em;background-color: #f0f8ff;}#sk-container-id-3 input.sk-toggleable__control:checked~div.sk-toggleable__content {max-height: 200px;max-width: 100%;overflow: auto;}#sk-container-id-3 input.sk-toggleable__control:checked~label.sk-toggleable__label-arrow:before {content: \"▾\";}#sk-container-id-3 div.sk-estimator input.sk-toggleable__control:checked~label.sk-toggleable__label {background-color: #d4ebff;}#sk-container-id-3 div.sk-label input.sk-toggleable__control:checked~label.sk-toggleable__label {background-color: #d4ebff;}#sk-container-id-3 input.sk-hidden--visually {border: 0;clip: rect(1px 1px 1px 1px);clip: rect(1px, 1px, 1px, 1px);height: 1px;margin: -1px;overflow: hidden;padding: 0;position: absolute;width: 1px;}#sk-container-id-3 div.sk-estimator {font-family: monospace;background-color: #f0f8ff;border: 1px dotted black;border-radius: 0.25em;box-sizing: border-box;margin-bottom: 0.5em;}#sk-container-id-3 div.sk-estimator:hover {background-color: #d4ebff;}#sk-container-id-3 div.sk-parallel-item::after {content: \"\";width: 100%;border-bottom: 1px solid gray;flex-grow: 1;}#sk-container-id-3 div.sk-label:hover label.sk-toggleable__label {background-color: #d4ebff;}#sk-container-id-3 div.sk-serial::before {content: \"\";position: absolute;border-left: 1px solid gray;box-sizing: border-box;top: 0;bottom: 0;left: 50%;z-index: 0;}#sk-container-id-3 div.sk-serial {display: flex;flex-direction: column;align-items: center;background-color: white;padding-right: 0.2em;padding-left: 0.2em;position: relative;}#sk-container-id-3 div.sk-item {position: relative;z-index: 1;}#sk-container-id-3 div.sk-parallel {display: flex;align-items: stretch;justify-content: center;background-color: white;position: relative;}#sk-container-id-3 div.sk-item::before, #sk-container-id-3 div.sk-parallel-item::before {content: \"\";position: absolute;border-left: 1px solid gray;box-sizing: border-box;top: 0;bottom: 0;left: 50%;z-index: -1;}#sk-container-id-3 div.sk-parallel-item {display: flex;flex-direction: column;z-index: 1;position: relative;background-color: white;}#sk-container-id-3 div.sk-parallel-item:first-child::after {align-self: flex-end;width: 50%;}#sk-container-id-3 div.sk-parallel-item:last-child::after {align-self: flex-start;width: 50%;}#sk-container-id-3 div.sk-parallel-item:only-child::after {width: 0;}#sk-container-id-3 div.sk-dashed-wrapped {border: 1px dashed gray;margin: 0 0.4em 0.5em 0.4em;box-sizing: border-box;padding-bottom: 0.4em;background-color: white;}#sk-container-id-3 div.sk-label label {font-family: monospace;font-weight: bold;display: inline-block;line-height: 1.2em;}#sk-container-id-3 div.sk-label-container {text-align: center;}#sk-container-id-3 div.sk-container {/* jupyter's `normalize.less` sets `[hidden] { display: none; }` but bootstrap.min.css set `[hidden] { display: none !important; }` so we also need the `!important` here to be able to override the default hidden behavior on the sphinx rendered scikit-learn.org. See: https://github.com/scikit-learn/scikit-learn/issues/21755 */display: inline-block !important;position: relative;}#sk-container-id-3 div.sk-text-repr-fallback {display: none;}</style><div id=\"sk-container-id-3\" class=\"sk-top-container\"><div class=\"sk-text-repr-fallback\"><pre>RandomForestClassifier(random_state=42)</pre><b>In a Jupyter environment, please rerun this cell to show the HTML representation or trust the notebook. <br />On GitHub, the HTML representation is unable to render, please try loading this page with nbviewer.org.</b></div><div class=\"sk-container\" hidden><div class=\"sk-item\"><div class=\"sk-estimator sk-toggleable\"><input class=\"sk-toggleable__control sk-hidden--visually\" id=\"sk-estimator-id-3\" type=\"checkbox\" checked><label for=\"sk-estimator-id-3\" class=\"sk-toggleable__label sk-toggleable__label-arrow\">RandomForestClassifier</label><div class=\"sk-toggleable__content\"><pre>RandomForestClassifier(random_state=42)</pre></div></div></div></div></div>"
            ]
          },
          "metadata": {},
          "execution_count": 40
        }
      ],
      "source": [
        "# 여기에 답안코드를 작성하세요.\n",
        "from sklearn.ensemble import RandomForestClassifier\n",
        "model = RandomForestClassifier(n_estimators=100,random_state=42)\n",
        "model.fit(X_train, y_train)"
      ]
    },
    {
      "cell_type": "markdown",
      "metadata": {
        "id": "1RDJ-I4ZsuKC"
      },
      "source": [
        "<br>\n",
        "<font color=blue>8-5. XGBoost 모델을 만들고 학습을 진행하세요. (단, n_estimators=5 설정)</font>"
      ]
    },
    {
      "cell_type": "code",
      "execution_count": null,
      "metadata": {
        "colab": {
          "base_uri": "https://localhost:8080/",
          "height": 248
        },
        "id": "NOJCBZVysuKC",
        "outputId": "26c91c7f-97a9-491d-a98d-e9e4dd66419e"
      },
      "outputs": [
        {
          "output_type": "execute_result",
          "data": {
            "text/plain": [
              "XGBClassifier(base_score=None, booster=None, callbacks=None,\n",
              "              colsample_bylevel=None, colsample_bynode=None,\n",
              "              colsample_bytree=None, device=None, early_stopping_rounds=None,\n",
              "              enable_categorical=False, eval_metric=None, feature_types=None,\n",
              "              gamma=None, grow_policy=None, importance_type=None,\n",
              "              interaction_constraints=None, learning_rate=None, max_bin=None,\n",
              "              max_cat_threshold=None, max_cat_to_onehot=None,\n",
              "              max_delta_step=None, max_depth=None, max_leaves=None,\n",
              "              min_child_weight=None, missing=nan, monotone_constraints=None,\n",
              "              multi_strategy=None, n_estimators=5, n_jobs=None,\n",
              "              num_parallel_tree=None, random_state=None, ...)"
            ],
            "text/html": [
              "<style>#sk-container-id-4 {color: black;background-color: white;}#sk-container-id-4 pre{padding: 0;}#sk-container-id-4 div.sk-toggleable {background-color: white;}#sk-container-id-4 label.sk-toggleable__label {cursor: pointer;display: block;width: 100%;margin-bottom: 0;padding: 0.3em;box-sizing: border-box;text-align: center;}#sk-container-id-4 label.sk-toggleable__label-arrow:before {content: \"▸\";float: left;margin-right: 0.25em;color: #696969;}#sk-container-id-4 label.sk-toggleable__label-arrow:hover:before {color: black;}#sk-container-id-4 div.sk-estimator:hover label.sk-toggleable__label-arrow:before {color: black;}#sk-container-id-4 div.sk-toggleable__content {max-height: 0;max-width: 0;overflow: hidden;text-align: left;background-color: #f0f8ff;}#sk-container-id-4 div.sk-toggleable__content pre {margin: 0.2em;color: black;border-radius: 0.25em;background-color: #f0f8ff;}#sk-container-id-4 input.sk-toggleable__control:checked~div.sk-toggleable__content {max-height: 200px;max-width: 100%;overflow: auto;}#sk-container-id-4 input.sk-toggleable__control:checked~label.sk-toggleable__label-arrow:before {content: \"▾\";}#sk-container-id-4 div.sk-estimator input.sk-toggleable__control:checked~label.sk-toggleable__label {background-color: #d4ebff;}#sk-container-id-4 div.sk-label input.sk-toggleable__control:checked~label.sk-toggleable__label {background-color: #d4ebff;}#sk-container-id-4 input.sk-hidden--visually {border: 0;clip: rect(1px 1px 1px 1px);clip: rect(1px, 1px, 1px, 1px);height: 1px;margin: -1px;overflow: hidden;padding: 0;position: absolute;width: 1px;}#sk-container-id-4 div.sk-estimator {font-family: monospace;background-color: #f0f8ff;border: 1px dotted black;border-radius: 0.25em;box-sizing: border-box;margin-bottom: 0.5em;}#sk-container-id-4 div.sk-estimator:hover {background-color: #d4ebff;}#sk-container-id-4 div.sk-parallel-item::after {content: \"\";width: 100%;border-bottom: 1px solid gray;flex-grow: 1;}#sk-container-id-4 div.sk-label:hover label.sk-toggleable__label {background-color: #d4ebff;}#sk-container-id-4 div.sk-serial::before {content: \"\";position: absolute;border-left: 1px solid gray;box-sizing: border-box;top: 0;bottom: 0;left: 50%;z-index: 0;}#sk-container-id-4 div.sk-serial {display: flex;flex-direction: column;align-items: center;background-color: white;padding-right: 0.2em;padding-left: 0.2em;position: relative;}#sk-container-id-4 div.sk-item {position: relative;z-index: 1;}#sk-container-id-4 div.sk-parallel {display: flex;align-items: stretch;justify-content: center;background-color: white;position: relative;}#sk-container-id-4 div.sk-item::before, #sk-container-id-4 div.sk-parallel-item::before {content: \"\";position: absolute;border-left: 1px solid gray;box-sizing: border-box;top: 0;bottom: 0;left: 50%;z-index: -1;}#sk-container-id-4 div.sk-parallel-item {display: flex;flex-direction: column;z-index: 1;position: relative;background-color: white;}#sk-container-id-4 div.sk-parallel-item:first-child::after {align-self: flex-end;width: 50%;}#sk-container-id-4 div.sk-parallel-item:last-child::after {align-self: flex-start;width: 50%;}#sk-container-id-4 div.sk-parallel-item:only-child::after {width: 0;}#sk-container-id-4 div.sk-dashed-wrapped {border: 1px dashed gray;margin: 0 0.4em 0.5em 0.4em;box-sizing: border-box;padding-bottom: 0.4em;background-color: white;}#sk-container-id-4 div.sk-label label {font-family: monospace;font-weight: bold;display: inline-block;line-height: 1.2em;}#sk-container-id-4 div.sk-label-container {text-align: center;}#sk-container-id-4 div.sk-container {/* jupyter's `normalize.less` sets `[hidden] { display: none; }` but bootstrap.min.css set `[hidden] { display: none !important; }` so we also need the `!important` here to be able to override the default hidden behavior on the sphinx rendered scikit-learn.org. See: https://github.com/scikit-learn/scikit-learn/issues/21755 */display: inline-block !important;position: relative;}#sk-container-id-4 div.sk-text-repr-fallback {display: none;}</style><div id=\"sk-container-id-4\" class=\"sk-top-container\"><div class=\"sk-text-repr-fallback\"><pre>XGBClassifier(base_score=None, booster=None, callbacks=None,\n",
              "              colsample_bylevel=None, colsample_bynode=None,\n",
              "              colsample_bytree=None, device=None, early_stopping_rounds=None,\n",
              "              enable_categorical=False, eval_metric=None, feature_types=None,\n",
              "              gamma=None, grow_policy=None, importance_type=None,\n",
              "              interaction_constraints=None, learning_rate=None, max_bin=None,\n",
              "              max_cat_threshold=None, max_cat_to_onehot=None,\n",
              "              max_delta_step=None, max_depth=None, max_leaves=None,\n",
              "              min_child_weight=None, missing=nan, monotone_constraints=None,\n",
              "              multi_strategy=None, n_estimators=5, n_jobs=None,\n",
              "              num_parallel_tree=None, random_state=None, ...)</pre><b>In a Jupyter environment, please rerun this cell to show the HTML representation or trust the notebook. <br />On GitHub, the HTML representation is unable to render, please try loading this page with nbviewer.org.</b></div><div class=\"sk-container\" hidden><div class=\"sk-item\"><div class=\"sk-estimator sk-toggleable\"><input class=\"sk-toggleable__control sk-hidden--visually\" id=\"sk-estimator-id-4\" type=\"checkbox\" checked><label for=\"sk-estimator-id-4\" class=\"sk-toggleable__label sk-toggleable__label-arrow\">XGBClassifier</label><div class=\"sk-toggleable__content\"><pre>XGBClassifier(base_score=None, booster=None, callbacks=None,\n",
              "              colsample_bylevel=None, colsample_bynode=None,\n",
              "              colsample_bytree=None, device=None, early_stopping_rounds=None,\n",
              "              enable_categorical=False, eval_metric=None, feature_types=None,\n",
              "              gamma=None, grow_policy=None, importance_type=None,\n",
              "              interaction_constraints=None, learning_rate=None, max_bin=None,\n",
              "              max_cat_threshold=None, max_cat_to_onehot=None,\n",
              "              max_delta_step=None, max_depth=None, max_leaves=None,\n",
              "              min_child_weight=None, missing=nan, monotone_constraints=None,\n",
              "              multi_strategy=None, n_estimators=5, n_jobs=None,\n",
              "              num_parallel_tree=None, random_state=None, ...)</pre></div></div></div></div></div>"
            ]
          },
          "metadata": {},
          "execution_count": 41
        }
      ],
      "source": [
        "# 여기에 답안코드를 작성하세요.\n",
        "import xgboost as xgb\n",
        "\n",
        "model=xgb.XGBClassifier(n_estimators=5)\n",
        "model.fit(X_train,y_train)"
      ]
    },
    {
      "cell_type": "markdown",
      "metadata": {
        "id": "ZRJjQkVDsuKC"
      },
      "source": [
        "<br>\n",
        "<font color=blue>8-6. Light GBM 모델을 만들고 학습을 진행하세요. (단, n_estimators=3 설정)</font>"
      ]
    },
    {
      "cell_type": "code",
      "execution_count": null,
      "metadata": {
        "colab": {
          "base_uri": "https://localhost:8080/",
          "height": 240
        },
        "id": "8HqEwPbmsuKC",
        "outputId": "4007e954-4520-40a2-d18b-f0380c60d58c"
      },
      "outputs": [
        {
          "output_type": "stream",
          "name": "stdout",
          "text": [
            "[LightGBM] [Info] Number of positive: 179, number of negative: 7821\n",
            "[LightGBM] [Info] Auto-choosing row-wise multi-threading, the overhead of testing was 0.017847 seconds.\n",
            "You can set `force_row_wise=true` to remove the overhead.\n",
            "And if memory is not enough, you can set `force_col_wise=true`.\n",
            "[LightGBM] [Info] Total Bins 895\n",
            "[LightGBM] [Info] Number of data points in the train set: 8000, number of used features: 86\n",
            "[LightGBM] [Info] [binary:BoostFromScore]: pavg=0.022375 -> initscore=-3.777182\n",
            "[LightGBM] [Info] Start training from score -3.777182\n"
          ]
        },
        {
          "output_type": "execute_result",
          "data": {
            "text/plain": [
              "LGBMClassifier(n_estimators=3)"
            ],
            "text/html": [
              "<style>#sk-container-id-5 {color: black;background-color: white;}#sk-container-id-5 pre{padding: 0;}#sk-container-id-5 div.sk-toggleable {background-color: white;}#sk-container-id-5 label.sk-toggleable__label {cursor: pointer;display: block;width: 100%;margin-bottom: 0;padding: 0.3em;box-sizing: border-box;text-align: center;}#sk-container-id-5 label.sk-toggleable__label-arrow:before {content: \"▸\";float: left;margin-right: 0.25em;color: #696969;}#sk-container-id-5 label.sk-toggleable__label-arrow:hover:before {color: black;}#sk-container-id-5 div.sk-estimator:hover label.sk-toggleable__label-arrow:before {color: black;}#sk-container-id-5 div.sk-toggleable__content {max-height: 0;max-width: 0;overflow: hidden;text-align: left;background-color: #f0f8ff;}#sk-container-id-5 div.sk-toggleable__content pre {margin: 0.2em;color: black;border-radius: 0.25em;background-color: #f0f8ff;}#sk-container-id-5 input.sk-toggleable__control:checked~div.sk-toggleable__content {max-height: 200px;max-width: 100%;overflow: auto;}#sk-container-id-5 input.sk-toggleable__control:checked~label.sk-toggleable__label-arrow:before {content: \"▾\";}#sk-container-id-5 div.sk-estimator input.sk-toggleable__control:checked~label.sk-toggleable__label {background-color: #d4ebff;}#sk-container-id-5 div.sk-label input.sk-toggleable__control:checked~label.sk-toggleable__label {background-color: #d4ebff;}#sk-container-id-5 input.sk-hidden--visually {border: 0;clip: rect(1px 1px 1px 1px);clip: rect(1px, 1px, 1px, 1px);height: 1px;margin: -1px;overflow: hidden;padding: 0;position: absolute;width: 1px;}#sk-container-id-5 div.sk-estimator {font-family: monospace;background-color: #f0f8ff;border: 1px dotted black;border-radius: 0.25em;box-sizing: border-box;margin-bottom: 0.5em;}#sk-container-id-5 div.sk-estimator:hover {background-color: #d4ebff;}#sk-container-id-5 div.sk-parallel-item::after {content: \"\";width: 100%;border-bottom: 1px solid gray;flex-grow: 1;}#sk-container-id-5 div.sk-label:hover label.sk-toggleable__label {background-color: #d4ebff;}#sk-container-id-5 div.sk-serial::before {content: \"\";position: absolute;border-left: 1px solid gray;box-sizing: border-box;top: 0;bottom: 0;left: 50%;z-index: 0;}#sk-container-id-5 div.sk-serial {display: flex;flex-direction: column;align-items: center;background-color: white;padding-right: 0.2em;padding-left: 0.2em;position: relative;}#sk-container-id-5 div.sk-item {position: relative;z-index: 1;}#sk-container-id-5 div.sk-parallel {display: flex;align-items: stretch;justify-content: center;background-color: white;position: relative;}#sk-container-id-5 div.sk-item::before, #sk-container-id-5 div.sk-parallel-item::before {content: \"\";position: absolute;border-left: 1px solid gray;box-sizing: border-box;top: 0;bottom: 0;left: 50%;z-index: -1;}#sk-container-id-5 div.sk-parallel-item {display: flex;flex-direction: column;z-index: 1;position: relative;background-color: white;}#sk-container-id-5 div.sk-parallel-item:first-child::after {align-self: flex-end;width: 50%;}#sk-container-id-5 div.sk-parallel-item:last-child::after {align-self: flex-start;width: 50%;}#sk-container-id-5 div.sk-parallel-item:only-child::after {width: 0;}#sk-container-id-5 div.sk-dashed-wrapped {border: 1px dashed gray;margin: 0 0.4em 0.5em 0.4em;box-sizing: border-box;padding-bottom: 0.4em;background-color: white;}#sk-container-id-5 div.sk-label label {font-family: monospace;font-weight: bold;display: inline-block;line-height: 1.2em;}#sk-container-id-5 div.sk-label-container {text-align: center;}#sk-container-id-5 div.sk-container {/* jupyter's `normalize.less` sets `[hidden] { display: none; }` but bootstrap.min.css set `[hidden] { display: none !important; }` so we also need the `!important` here to be able to override the default hidden behavior on the sphinx rendered scikit-learn.org. See: https://github.com/scikit-learn/scikit-learn/issues/21755 */display: inline-block !important;position: relative;}#sk-container-id-5 div.sk-text-repr-fallback {display: none;}</style><div id=\"sk-container-id-5\" class=\"sk-top-container\"><div class=\"sk-text-repr-fallback\"><pre>LGBMClassifier(n_estimators=3)</pre><b>In a Jupyter environment, please rerun this cell to show the HTML representation or trust the notebook. <br />On GitHub, the HTML representation is unable to render, please try loading this page with nbviewer.org.</b></div><div class=\"sk-container\" hidden><div class=\"sk-item\"><div class=\"sk-estimator sk-toggleable\"><input class=\"sk-toggleable__control sk-hidden--visually\" id=\"sk-estimator-id-5\" type=\"checkbox\" checked><label for=\"sk-estimator-id-5\" class=\"sk-toggleable__label sk-toggleable__label-arrow\">LGBMClassifier</label><div class=\"sk-toggleable__content\"><pre>LGBMClassifier(n_estimators=3)</pre></div></div></div></div></div>"
            ]
          },
          "metadata": {},
          "execution_count": 42
        }
      ],
      "source": [
        "# 여기에 답안코드를 작성하세요.\n",
        "from lightgbm import LGBMClassifier\n",
        "model = LGBMClassifier(n_estimators=3)\n",
        "model.fit(X_train,y_train)\n"
      ]
    },
    {
      "cell_type": "markdown",
      "metadata": {
        "id": "VOdGYUoCsuKC"
      },
      "source": [
        "<br>\n",
        "<font color=blue>8-7. Linear Regression 모델을 연습으로 만들고 학습을 진행하세요.</font>"
      ]
    },
    {
      "cell_type": "code",
      "execution_count": null,
      "metadata": {
        "id": "bbdm1Nt0suKC"
      },
      "outputs": [],
      "source": [
        "# 이 데이터로 연습하세요.\n",
        "x_data = np.array([1.6, 2.3, 3.5, 4.6]).reshape(-1,1)\n",
        "y_data = np.array([3.3, 5.5, 7.2, 9.9])"
      ]
    },
    {
      "cell_type": "code",
      "execution_count": null,
      "metadata": {
        "colab": {
          "base_uri": "https://localhost:8080/",
          "height": 74
        },
        "id": "zVZwpIT9suKC",
        "outputId": "1a2a641e-9b68-4534-8ef9-5b02f09e1315"
      },
      "outputs": [
        {
          "output_type": "execute_result",
          "data": {
            "text/plain": [
              "LinearRegression()"
            ],
            "text/html": [
              "<style>#sk-container-id-6 {color: black;background-color: white;}#sk-container-id-6 pre{padding: 0;}#sk-container-id-6 div.sk-toggleable {background-color: white;}#sk-container-id-6 label.sk-toggleable__label {cursor: pointer;display: block;width: 100%;margin-bottom: 0;padding: 0.3em;box-sizing: border-box;text-align: center;}#sk-container-id-6 label.sk-toggleable__label-arrow:before {content: \"▸\";float: left;margin-right: 0.25em;color: #696969;}#sk-container-id-6 label.sk-toggleable__label-arrow:hover:before {color: black;}#sk-container-id-6 div.sk-estimator:hover label.sk-toggleable__label-arrow:before {color: black;}#sk-container-id-6 div.sk-toggleable__content {max-height: 0;max-width: 0;overflow: hidden;text-align: left;background-color: #f0f8ff;}#sk-container-id-6 div.sk-toggleable__content pre {margin: 0.2em;color: black;border-radius: 0.25em;background-color: #f0f8ff;}#sk-container-id-6 input.sk-toggleable__control:checked~div.sk-toggleable__content {max-height: 200px;max-width: 100%;overflow: auto;}#sk-container-id-6 input.sk-toggleable__control:checked~label.sk-toggleable__label-arrow:before {content: \"▾\";}#sk-container-id-6 div.sk-estimator input.sk-toggleable__control:checked~label.sk-toggleable__label {background-color: #d4ebff;}#sk-container-id-6 div.sk-label input.sk-toggleable__control:checked~label.sk-toggleable__label {background-color: #d4ebff;}#sk-container-id-6 input.sk-hidden--visually {border: 0;clip: rect(1px 1px 1px 1px);clip: rect(1px, 1px, 1px, 1px);height: 1px;margin: -1px;overflow: hidden;padding: 0;position: absolute;width: 1px;}#sk-container-id-6 div.sk-estimator {font-family: monospace;background-color: #f0f8ff;border: 1px dotted black;border-radius: 0.25em;box-sizing: border-box;margin-bottom: 0.5em;}#sk-container-id-6 div.sk-estimator:hover {background-color: #d4ebff;}#sk-container-id-6 div.sk-parallel-item::after {content: \"\";width: 100%;border-bottom: 1px solid gray;flex-grow: 1;}#sk-container-id-6 div.sk-label:hover label.sk-toggleable__label {background-color: #d4ebff;}#sk-container-id-6 div.sk-serial::before {content: \"\";position: absolute;border-left: 1px solid gray;box-sizing: border-box;top: 0;bottom: 0;left: 50%;z-index: 0;}#sk-container-id-6 div.sk-serial {display: flex;flex-direction: column;align-items: center;background-color: white;padding-right: 0.2em;padding-left: 0.2em;position: relative;}#sk-container-id-6 div.sk-item {position: relative;z-index: 1;}#sk-container-id-6 div.sk-parallel {display: flex;align-items: stretch;justify-content: center;background-color: white;position: relative;}#sk-container-id-6 div.sk-item::before, #sk-container-id-6 div.sk-parallel-item::before {content: \"\";position: absolute;border-left: 1px solid gray;box-sizing: border-box;top: 0;bottom: 0;left: 50%;z-index: -1;}#sk-container-id-6 div.sk-parallel-item {display: flex;flex-direction: column;z-index: 1;position: relative;background-color: white;}#sk-container-id-6 div.sk-parallel-item:first-child::after {align-self: flex-end;width: 50%;}#sk-container-id-6 div.sk-parallel-item:last-child::after {align-self: flex-start;width: 50%;}#sk-container-id-6 div.sk-parallel-item:only-child::after {width: 0;}#sk-container-id-6 div.sk-dashed-wrapped {border: 1px dashed gray;margin: 0 0.4em 0.5em 0.4em;box-sizing: border-box;padding-bottom: 0.4em;background-color: white;}#sk-container-id-6 div.sk-label label {font-family: monospace;font-weight: bold;display: inline-block;line-height: 1.2em;}#sk-container-id-6 div.sk-label-container {text-align: center;}#sk-container-id-6 div.sk-container {/* jupyter's `normalize.less` sets `[hidden] { display: none; }` but bootstrap.min.css set `[hidden] { display: none !important; }` so we also need the `!important` here to be able to override the default hidden behavior on the sphinx rendered scikit-learn.org. See: https://github.com/scikit-learn/scikit-learn/issues/21755 */display: inline-block !important;position: relative;}#sk-container-id-6 div.sk-text-repr-fallback {display: none;}</style><div id=\"sk-container-id-6\" class=\"sk-top-container\"><div class=\"sk-text-repr-fallback\"><pre>LinearRegression()</pre><b>In a Jupyter environment, please rerun this cell to show the HTML representation or trust the notebook. <br />On GitHub, the HTML representation is unable to render, please try loading this page with nbviewer.org.</b></div><div class=\"sk-container\" hidden><div class=\"sk-item\"><div class=\"sk-estimator sk-toggleable\"><input class=\"sk-toggleable__control sk-hidden--visually\" id=\"sk-estimator-id-6\" type=\"checkbox\" checked><label for=\"sk-estimator-id-6\" class=\"sk-toggleable__label sk-toggleable__label-arrow\">LinearRegression</label><div class=\"sk-toggleable__content\"><pre>LinearRegression()</pre></div></div></div></div></div>"
            ]
          },
          "metadata": {},
          "execution_count": 44
        }
      ],
      "source": [
        "# 여기에 답안코드를 작성하세요.\n",
        "from sklearn.linear_model import LinearRegression\n",
        "model=LinearRegression()\n",
        "model.fit(x_data,y_data)\n"
      ]
    },
    {
      "cell_type": "markdown",
      "metadata": {
        "id": "kT3BydzxsuKC"
      },
      "source": [
        "<br>"
      ]
    },
    {
      "cell_type": "markdown",
      "metadata": {
        "id": "8z1YP6AqsuKC"
      },
      "source": [
        "## **<span style=\"color:black\">9. 딥러닝 모델링 & 모델 성능평가 및 그래프 출력</span>**"
      ]
    },
    {
      "cell_type": "markdown",
      "metadata": {
        "id": "ROVWes-PsuKC"
      },
      "source": [
        "<br>\n",
        "<font color=blue>9-1. 아래 가이드대로 해지여부를 분류하는 딥러닝 모델을 만드세요.</font>"
      ]
    },
    {
      "cell_type": "markdown",
      "metadata": {
        "id": "NN_Bxh1WsuKC"
      },
      "source": [
        "+ 첫번째 Hidden Layer : unit 64 , activation='relu'\n",
        "+ 두번째 Hidden Layer : unit 32 , activation='relu'\n",
        "+ 세번째 Hidden Layer : unit 16 , activation='relu'\n",
        "+ 각 Hidden Layer 마다 Dropout 0.2 비율로 되도록 하세요.\n",
        "+ EarlyStopping 콜백을 적용하고 ModelCheckpoint 콜백으로 validation performance가 좋은 모델을 h5 모델로 저장하세요.\n",
        "+ batch_size는 10, epochs는 10으로 설정하세요."
      ]
    },
    {
      "cell_type": "code",
      "execution_count": null,
      "metadata": {
        "tags": [],
        "colab": {
          "base_uri": "https://localhost:8080/"
        },
        "id": "CP0WUFvasuKC",
        "outputId": "81168cfe-93e0-46e9-bfc5-b3fdbcfd017b"
      },
      "outputs": [
        {
          "output_type": "execute_result",
          "data": {
            "text/plain": [
              "(8000, 120)"
            ]
          },
          "metadata": {},
          "execution_count": 45
        }
      ],
      "source": [
        "X_train.shape"
      ]
    },
    {
      "cell_type": "code",
      "execution_count": null,
      "metadata": {
        "colab": {
          "base_uri": "https://localhost:8080/"
        },
        "id": "a8ZPjDZssuKD",
        "outputId": "43804d20-d24d-43ef-b797-dbaab753970b"
      },
      "outputs": [
        {
          "output_type": "stream",
          "name": "stdout",
          "text": [
            "Epoch 1/10\n",
            "800/800 [==============================] - 7s 6ms/step - loss: 0.2060 - accuracy: 0.9561 - val_loss: 0.1049 - val_accuracy: 0.9775\n",
            "Epoch 2/10\n",
            "800/800 [==============================] - 2s 3ms/step - loss: 0.1103 - accuracy: 0.9778 - val_loss: 0.1008 - val_accuracy: 0.9770\n",
            "Epoch 3/10\n",
            "800/800 [==============================] - 2s 3ms/step - loss: 0.1022 - accuracy: 0.9771 - val_loss: 0.0970 - val_accuracy: 0.9775\n",
            "Epoch 4/10\n",
            "800/800 [==============================] - 2s 3ms/step - loss: 0.0937 - accuracy: 0.9776 - val_loss: 0.1059 - val_accuracy: 0.9765\n",
            "Epoch 5/10\n",
            "800/800 [==============================] - 2s 3ms/step - loss: 0.0913 - accuracy: 0.9780 - val_loss: 0.1029 - val_accuracy: 0.9765\n",
            "Epoch 6/10\n",
            "800/800 [==============================] - 4s 5ms/step - loss: 0.0894 - accuracy: 0.9781 - val_loss: 0.1071 - val_accuracy: 0.9765\n"
          ]
        }
      ],
      "source": [
        "# 여기에 답안코드를 작성하세요.\n",
        "import tensorflow as tf\n",
        "from tensorflow.keras.models import Sequential\n",
        "from tensorflow.keras.layers import Dense, Dropout\n",
        "from tensorflow.keras.callbacks import EarlyStopping, ModelCheckpoint\n",
        "\n",
        "# 모델 초기화\n",
        "model = Sequential()\n",
        "\n",
        "# 첫번째 Hidden Layer\n",
        "model.add(Dense(64, activation='relu', input_shape=(120,)))\n",
        "model.add(Dropout(0.2))\n",
        "\n",
        "# 두번째 Hidden Layer\n",
        "model.add(Dense(32, activation='relu'))\n",
        "model.add(Dropout(0.2))\n",
        "\n",
        "# 세번째 Hidden Layer\n",
        "model.add(Dense(16, activation='relu'))\n",
        "model.add(Dropout(0.2))\n",
        "\n",
        "# 출력 레이어\n",
        "model.add(Dense(5, activation='softmax'))\n",
        "\n",
        "# 모델 컴파일\n",
        "model.compile(optimizer='adam', loss='sparse_categorical_crossentropy', metrics=['accuracy'])\n",
        "\n",
        "# EarlyStopping 콜백 설정\n",
        "es = EarlyStopping(monitor='val_loss', patience=3)\n",
        "\n",
        "# ModelCheckpoint 콜백 설정\n",
        "mc = ModelCheckpoint('best_model.h5', save_best_only=True)\n",
        "\n",
        "# 모델 학습\n",
        "history = model.fit(X_train, y_train, batch_size=10, epochs=10, validation_data=(X_val, y_val), callbacks=[es, mc])\n",
        "\n",
        "mc=ModelCheckpoint('best_model.h5')"
      ]
    },
    {
      "cell_type": "markdown",
      "metadata": {
        "id": "MhWYywlcsuKE"
      },
      "source": [
        "<br>\n",
        "<font color=blue>9-2. 모델 성능을 평가해서 그래프로 표현하세요. 학습 정확도와 검증정확도를 그래프로 표시하고 xlabel에는 Epochs, ylabel에는 Accuracy, 범례에는 Train과 Validation으로 표시하세요..</font>"
      ]
    },
    {
      "cell_type": "code",
      "execution_count": null,
      "metadata": {
        "colab": {
          "base_uri": "https://localhost:8080/",
          "height": 472
        },
        "id": "jtKBsMy9suKE",
        "outputId": "9aa3859b-09ec-4f42-f4fc-ecc7ecd3ef61"
      },
      "outputs": [
        {
          "output_type": "display_data",
          "data": {
            "text/plain": [
              "<Figure size 640x480 with 1 Axes>"
            ],
            "image/png": "[encoded data removed]"
          },
          "metadata": {}
        }
      ],
      "source": [
        "# 여기에 답안코드를 작성하세요.\n",
        "import matplotlib.pyplot as plt\n",
        "\n",
        "# 학습과 검증 정확도 추출\n",
        "train_acc = history.history['accuracy']\n",
        "val_acc = history.history['val_accuracy']\n",
        "\n",
        "# 에포크 수 추출\n",
        "epochs = range(1, len(train_acc) + 1)\n",
        "\n",
        "# 정확도 그래프\n",
        "plt.plot(epochs, train_acc, 'b', label='Training accuracy')\n",
        "plt.plot(epochs, val_acc, 'r', label='Validation accuracy')\n",
        "plt.title('Training and validation accuracy')\n",
        "plt.xlabel('Epochs')\n",
        "plt.ylabel('Accuracy')\n",
        "plt.legend()\n",
        "\n",
        "plt.show()\n"
      ]
    },
    {
      "cell_type": "markdown",
      "metadata": {
        "id": "z7y_8fpmsuKE"
      },
      "source": [
        "<br>\n",
        "<font color=blue>9-3. y값을 예측하여 y_test_pred에 저장하고 정확도를 출력하세요..</font>"
      ]
    },
    {
      "cell_type": "code",
      "execution_count": null,
      "metadata": {
        "tags": [],
        "colab": {
          "base_uri": "https://localhost:8080/"
        },
        "id": "1kxnJS4wsuKE",
        "outputId": "b9d95bc5-83f0-4184-ae82-21e63edbef2c"
      },
      "outputs": [
        {
          "output_type": "stream",
          "name": "stdout",
          "text": [
            "63/63 [==============================] - 0s 1ms/step\n",
            "Test Accuracy: 0.9765\n"
          ]
        }
      ],
      "source": [
        "# 여기에 답안코드를 작성하세요.\n",
        "from sklearn.metrics import accuracy_score\n",
        "\n",
        "y_test_pred_prob = model.predict(X_val)\n",
        "\n",
        "# 확률 중에서 가장 높은 값의 인덱스를 가져와서 예측된 클래스로 사용\n",
        "y_test_pred = np.argmax(y_test_pred_prob, axis=1)\n",
        "\n",
        "# 정확도 계산\n",
        "accuracy = accuracy_score(y_val, y_test_pred)\n",
        "print(\"Test Accuracy:\", accuracy)"
      ]
    },
    {
      "cell_type": "code",
      "source": [],
      "metadata": {
        "id": "8IbLeU850ejG"
      },
      "execution_count": null,
      "outputs": []
    }
  ],
  "metadata": {
    "kernelspec": {
      "display_name": "Python 3 (ipykernel)",
      "language": "python",
      "name": "python3"
    },
    "language_info": {
      "codemirror_mode": {
        "name": "ipython",
        "version": 3
      },
      "file_extension": ".py",
      "mimetype": "text/x-python",
      "name": "python",
      "nbconvert_exporter": "python",
      "pygments_lexer": "ipython3",
      "version": "3.11.3"
    },
    "colab": {
      "provenance": []
    }
  },
  "nbformat": 4,
  "nbformat_minor": 0
}