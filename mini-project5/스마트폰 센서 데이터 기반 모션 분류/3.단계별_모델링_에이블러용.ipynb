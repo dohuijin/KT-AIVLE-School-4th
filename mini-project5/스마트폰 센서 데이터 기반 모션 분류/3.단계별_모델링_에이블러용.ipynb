{
  "cells": [
    {
      "cell_type": "markdown",
      "metadata": {
        "id": "NbI_RoQ9AP5r"
      },
      "source": [
        "#**스마트폰 센서 데이터 기반 모션 분류**\n",
        "# 단계3 : 단계별 모델링\n"
      ]
    },
    {
      "cell_type": "markdown",
      "metadata": {
        "id": "D67PlTu4JGAY"
      },
      "source": [
        "## 0.미션"
      ]
    },
    {
      "cell_type": "markdown",
      "metadata": {
        "id": "wc1FlP4E09oQ"
      },
      "source": [
        "단계별로 나눠서 모델링을 수행하고자 합니다.  \n",
        "\n",
        "* 단계1 : 정적(0), 동적(1) 행동 분류 모델 생성\n",
        "* 단계2 : 세부 동작에 대한 분류모델 생성\n",
        "    * 단계1 모델에서 0으로 예측 -> 정적 행동 3가지 분류 모델링\n",
        "    * 단계1 모델에서 1으로 예측 -> 동적 행동 3가지 분류 모델링\n",
        "* 모델 통합\n",
        "    * 두 단계 모델을 통합하고, 새로운 데이터에 대해서 최종 예측결과와 성능평가가 나오도록 함수로 만들기\n",
        "* 성능 비교\n",
        "    * 기본 모델링의 성능과 비교\n",
        "    * 모든 모델링은 [다양한 알고리즘 + 성능 튜닝]을 수행해야 합니다.\n"
      ]
    },
    {
      "cell_type": "markdown",
      "metadata": {
        "id": "ZSRC8sG-X5DG"
      },
      "source": [
        "## 1.환경설정"
      ]
    },
    {
      "cell_type": "markdown",
      "metadata": {
        "id": "gIE0bM9rX5DH"
      },
      "source": [
        "### (1) 라이브러리 불러오기"
      ]
    },
    {
      "cell_type": "markdown",
      "metadata": {
        "id": "I_rCs78QJZmI"
      },
      "source": [
        "* 세부 요구사항\n",
        "    - 기본적으로 필요한 라이브러리를 import 하도록 코드가 작성되어 있습니다.\n",
        "    - 필요하다고 판단되는 라이브러리를 추가하세요."
      ]
    },
    {
      "cell_type": "code",
      "execution_count": null,
      "metadata": {
        "id": "nTVo8GkVX5DI"
      },
      "outputs": [],
      "source": [
        "import pandas as pd\n",
        "import numpy as np\n",
        "import matplotlib.pyplot as plt\n",
        "import seaborn as sns\n",
        "\n",
        "# 필요하다고 판단되는 라이브러리를 추가하세요.\n",
        "\n",
        "\n",
        "\n"
      ]
    },
    {
      "cell_type": "markdown",
      "metadata": {
        "id": "CJgfVor0X5DJ"
      },
      "source": [
        "### (2) 데이터 불러오기"
      ]
    },
    {
      "cell_type": "markdown",
      "metadata": {
        "id": "9OkifR5rnr2D"
      },
      "source": [
        "* 주어진 데이터셋\n",
        "    * data01_train.csv : 학습 및 검증용\n",
        "\n",
        " <br/>  \n",
        "\n",
        "* 세부 요구사항\n",
        "    - data01_train.csv 를 불러와 'data' 이름으로 저장합니다.\n",
        "        - data에서 변수 subject는 삭제합니다.\n",
        "    - data01_test.csv 를 불러와 'new_data' 이름으로 저장합니다.\n"
      ]
    },
    {
      "cell_type": "code",
      "source": [
        "from google.colab import drive\n",
        "drive.mount('/content/drive')"
      ],
      "metadata": {
        "colab": {
          "base_uri": "https://localhost:8080/"
        },
        "id": "V8uSSBJ8-SYg",
        "outputId": "50ec92aa-b1ff-4126-d1d7-c7fdfbd028c0"
      },
      "execution_count": null,
      "outputs": [
        {
          "output_type": "stream",
          "name": "stdout",
          "text": [
            "Mounted at /content/drive\n"
          ]
        }
      ]
    },
    {
      "cell_type": "code",
      "execution_count": null,
      "metadata": {
        "id": "9CSs-jf6iVJT"
      },
      "outputs": [],
      "source": [
        "data = pd.read_csv('/content/drive/MyDrive/미니프로젝트/5차_/2023.10.25_미니프로젝트5차_실습자료, 데이터/데이터/data01_train.csv')"
      ]
    },
    {
      "cell_type": "code",
      "execution_count": null,
      "metadata": {
        "id": "YnDdnoyHiVGZ"
      },
      "outputs": [],
      "source": [
        "new_data = pd.read_csv('/content/drive/MyDrive/미니프로젝트/5차_/2023.10.25_미니프로젝트5차_실습자료, 데이터/데이터/data01_test.csv')"
      ]
    },
    {
      "cell_type": "code",
      "source": [
        "x_test= pd.read_csv('/content/drive/MyDrive/미니프로젝트/5차_/2023.10.25_미니프로젝트5차_실습자료, 데이터/데이터/data01_test.csv')"
      ],
      "metadata": {
        "id": "I2OmpeHltv2_"
      },
      "execution_count": null,
      "outputs": []
    },
    {
      "cell_type": "code",
      "source": [],
      "metadata": {
        "id": "3pprigAXtgwP"
      },
      "execution_count": null,
      "outputs": []
    },
    {
      "cell_type": "markdown",
      "metadata": {
        "id": "O38e5xai7SIW"
      },
      "source": [
        "## 2.데이터 전처리"
      ]
    },
    {
      "cell_type": "markdown",
      "metadata": {
        "id": "uZwtSLSqcL7G"
      },
      "source": [
        "* 세부 요구사항\n",
        "    - Label 추가 : data 에 Activity_dynamic 를 추가합니다. Activity_dynamic은 과제1에서 is_dynamic과 동일한 값입니다.\n",
        "    - x와 y1, y2로 분할하시오.\n",
        "        * y1 : Activity\n",
        "        * y2 : Activity_dynamic\n",
        "    - train : val = 8 : 2 혹은 7 : 3\n",
        "    - random_state 옵션을 사용하여 다른 모델과 비교를 위해 성능이 재현되도록 합니다."
      ]
    },
    {
      "cell_type": "code",
      "execution_count": null,
      "metadata": {
        "id": "Bs_FHwUuiWWv"
      },
      "outputs": [],
      "source": [
        "is_dynamic = {\n",
        "    'STANDING' : 0,\n",
        "    'SITTING' : 0,\n",
        "    'LAYING' : 0,\n",
        "    'WALKING' : 1,\n",
        "    'WALKING_UPSTAIRS' : 1,\n",
        "    'WALKING_DOWNSTAIRS' : 1\n",
        "}\n",
        "data['Activity_dynamic'] = data['Activity'].replace(is_dynamic)\n",
        "\n"
      ]
    },
    {
      "cell_type": "code",
      "execution_count": null,
      "metadata": {
        "id": "O0nbejEWiWT1"
      },
      "outputs": [],
      "source": [
        "x = data.drop(columns=['Activity', 'Activity_dynamic'])\n",
        "y1 = data['Activity']\n",
        "y2 = data['Activity_dynamic']\n"
      ]
    },
    {
      "cell_type": "code",
      "execution_count": null,
      "metadata": {
        "id": "dBpCxcvyiWRC",
        "colab": {
          "base_uri": "https://localhost:8080/"
        },
        "outputId": "dc48edec-d984-4092-d02f-4d5175d4895d"
      },
      "outputs": [
        {
          "output_type": "execute_result",
          "data": {
            "text/plain": [
              "((1177, 562), (1177, 562))"
            ]
          },
          "metadata": {},
          "execution_count": 37
        }
      ],
      "source": [
        "from sklearn.model_selection import train_test_split\n",
        "x_train, x_val, y_train, y_val = train_test_split(x, y1, test_size=0.2, random_state=42, stratify=y1)\n",
        "x_train_d, x_val_d, y_train_d, y_val_d = train_test_split(x, y2, test_size=0.2, random_state=42, stratify=y2)\n",
        "x_val.shape,x_val_d.shape"
      ]
    },
    {
      "cell_type": "markdown",
      "metadata": {
        "id": "bue7ZTLABQzi"
      },
      "source": [
        "## **3.단계별 모델링**"
      ]
    },
    {
      "cell_type": "markdown",
      "metadata": {
        "id": "cuQX1S5q39Ih"
      },
      "source": [
        "![](https://github.com/DA4BAM/image/blob/main/step%20by%20step.png?raw=true)"
      ]
    },
    {
      "cell_type": "markdown",
      "metadata": {
        "id": "dpEHt7u4CXlb"
      },
      "source": [
        "### (1) 단계1 : 정적/동적 행동 분류 모델"
      ]
    },
    {
      "cell_type": "markdown",
      "metadata": {
        "id": "8onfbGBbh1jr"
      },
      "source": [
        "* 세부 요구사항\n",
        "    * 정적 행동(Laying, Sitting, Standing)과 동적 행동(동적 : Walking, Walking-Up, Walking-Down)을 구분하는 모델 생성.\n",
        "    * 몇가지 모델을 만들고 가장 성능이 좋은 모델을 선정하시오."
      ]
    },
    {
      "cell_type": "markdown",
      "metadata": {
        "id": "zUrmn6T9ic5o"
      },
      "source": [
        "#### 1) 알고리즘1 :"
      ]
    },
    {
      "cell_type": "code",
      "execution_count": null,
      "metadata": {
        "id": "Dl2e52CSiZEa",
        "colab": {
          "base_uri": "https://localhost:8080/"
        },
        "outputId": "5bfce155-7ee2-411f-98c4-d5114595c666"
      },
      "outputs": [
        {
          "output_type": "execute_result",
          "data": {
            "text/plain": [
              "0.9762107051826678"
            ]
          },
          "metadata": {},
          "execution_count": 38
        }
      ],
      "source": [
        "from sklearn.ensemble import RandomForestClassifier\n",
        "rf1 = RandomForestClassifier()\n",
        "rf1.fit(x_train, y_train)\n",
        "\n",
        "rf1.score(x_val,y_val)"
      ]
    },
    {
      "cell_type": "code",
      "execution_count": null,
      "metadata": {
        "id": "egR8oFtSiZBo",
        "colab": {
          "base_uri": "https://localhost:8080/"
        },
        "outputId": "e67a45cb-b1b7-4384-b020-0748c5cc6e79"
      },
      "outputs": [
        {
          "output_type": "execute_result",
          "data": {
            "text/plain": [
              "0.9991503823279524"
            ]
          },
          "metadata": {},
          "execution_count": 39
        }
      ],
      "source": [
        "from sklearn.ensemble import RandomForestClassifier\n",
        "rf2 = RandomForestClassifier()\n",
        "rf2.fit(x_train_d, y_train_d)\n",
        "\n",
        "rf2.score(x_val_d,y_val_d)"
      ]
    },
    {
      "cell_type": "markdown",
      "metadata": {
        "id": "yOmrlWjMihf3"
      },
      "source": [
        "#### 2) 알고리즘2 :"
      ]
    },
    {
      "cell_type": "code",
      "execution_count": null,
      "metadata": {
        "id": "aPFlJFZiihf3",
        "colab": {
          "base_uri": "https://localhost:8080/"
        },
        "outputId": "b69e26bd-657c-4591-e949-58d809069d6e"
      },
      "outputs": [
        {
          "output_type": "stream",
          "name": "stdout",
          "text": [
            "[LightGBM] [Warning] Auto-choosing col-wise multi-threading, the overhead of testing was 0.044440 seconds.\n",
            "You can set `force_col_wise=true` to remove the overhead.\n",
            "[LightGBM] [Info] Total Bins 140168\n",
            "[LightGBM] [Info] Number of data points in the train set: 4704, number of used features: 562\n",
            "[LightGBM] [Info] Start training from score -1.662702\n",
            "[LightGBM] [Info] Start training from score -1.739574\n",
            "[LightGBM] [Info] Start training from score -1.688825\n",
            "[LightGBM] [Info] Start training from score -1.774060\n",
            "[LightGBM] [Info] Start training from score -2.005698\n",
            "[LightGBM] [Info] Start training from score -1.925291\n",
            "[LightGBM] [Warning] No further splits with positive gain, best gain: -inf\n",
            "[LightGBM] [Warning] No further splits with positive gain, best gain: -inf\n",
            "[LightGBM] [Warning] No further splits with positive gain, best gain: -inf\n",
            "[LightGBM] [Warning] No further splits with positive gain, best gain: -inf\n",
            "[LightGBM] [Warning] No further splits with positive gain, best gain: -inf\n",
            "[LightGBM] [Warning] No further splits with positive gain, best gain: -inf\n",
            "[LightGBM] [Warning] No further splits with positive gain, best gain: -inf\n",
            "[LightGBM] [Warning] No further splits with positive gain, best gain: -inf\n",
            "[LightGBM] [Warning] No further splits with positive gain, best gain: -inf\n",
            "[LightGBM] [Warning] No further splits with positive gain, best gain: -inf\n",
            "[LightGBM] [Warning] No further splits with positive gain, best gain: -inf\n",
            "[LightGBM] [Warning] No further splits with positive gain, best gain: -inf\n",
            "[LightGBM] [Warning] No further splits with positive gain, best gain: -inf\n",
            "[LightGBM] [Warning] No further splits with positive gain, best gain: -inf\n",
            "[LightGBM] [Warning] No further splits with positive gain, best gain: -inf\n",
            "[LightGBM] [Warning] No further splits with positive gain, best gain: -inf\n",
            "[LightGBM] [Warning] No further splits with positive gain, best gain: -inf\n",
            "[LightGBM] [Warning] No further splits with positive gain, best gain: -inf\n",
            "[LightGBM] [Warning] No further splits with positive gain, best gain: -inf\n",
            "[LightGBM] [Warning] No further splits with positive gain, best gain: -inf\n",
            "[LightGBM] [Warning] No further splits with positive gain, best gain: -inf\n",
            "[LightGBM] [Warning] No further splits with positive gain, best gain: -inf\n",
            "[LightGBM] [Warning] No further splits with positive gain, best gain: -inf\n",
            "[LightGBM] [Warning] No further splits with positive gain, best gain: -inf\n",
            "[LightGBM] [Warning] No further splits with positive gain, best gain: -inf\n",
            "[LightGBM] [Warning] No further splits with positive gain, best gain: -inf\n",
            "[LightGBM] [Warning] No further splits with positive gain, best gain: -inf\n",
            "[LightGBM] [Warning] No further splits with positive gain, best gain: -inf\n",
            "[LightGBM] [Warning] No further splits with positive gain, best gain: -inf\n",
            "[LightGBM] [Warning] No further splits with positive gain, best gain: -inf\n",
            "[LightGBM] [Warning] No further splits with positive gain, best gain: -inf\n",
            "[LightGBM] [Warning] No further splits with positive gain, best gain: -inf\n",
            "[LightGBM] [Warning] No further splits with positive gain, best gain: -inf\n",
            "[LightGBM] [Warning] No further splits with positive gain, best gain: -inf\n",
            "[LightGBM] [Warning] No further splits with positive gain, best gain: -inf\n",
            "[LightGBM] [Warning] No further splits with positive gain, best gain: -inf\n",
            "[LightGBM] [Warning] No further splits with positive gain, best gain: -inf\n",
            "[LightGBM] [Warning] No further splits with positive gain, best gain: -inf\n",
            "[LightGBM] [Warning] No further splits with positive gain, best gain: -inf\n",
            "[LightGBM] [Warning] No further splits with positive gain, best gain: -inf\n",
            "[LightGBM] [Warning] No further splits with positive gain, best gain: -inf\n",
            "[LightGBM] [Warning] No further splits with positive gain, best gain: -inf\n",
            "[LightGBM] [Warning] No further splits with positive gain, best gain: -inf\n",
            "[LightGBM] [Warning] No further splits with positive gain, best gain: -inf\n",
            "[LightGBM] [Warning] No further splits with positive gain, best gain: -inf\n",
            "[LightGBM] [Warning] No further splits with positive gain, best gain: -inf\n",
            "[LightGBM] [Warning] No further splits with positive gain, best gain: -inf\n",
            "[LightGBM] [Warning] No further splits with positive gain, best gain: -inf\n",
            "[LightGBM] [Warning] No further splits with positive gain, best gain: -inf\n",
            "[LightGBM] [Warning] No further splits with positive gain, best gain: -inf\n",
            "[LightGBM] [Warning] No further splits with positive gain, best gain: -inf\n",
            "[LightGBM] [Warning] No further splits with positive gain, best gain: -inf\n",
            "[LightGBM] [Warning] No further splits with positive gain, best gain: -inf\n",
            "[LightGBM] [Warning] No further splits with positive gain, best gain: -inf\n",
            "[LightGBM] [Warning] No further splits with positive gain, best gain: -inf\n",
            "[LightGBM] [Warning] No further splits with positive gain, best gain: -inf\n",
            "[LightGBM] [Warning] No further splits with positive gain, best gain: -inf\n",
            "[LightGBM] [Warning] No further splits with positive gain, best gain: -inf\n",
            "[LightGBM] [Warning] No further splits with positive gain, best gain: -inf\n",
            "[LightGBM] [Warning] No further splits with positive gain, best gain: -inf\n",
            "[LightGBM] [Warning] No further splits with positive gain, best gain: -inf\n",
            "[LightGBM] [Warning] No further splits with positive gain, best gain: -inf\n",
            "[LightGBM] [Warning] No further splits with positive gain, best gain: -inf\n",
            "[LightGBM] [Warning] No further splits with positive gain, best gain: -inf\n",
            "[LightGBM] [Warning] No further splits with positive gain, best gain: -inf\n",
            "[LightGBM] [Warning] No further splits with positive gain, best gain: -inf\n",
            "[LightGBM] [Warning] No further splits with positive gain, best gain: -inf\n",
            "[LightGBM] [Warning] No further splits with positive gain, best gain: -inf\n",
            "[LightGBM] [Warning] No further splits with positive gain, best gain: -inf\n",
            "[LightGBM] [Warning] No further splits with positive gain, best gain: -inf\n",
            "[LightGBM] [Warning] No further splits with positive gain, best gain: -inf\n",
            "[LightGBM] [Warning] No further splits with positive gain, best gain: -inf\n",
            "[LightGBM] [Warning] No further splits with positive gain, best gain: -inf\n",
            "[LightGBM] [Warning] No further splits with positive gain, best gain: -inf\n",
            "[LightGBM] [Warning] No further splits with positive gain, best gain: -inf\n",
            "[LightGBM] [Warning] No further splits with positive gain, best gain: -inf\n",
            "[LightGBM] [Warning] No further splits with positive gain, best gain: -inf\n",
            "[LightGBM] [Warning] No further splits with positive gain, best gain: -inf\n",
            "[LightGBM] [Warning] No further splits with positive gain, best gain: -inf\n",
            "[LightGBM] [Warning] No further splits with positive gain, best gain: -inf\n",
            "[LightGBM] [Warning] No further splits with positive gain, best gain: -inf\n",
            "[LightGBM] [Warning] No further splits with positive gain, best gain: -inf\n",
            "[LightGBM] [Warning] No further splits with positive gain, best gain: -inf\n",
            "[LightGBM] [Warning] No further splits with positive gain, best gain: -inf\n",
            "[LightGBM] [Warning] No further splits with positive gain, best gain: -inf\n",
            "[LightGBM] [Warning] No further splits with positive gain, best gain: -inf\n",
            "[LightGBM] [Warning] No further splits with positive gain, best gain: -inf\n",
            "[LightGBM] [Warning] No further splits with positive gain, best gain: -inf\n",
            "[LightGBM] [Warning] No further splits with positive gain, best gain: -inf\n",
            "[LightGBM] [Warning] No further splits with positive gain, best gain: -inf\n",
            "[LightGBM] [Warning] No further splits with positive gain, best gain: -inf\n",
            "[LightGBM] [Warning] No further splits with positive gain, best gain: -inf\n",
            "[LightGBM] [Warning] No further splits with positive gain, best gain: -inf\n",
            "[LightGBM] [Warning] No further splits with positive gain, best gain: -inf\n",
            "[LightGBM] [Warning] No further splits with positive gain, best gain: -inf\n",
            "[LightGBM] [Warning] No further splits with positive gain, best gain: -inf\n",
            "[LightGBM] [Warning] No further splits with positive gain, best gain: -inf\n",
            "[LightGBM] [Warning] No further splits with positive gain, best gain: -inf\n",
            "[LightGBM] [Warning] No further splits with positive gain, best gain: -inf\n",
            "[LightGBM] [Warning] No further splits with positive gain, best gain: -inf\n",
            "[LightGBM] [Warning] No further splits with positive gain, best gain: -inf\n",
            "[LightGBM] [Warning] No further splits with positive gain, best gain: -inf\n",
            "[LightGBM] [Warning] No further splits with positive gain, best gain: -inf\n",
            "[LightGBM] [Warning] No further splits with positive gain, best gain: -inf\n",
            "[LightGBM] [Warning] No further splits with positive gain, best gain: -inf\n",
            "[LightGBM] [Warning] No further splits with positive gain, best gain: -inf\n",
            "[LightGBM] [Warning] No further splits with positive gain, best gain: -inf\n",
            "[LightGBM] [Warning] No further splits with positive gain, best gain: -inf\n",
            "[LightGBM] [Warning] No further splits with positive gain, best gain: -inf\n",
            "[LightGBM] [Warning] No further splits with positive gain, best gain: -inf\n",
            "[LightGBM] [Warning] No further splits with positive gain, best gain: -inf\n",
            "[LightGBM] [Warning] No further splits with positive gain, best gain: -inf\n",
            "[LightGBM] [Warning] No further splits with positive gain, best gain: -inf\n",
            "[LightGBM] [Warning] No further splits with positive gain, best gain: -inf\n",
            "[LightGBM] [Warning] No further splits with positive gain, best gain: -inf\n",
            "[LightGBM] [Warning] No further splits with positive gain, best gain: -inf\n",
            "[LightGBM] [Warning] No further splits with positive gain, best gain: -inf\n",
            "[LightGBM] [Warning] No further splits with positive gain, best gain: -inf\n",
            "[LightGBM] [Warning] No further splits with positive gain, best gain: -inf\n",
            "[LightGBM] [Warning] No further splits with positive gain, best gain: -inf\n",
            "[LightGBM] [Warning] No further splits with positive gain, best gain: -inf\n",
            "[LightGBM] [Warning] No further splits with positive gain, best gain: -inf\n",
            "[LightGBM] [Warning] No further splits with positive gain, best gain: -inf\n",
            "[LightGBM] [Warning] No further splits with positive gain, best gain: -inf\n",
            "[LightGBM] [Warning] No further splits with positive gain, best gain: -inf\n",
            "[LightGBM] [Warning] No further splits with positive gain, best gain: -inf\n",
            "[LightGBM] [Warning] No further splits with positive gain, best gain: -inf\n",
            "[LightGBM] [Warning] No further splits with positive gain, best gain: -inf\n",
            "[LightGBM] [Warning] No further splits with positive gain, best gain: -inf\n",
            "[LightGBM] [Warning] No further splits with positive gain, best gain: -inf\n",
            "[LightGBM] [Warning] No further splits with positive gain, best gain: -inf\n",
            "[LightGBM] [Warning] No further splits with positive gain, best gain: -inf\n",
            "[LightGBM] [Warning] No further splits with positive gain, best gain: -inf\n",
            "[LightGBM] [Warning] No further splits with positive gain, best gain: -inf\n",
            "[LightGBM] [Warning] No further splits with positive gain, best gain: -inf\n",
            "[LightGBM] [Warning] No further splits with positive gain, best gain: -inf\n",
            "[LightGBM] [Warning] No further splits with positive gain, best gain: -inf\n",
            "[LightGBM] [Warning] No further splits with positive gain, best gain: -inf\n",
            "[LightGBM] [Warning] No further splits with positive gain, best gain: -inf\n",
            "[LightGBM] [Warning] No further splits with positive gain, best gain: -inf\n",
            "[LightGBM] [Warning] No further splits with positive gain, best gain: -inf\n",
            "[LightGBM] [Warning] No further splits with positive gain, best gain: -inf\n"
          ]
        },
        {
          "output_type": "execute_result",
          "data": {
            "text/plain": [
              "0.9915038232795242"
            ]
          },
          "metadata": {},
          "execution_count": 10
        }
      ],
      "source": [
        "from lightgbm import LGBMClassifier\n",
        "\n",
        "lgb=LGBMClassifier(random_state=42)\n",
        "lgb.fit(x_train.values,y_train.values)\n",
        "\n",
        "lgb.score(x_val,y_val)"
      ]
    },
    {
      "cell_type": "code",
      "execution_count": null,
      "metadata": {
        "id": "Bsgtsww9ihf4",
        "colab": {
          "base_uri": "https://localhost:8080/"
        },
        "outputId": "68949eda-96c3-485e-c42a-e53f2a8dc03e"
      },
      "outputs": [
        {
          "output_type": "stream",
          "name": "stdout",
          "text": [
            "[LightGBM] [Info] Number of positive: 2117, number of negative: 2587\n",
            "[LightGBM] [Warning] Auto-choosing col-wise multi-threading, the overhead of testing was 0.042315 seconds.\n",
            "You can set `force_col_wise=true` to remove the overhead.\n",
            "[LightGBM] [Info] Total Bins 140167\n",
            "[LightGBM] [Info] Number of data points in the train set: 4704, number of used features: 562\n",
            "[LightGBM] [Info] [binary:BoostFromScore]: pavg=0.450043 -> initscore=-0.200499\n",
            "[LightGBM] [Info] Start training from score -0.200499\n",
            "[LightGBM] [Warning] No further splits with positive gain, best gain: -inf\n",
            "[LightGBM] [Warning] No further splits with positive gain, best gain: -inf\n",
            "[LightGBM] [Warning] No further splits with positive gain, best gain: -inf\n",
            "[LightGBM] [Warning] No further splits with positive gain, best gain: -inf\n",
            "[LightGBM] [Warning] No further splits with positive gain, best gain: -inf\n",
            "[LightGBM] [Warning] No further splits with positive gain, best gain: -inf\n",
            "[LightGBM] [Warning] No further splits with positive gain, best gain: -inf\n",
            "[LightGBM] [Warning] No further splits with positive gain, best gain: -inf\n",
            "[LightGBM] [Warning] No further splits with positive gain, best gain: -inf\n",
            "[LightGBM] [Warning] No further splits with positive gain, best gain: -inf\n",
            "[LightGBM] [Warning] No further splits with positive gain, best gain: -inf\n"
          ]
        },
        {
          "output_type": "execute_result",
          "data": {
            "text/plain": [
              "0.9991503823279524"
            ]
          },
          "metadata": {},
          "execution_count": 11
        }
      ],
      "source": [
        "from lightgbm import LGBMClassifier\n",
        "\n",
        "lgb=LGBMClassifier(random_state=42)\n",
        "lgb.fit(x_train_d.values,y_train_d.values)\n",
        "\n",
        "lgb.score(x_val_d,y_val_d)"
      ]
    },
    {
      "cell_type": "code",
      "execution_count": null,
      "metadata": {
        "id": "f4h7doakihf4"
      },
      "outputs": [],
      "source": []
    },
    {
      "cell_type": "code",
      "execution_count": null,
      "metadata": {
        "id": "M9BEaghdiY-2"
      },
      "outputs": [],
      "source": []
    },
    {
      "cell_type": "markdown",
      "metadata": {
        "id": "9sTQeLpjCfV9"
      },
      "source": [
        "### (2) 단계2-1 : 정적 동작 세부 분류"
      ]
    },
    {
      "cell_type": "markdown",
      "metadata": {
        "id": "tr0QtSuTihs0"
      },
      "source": [
        "* 세부 요구사항\n",
        "    * 정적 행동(Laying, Sitting, Standing)인 데이터 추출\n",
        "    * Laying, Sitting, Standing 를 분류하는 모델을 생성\n",
        "    * 몇가지 모델을 만들고 가장 성능이 좋은 모델을 선정하시오."
      ]
    },
    {
      "cell_type": "code",
      "execution_count": null,
      "metadata": {
        "id": "AEC-Lh17ik7d",
        "colab": {
          "base_uri": "https://localhost:8080/"
        },
        "outputId": "8501393b-717f-4421-cd62-960745631817"
      },
      "outputs": [
        {
          "output_type": "execute_result",
          "data": {
            "text/plain": [
              "LAYING      1115\n",
              "STANDING    1087\n",
              "SITTING     1032\n",
              "Name: Activity, dtype: int64"
            ]
          },
          "metadata": {},
          "execution_count": 20
        }
      ],
      "source": [
        "s_data = data[data['Activity_dynamic'] == 0].reset_index()\n",
        "s_data['Activity'].value_counts()"
      ]
    },
    {
      "cell_type": "code",
      "source": [
        "s_data"
      ],
      "metadata": {
        "colab": {
          "base_uri": "https://localhost:8080/",
          "height": 461
        },
        "id": "26dJ9N6DWoZG",
        "outputId": "49d8b83b-40cc-43e2-dca2-0ea4cc0214fe"
      },
      "execution_count": null,
      "outputs": [
        {
          "output_type": "execute_result",
          "data": {
            "text/plain": [
              "      index  tBodyAcc-mean()-X  tBodyAcc-mean()-Y  tBodyAcc-mean()-Z  \\\n",
              "0         0           0.288508          -0.009196          -0.103362   \n",
              "1         1           0.265757          -0.016576          -0.098163   \n",
              "2         2           0.278709          -0.014511          -0.108717   \n",
              "3         7           0.272026          -0.001329          -0.125491   \n",
              "4         8           0.284338           0.021956          -0.006925   \n",
              "...     ...                ...                ...                ...   \n",
              "3229   5874           0.257476          -0.413865           0.017374   \n",
              "3230   5875           0.277378          -0.013298          -0.104322   \n",
              "3231   5876           0.277194          -0.012389          -0.131974   \n",
              "3232   5878           0.267981          -0.018348          -0.107440   \n",
              "3233   5880           0.283815          -0.040658          -0.138018   \n",
              "\n",
              "      tBodyAcc-std()-X  tBodyAcc-std()-Y  tBodyAcc-std()-Z  tBodyAcc-mad()-X  \\\n",
              "0            -0.988986         -0.962797         -0.967422         -0.989000   \n",
              "1            -0.989551         -0.994636         -0.987435         -0.990189   \n",
              "2            -0.997720         -0.981088         -0.994008         -0.997934   \n",
              "3            -0.992068         -0.912985         -0.972451         -0.994752   \n",
              "4            -0.980153         -0.838394         -0.782357         -0.983683   \n",
              "...                ...               ...               ...               ...   \n",
              "3229         -0.919666          0.075259         -0.630716         -0.937986   \n",
              "3230         -0.996596         -0.987491         -0.973345         -0.996372   \n",
              "3231         -0.994046         -0.940578         -0.917337         -0.994261   \n",
              "3232         -0.991303         -0.989881         -0.990313         -0.992386   \n",
              "3233         -0.992662         -0.747190         -0.920248         -0.993410   \n",
              "\n",
              "      tBodyAcc-mad()-Y  tBodyAcc-mad()-Z  ...  angle(tBodyAccMean,gravity)  \\\n",
              "0            -0.962596         -0.965650  ...                    -0.042494   \n",
              "1            -0.993870         -0.987558  ...                    -0.062899   \n",
              "2            -0.982187         -0.995017  ...                     0.000265   \n",
              "3            -0.943141         -0.976428  ...                    -0.024442   \n",
              "4            -0.816199         -0.743923  ...                     0.021212   \n",
              "...                ...               ...  ...                          ...   \n",
              "3229          0.176796         -0.613510  ...                    -0.000793   \n",
              "3230         -0.987746         -0.973512  ...                     0.122320   \n",
              "3231         -0.932830         -0.908088  ...                    -0.034888   \n",
              "3232         -0.988852         -0.991237  ...                     0.060173   \n",
              "3233         -0.768055         -0.924587  ...                     0.107690   \n",
              "\n",
              "      angle(tBodyAccJerkMean),gravityMean)  angle(tBodyGyroMean,gravityMean)  \\\n",
              "0                                -0.044218                          0.307873   \n",
              "1                                 0.388459                         -0.765014   \n",
              "2                                -0.525022                         -0.891875   \n",
              "3                                 0.076332                          0.741277   \n",
              "4                                -0.009465                         -0.282762   \n",
              "...                                    ...                               ...   \n",
              "3229                              0.267189                         -0.186202   \n",
              "3230                              0.136275                         -0.708377   \n",
              "3231                             -0.261437                         -0.391477   \n",
              "3232                              0.228739                          0.684400   \n",
              "3233                              0.122242                         -0.077226   \n",
              "\n",
              "      angle(tBodyGyroJerkMean,gravityMean)  angle(X,gravityMean)  \\\n",
              "0                                 0.072790             -0.601120   \n",
              "1                                 0.771524              0.345205   \n",
              "2                                 0.021528             -0.833564   \n",
              "3                                 0.729812             -0.817201   \n",
              "4                                 0.563343             -0.782072   \n",
              "...                                    ...                   ...   \n",
              "3229                              0.098099              0.792970   \n",
              "3230                             -0.507788             -0.818263   \n",
              "3231                             -0.877612             -0.912365   \n",
              "3232                             -0.216665              0.620363   \n",
              "3233                             -0.078091             -0.740244   \n",
              "\n",
              "      angle(Y,gravityMean)  angle(Z,gravityMean)  subject  Activity  \\\n",
              "0                 0.331298              0.165163       21  STANDING   \n",
              "1                -0.769186             -0.147944       15    LAYING   \n",
              "2                 0.202434             -0.032755       11  STANDING   \n",
              "3                 0.037746              0.136129       16  STANDING   \n",
              "4                 0.242834             -0.025285       22  STANDING   \n",
              "...                    ...                   ...      ...       ...   \n",
              "3229             -0.034020             -0.928148        1    LAYING   \n",
              "3230              0.222620              0.035430       27  STANDING   \n",
              "3231              0.114009              0.080146       21   SITTING   \n",
              "3232             -0.437247             -0.571840       19    LAYING   \n",
              "3233              0.008346             -0.146143       29   SITTING   \n",
              "\n",
              "      Activity_dynamic  \n",
              "0                    0  \n",
              "1                    0  \n",
              "2                    0  \n",
              "3                    0  \n",
              "4                    0  \n",
              "...                ...  \n",
              "3229                 0  \n",
              "3230                 0  \n",
              "3231                 0  \n",
              "3232                 0  \n",
              "3233                 0  \n",
              "\n",
              "[3234 rows x 565 columns]"
            ],
            "text/html": [
              "\n",
              "  <div id=\"df-0f656cfc-c5f8-4a2a-9a07-c17c40e2cd55\" class=\"colab-df-container\">\n",
              "    <div>\n",
              "<style scoped>\n",
              "    .dataframe tbody tr th:only-of-type {\n",
              "        vertical-align: middle;\n",
              "    }\n",
              "\n",
              "    .dataframe tbody tr th {\n",
              "        vertical-align: top;\n",
              "    }\n",
              "\n",
              "    .dataframe thead th {\n",
              "        text-align: right;\n",
              "    }\n",
              "</style>\n",
              "<table border=\"1\" class=\"dataframe\">\n",
              "  <thead>\n",
              "    <tr style=\"text-align: right;\">\n",
              "      <th></th>\n",
              "      <th>index</th>\n",
              "      <th>tBodyAcc-mean()-X</th>\n",
              "      <th>tBodyAcc-mean()-Y</th>\n",
              "      <th>tBodyAcc-mean()-Z</th>\n",
              "      <th>tBodyAcc-std()-X</th>\n",
              "      <th>tBodyAcc-std()-Y</th>\n",
              "      <th>tBodyAcc-std()-Z</th>\n",
              "      <th>tBodyAcc-mad()-X</th>\n",
              "      <th>tBodyAcc-mad()-Y</th>\n",
              "      <th>tBodyAcc-mad()-Z</th>\n",
              "      <th>...</th>\n",
              "      <th>angle(tBodyAccMean,gravity)</th>\n",
              "      <th>angle(tBodyAccJerkMean),gravityMean)</th>\n",
              "      <th>angle(tBodyGyroMean,gravityMean)</th>\n",
              "      <th>angle(tBodyGyroJerkMean,gravityMean)</th>\n",
              "      <th>angle(X,gravityMean)</th>\n",
              "      <th>angle(Y,gravityMean)</th>\n",
              "      <th>angle(Z,gravityMean)</th>\n",
              "      <th>subject</th>\n",
              "      <th>Activity</th>\n",
              "      <th>Activity_dynamic</th>\n",
              "    </tr>\n",
              "  </thead>\n",
              "  <tbody>\n",
              "    <tr>\n",
              "      <th>0</th>\n",
              "      <td>0</td>\n",
              "      <td>0.288508</td>\n",
              "      <td>-0.009196</td>\n",
              "      <td>-0.103362</td>\n",
              "      <td>-0.988986</td>\n",
              "      <td>-0.962797</td>\n",
              "      <td>-0.967422</td>\n",
              "      <td>-0.989000</td>\n",
              "      <td>-0.962596</td>\n",
              "      <td>-0.965650</td>\n",
              "      <td>...</td>\n",
              "      <td>-0.042494</td>\n",
              "      <td>-0.044218</td>\n",
              "      <td>0.307873</td>\n",
              "      <td>0.072790</td>\n",
              "      <td>-0.601120</td>\n",
              "      <td>0.331298</td>\n",
              "      <td>0.165163</td>\n",
              "      <td>21</td>\n",
              "      <td>STANDING</td>\n",
              "      <td>0</td>\n",
              "    </tr>\n",
              "    <tr>\n",
              "      <th>1</th>\n",
              "      <td>1</td>\n",
              "      <td>0.265757</td>\n",
              "      <td>-0.016576</td>\n",
              "      <td>-0.098163</td>\n",
              "      <td>-0.989551</td>\n",
              "      <td>-0.994636</td>\n",
              "      <td>-0.987435</td>\n",
              "      <td>-0.990189</td>\n",
              "      <td>-0.993870</td>\n",
              "      <td>-0.987558</td>\n",
              "      <td>...</td>\n",
              "      <td>-0.062899</td>\n",
              "      <td>0.388459</td>\n",
              "      <td>-0.765014</td>\n",
              "      <td>0.771524</td>\n",
              "      <td>0.345205</td>\n",
              "      <td>-0.769186</td>\n",
              "      <td>-0.147944</td>\n",
              "      <td>15</td>\n",
              "      <td>LAYING</td>\n",
              "      <td>0</td>\n",
              "    </tr>\n",
              "    <tr>\n",
              "      <th>2</th>\n",
              "      <td>2</td>\n",
              "      <td>0.278709</td>\n",
              "      <td>-0.014511</td>\n",
              "      <td>-0.108717</td>\n",
              "      <td>-0.997720</td>\n",
              "      <td>-0.981088</td>\n",
              "      <td>-0.994008</td>\n",
              "      <td>-0.997934</td>\n",
              "      <td>-0.982187</td>\n",
              "      <td>-0.995017</td>\n",
              "      <td>...</td>\n",
              "      <td>0.000265</td>\n",
              "      <td>-0.525022</td>\n",
              "      <td>-0.891875</td>\n",
              "      <td>0.021528</td>\n",
              "      <td>-0.833564</td>\n",
              "      <td>0.202434</td>\n",
              "      <td>-0.032755</td>\n",
              "      <td>11</td>\n",
              "      <td>STANDING</td>\n",
              "      <td>0</td>\n",
              "    </tr>\n",
              "    <tr>\n",
              "      <th>3</th>\n",
              "      <td>7</td>\n",
              "      <td>0.272026</td>\n",
              "      <td>-0.001329</td>\n",
              "      <td>-0.125491</td>\n",
              "      <td>-0.992068</td>\n",
              "      <td>-0.912985</td>\n",
              "      <td>-0.972451</td>\n",
              "      <td>-0.994752</td>\n",
              "      <td>-0.943141</td>\n",
              "      <td>-0.976428</td>\n",
              "      <td>...</td>\n",
              "      <td>-0.024442</td>\n",
              "      <td>0.076332</td>\n",
              "      <td>0.741277</td>\n",
              "      <td>0.729812</td>\n",
              "      <td>-0.817201</td>\n",
              "      <td>0.037746</td>\n",
              "      <td>0.136129</td>\n",
              "      <td>16</td>\n",
              "      <td>STANDING</td>\n",
              "      <td>0</td>\n",
              "    </tr>\n",
              "    <tr>\n",
              "      <th>4</th>\n",
              "      <td>8</td>\n",
              "      <td>0.284338</td>\n",
              "      <td>0.021956</td>\n",
              "      <td>-0.006925</td>\n",
              "      <td>-0.980153</td>\n",
              "      <td>-0.838394</td>\n",
              "      <td>-0.782357</td>\n",
              "      <td>-0.983683</td>\n",
              "      <td>-0.816199</td>\n",
              "      <td>-0.743923</td>\n",
              "      <td>...</td>\n",
              "      <td>0.021212</td>\n",
              "      <td>-0.009465</td>\n",
              "      <td>-0.282762</td>\n",
              "      <td>0.563343</td>\n",
              "      <td>-0.782072</td>\n",
              "      <td>0.242834</td>\n",
              "      <td>-0.025285</td>\n",
              "      <td>22</td>\n",
              "      <td>STANDING</td>\n",
              "      <td>0</td>\n",
              "    </tr>\n",
              "    <tr>\n",
              "      <th>...</th>\n",
              "      <td>...</td>\n",
              "      <td>...</td>\n",
              "      <td>...</td>\n",
              "      <td>...</td>\n",
              "      <td>...</td>\n",
              "      <td>...</td>\n",
              "      <td>...</td>\n",
              "      <td>...</td>\n",
              "      <td>...</td>\n",
              "      <td>...</td>\n",
              "      <td>...</td>\n",
              "      <td>...</td>\n",
              "      <td>...</td>\n",
              "      <td>...</td>\n",
              "      <td>...</td>\n",
              "      <td>...</td>\n",
              "      <td>...</td>\n",
              "      <td>...</td>\n",
              "      <td>...</td>\n",
              "      <td>...</td>\n",
              "      <td>...</td>\n",
              "    </tr>\n",
              "    <tr>\n",
              "      <th>3229</th>\n",
              "      <td>5874</td>\n",
              "      <td>0.257476</td>\n",
              "      <td>-0.413865</td>\n",
              "      <td>0.017374</td>\n",
              "      <td>-0.919666</td>\n",
              "      <td>0.075259</td>\n",
              "      <td>-0.630716</td>\n",
              "      <td>-0.937986</td>\n",
              "      <td>0.176796</td>\n",
              "      <td>-0.613510</td>\n",
              "      <td>...</td>\n",
              "      <td>-0.000793</td>\n",
              "      <td>0.267189</td>\n",
              "      <td>-0.186202</td>\n",
              "      <td>0.098099</td>\n",
              "      <td>0.792970</td>\n",
              "      <td>-0.034020</td>\n",
              "      <td>-0.928148</td>\n",
              "      <td>1</td>\n",
              "      <td>LAYING</td>\n",
              "      <td>0</td>\n",
              "    </tr>\n",
              "    <tr>\n",
              "      <th>3230</th>\n",
              "      <td>5875</td>\n",
              "      <td>0.277378</td>\n",
              "      <td>-0.013298</td>\n",
              "      <td>-0.104322</td>\n",
              "      <td>-0.996596</td>\n",
              "      <td>-0.987491</td>\n",
              "      <td>-0.973345</td>\n",
              "      <td>-0.996372</td>\n",
              "      <td>-0.987746</td>\n",
              "      <td>-0.973512</td>\n",
              "      <td>...</td>\n",
              "      <td>0.122320</td>\n",
              "      <td>0.136275</td>\n",
              "      <td>-0.708377</td>\n",
              "      <td>-0.507788</td>\n",
              "      <td>-0.818263</td>\n",
              "      <td>0.222620</td>\n",
              "      <td>0.035430</td>\n",
              "      <td>27</td>\n",
              "      <td>STANDING</td>\n",
              "      <td>0</td>\n",
              "    </tr>\n",
              "    <tr>\n",
              "      <th>3231</th>\n",
              "      <td>5876</td>\n",
              "      <td>0.277194</td>\n",
              "      <td>-0.012389</td>\n",
              "      <td>-0.131974</td>\n",
              "      <td>-0.994046</td>\n",
              "      <td>-0.940578</td>\n",
              "      <td>-0.917337</td>\n",
              "      <td>-0.994261</td>\n",
              "      <td>-0.932830</td>\n",
              "      <td>-0.908088</td>\n",
              "      <td>...</td>\n",
              "      <td>-0.034888</td>\n",
              "      <td>-0.261437</td>\n",
              "      <td>-0.391477</td>\n",
              "      <td>-0.877612</td>\n",
              "      <td>-0.912365</td>\n",
              "      <td>0.114009</td>\n",
              "      <td>0.080146</td>\n",
              "      <td>21</td>\n",
              "      <td>SITTING</td>\n",
              "      <td>0</td>\n",
              "    </tr>\n",
              "    <tr>\n",
              "      <th>3232</th>\n",
              "      <td>5878</td>\n",
              "      <td>0.267981</td>\n",
              "      <td>-0.018348</td>\n",
              "      <td>-0.107440</td>\n",
              "      <td>-0.991303</td>\n",
              "      <td>-0.989881</td>\n",
              "      <td>-0.990313</td>\n",
              "      <td>-0.992386</td>\n",
              "      <td>-0.988852</td>\n",
              "      <td>-0.991237</td>\n",
              "      <td>...</td>\n",
              "      <td>0.060173</td>\n",
              "      <td>0.228739</td>\n",
              "      <td>0.684400</td>\n",
              "      <td>-0.216665</td>\n",
              "      <td>0.620363</td>\n",
              "      <td>-0.437247</td>\n",
              "      <td>-0.571840</td>\n",
              "      <td>19</td>\n",
              "      <td>LAYING</td>\n",
              "      <td>0</td>\n",
              "    </tr>\n",
              "    <tr>\n",
              "      <th>3233</th>\n",
              "      <td>5880</td>\n",
              "      <td>0.283815</td>\n",
              "      <td>-0.040658</td>\n",
              "      <td>-0.138018</td>\n",
              "      <td>-0.992662</td>\n",
              "      <td>-0.747190</td>\n",
              "      <td>-0.920248</td>\n",
              "      <td>-0.993410</td>\n",
              "      <td>-0.768055</td>\n",
              "      <td>-0.924587</td>\n",
              "      <td>...</td>\n",
              "      <td>0.107690</td>\n",
              "      <td>0.122242</td>\n",
              "      <td>-0.077226</td>\n",
              "      <td>-0.078091</td>\n",
              "      <td>-0.740244</td>\n",
              "      <td>0.008346</td>\n",
              "      <td>-0.146143</td>\n",
              "      <td>29</td>\n",
              "      <td>SITTING</td>\n",
              "      <td>0</td>\n",
              "    </tr>\n",
              "  </tbody>\n",
              "</table>\n",
              "<p>3234 rows × 565 columns</p>\n",
              "</div>\n",
              "    <div class=\"colab-df-buttons\">\n",
              "\n",
              "  <div class=\"colab-df-container\">\n",
              "    <button class=\"colab-df-convert\" onclick=\"convertToInteractive('df-0f656cfc-c5f8-4a2a-9a07-c17c40e2cd55')\"\n",
              "            title=\"Convert this dataframe to an interactive table.\"\n",
              "            style=\"display:none;\">\n",
              "\n",
              "  <svg xmlns=\"http://www.w3.org/2000/svg\" height=\"24px\" viewBox=\"0 -960 960 960\">\n",
              "    <path d=\"M120-120v-720h720v720H120Zm60-500h600v-160H180v160Zm220 220h160v-160H400v160Zm0 220h160v-160H400v160ZM180-400h160v-160H180v160Zm440 0h160v-160H620v160ZM180-180h160v-160H180v160Zm440 0h160v-160H620v160Z\"/>\n",
              "  </svg>\n",
              "    </button>\n",
              "\n",
              "  <style>\n",
              "    .colab-df-container {\n",
              "      display:flex;\n",
              "      gap: 12px;\n",
              "    }\n",
              "\n",
              "    .colab-df-convert {\n",
              "      background-color: #E8F0FE;\n",
              "      border: none;\n",
              "      border-radius: 50%;\n",
              "      cursor: pointer;\n",
              "      display: none;\n",
              "      fill: #1967D2;\n",
              "      height: 32px;\n",
              "      padding: 0 0 0 0;\n",
              "      width: 32px;\n",
              "    }\n",
              "\n",
              "    .colab-df-convert:hover {\n",
              "      background-color: #E2EBFA;\n",
              "      box-shadow: 0px 1px 2px rgba(60, 64, 67, 0.3), 0px 1px 3px 1px rgba(60, 64, 67, 0.15);\n",
              "      fill: #174EA6;\n",
              "    }\n",
              "\n",
              "    .colab-df-buttons div {\n",
              "      margin-bottom: 4px;\n",
              "    }\n",
              "\n",
              "    [theme=dark] .colab-df-convert {\n",
              "      background-color: #3B4455;\n",
              "      fill: #D2E3FC;\n",
              "    }\n",
              "\n",
              "    [theme=dark] .colab-df-convert:hover {\n",
              "      background-color: #434B5C;\n",
              "      box-shadow: 0px 1px 3px 1px rgba(0, 0, 0, 0.15);\n",
              "      filter: drop-shadow(0px 1px 2px rgba(0, 0, 0, 0.3));\n",
              "      fill: #FFFFFF;\n",
              "    }\n",
              "  </style>\n",
              "\n",
              "    <script>\n",
              "      const buttonEl =\n",
              "        document.querySelector('#df-0f656cfc-c5f8-4a2a-9a07-c17c40e2cd55 button.colab-df-convert');\n",
              "      buttonEl.style.display =\n",
              "        google.colab.kernel.accessAllowed ? 'block' : 'none';\n",
              "\n",
              "      async function convertToInteractive(key) {\n",
              "        const element = document.querySelector('#df-0f656cfc-c5f8-4a2a-9a07-c17c40e2cd55');\n",
              "        const dataTable =\n",
              "          await google.colab.kernel.invokeFunction('convertToInteractive',\n",
              "                                                    [key], {});\n",
              "        if (!dataTable) return;\n",
              "\n",
              "        const docLinkHtml = 'Like what you see? Visit the ' +\n",
              "          '<a target=\"_blank\" href=https://colab.research.google.com/notebooks/data_table.ipynb>data table notebook</a>'\n",
              "          + ' to learn more about interactive tables.';\n",
              "        element.innerHTML = '';\n",
              "        dataTable['output_type'] = 'display_data';\n",
              "        await google.colab.output.renderOutput(dataTable, element);\n",
              "        const docLink = document.createElement('div');\n",
              "        docLink.innerHTML = docLinkHtml;\n",
              "        element.appendChild(docLink);\n",
              "      }\n",
              "    </script>\n",
              "  </div>\n",
              "\n",
              "\n",
              "<div id=\"df-c0a659a5-849c-473c-9ef0-90eea63b3ab0\">\n",
              "  <button class=\"colab-df-quickchart\" onclick=\"quickchart('df-c0a659a5-849c-473c-9ef0-90eea63b3ab0')\"\n",
              "            title=\"Suggest charts.\"\n",
              "            style=\"display:none;\">\n",
              "\n",
              "<svg xmlns=\"http://www.w3.org/2000/svg\" height=\"24px\"viewBox=\"0 0 24 24\"\n",
              "     width=\"24px\">\n",
              "    <g>\n",
              "        <path d=\"M19 3H5c-1.1 0-2 .9-2 2v14c0 1.1.9 2 2 2h14c1.1 0 2-.9 2-2V5c0-1.1-.9-2-2-2zM9 17H7v-7h2v7zm4 0h-2V7h2v10zm4 0h-2v-4h2v4z\"/>\n",
              "    </g>\n",
              "</svg>\n",
              "  </button>\n",
              "\n",
              "<style>\n",
              "  .colab-df-quickchart {\n",
              "      --bg-color: #E8F0FE;\n",
              "      --fill-color: #1967D2;\n",
              "      --hover-bg-color: #E2EBFA;\n",
              "      --hover-fill-color: #174EA6;\n",
              "      --disabled-fill-color: #AAA;\n",
              "      --disabled-bg-color: #DDD;\n",
              "  }\n",
              "\n",
              "  [theme=dark] .colab-df-quickchart {\n",
              "      --bg-color: #3B4455;\n",
              "      --fill-color: #D2E3FC;\n",
              "      --hover-bg-color: #434B5C;\n",
              "      --hover-fill-color: #FFFFFF;\n",
              "      --disabled-bg-color: #3B4455;\n",
              "      --disabled-fill-color: #666;\n",
              "  }\n",
              "\n",
              "  .colab-df-quickchart {\n",
              "    background-color: var(--bg-color);\n",
              "    border: none;\n",
              "    border-radius: 50%;\n",
              "    cursor: pointer;\n",
              "    display: none;\n",
              "    fill: var(--fill-color);\n",
              "    height: 32px;\n",
              "    padding: 0;\n",
              "    width: 32px;\n",
              "  }\n",
              "\n",
              "  .colab-df-quickchart:hover {\n",
              "    background-color: var(--hover-bg-color);\n",
              "    box-shadow: 0 1px 2px rgba(60, 64, 67, 0.3), 0 1px 3px 1px rgba(60, 64, 67, 0.15);\n",
              "    fill: var(--button-hover-fill-color);\n",
              "  }\n",
              "\n",
              "  .colab-df-quickchart-complete:disabled,\n",
              "  .colab-df-quickchart-complete:disabled:hover {\n",
              "    background-color: var(--disabled-bg-color);\n",
              "    fill: var(--disabled-fill-color);\n",
              "    box-shadow: none;\n",
              "  }\n",
              "\n",
              "  .colab-df-spinner {\n",
              "    border: 2px solid var(--fill-color);\n",
              "    border-color: transparent;\n",
              "    border-bottom-color: var(--fill-color);\n",
              "    animation:\n",
              "      spin 1s steps(1) infinite;\n",
              "  }\n",
              "\n",
              "  @keyframes spin {\n",
              "    0% {\n",
              "      border-color: transparent;\n",
              "      border-bottom-color: var(--fill-color);\n",
              "      border-left-color: var(--fill-color);\n",
              "    }\n",
              "    20% {\n",
              "      border-color: transparent;\n",
              "      border-left-color: var(--fill-color);\n",
              "      border-top-color: var(--fill-color);\n",
              "    }\n",
              "    30% {\n",
              "      border-color: transparent;\n",
              "      border-left-color: var(--fill-color);\n",
              "      border-top-color: var(--fill-color);\n",
              "      border-right-color: var(--fill-color);\n",
              "    }\n",
              "    40% {\n",
              "      border-color: transparent;\n",
              "      border-right-color: var(--fill-color);\n",
              "      border-top-color: var(--fill-color);\n",
              "    }\n",
              "    60% {\n",
              "      border-color: transparent;\n",
              "      border-right-color: var(--fill-color);\n",
              "    }\n",
              "    80% {\n",
              "      border-color: transparent;\n",
              "      border-right-color: var(--fill-color);\n",
              "      border-bottom-color: var(--fill-color);\n",
              "    }\n",
              "    90% {\n",
              "      border-color: transparent;\n",
              "      border-bottom-color: var(--fill-color);\n",
              "    }\n",
              "  }\n",
              "</style>\n",
              "\n",
              "  <script>\n",
              "    async function quickchart(key) {\n",
              "      const quickchartButtonEl =\n",
              "        document.querySelector('#' + key + ' button');\n",
              "      quickchartButtonEl.disabled = true;  // To prevent multiple clicks.\n",
              "      quickchartButtonEl.classList.add('colab-df-spinner');\n",
              "      try {\n",
              "        const charts = await google.colab.kernel.invokeFunction(\n",
              "            'suggestCharts', [key], {});\n",
              "      } catch (error) {\n",
              "        console.error('Error during call to suggestCharts:', error);\n",
              "      }\n",
              "      quickchartButtonEl.classList.remove('colab-df-spinner');\n",
              "      quickchartButtonEl.classList.add('colab-df-quickchart-complete');\n",
              "    }\n",
              "    (() => {\n",
              "      let quickchartButtonEl =\n",
              "        document.querySelector('#df-c0a659a5-849c-473c-9ef0-90eea63b3ab0 button');\n",
              "      quickchartButtonEl.style.display =\n",
              "        google.colab.kernel.accessAllowed ? 'block' : 'none';\n",
              "    })();\n",
              "  </script>\n",
              "</div>\n",
              "    </div>\n",
              "  </div>\n"
            ]
          },
          "metadata": {},
          "execution_count": 22
        }
      ]
    },
    {
      "cell_type": "code",
      "source": [
        "sx=s_data.drop(columns=['Activity','Activity_dynamic'])\n",
        "sy=s_data['Activity']"
      ],
      "metadata": {
        "id": "m-aUYDK7Ue9i"
      },
      "execution_count": null,
      "outputs": []
    },
    {
      "cell_type": "code",
      "execution_count": null,
      "metadata": {
        "id": "ABa7cIeQik4l"
      },
      "outputs": [],
      "source": [
        "from sklearn.model_selection import train_test_split\n",
        "x_train_s, x_val_s,y_train_s,y_val_s = train_test_split(sx,sy,test_size=0.2, random_state=42, stratify=sy)"
      ]
    },
    {
      "cell_type": "code",
      "execution_count": null,
      "metadata": {
        "id": "39ITa0Xjik1t",
        "colab": {
          "base_uri": "https://localhost:8080/"
        },
        "outputId": "96b39301-6e9c-4bb1-fb09-b257b721ba73"
      },
      "outputs": [
        {
          "output_type": "execute_result",
          "data": {
            "text/plain": [
              "0.9783616692426584"
            ]
          },
          "metadata": {},
          "execution_count": 27
        }
      ],
      "source": [
        "s_rf = RandomForestClassifier()\n",
        "s_rf.fit(x_train_s, y_train_s)\n",
        "s_rf.score(x_val_s, y_val_s)"
      ]
    },
    {
      "cell_type": "code",
      "source": [
        "from lightgbm import LGBMClassifier\n",
        "\n",
        "lgb=LGBMClassifier(random_state=42)\n",
        "lgb.fit(x_train_s.values,y_train_s.values)\n",
        "\n",
        "lgb.score(x_val_s,y_val_s)"
      ],
      "metadata": {
        "colab": {
          "base_uri": "https://localhost:8080/"
        },
        "id": "gQRTh7CJlANa",
        "outputId": "bd90185c-cb67-4e7c-9260-ddf219752454"
      },
      "execution_count": null,
      "outputs": [
        {
          "output_type": "stream",
          "name": "stdout",
          "text": [
            "[LightGBM] [Warning] Auto-choosing col-wise multi-threading, the overhead of testing was 0.074435 seconds.\n",
            "You can set `force_col_wise=true` to remove the overhead.\n",
            "[LightGBM] [Info] Total Bins 139634\n",
            "[LightGBM] [Info] Number of data points in the train set: 2587, number of used features: 563\n",
            "[LightGBM] [Info] Start training from score -1.064788\n",
            "[LightGBM] [Info] Start training from score -1.141659\n",
            "[LightGBM] [Info] Start training from score -1.090911\n",
            "[LightGBM] [Warning] No further splits with positive gain, best gain: -inf\n",
            "[LightGBM] [Warning] No further splits with positive gain, best gain: -inf\n",
            "[LightGBM] [Warning] No further splits with positive gain, best gain: -inf\n",
            "[LightGBM] [Warning] No further splits with positive gain, best gain: -inf\n",
            "[LightGBM] [Warning] No further splits with positive gain, best gain: -inf\n",
            "[LightGBM] [Warning] No further splits with positive gain, best gain: -inf\n",
            "[LightGBM] [Warning] No further splits with positive gain, best gain: -inf\n",
            "[LightGBM] [Warning] No further splits with positive gain, best gain: -inf\n",
            "[LightGBM] [Warning] No further splits with positive gain, best gain: -inf\n",
            "[LightGBM] [Warning] No further splits with positive gain, best gain: -inf\n",
            "[LightGBM] [Warning] No further splits with positive gain, best gain: -inf\n",
            "[LightGBM] [Warning] No further splits with positive gain, best gain: -inf\n",
            "[LightGBM] [Warning] No further splits with positive gain, best gain: -inf\n",
            "[LightGBM] [Warning] No further splits with positive gain, best gain: -inf\n",
            "[LightGBM] [Warning] No further splits with positive gain, best gain: -inf\n"
          ]
        },
        {
          "output_type": "execute_result",
          "data": {
            "text/plain": [
              "0.9876352395672334"
            ]
          },
          "metadata": {},
          "execution_count": 35
        }
      ]
    },
    {
      "cell_type": "markdown",
      "metadata": {
        "id": "jjNRQJpRC045"
      },
      "source": [
        "### (3) 단계2-2 : 동적 동작 세부 분류"
      ]
    },
    {
      "cell_type": "markdown",
      "metadata": {
        "id": "Rsy1RELi2qfF"
      },
      "source": [
        "* 세부 요구사항\n",
        "    * 동동적 행동(Walking, Walking Upstairs, Walking Downstairs)인 데이터 추출\n",
        "    * Walking, Walking Upstairs, Walking Downstairs 를 분류하는 모델을 생성\n",
        "    * 몇가지 모델을 만들고 가장 성능이 좋은 모델을 선정하시오."
      ]
    },
    {
      "cell_type": "code",
      "execution_count": null,
      "metadata": {
        "id": "UUZKNQ1Mima2",
        "colab": {
          "base_uri": "https://localhost:8080/"
        },
        "outputId": "9d390d49-3538-49bd-9730-cf6051a4fd87"
      },
      "outputs": [
        {
          "output_type": "execute_result",
          "data": {
            "text/plain": [
              "WALKING               998\n",
              "WALKING_UPSTAIRS      858\n",
              "WALKING_DOWNSTAIRS    791\n",
              "Name: Activity, dtype: int64"
            ]
          },
          "metadata": {},
          "execution_count": 28
        }
      ],
      "source": [
        "d_data = data[data['Activity_dynamic'] == 1].reset_index()\n",
        "d_data['Activity'].value_counts()"
      ]
    },
    {
      "cell_type": "code",
      "execution_count": null,
      "metadata": {
        "id": "eOMJHLs1imYS"
      },
      "outputs": [],
      "source": [
        "dx=d_data.drop(columns=['Activity','Activity_dynamic'])\n",
        "dy=d_data['Activity']"
      ]
    },
    {
      "cell_type": "code",
      "execution_count": null,
      "metadata": {
        "id": "JWzMEa_vimVg"
      },
      "outputs": [],
      "source": [
        "x_train_d, x_val_d,y_train_d,y_val_d = train_test_split(dx,dy,test_size=0.2, random_state=42, stratify=dy)"
      ]
    },
    {
      "cell_type": "code",
      "execution_count": null,
      "metadata": {
        "id": "lXhP4kVNimSN",
        "colab": {
          "base_uri": "https://localhost:8080/"
        },
        "outputId": "93731285-eaa2-4f96-ba65-cd59121e7240"
      },
      "outputs": [
        {
          "output_type": "execute_result",
          "data": {
            "text/plain": [
              "0.9811320754716981"
            ]
          },
          "metadata": {},
          "execution_count": 31
        }
      ],
      "source": [
        "d_rf = RandomForestClassifier()\n",
        "d_rf.fit(x_train_d, y_train_d)\n",
        "d_rf.score(x_val_d, y_val_d)"
      ]
    },
    {
      "cell_type": "code",
      "source": [
        "from lightgbm import LGBMClassifier\n",
        "\n",
        "lgb=LGBMClassifier(random_state=42)\n",
        "lgb.fit(x_train_d.values,y_train_d.values)\n",
        "\n",
        "lgb.score(x_val_d,y_val_d)"
      ],
      "metadata": {
        "colab": {
          "base_uri": "https://localhost:8080/"
        },
        "id": "Q8mDlFR_lSwR",
        "outputId": "7254c296-5e17-4f2a-bddf-102cdcba48ac"
      },
      "execution_count": null,
      "outputs": [
        {
          "output_type": "stream",
          "name": "stdout",
          "text": [
            "[LightGBM] [Warning] Auto-choosing col-wise multi-threading, the overhead of testing was 0.027657 seconds.\n",
            "You can set `force_col_wise=true` to remove the overhead.\n",
            "[LightGBM] [Info] Total Bins 140063\n",
            "[LightGBM] [Info] Number of data points in the train set: 2117, number of used features: 563\n",
            "[LightGBM] [Info] Start training from score -0.975647\n",
            "[LightGBM] [Info] Start training from score -1.207285\n",
            "[LightGBM] [Info] Start training from score -1.126878\n",
            "[LightGBM] [Warning] No further splits with positive gain, best gain: -inf\n",
            "[LightGBM] [Warning] No further splits with positive gain, best gain: -inf\n",
            "[LightGBM] [Warning] No further splits with positive gain, best gain: -inf\n",
            "[LightGBM] [Warning] No further splits with positive gain, best gain: -inf\n",
            "[LightGBM] [Warning] No further splits with positive gain, best gain: -inf\n",
            "[LightGBM] [Warning] No further splits with positive gain, best gain: -inf\n",
            "[LightGBM] [Warning] No further splits with positive gain, best gain: -inf\n",
            "[LightGBM] [Warning] No further splits with positive gain, best gain: -inf\n",
            "[LightGBM] [Warning] No further splits with positive gain, best gain: -inf\n",
            "[LightGBM] [Warning] No further splits with positive gain, best gain: -inf\n",
            "[LightGBM] [Warning] No further splits with positive gain, best gain: -inf\n",
            "[LightGBM] [Warning] No further splits with positive gain, best gain: -inf\n",
            "[LightGBM] [Warning] No further splits with positive gain, best gain: -inf\n",
            "[LightGBM] [Warning] No further splits with positive gain, best gain: -inf\n",
            "[LightGBM] [Warning] No further splits with positive gain, best gain: -inf\n",
            "[LightGBM] [Warning] No further splits with positive gain, best gain: -inf\n",
            "[LightGBM] [Warning] No further splits with positive gain, best gain: -inf\n",
            "[LightGBM] [Warning] No further splits with positive gain, best gain: -inf\n"
          ]
        },
        {
          "output_type": "execute_result",
          "data": {
            "text/plain": [
              "0.9962264150943396"
            ]
          },
          "metadata": {},
          "execution_count": 36
        }
      ]
    },
    {
      "cell_type": "markdown",
      "metadata": {
        "id": "ShM5xWkwC3YE"
      },
      "source": [
        "### (4) 분류 모델 합치기\n"
      ]
    },
    {
      "cell_type": "markdown",
      "metadata": {
        "id": "K3i2vaxQ3Gmw"
      },
      "source": [
        "* 세부 요구사항\n",
        "    * 두 단계 모델을 통합하고, 새로운 데이터(test)에 대해서 최종 예측결과와 성능평가가 나오도록 함수로 만들기\n",
        "    * 데이터 파이프라인 구축 : test데이터가 로딩되어 전처리 과정을 거치고, 예측 및 성능 평가 수행"
      ]
    },
    {
      "cell_type": "markdown",
      "metadata": {
        "id": "88hluBpL33eB"
      },
      "source": [
        "![](https://github.com/DA4BAM/image/blob/main/pipeline%20function.png?raw=true)"
      ]
    },
    {
      "cell_type": "markdown",
      "metadata": {
        "id": "NDn0mJuGiquO"
      },
      "source": [
        "#### 1) 함수 만들기"
      ]
    },
    {
      "cell_type": "code",
      "execution_count": null,
      "metadata": {
        "id": "U9fP9x76A-gh"
      },
      "outputs": [],
      "source": [
        "temp_data = data.drop(['Activity', 'Activity_dynamic'], axis=1)\n",
        "# 정적, 동적 예측 결과 저장\n",
        "temp_data['is_dynamic'] = rf2.predict(temp_data)"
      ]
    },
    {
      "cell_type": "code",
      "execution_count": null,
      "metadata": {
        "id": "DUvISuM6iyqU"
      },
      "outputs": [],
      "source": [
        "# 정적과 동적 예측 결과에 따라 나누기\n",
        "# reset_index로 원래의 index 를 column으로 빼서 나중에 concat 후 사용\n",
        "temp_static = temp_data[temp_data['is_dynamic'] == 0].reset_index()\n",
        "temp_dynamic = temp_data[temp_data['is_dynamic'] == 1].reset_index()"
      ]
    },
    {
      "cell_type": "code",
      "source": [],
      "metadata": {
        "id": "NbJalreDx16A"
      },
      "execution_count": null,
      "outputs": []
    }
  ],
  "metadata": {
    "colab": {
      "provenance": [],
      "gpuType": "T4"
    },
    "kernelspec": {
      "display_name": "Python 3",
      "name": "python3"
    },
    "language_info": {
      "name": "python"
    },
    "accelerator": "GPU"
  },
  "nbformat": 4,
  "nbformat_minor": 0
}