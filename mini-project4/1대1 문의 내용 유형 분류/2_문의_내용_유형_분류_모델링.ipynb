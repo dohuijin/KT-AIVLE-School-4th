{
  "cells": [
    {
      "cell_type": "markdown",
      "metadata": {
        "id": "pcFHpUTGNVLe"
      },
      "source": [
        "# **미니프로젝트 4차 1대1 문의 내용 유형 분류기**\n",
        "# 단계3 : Text classification\n",
        "\n",
        "### 문제 정의\n",
        "> 1:1 문의 내용 분류 문제<br>\n",
        "> 1. 문의 내용 분석\n",
        "> 2. 문의 내용 분류 모델 성능 평가\n",
        "### 학습 데이터\n",
        "> * 1:1 문의 내용 데이터 : train.csv\n",
        "\n",
        "### 변수 소개\n",
        "> * text : 문의 내용\n",
        "> * label : 문의 유형\n",
        "\n",
        "### References\n",
        "> * Machine Learning\n",
        ">> * [sklearn-tutorial](https://scikit-learn.org/stable/tutorial/text_analytics/working_with_text_data.html)\n",
        "> * Deep Learning\n",
        ">> * [Google Tutorial](https://developers.google.com/machine-learning/guides/text-classification)\n",
        ">> * [Tensorflow Tutorial](https://www.tensorflow.org/tutorials/keras/text_classification)\n",
        ">> * [Keras-tutorial](https://keras.io/examples/nlp/text_classification_from_scratch/)\n",
        ">> * [BERT-tutorial](https://www.tensorflow.org/text/guide/bert_preprocessing_guide)"
      ]
    },
    {
      "cell_type": "markdown",
      "metadata": {
        "id": "FlRWJB2w6Ip6"
      },
      "source": [
        "## 1. 개발 환경 설정"
      ]
    },
    {
      "cell_type": "markdown",
      "metadata": {
        "id": "dDQWUjJgNVLi"
      },
      "source": [
        "### 1-1. 라이브러리 설치"
      ]
    },
    {
      "cell_type": "code",
      "execution_count": null,
      "metadata": {
        "id": "ioeAIOVZNVLi",
        "colab": {
          "base_uri": "https://localhost:8080/"
        },
        "outputId": "47e64ad9-5d22-4691-f9ab-cbc07bb1ed75"
      },
      "outputs": [
        {
          "output_type": "stream",
          "name": "stdout",
          "text": [
            "Collecting konlpy\n",
            "  Downloading konlpy-0.6.0-py2.py3-none-any.whl (19.4 MB)\n",
            "\u001b[2K     \u001b[90m━━━━━━━━━━━━━━━━━━━━━━━━━━━━━━━━━━━━━━━━\u001b[0m \u001b[32m19.4/19.4 MB\u001b[0m \u001b[31m39.5 MB/s\u001b[0m eta \u001b[36m0:00:00\u001b[0m\n",
            "\u001b[?25hRequirement already satisfied: pandas in /usr/local/lib/python3.10/dist-packages (1.5.3)\n",
            "Requirement already satisfied: seaborn in /usr/local/lib/python3.10/dist-packages (0.13.1)\n",
            "Requirement already satisfied: wordcloud in /usr/local/lib/python3.10/dist-packages (1.9.3)\n",
            "Collecting python-mecab-ko\n",
            "  Downloading python_mecab_ko-1.3.3-cp310-cp310-manylinux_2_17_x86_64.manylinux2014_x86_64.whl (573 kB)\n",
            "\u001b[2K     \u001b[90m━━━━━━━━━━━━━━━━━━━━━━━━━━━━━━━━━━━━━━━━\u001b[0m \u001b[32m573.9/573.9 kB\u001b[0m \u001b[31m47.4 MB/s\u001b[0m eta \u001b[36m0:00:00\u001b[0m\n",
            "\u001b[?25hCollecting wget\n",
            "  Downloading wget-3.2.zip (10 kB)\n",
            "  Preparing metadata (setup.py) ... \u001b[?25l\u001b[?25hdone\n",
            "Requirement already satisfied: transformers in /usr/local/lib/python3.10/dist-packages (4.38.1)\n",
            "Collecting JPype1>=0.7.0 (from konlpy)\n",
            "  Downloading JPype1-1.5.0-cp310-cp310-manylinux_2_17_x86_64.manylinux2014_x86_64.whl (488 kB)\n",
            "\u001b[2K     \u001b[90m━━━━━━━━━━━━━━━━━━━━━━━━━━━━━━━━━━━━━━━━\u001b[0m \u001b[32m488.6/488.6 kB\u001b[0m \u001b[31m32.0 MB/s\u001b[0m eta \u001b[36m0:00:00\u001b[0m\n",
            "\u001b[?25hRequirement already satisfied: lxml>=4.1.0 in /usr/local/lib/python3.10/dist-packages (from konlpy) (4.9.4)\n",
            "Requirement already satisfied: numpy>=1.6 in /usr/local/lib/python3.10/dist-packages (from konlpy) (1.25.2)\n",
            "Requirement already satisfied: python-dateutil>=2.8.1 in /usr/local/lib/python3.10/dist-packages (from pandas) (2.8.2)\n",
            "Requirement already satisfied: pytz>=2020.1 in /usr/local/lib/python3.10/dist-packages (from pandas) (2023.4)\n",
            "Requirement already satisfied: matplotlib!=3.6.1,>=3.4 in /usr/local/lib/python3.10/dist-packages (from seaborn) (3.7.1)\n",
            "Requirement already satisfied: pillow in /usr/local/lib/python3.10/dist-packages (from wordcloud) (9.4.0)\n",
            "Collecting python-mecab-ko-dic (from python-mecab-ko)\n",
            "  Downloading python_mecab_ko_dic-2.1.1.post2-py3-none-any.whl (34.5 MB)\n",
            "\u001b[2K     \u001b[90m━━━━━━━━━━━━━━━━━━━━━━━━━━━━━━━━━━━━━━━━\u001b[0m \u001b[32m34.5/34.5 MB\u001b[0m \u001b[31m11.3 MB/s\u001b[0m eta \u001b[36m0:00:00\u001b[0m\n",
            "\u001b[?25hRequirement already satisfied: filelock in /usr/local/lib/python3.10/dist-packages (from transformers) (3.13.1)\n",
            "Requirement already satisfied: huggingface-hub<1.0,>=0.19.3 in /usr/local/lib/python3.10/dist-packages (from transformers) (0.20.3)\n",
            "Requirement already satisfied: packaging>=20.0 in /usr/local/lib/python3.10/dist-packages (from transformers) (23.2)\n",
            "Requirement already satisfied: pyyaml>=5.1 in /usr/local/lib/python3.10/dist-packages (from transformers) (6.0.1)\n",
            "Requirement already satisfied: regex!=2019.12.17 in /usr/local/lib/python3.10/dist-packages (from transformers) (2023.12.25)\n",
            "Requirement already satisfied: requests in /usr/local/lib/python3.10/dist-packages (from transformers) (2.31.0)\n",
            "Requirement already satisfied: tokenizers<0.19,>=0.14 in /usr/local/lib/python3.10/dist-packages (from transformers) (0.15.2)\n",
            "Requirement already satisfied: safetensors>=0.4.1 in /usr/local/lib/python3.10/dist-packages (from transformers) (0.4.2)\n",
            "Requirement already satisfied: tqdm>=4.27 in /usr/local/lib/python3.10/dist-packages (from transformers) (4.66.2)\n",
            "Requirement already satisfied: fsspec>=2023.5.0 in /usr/local/lib/python3.10/dist-packages (from huggingface-hub<1.0,>=0.19.3->transformers) (2023.6.0)\n",
            "Requirement already satisfied: typing-extensions>=3.7.4.3 in /usr/local/lib/python3.10/dist-packages (from huggingface-hub<1.0,>=0.19.3->transformers) (4.10.0)\n",
            "Requirement already satisfied: contourpy>=1.0.1 in /usr/local/lib/python3.10/dist-packages (from matplotlib!=3.6.1,>=3.4->seaborn) (1.2.0)\n",
            "Requirement already satisfied: cycler>=0.10 in /usr/local/lib/python3.10/dist-packages (from matplotlib!=3.6.1,>=3.4->seaborn) (0.12.1)\n",
            "Requirement already satisfied: fonttools>=4.22.0 in /usr/local/lib/python3.10/dist-packages (from matplotlib!=3.6.1,>=3.4->seaborn) (4.49.0)\n",
            "Requirement already satisfied: kiwisolver>=1.0.1 in /usr/local/lib/python3.10/dist-packages (from matplotlib!=3.6.1,>=3.4->seaborn) (1.4.5)\n",
            "Requirement already satisfied: pyparsing>=2.3.1 in /usr/local/lib/python3.10/dist-packages (from matplotlib!=3.6.1,>=3.4->seaborn) (3.1.1)\n",
            "Requirement already satisfied: six>=1.5 in /usr/local/lib/python3.10/dist-packages (from python-dateutil>=2.8.1->pandas) (1.16.0)\n",
            "Requirement already satisfied: charset-normalizer<4,>=2 in /usr/local/lib/python3.10/dist-packages (from requests->transformers) (3.3.2)\n",
            "Requirement already satisfied: idna<4,>=2.5 in /usr/local/lib/python3.10/dist-packages (from requests->transformers) (3.6)\n",
            "Requirement already satisfied: urllib3<3,>=1.21.1 in /usr/local/lib/python3.10/dist-packages (from requests->transformers) (2.0.7)\n",
            "Requirement already satisfied: certifi>=2017.4.17 in /usr/local/lib/python3.10/dist-packages (from requests->transformers) (2024.2.2)\n",
            "Building wheels for collected packages: wget\n",
            "  Building wheel for wget (setup.py) ... \u001b[?25l\u001b[?25hdone\n",
            "  Created wheel for wget: filename=wget-3.2-py3-none-any.whl size=9655 sha256=3d41aa0ae420fb49468393563105d7000755deddb367828abbde26a211135c55\n",
            "  Stored in directory: /root/.cache/pip/wheels/8b/f1/7f/5c94f0a7a505ca1c81cd1d9208ae2064675d97582078e6c769\n",
            "Successfully built wget\n",
            "Installing collected packages: wget, python-mecab-ko-dic, python-mecab-ko, JPype1, konlpy\n",
            "Successfully installed JPype1-1.5.0 konlpy-0.6.0 python-mecab-ko-1.3.3 python-mecab-ko-dic-2.1.1.post2 wget-3.2\n"
          ]
        }
      ],
      "source": [
        "# 필요 라이브러리부터 설치할께요.\n",
        "!pip install konlpy pandas seaborn wordcloud python-mecab-ko wget transformers"
      ]
    },
    {
      "cell_type": "markdown",
      "metadata": {
        "id": "Yy8nheIqNVLj"
      },
      "source": [
        "### 1-2. 라이브러리 import"
      ]
    },
    {
      "cell_type": "code",
      "execution_count": null,
      "metadata": {
        "id": "vdLv3wY8NVLj"
      },
      "outputs": [],
      "source": [
        "from mecab import MeCab\n",
        "import numpy as np\n",
        "import matplotlib.pyplot as plt\n",
        "import seaborn as sns\n",
        "import wget,os\n",
        "from IPython.display import display\n",
        "import matplotlib.pyplot as plt\n",
        "import pandas as pd\n",
        "import matplotlib.font_manager as fm\n",
        "import matplotlib.pyplot as plt\n",
        "import tensorflow as tf\n",
        "import nltk\n",
        "import wget,os"
      ]
    },
    {
      "cell_type": "code",
      "execution_count": null,
      "metadata": {
        "id": "rrlClPUZNVLl",
        "colab": {
          "base_uri": "https://localhost:8080/"
        },
        "outputId": "9b1b3f51-e8cd-4b89-971f-08a09faa6c4b"
      },
      "outputs": [
        {
          "output_type": "stream",
          "name": "stdout",
          "text": [
            "Reading package lists... Done\n",
            "Building dependency tree... Done\n",
            "Reading state information... Done\n",
            "The following NEW packages will be installed:\n",
            "  fonts-nanum\n",
            "0 upgraded, 1 newly installed, 0 to remove and 35 not upgraded.\n",
            "Need to get 10.3 MB of archives.\n",
            "After this operation, 34.1 MB of additional disk space will be used.\n",
            "Get:1 http://archive.ubuntu.com/ubuntu jammy/universe amd64 fonts-nanum all 20200506-1 [10.3 MB]\n",
            "Fetched 10.3 MB in 1s (8,519 kB/s)\n",
            "debconf: unable to initialize frontend: Dialog\n",
            "debconf: (No usable dialog-like program is installed, so the dialog based frontend cannot be used. at /usr/share/perl5/Debconf/FrontEnd/Dialog.pm line 78, <> line 1.)\n",
            "debconf: falling back to frontend: Readline\n",
            "debconf: unable to initialize frontend: Readline\n",
            "debconf: (This frontend requires a controlling tty.)\n",
            "debconf: falling back to frontend: Teletype\n",
            "dpkg-preconfigure: unable to re-open stdin: \n",
            "Selecting previously unselected package fonts-nanum.\n",
            "(Reading database ... 121749 files and directories currently installed.)\n",
            "Preparing to unpack .../fonts-nanum_20200506-1_all.deb ...\n",
            "Unpacking fonts-nanum (20200506-1) ...\n",
            "Setting up fonts-nanum (20200506-1) ...\n",
            "Processing triggers for fontconfig (2.13.1-4.2ubuntu5) ...\n",
            "/usr/share/fonts: caching, new cache contents: 0 fonts, 1 dirs\n",
            "/usr/share/fonts/truetype: caching, new cache contents: 0 fonts, 3 dirs\n",
            "/usr/share/fonts/truetype/humor-sans: caching, new cache contents: 1 fonts, 0 dirs\n",
            "/usr/share/fonts/truetype/liberation: caching, new cache contents: 16 fonts, 0 dirs\n",
            "/usr/share/fonts/truetype/nanum: caching, new cache contents: 12 fonts, 0 dirs\n",
            "/usr/local/share/fonts: caching, new cache contents: 0 fonts, 0 dirs\n",
            "/root/.local/share/fonts: skipping, no such directory\n",
            "/root/.fonts: skipping, no such directory\n",
            "/usr/share/fonts/truetype: skipping, looped directory detected\n",
            "/usr/share/fonts/truetype/humor-sans: skipping, looped directory detected\n",
            "/usr/share/fonts/truetype/liberation: skipping, looped directory detected\n",
            "/usr/share/fonts/truetype/nanum: skipping, looped directory detected\n",
            "/var/cache/fontconfig: cleaning cache directory\n",
            "/root/.cache/fontconfig: not cleaning non-existent cache directory\n",
            "/root/.fontconfig: not cleaning non-existent cache directory\n",
            "fc-cache: succeeded\n"
          ]
        }
      ],
      "source": [
        "# 런타임 재시작 필요\n",
        "!sudo apt-get install -y fonts-nanum\n",
        "!sudo fc-cache -fv\n",
        "!rm ~/.cache/matplotlib -rf"
      ]
    },
    {
      "cell_type": "markdown",
      "metadata": {
        "id": "ZTyLBKvHNVLl"
      },
      "source": [
        "### 1-3. 한글 글꼴 설정"
      ]
    },
    {
      "cell_type": "code",
      "execution_count": null,
      "metadata": {
        "id": "b3EdAJgdNVLl",
        "colab": {
          "base_uri": "https://localhost:8080/"
        },
        "outputId": "8d305785-883e-487b-a459-fafd834681a0"
      },
      "outputs": [
        {
          "output_type": "stream",
          "name": "stdout",
          "text": [
            "Reading package lists... Done\n",
            "Building dependency tree... Done\n",
            "Reading state information... Done\n",
            "fonts-nanum is already the newest version (20200506-1).\n",
            "0 upgraded, 0 newly installed, 0 to remove and 35 not upgraded.\n"
          ]
        }
      ],
      "source": [
        "!sudo apt-get install -y fonts-nanum"
      ]
    },
    {
      "cell_type": "code",
      "execution_count": null,
      "metadata": {
        "id": "NSXviiZ7NVLm",
        "colab": {
          "base_uri": "https://localhost:8080/"
        },
        "outputId": "93b1aee9-3a40-4de2-cb87-94310c9fd952"
      },
      "outputs": [
        {
          "output_type": "stream",
          "name": "stdout",
          "text": [
            "NanumGothic\n"
          ]
        }
      ],
      "source": [
        "FONT_PATH = '/usr/share/fonts/truetype/nanum/NanumGothic.ttf'\n",
        "font_name = fm.FontProperties(fname=FONT_PATH, size=10).get_name()\n",
        "print(font_name)\n",
        "plt.rcParams['font.family']=font_name\n",
        "assert plt.rcParams['font.family'] == [font_name], \"한글 폰트가 설정되지 않았습니다.\""
      ]
    },
    {
      "cell_type": "markdown",
      "metadata": {
        "id": "4K8Sp4ejNVLm"
      },
      "source": [
        "### 1-4. 구글드라이브 연결"
      ]
    },
    {
      "cell_type": "code",
      "execution_count": null,
      "metadata": {
        "id": "_NrJV5saNVLm",
        "colab": {
          "base_uri": "https://localhost:8080/"
        },
        "outputId": "5e81298d-8cbc-4bd6-faa0-f762773d0058"
      },
      "outputs": [
        {
          "output_type": "stream",
          "name": "stdout",
          "text": [
            "Mounted at /content/drive\n"
          ]
        }
      ],
      "source": [
        "from google.colab import drive\n",
        "drive.mount('/content/drive')"
      ]
    },
    {
      "cell_type": "markdown",
      "metadata": {
        "id": "uKI84v2TNVLm"
      },
      "source": [
        "## 2. 전처리한 데이터 불러오기\n",
        "* 1, 2일차에 전처리한 데이터를 불러옵니다.\n",
        "* sparse data에 대해서는 scipy.sparse.load_npz 활용"
      ]
    },
    {
      "cell_type": "code",
      "execution_count": null,
      "metadata": {
        "id": "mhyLBaitNVLm",
        "colab": {
          "base_uri": "https://localhost:8080/"
        },
        "outputId": "41a800c4-7529-4947-831e-ec2515336c5c"
      },
      "outputs": [
        {
          "output_type": "execute_result",
          "data": {
            "text/plain": [
              "((2964, 55837), (742, 55837), (2964,), (742,))"
            ]
          },
          "metadata": {},
          "execution_count": 7
        }
      ],
      "source": [
        "import scipy\n",
        "data_path = '/content/drive/MyDrive/미니프로젝트/2023.10.16_미니프로젝트4차_실습자료/4차/1:1문의 게시판 데이터/'\n",
        "bigram_x_train = scipy.sparse.load_npz(data_path + 'bigram_x_train.npz').toarray()\n",
        "bigram_x_val = scipy.sparse.load_npz(data_path + 'bigram_x_val.npz').toarray()\n",
        "y_train = pd.read_csv(data_path + 'y_train.csv')['label']\n",
        "y_val = pd.read_csv(data_path + 'y_val.csv')['label']\n",
        "bigram_x_train.shape, bigram_x_val.shape, y_train.shape, y_val.shape"
      ]
    },
    {
      "cell_type": "code",
      "source": [
        "seq_x_train = np.load(data_path + 'seq_x_train.npy')\n",
        "seq_x_val = np.load(data_path + 'seq_x_val.npy')\n",
        "seq_x_train.shape, seq_x_val.shape"
      ],
      "metadata": {
        "id": "NYRdk2bYhx4v",
        "colab": {
          "base_uri": "https://localhost:8080/"
        },
        "outputId": "3fed0ae2-e9b4-4e62-dfb6-ca2cdb0581ac"
      },
      "execution_count": null,
      "outputs": [
        {
          "output_type": "execute_result",
          "data": {
            "text/plain": [
              "((2964, 400), (742, 400))"
            ]
          },
          "metadata": {},
          "execution_count": 8
        }
      ]
    },
    {
      "cell_type": "code",
      "source": [
        "w2v_x_train = np.load(data_path +'w2v_x_train.npy')\n",
        "w2v_x_val = np.load(data_path +'w2v_x_val.npy')\n",
        "w2v_x_train.shape, w2v_x_val.shape"
      ],
      "metadata": {
        "id": "B89mwHnvhxzn",
        "colab": {
          "base_uri": "https://localhost:8080/"
        },
        "outputId": "1541267c-e823-4888-addb-96a5bf279a07"
      },
      "execution_count": null,
      "outputs": [
        {
          "output_type": "execute_result",
          "data": {
            "text/plain": [
              "((2964, 100), (742, 100))"
            ]
          },
          "metadata": {},
          "execution_count": 9
        }
      ]
    },
    {
      "cell_type": "markdown",
      "metadata": {
        "id": "0_P-yHLLNVLm"
      },
      "source": [
        "## 3. Machine Learning(N-grams)\n",
        "* N-gram으로 전처리한 데이터를 이용하여 3개 이상의 Machine Learning 모델 학습 및 성능 분석\n",
        "> * [sklearn-tutorial](https://scikit-learn.org/stable/tutorial/text_analytics/working_with_text_data.html)"
      ]
    },
    {
      "cell_type": "code",
      "source": [
        "from sklearn.metrics import confusion_matrix, classification_report\n",
        "from sklearn.metrics import accuracy_score"
      ],
      "metadata": {
        "id": "pVNjjhX_mMz3"
      },
      "execution_count": null,
      "outputs": []
    },
    {
      "cell_type": "markdown",
      "metadata": {
        "id": "_04HBUEaNVLm"
      },
      "source": [
        "### 3-1. Model 1"
      ]
    },
    {
      "cell_type": "code",
      "source": [
        "from sklearn.ensemble import RandomForestClassifier\n"
      ],
      "metadata": {
        "id": "ZPjp7nEllh_M"
      },
      "execution_count": null,
      "outputs": []
    },
    {
      "cell_type": "code",
      "source": [
        "%%time\n",
        "model = RandomForestClassifier(random_state=2023)\n",
        "model.fit(bigram_x_train, y_train)\n",
        "\n",
        "y_pred = model.predict(bigram_x_val)\n",
        "accuracy = accuracy_score(y_val, y_pred)\n",
        "print(classification_report(y_val, y_pred))\n",
        "print(\"Accuracy: {:.2f}%\".format(accuracy * 100))"
      ],
      "metadata": {
        "id": "KJEB_aGIlhvw",
        "colab": {
          "base_uri": "https://localhost:8080/"
        },
        "outputId": "167d8104-6d73-4bb0-bb3b-f756c14553eb"
      },
      "execution_count": null,
      "outputs": [
        {
          "output_type": "stream",
          "name": "stdout",
          "text": [
            "              precision    recall  f1-score   support\n",
            "\n",
            "           0       0.55      0.98      0.71       317\n",
            "           1       0.96      0.31      0.46       147\n",
            "           2       0.84      0.25      0.38       146\n",
            "           3       0.87      0.54      0.66       112\n",
            "           4       0.83      0.75      0.79        20\n",
            "\n",
            "    accuracy                           0.63       742\n",
            "   macro avg       0.81      0.56      0.60       742\n",
            "weighted avg       0.74      0.63      0.59       742\n",
            "\n",
            "Accuracy: 62.94%\n",
            "CPU times: user 1min 39s, sys: 605 ms, total: 1min 40s\n",
            "Wall time: 1min 40s\n"
          ]
        }
      ]
    },
    {
      "cell_type": "code",
      "source": [
        "model1 = RandomForestClassifier(random_state=2023)\n",
        "model1.fit(w2v_x_train, y_train)\n",
        "\n",
        "y_pred_w2 = model1.predict(w2v_x_val)\n",
        "accuracy = accuracy_score(y_val, y_pred_w2)\n",
        "print(classification_report(y_val, y_pred_w2))\n",
        "print(\"Accuracy: {:.2f}%\".format(accuracy * 100))"
      ],
      "metadata": {
        "id": "QtRi_iEkoSPK",
        "colab": {
          "base_uri": "https://localhost:8080/"
        },
        "outputId": "d5639e90-d2fc-4703-a126-7bc11c6c103e"
      },
      "execution_count": null,
      "outputs": [
        {
          "output_type": "stream",
          "name": "stdout",
          "text": [
            "              precision    recall  f1-score   support\n",
            "\n",
            "           0       0.64      0.77      0.70       317\n",
            "           1       0.39      0.22      0.28       147\n",
            "           2       0.41      0.42      0.42       146\n",
            "           3       0.56      0.60      0.58       112\n",
            "           4       0.14      0.05      0.07        20\n",
            "\n",
            "    accuracy                           0.55       742\n",
            "   macro avg       0.43      0.41      0.41       742\n",
            "weighted avg       0.52      0.55      0.53       742\n",
            "\n",
            "Accuracy: 54.72%\n"
          ]
        }
      ]
    },
    {
      "cell_type": "markdown",
      "metadata": {
        "id": "FWBf8inLNVLn"
      },
      "source": [
        "### 3-2. Model 2"
      ]
    },
    {
      "cell_type": "code",
      "execution_count": null,
      "metadata": {
        "id": "tUdxJeCWNVLn"
      },
      "outputs": [],
      "source": [
        "from sklearn.linear_model import LogisticRegression\n",
        "from sklearn.metrics import accuracy_score"
      ]
    },
    {
      "cell_type": "code",
      "source": [
        "model2 = LogisticRegression()\n",
        "model2.fit(bigram_x_train, y_train)\n",
        "\n",
        "y_pred2 = model2.predict(bigram_x_val)\n",
        "accuracy = accuracy_score(y_val, y_pred2)\n",
        "print(classification_report(y_val, y_pred2))\n",
        "print(\"Accuracy: {:.2f}%\".format(accuracy * 100))"
      ],
      "metadata": {
        "id": "Rbm2XxwzHKYC",
        "colab": {
          "base_uri": "https://localhost:8080/"
        },
        "outputId": "dc041233-74d1-4163-eb8b-1630df280136"
      },
      "execution_count": null,
      "outputs": [
        {
          "output_type": "stream",
          "name": "stdout",
          "text": [
            "              precision    recall  f1-score   support\n",
            "\n",
            "           0       0.69      0.91      0.78       317\n",
            "           1       0.79      0.56      0.66       147\n",
            "           2       0.73      0.55      0.62       146\n",
            "           3       0.79      0.68      0.73       112\n",
            "           4       0.86      0.60      0.71        20\n",
            "\n",
            "    accuracy                           0.73       742\n",
            "   macro avg       0.77      0.66      0.70       742\n",
            "weighted avg       0.74      0.73      0.72       742\n",
            "\n",
            "Accuracy: 72.51%\n"
          ]
        }
      ]
    },
    {
      "cell_type": "code",
      "source": [
        "model3 = LogisticRegression()\n",
        "model3.fit(w2v_x_train, y_train)\n",
        "\n",
        "y_pred3 = model3.predict(w2v_x_val)\n",
        "accuracy = accuracy_score(y_val, y_pred3)\n",
        "print(classification_report(y_val, y_pred3))\n",
        "print(\"Accuracy: {:.2f}%\".format(accuracy * 100))"
      ],
      "metadata": {
        "id": "UbN0PPSunb58",
        "colab": {
          "base_uri": "https://localhost:8080/"
        },
        "outputId": "757168c5-b708-489e-ab24-cf41f42ca9ff"
      },
      "execution_count": null,
      "outputs": [
        {
          "output_type": "stream",
          "name": "stdout",
          "text": [
            "              precision    recall  f1-score   support\n",
            "\n",
            "           0       0.64      0.80      0.71       317\n",
            "           1       0.44      0.14      0.21       147\n",
            "           2       0.44      0.47      0.46       146\n",
            "           3       0.51      0.64      0.57       112\n",
            "           4       0.00      0.00      0.00        20\n",
            "\n",
            "    accuracy                           0.56       742\n",
            "   macro avg       0.41      0.41      0.39       742\n",
            "weighted avg       0.53      0.56      0.52       742\n",
            "\n",
            "Accuracy: 56.06%\n"
          ]
        },
        {
          "output_type": "stream",
          "name": "stderr",
          "text": [
            "/usr/local/lib/python3.10/dist-packages/sklearn/linear_model/_logistic.py:458: ConvergenceWarning: lbfgs failed to converge (status=1):\n",
            "STOP: TOTAL NO. of ITERATIONS REACHED LIMIT.\n",
            "\n",
            "Increase the number of iterations (max_iter) or scale the data as shown in:\n",
            "    https://scikit-learn.org/stable/modules/preprocessing.html\n",
            "Please also refer to the documentation for alternative solver options:\n",
            "    https://scikit-learn.org/stable/modules/linear_model.html#logistic-regression\n",
            "  n_iter_i = _check_optimize_result(\n"
          ]
        }
      ]
    },
    {
      "cell_type": "markdown",
      "metadata": {
        "id": "nlHRkL_3NVLn"
      },
      "source": [
        "### 3-3. Model 3"
      ]
    },
    {
      "cell_type": "code",
      "execution_count": null,
      "metadata": {
        "id": "yjl-YWQGNVLn"
      },
      "outputs": [],
      "source": [
        "from sklearn.svm import SVC"
      ]
    },
    {
      "cell_type": "code",
      "source": [
        "%%time\n",
        "model4 = SVC()\n",
        "model4.fit(bigram_x_train, y_train)\n",
        "\n",
        "y_pred4 = model4.predict(bigram_x_val)\n",
        "accuracy = accuracy_score(y_val, y_pred4)\n",
        "print(classification_report(y_val, y_pred4))\n",
        "print(\"Accuracy: {:.2f}%\".format(accuracy * 100))"
      ],
      "metadata": {
        "id": "RSMmlInXHjuQ"
      },
      "execution_count": null,
      "outputs": []
    },
    {
      "cell_type": "code",
      "source": [
        "%%time\n",
        "model5 = SVC()\n",
        "model5.fit(w2v_x_train, y_train)\n",
        "\n",
        "y_pred5 = model5.predict(w2v_x_val)\n",
        "accuracy = accuracy_score(y_val, y_pred5)\n",
        "print(classification_report(y_val, y_pred5))\n",
        "print(\"Accuracy: {:.2f}%\".format(accuracy * 100))"
      ],
      "metadata": {
        "colab": {
          "base_uri": "https://localhost:8080/"
        },
        "id": "Vt1rS5xFlVLR",
        "outputId": "8363f12c-9b18-48b0-d1bb-7e691316ad6b"
      },
      "execution_count": null,
      "outputs": [
        {
          "output_type": "stream",
          "name": "stdout",
          "text": [
            "              precision    recall  f1-score   support\n",
            "\n",
            "           0       0.59      0.85      0.70       317\n",
            "           1       1.00      0.01      0.01       147\n",
            "           2       0.41      0.45      0.43       146\n",
            "           3       0.50      0.57      0.53       112\n",
            "           4       0.00      0.00      0.00        20\n",
            "\n",
            "    accuracy                           0.54       742\n",
            "   macro avg       0.50      0.37      0.33       742\n",
            "weighted avg       0.61      0.54      0.47       742\n",
            "\n",
            "Accuracy: 53.77%\n",
            "CPU times: user 1.56 s, sys: 4.62 ms, total: 1.57 s\n",
            "Wall time: 2.89 s\n"
          ]
        },
        {
          "output_type": "stream",
          "name": "stderr",
          "text": [
            "/usr/local/lib/python3.10/dist-packages/sklearn/metrics/_classification.py:1344: UndefinedMetricWarning: Precision and F-score are ill-defined and being set to 0.0 in labels with no predicted samples. Use `zero_division` parameter to control this behavior.\n",
            "  _warn_prf(average, modifier, msg_start, len(result))\n",
            "/usr/local/lib/python3.10/dist-packages/sklearn/metrics/_classification.py:1344: UndefinedMetricWarning: Precision and F-score are ill-defined and being set to 0.0 in labels with no predicted samples. Use `zero_division` parameter to control this behavior.\n",
            "  _warn_prf(average, modifier, msg_start, len(result))\n",
            "/usr/local/lib/python3.10/dist-packages/sklearn/metrics/_classification.py:1344: UndefinedMetricWarning: Precision and F-score are ill-defined and being set to 0.0 in labels with no predicted samples. Use `zero_division` parameter to control this behavior.\n",
            "  _warn_prf(average, modifier, msg_start, len(result))\n"
          ]
        }
      ]
    },
    {
      "cell_type": "markdown",
      "metadata": {
        "id": "h6apQWHoNVLn"
      },
      "source": [
        "## 4. Deep Learning(Sequence)\n",
        "* Sequence로 전처리한 데이터를 이용하여 DNN, 1-D CNN, LSTM 등 3가지 이상의 deep learning 모델 학습 및 성능 분석\n",
        "> * [Google Tutorial](https://developers.google.com/machine-learning/guides/text-classification)\n",
        "> * [Tensorflow Tutorial](https://www.tensorflow.org/tutorials/keras/text_classification)\n",
        "> * [Keras-tutorial](https://keras.io/examples/nlp/text_classification_from_scratch/)"
      ]
    },
    {
      "cell_type": "code",
      "source": [
        "import tensorflow as tf\n",
        "from tensorflow import keras\n",
        "import tensorflow.keras.backend as K\n",
        "from tensorflow.keras.layers import Input, Dense, Flatten, Embedding\n",
        "from tensorflow.keras.layers import Conv1D, MaxPool1D, LSTM, GRU, Bidirectional\n",
        "from tensorflow.keras.models import Model\n",
        "from tensorflow.keras.callbacks import EarlyStopping, ReduceLROnPlateau"
      ],
      "metadata": {
        "id": "DTHC1xWNLO_B"
      },
      "execution_count": null,
      "outputs": []
    },
    {
      "cell_type": "markdown",
      "metadata": {
        "id": "ALa7qGD4NVLn"
      },
      "source": [
        "### 4-1. DNN"
      ]
    },
    {
      "cell_type": "code",
      "execution_count": null,
      "metadata": {
        "id": "S5LV2tyANVLn",
        "colab": {
          "base_uri": "https://localhost:8080/"
        },
        "outputId": "395abb42-6e3e-468f-dd79-f0b14069a453"
      },
      "outputs": [
        {
          "output_type": "stream",
          "name": "stdout",
          "text": [
            "Model: \"sequential\"\n",
            "_________________________________________________________________\n",
            " Layer (type)                Output Shape              Param #   \n",
            "=================================================================\n",
            " dense (Dense)               (None, 64)                25664     \n",
            "                                                                 \n",
            " dense_1 (Dense)             (None, 128)               8320      \n",
            "                                                                 \n",
            " dense_2 (Dense)             (None, 256)               33024     \n",
            "                                                                 \n",
            " dense_3 (Dense)             (None, 5)                 1285      \n",
            "                                                                 \n",
            "=================================================================\n",
            "Total params: 68293 (266.77 KB)\n",
            "Trainable params: 68293 (266.77 KB)\n",
            "Non-trainable params: 0 (0.00 Byte)\n",
            "_________________________________________________________________\n"
          ]
        }
      ],
      "source": [
        "from keras.models import Sequential\n",
        "from keras.layers import Dense\n",
        "\n",
        "# 모델 초기화\n",
        "model = Sequential()\n",
        "\n",
        "model.add(Dense(64, activation='swish', input_shape=(400,)))\n",
        "model.add(Dense(128, activation='swish'))\n",
        "model.add(Dense(256, activation='swish'))\n",
        "\n",
        "model.add(Dense(5, activation='softmax'))\n",
        "\n",
        "model.compile(loss='sparse_categorical_crossentropy', metrics=['accuracy'], optimizer='adam')\n",
        "\n",
        "model.summary()"
      ]
    },
    {
      "cell_type": "code",
      "source": [
        "es = EarlyStopping(patience=20, restore_best_weights=True, verbose=1)\n",
        "history = model.fit(seq_x_train, y_train, validation_data=(seq_x_val, y_val),epochs=1000, callbacks=[es])"
      ],
      "metadata": {
        "id": "gKqMmkR0MQrY",
        "colab": {
          "base_uri": "https://localhost:8080/"
        },
        "outputId": "621a20c7-f13b-449f-a263-b22849a9d120"
      },
      "execution_count": null,
      "outputs": [
        {
          "output_type": "stream",
          "name": "stdout",
          "text": [
            "Epoch 1/1000\n",
            "93/93 [==============================] - 3s 7ms/step - loss: 46.2698 - accuracy: 0.2966 - val_loss: 30.6744 - val_accuracy: 0.2318\n",
            "Epoch 2/1000\n",
            "93/93 [==============================] - 0s 4ms/step - loss: 13.5805 - accuracy: 0.3742 - val_loss: 15.9599 - val_accuracy: 0.3235\n",
            "Epoch 3/1000\n",
            "93/93 [==============================] - 0s 4ms/step - loss: 6.5772 - accuracy: 0.4811 - val_loss: 13.7870 - val_accuracy: 0.3019\n",
            "Epoch 4/1000\n",
            "93/93 [==============================] - 0s 4ms/step - loss: 4.3496 - accuracy: 0.5388 - val_loss: 12.5165 - val_accuracy: 0.2911\n",
            "Epoch 5/1000\n",
            "93/93 [==============================] - 0s 4ms/step - loss: 2.6361 - accuracy: 0.6161 - val_loss: 11.9358 - val_accuracy: 0.3059\n",
            "Epoch 6/1000\n",
            "93/93 [==============================] - 0s 4ms/step - loss: 1.6261 - accuracy: 0.6991 - val_loss: 11.5123 - val_accuracy: 0.3423\n",
            "Epoch 7/1000\n",
            "93/93 [==============================] - 0s 4ms/step - loss: 1.2057 - accuracy: 0.7308 - val_loss: 11.4964 - val_accuracy: 0.3464\n",
            "Epoch 8/1000\n",
            "93/93 [==============================] - 0s 4ms/step - loss: 0.8886 - accuracy: 0.7760 - val_loss: 11.1249 - val_accuracy: 0.2992\n",
            "Epoch 9/1000\n",
            "93/93 [==============================] - 0s 4ms/step - loss: 0.6419 - accuracy: 0.8141 - val_loss: 11.5313 - val_accuracy: 0.3167\n",
            "Epoch 10/1000\n",
            "93/93 [==============================] - 0s 4ms/step - loss: 0.5260 - accuracy: 0.8357 - val_loss: 11.1430 - val_accuracy: 0.3275\n",
            "Epoch 11/1000\n",
            "93/93 [==============================] - 0s 4ms/step - loss: 0.7072 - accuracy: 0.8242 - val_loss: 11.3627 - val_accuracy: 0.3181\n",
            "Epoch 12/1000\n",
            "93/93 [==============================] - 0s 4ms/step - loss: 1.2331 - accuracy: 0.7594 - val_loss: 14.2574 - val_accuracy: 0.3113\n",
            "Epoch 13/1000\n",
            "93/93 [==============================] - 0s 4ms/step - loss: 2.1078 - accuracy: 0.7028 - val_loss: 12.4452 - val_accuracy: 0.3167\n",
            "Epoch 14/1000\n",
            "93/93 [==============================] - 1s 6ms/step - loss: 1.5668 - accuracy: 0.7355 - val_loss: 12.8765 - val_accuracy: 0.3046\n",
            "Epoch 15/1000\n",
            "93/93 [==============================] - 1s 11ms/step - loss: 1.4106 - accuracy: 0.7460 - val_loss: 12.1707 - val_accuracy: 0.3032\n",
            "Epoch 16/1000\n",
            "93/93 [==============================] - 1s 13ms/step - loss: 0.8431 - accuracy: 0.7979 - val_loss: 11.6307 - val_accuracy: 0.3329\n",
            "Epoch 17/1000\n",
            "93/93 [==============================] - 2s 17ms/step - loss: 0.5770 - accuracy: 0.8478 - val_loss: 11.7037 - val_accuracy: 0.3113\n",
            "Epoch 18/1000\n",
            "93/93 [==============================] - 1s 8ms/step - loss: 0.5782 - accuracy: 0.8553 - val_loss: 11.3922 - val_accuracy: 0.2790\n",
            "Epoch 19/1000\n",
            "93/93 [==============================] - 1s 8ms/step - loss: 1.1786 - accuracy: 0.8310 - val_loss: 14.3492 - val_accuracy: 0.3032\n",
            "Epoch 20/1000\n",
            "93/93 [==============================] - 1s 8ms/step - loss: 1.3359 - accuracy: 0.7756 - val_loss: 11.9179 - val_accuracy: 0.3154\n",
            "Epoch 21/1000\n",
            "93/93 [==============================] - 1s 7ms/step - loss: 1.0210 - accuracy: 0.7864 - val_loss: 12.0149 - val_accuracy: 0.2830\n",
            "Epoch 22/1000\n",
            "93/93 [==============================] - 1s 8ms/step - loss: 0.9291 - accuracy: 0.8057 - val_loss: 11.2210 - val_accuracy: 0.3288\n",
            "Epoch 23/1000\n",
            "93/93 [==============================] - 1s 7ms/step - loss: 0.9228 - accuracy: 0.8367 - val_loss: 10.9644 - val_accuracy: 0.3221\n",
            "Epoch 24/1000\n",
            "93/93 [==============================] - 1s 8ms/step - loss: 0.6303 - accuracy: 0.8516 - val_loss: 11.1183 - val_accuracy: 0.2978\n",
            "Epoch 25/1000\n",
            "93/93 [==============================] - 1s 7ms/step - loss: 0.4418 - accuracy: 0.8927 - val_loss: 13.1218 - val_accuracy: 0.3369\n",
            "Epoch 26/1000\n",
            "93/93 [==============================] - 0s 5ms/step - loss: 0.3640 - accuracy: 0.8941 - val_loss: 11.9941 - val_accuracy: 0.3235\n",
            "Epoch 27/1000\n",
            "93/93 [==============================] - 0s 5ms/step - loss: 0.2788 - accuracy: 0.9173 - val_loss: 11.2674 - val_accuracy: 0.3100\n",
            "Epoch 28/1000\n",
            "93/93 [==============================] - 0s 4ms/step - loss: 0.1950 - accuracy: 0.9349 - val_loss: 11.5436 - val_accuracy: 0.3208\n",
            "Epoch 29/1000\n",
            "93/93 [==============================] - 0s 4ms/step - loss: 0.1196 - accuracy: 0.9605 - val_loss: 12.1044 - val_accuracy: 0.3113\n",
            "Epoch 30/1000\n",
            "93/93 [==============================] - 0s 5ms/step - loss: 0.1174 - accuracy: 0.9619 - val_loss: 11.7253 - val_accuracy: 0.3235\n",
            "Epoch 31/1000\n",
            "93/93 [==============================] - 0s 4ms/step - loss: 0.0801 - accuracy: 0.9787 - val_loss: 11.8527 - val_accuracy: 0.3154\n",
            "Epoch 32/1000\n",
            "93/93 [==============================] - 0s 5ms/step - loss: 0.0404 - accuracy: 0.9933 - val_loss: 11.8248 - val_accuracy: 0.3221\n",
            "Epoch 33/1000\n",
            "93/93 [==============================] - 0s 4ms/step - loss: 0.0324 - accuracy: 0.9956 - val_loss: 12.0564 - val_accuracy: 0.3315\n",
            "Epoch 34/1000\n",
            "93/93 [==============================] - 0s 5ms/step - loss: 0.0286 - accuracy: 0.9963 - val_loss: 12.1604 - val_accuracy: 0.3288\n",
            "Epoch 35/1000\n",
            "93/93 [==============================] - 0s 4ms/step - loss: 0.0237 - accuracy: 0.9976 - val_loss: 12.2355 - val_accuracy: 0.3261\n",
            "Epoch 36/1000\n",
            "93/93 [==============================] - 1s 8ms/step - loss: 0.0206 - accuracy: 0.9980 - val_loss: 12.3159 - val_accuracy: 0.3221\n",
            "Epoch 37/1000\n",
            "93/93 [==============================] - 1s 8ms/step - loss: 0.0196 - accuracy: 0.9980 - val_loss: 12.5397 - val_accuracy: 0.3302\n",
            "Epoch 38/1000\n",
            "93/93 [==============================] - 1s 9ms/step - loss: 0.0236 - accuracy: 0.9973 - val_loss: 12.3916 - val_accuracy: 0.3154\n",
            "Epoch 39/1000\n",
            "93/93 [==============================] - 1s 9ms/step - loss: 0.0174 - accuracy: 0.9993 - val_loss: 12.4897 - val_accuracy: 0.3167\n",
            "Epoch 40/1000\n",
            "93/93 [==============================] - 1s 11ms/step - loss: 0.0157 - accuracy: 0.9993 - val_loss: 12.5346 - val_accuracy: 0.3194\n",
            "Epoch 41/1000\n",
            "93/93 [==============================] - 1s 8ms/step - loss: 0.0154 - accuracy: 0.9990 - val_loss: 12.6869 - val_accuracy: 0.3113\n",
            "Epoch 42/1000\n",
            "93/93 [==============================] - 1s 8ms/step - loss: 0.0154 - accuracy: 0.9987 - val_loss: 12.7414 - val_accuracy: 0.3275\n",
            "Epoch 43/1000\n",
            "92/93 [============================>.] - ETA: 0s - loss: 0.0223 - accuracy: 0.9969Restoring model weights from the end of the best epoch: 23.\n",
            "93/93 [==============================] - 1s 9ms/step - loss: 0.0222 - accuracy: 0.9970 - val_loss: 12.7440 - val_accuracy: 0.3167\n",
            "Epoch 43: early stopping\n"
          ]
        }
      ]
    },
    {
      "cell_type": "code",
      "source": [
        "!pip install koreanize-matplotlib\n",
        "import koreanize_matplotlib"
      ],
      "metadata": {
        "id": "UK9Sn_ntP7C4"
      },
      "execution_count": null,
      "outputs": []
    },
    {
      "cell_type": "code",
      "source": [
        "plt.plot(history.history['loss'], label='train')\n",
        "plt.plot(history.history['val_loss'], label='validation')\n",
        "plt.legend()\n",
        "plt.show()"
      ],
      "metadata": {
        "id": "Ya459Dm2MQkq",
        "colab": {
          "base_uri": "https://localhost:8080/",
          "height": 429
        },
        "outputId": "3718892d-ad3e-429b-c896-eb6a25023195"
      },
      "execution_count": null,
      "outputs": [
        {
          "output_type": "display_data",
          "data": {
            "text/plain": [
              "<Figure size 640x480 with 1 Axes>"
            ],
            "image/png": "[encoded data removed]"
          },
          "metadata": {}
        }
      ]
    },
    {
      "cell_type": "markdown",
      "metadata": {
        "id": "fznxLNLSNVLn"
      },
      "source": [
        "### 4-2. 1-D CNN"
      ]
    },
    {
      "cell_type": "code",
      "source": [
        "# 세션 클리어\n",
        "K.clear_session()\n",
        "\n",
        "# 모델 쌓기\n",
        "il = Input(shape=(400, ))\n",
        "\n",
        "hl = Dense(64, activation='swish')(il)\n",
        "hl = Dense(128, activation='swish')(hl)\n",
        "hl = Dense(256, activation='swish')(hl)\n",
        "ol = Dense(5, activation='softmax')(hl)\n",
        "\n",
        "# 모델 선언\n",
        "model = Model(il, ol)\n",
        "\n",
        "# 컴파일\n",
        "model.compile(loss='sparse_categorical_crossentropy', metrics=['accuracy'], optimizer='adam')\n",
        "\n",
        "# 요약\n",
        "model.summary()\n"
      ],
      "metadata": {
        "colab": {
          "base_uri": "https://localhost:8080/"
        },
        "id": "riNFuR7td5zD",
        "outputId": "97a3ad57-5549-4988-f998-af18b11fca21"
      },
      "execution_count": null,
      "outputs": [
        {
          "output_type": "stream",
          "name": "stdout",
          "text": [
            "Model: \"model\"\n",
            "_________________________________________________________________\n",
            " Layer (type)                Output Shape              Param #   \n",
            "=================================================================\n",
            " input_1 (InputLayer)        [(None, 400)]             0         \n",
            "                                                                 \n",
            " dense (Dense)               (None, 64)                25664     \n",
            "                                                                 \n",
            " dense_1 (Dense)             (None, 128)               8320      \n",
            "                                                                 \n",
            " dense_2 (Dense)             (None, 256)               33024     \n",
            "                                                                 \n",
            " dense_3 (Dense)             (None, 5)                 1285      \n",
            "                                                                 \n",
            "=================================================================\n",
            "Total params: 68293 (266.77 KB)\n",
            "Trainable params: 68293 (266.77 KB)\n",
            "Non-trainable params: 0 (0.00 Byte)\n",
            "_________________________________________________________________\n"
          ]
        }
      ]
    },
    {
      "cell_type": "code",
      "source": [
        "es = EarlyStopping(patience=20, restore_best_weights=True, verbose=1)\n",
        "history_cnn= model.fit(seq_x_train, y_train, validation_data=(seq_x_val, y_val), epochs=1000, callbacks=[es])"
      ],
      "metadata": {
        "colab": {
          "base_uri": "https://localhost:8080/"
        },
        "id": "LVzhaoHxeMfJ",
        "outputId": "ef103031-5ef0-4d64-9a09-10a445bdb0ec"
      },
      "execution_count": null,
      "outputs": [
        {
          "output_type": "stream",
          "name": "stdout",
          "text": [
            "Epoch 1/1000\n",
            "93/93 [==============================] - 6s 18ms/step - loss: 51.1813 - accuracy: 0.3144 - val_loss: 26.3632 - val_accuracy: 0.2830\n",
            "Epoch 2/1000\n",
            "93/93 [==============================] - 1s 10ms/step - loss: 14.7944 - accuracy: 0.4015 - val_loss: 19.8963 - val_accuracy: 0.3248\n",
            "Epoch 3/1000\n",
            "93/93 [==============================] - 1s 12ms/step - loss: 8.4908 - accuracy: 0.4747 - val_loss: 15.1750 - val_accuracy: 0.3248\n",
            "Epoch 4/1000\n",
            "93/93 [==============================] - 1s 13ms/step - loss: 4.6910 - accuracy: 0.5584 - val_loss: 14.4840 - val_accuracy: 0.2884\n",
            "Epoch 5/1000\n",
            "93/93 [==============================] - 1s 15ms/step - loss: 3.6852 - accuracy: 0.6043 - val_loss: 13.7963 - val_accuracy: 0.3046\n",
            "Epoch 6/1000\n",
            "93/93 [==============================] - 1s 14ms/step - loss: 2.5474 - accuracy: 0.6366 - val_loss: 13.5035 - val_accuracy: 0.3086\n",
            "Epoch 7/1000\n",
            "93/93 [==============================] - 1s 10ms/step - loss: 1.7856 - accuracy: 0.6987 - val_loss: 12.4743 - val_accuracy: 0.3235\n",
            "Epoch 8/1000\n",
            "93/93 [==============================] - 1s 10ms/step - loss: 1.3468 - accuracy: 0.7392 - val_loss: 12.0196 - val_accuracy: 0.2951\n",
            "Epoch 9/1000\n",
            "93/93 [==============================] - 1s 8ms/step - loss: 1.0574 - accuracy: 0.7648 - val_loss: 12.0876 - val_accuracy: 0.3032\n",
            "Epoch 10/1000\n",
            "93/93 [==============================] - 1s 8ms/step - loss: 0.9232 - accuracy: 0.7895 - val_loss: 13.4136 - val_accuracy: 0.2925\n",
            "Epoch 11/1000\n",
            "93/93 [==============================] - 1s 9ms/step - loss: 0.9536 - accuracy: 0.7898 - val_loss: 12.9064 - val_accuracy: 0.3181\n",
            "Epoch 12/1000\n",
            "93/93 [==============================] - 1s 7ms/step - loss: 1.0567 - accuracy: 0.7817 - val_loss: 12.5949 - val_accuracy: 0.3086\n",
            "Epoch 13/1000\n",
            "93/93 [==============================] - 1s 7ms/step - loss: 0.6113 - accuracy: 0.8374 - val_loss: 12.2201 - val_accuracy: 0.3073\n",
            "Epoch 14/1000\n",
            "93/93 [==============================] - 1s 8ms/step - loss: 0.7451 - accuracy: 0.8171 - val_loss: 12.6114 - val_accuracy: 0.2817\n",
            "Epoch 15/1000\n",
            "93/93 [==============================] - 1s 8ms/step - loss: 0.6624 - accuracy: 0.8316 - val_loss: 13.8380 - val_accuracy: 0.3181\n",
            "Epoch 16/1000\n",
            "93/93 [==============================] - 1s 7ms/step - loss: 0.9023 - accuracy: 0.8215 - val_loss: 13.4992 - val_accuracy: 0.3235\n",
            "Epoch 17/1000\n",
            "93/93 [==============================] - 1s 10ms/step - loss: 1.2325 - accuracy: 0.7827 - val_loss: 13.4913 - val_accuracy: 0.2965\n",
            "Epoch 18/1000\n",
            "93/93 [==============================] - 1s 8ms/step - loss: 1.4172 - accuracy: 0.7702 - val_loss: 15.7047 - val_accuracy: 0.3747\n",
            "Epoch 19/1000\n",
            "93/93 [==============================] - 1s 8ms/step - loss: 1.6298 - accuracy: 0.7493 - val_loss: 12.7909 - val_accuracy: 0.3235\n",
            "Epoch 20/1000\n",
            "93/93 [==============================] - 1s 11ms/step - loss: 0.9085 - accuracy: 0.8111 - val_loss: 14.1519 - val_accuracy: 0.3369\n",
            "Epoch 21/1000\n",
            "93/93 [==============================] - 1s 11ms/step - loss: 1.8018 - accuracy: 0.7493 - val_loss: 14.6989 - val_accuracy: 0.3113\n",
            "Epoch 22/1000\n",
            "93/93 [==============================] - 1s 10ms/step - loss: 0.9160 - accuracy: 0.8178 - val_loss: 13.3059 - val_accuracy: 0.2925\n",
            "Epoch 23/1000\n",
            "93/93 [==============================] - 1s 12ms/step - loss: 0.5731 - accuracy: 0.8657 - val_loss: 12.6990 - val_accuracy: 0.3154\n",
            "Epoch 24/1000\n",
            "93/93 [==============================] - 1s 8ms/step - loss: 0.9311 - accuracy: 0.8522 - val_loss: 13.4116 - val_accuracy: 0.3154\n",
            "Epoch 25/1000\n",
            "93/93 [==============================] - 1s 8ms/step - loss: 1.0487 - accuracy: 0.8080 - val_loss: 13.3893 - val_accuracy: 0.3167\n",
            "Epoch 26/1000\n",
            "93/93 [==============================] - 1s 8ms/step - loss: 1.2806 - accuracy: 0.8144 - val_loss: 13.8537 - val_accuracy: 0.3046\n",
            "Epoch 27/1000\n",
            "93/93 [==============================] - 1s 7ms/step - loss: 0.8204 - accuracy: 0.8283 - val_loss: 13.3973 - val_accuracy: 0.3396\n",
            "Epoch 28/1000\n",
            "92/93 [============================>.] - ETA: 0s - loss: 0.4116 - accuracy: 0.8865Restoring model weights from the end of the best epoch: 8.\n",
            "93/93 [==============================] - 1s 10ms/step - loss: 0.4097 - accuracy: 0.8870 - val_loss: 12.8736 - val_accuracy: 0.3086\n",
            "Epoch 28: early stopping\n"
          ]
        }
      ]
    },
    {
      "cell_type": "code",
      "source": [
        "plt.plot(history_cnn.history['loss'], label='train')\n",
        "plt.plot(history_cnn.history['val_loss'], label='validation')\n",
        "plt.legend()\n",
        "plt.show()"
      ],
      "metadata": {
        "colab": {
          "base_uri": "https://localhost:8080/",
          "height": 429
        },
        "id": "zSC5is-AyJly",
        "outputId": "01c56410-9ade-416d-d420-2c6ec601c538"
      },
      "execution_count": null,
      "outputs": [
        {
          "output_type": "display_data",
          "data": {
            "text/plain": [
              "<Figure size 640x480 with 1 Axes>"
            ],
            "image/png": "[encoded data removed]"
          },
          "metadata": {}
        }
      ]
    },
    {
      "cell_type": "code",
      "execution_count": null,
      "metadata": {
        "id": "FLqhX6rONVLn",
        "colab": {
          "base_uri": "https://localhost:8080/"
        },
        "outputId": "06b3a7e8-0015-4500-9864-1f9b3f3028c0"
      },
      "outputs": [
        {
          "output_type": "stream",
          "name": "stdout",
          "text": [
            "Model: \"model\"\n",
            "_________________________________________________________________\n",
            " Layer (type)                Output Shape              Param #   \n",
            "=================================================================\n",
            " input_1 (InputLayer)        [(None, 400)]             0         \n",
            "                                                                 \n",
            " embedding (Embedding)       (None, 400, 128)          383104    \n",
            "                                                                 \n",
            " conv1d (Conv1D)             (None, 400, 64)           41024     \n",
            "                                                                 \n",
            " conv1d_1 (Conv1D)           (None, 400, 64)           20544     \n",
            "                                                                 \n",
            " max_pooling1d (MaxPooling1  (None, 200, 64)           0         \n",
            " D)                                                              \n",
            "                                                                 \n",
            " conv1d_2 (Conv1D)           (None, 200, 128)          41088     \n",
            "                                                                 \n",
            " conv1d_3 (Conv1D)           (None, 200, 128)          82048     \n",
            "                                                                 \n",
            " max_pooling1d_1 (MaxPoolin  (None, 100, 128)          0         \n",
            " g1D)                                                            \n",
            "                                                                 \n",
            " conv1d_4 (Conv1D)           (None, 100, 256)          164096    \n",
            "                                                                 \n",
            " conv1d_5 (Conv1D)           (None, 100, 256)          327936    \n",
            "                                                                 \n",
            " max_pooling1d_2 (MaxPoolin  (None, 50, 256)           0         \n",
            " g1D)                                                            \n",
            "                                                                 \n",
            " flatten (Flatten)           (None, 12800)             0         \n",
            "                                                                 \n",
            " dense (Dense)               (None, 5)                 64005     \n",
            "                                                                 \n",
            "=================================================================\n",
            "Total params: 1123845 (4.29 MB)\n",
            "Trainable params: 1123845 (4.29 MB)\n",
            "Non-trainable params: 0 (0.00 Byte)\n",
            "_________________________________________________________________\n"
          ]
        }
      ],
      "source": [
        "max_words = 2993\n",
        "embedding_dim = 128\n",
        "\n",
        "# 세션 클리어\n",
        "K.clear_session()\n",
        "\n",
        "# 모델 쌓기\n",
        "il = Input(shape=(400,))\n",
        "hl = Embedding(max_words, embedding_dim)(il)\n",
        "hl = Conv1D(64, 5, padding='same', activation='swish')(hl)\n",
        "hl = Conv1D(64, 5, padding='same', activation='swish')(hl)\n",
        "hl = MaxPool1D(2)(hl)\n",
        "\n",
        "hl = Conv1D(128, 5, padding='same', activation='swish')(hl)\n",
        "hl = Conv1D(128, 5, padding='same', activation='swish')(hl)\n",
        "hl = MaxPool1D(2)(hl)\n",
        "\n",
        "hl = Conv1D(256, 5, padding='same', activation='swish')(hl)\n",
        "hl = Conv1D(256, 5, padding='same', activation='swish')(hl)\n",
        "hl = MaxPool1D(2)(hl)\n",
        "hl = Flatten()(hl)\n",
        "ol = Dense(5, activation='softmax')(hl)\n",
        "\n",
        "# 모델 선언\n",
        "model = Model(il, ol)\n",
        "\n",
        "# 컴파일\n",
        "model.compile(loss='sparse_categorical_crossentropy', metrics=['accuracy'], optimizer='adam')\n",
        "\n",
        "# 요약\n",
        "model.summary()"
      ]
    },
    {
      "cell_type": "code",
      "source": [
        "es = EarlyStopping(patience=20, restore_best_weights=True, verbose=1)\n",
        "history = model.fit(seq_x_train, y_train, validation_data=(seq_x_val, y_val), epochs=1000, callbacks=[es])"
      ],
      "metadata": {
        "colab": {
          "base_uri": "https://localhost:8080/"
        },
        "id": "A9-5wr7o5E2E",
        "outputId": "a4b6f16c-481d-4a88-c690-54fe7daa61b9"
      },
      "execution_count": null,
      "outputs": [
        {
          "output_type": "stream",
          "name": "stdout",
          "text": [
            "Epoch 1/1000\n",
            "93/93 [==============================] - 17s 116ms/step - loss: 1.3279 - accuracy: 0.4595 - val_loss: 1.0092 - val_accuracy: 0.5714\n",
            "Epoch 2/1000\n",
            "93/93 [==============================] - 7s 76ms/step - loss: 0.8930 - accuracy: 0.6110 - val_loss: 0.9180 - val_accuracy: 0.6173\n",
            "Epoch 3/1000\n",
            "93/93 [==============================] - 6s 64ms/step - loss: 0.7049 - accuracy: 0.7105 - val_loss: 0.9643 - val_accuracy: 0.6267\n",
            "Epoch 4/1000\n",
            "93/93 [==============================] - 4s 43ms/step - loss: 0.5754 - accuracy: 0.7689 - val_loss: 0.9820 - val_accuracy: 0.6388\n",
            "Epoch 5/1000\n",
            "93/93 [==============================] - 3s 37ms/step - loss: 0.4096 - accuracy: 0.8465 - val_loss: 1.2335 - val_accuracy: 0.6429\n",
            "Epoch 6/1000\n",
            "93/93 [==============================] - 4s 49ms/step - loss: 0.2781 - accuracy: 0.9001 - val_loss: 1.7104 - val_accuracy: 0.6833\n",
            "Epoch 7/1000\n",
            "93/93 [==============================] - 3s 31ms/step - loss: 0.1348 - accuracy: 0.9551 - val_loss: 2.0908 - val_accuracy: 0.7089\n",
            "Epoch 8/1000\n",
            "93/93 [==============================] - 2s 25ms/step - loss: 0.1724 - accuracy: 0.9450 - val_loss: 1.9991 - val_accuracy: 0.7049\n",
            "Epoch 9/1000\n",
            "93/93 [==============================] - 2s 21ms/step - loss: 0.0715 - accuracy: 0.9774 - val_loss: 2.1836 - val_accuracy: 0.7332\n",
            "Epoch 10/1000\n",
            "93/93 [==============================] - 2s 23ms/step - loss: 0.0672 - accuracy: 0.9818 - val_loss: 2.2257 - val_accuracy: 0.7210\n",
            "Epoch 11/1000\n",
            "93/93 [==============================] - 3s 37ms/step - loss: 0.1065 - accuracy: 0.9622 - val_loss: 1.9992 - val_accuracy: 0.7615\n",
            "Epoch 12/1000\n",
            "93/93 [==============================] - 3s 28ms/step - loss: 0.0401 - accuracy: 0.9892 - val_loss: 1.9245 - val_accuracy: 0.7278\n",
            "Epoch 13/1000\n",
            "93/93 [==============================] - 2s 24ms/step - loss: 0.0769 - accuracy: 0.9808 - val_loss: 2.5050 - val_accuracy: 0.6927\n",
            "Epoch 14/1000\n",
            "93/93 [==============================] - 2s 26ms/step - loss: 0.0536 - accuracy: 0.9835 - val_loss: 2.7460 - val_accuracy: 0.7547\n",
            "Epoch 15/1000\n",
            "93/93 [==============================] - 2s 25ms/step - loss: 0.0315 - accuracy: 0.9902 - val_loss: 2.5272 - val_accuracy: 0.7385\n",
            "Epoch 16/1000\n",
            "93/93 [==============================] - 2s 20ms/step - loss: 0.0292 - accuracy: 0.9912 - val_loss: 2.3144 - val_accuracy: 0.7426\n",
            "Epoch 17/1000\n",
            "93/93 [==============================] - 2s 23ms/step - loss: 0.0537 - accuracy: 0.9848 - val_loss: 2.8348 - val_accuracy: 0.7049\n",
            "Epoch 18/1000\n",
            "93/93 [==============================] - 2s 16ms/step - loss: 0.0616 - accuracy: 0.9818 - val_loss: 2.6749 - val_accuracy: 0.7520\n",
            "Epoch 19/1000\n",
            "93/93 [==============================] - 2s 20ms/step - loss: 0.0305 - accuracy: 0.9906 - val_loss: 2.7253 - val_accuracy: 0.7345\n",
            "Epoch 20/1000\n",
            "93/93 [==============================] - 1s 16ms/step - loss: 0.0048 - accuracy: 0.9990 - val_loss: 2.8158 - val_accuracy: 0.7615\n",
            "Epoch 21/1000\n",
            "93/93 [==============================] - 2s 19ms/step - loss: 0.0010 - accuracy: 0.9997 - val_loss: 3.0660 - val_accuracy: 0.7561\n",
            "Epoch 22/1000\n",
            "93/93 [==============================] - ETA: 0s - loss: 2.0695e-04 - accuracy: 1.0000Restoring model weights from the end of the best epoch: 2.\n",
            "93/93 [==============================] - 2s 18ms/step - loss: 2.0695e-04 - accuracy: 1.0000 - val_loss: 3.0857 - val_accuracy: 0.7628\n",
            "Epoch 22: early stopping\n"
          ]
        }
      ]
    },
    {
      "cell_type": "code",
      "source": [
        "plt.plot(history.history['loss'], label='train')\n",
        "plt.plot(history.history['val_loss'], label='validation')\n",
        "plt.legend()\n",
        "plt.show()"
      ],
      "metadata": {
        "id": "yZ76KZUd6_rX",
        "colab": {
          "base_uri": "https://localhost:8080/",
          "height": 429
        },
        "outputId": "61c8eb2e-aa68-4e5e-ab1d-0de30ac4c3c7"
      },
      "execution_count": null,
      "outputs": [
        {
          "output_type": "display_data",
          "data": {
            "text/plain": [
              "<Figure size 640x480 with 1 Axes>"
            ],
            "image/png": "[encoded data removed]"
          },
          "metadata": {}
        }
      ]
    },
    {
      "cell_type": "markdown",
      "metadata": {
        "id": "RkvMu8QANVLo"
      },
      "source": [
        "### 4-3. LSTM"
      ]
    },
    {
      "cell_type": "code",
      "execution_count": null,
      "metadata": {
        "id": "Y4xSo2_nNVLo",
        "colab": {
          "base_uri": "https://localhost:8080/"
        },
        "outputId": "b1395266-42e4-48ee-ed71-7d282a99c805"
      },
      "outputs": [
        {
          "output_type": "stream",
          "name": "stdout",
          "text": [
            "Model: \"sequential\"\n",
            "_________________________________________________________________\n",
            " Layer (type)                Output Shape              Param #   \n",
            "=================================================================\n",
            " embedding_1 (Embedding)     (None, 400, 128)          757248    \n",
            "                                                                 \n",
            " conv1d_6 (Conv1D)           (None, 400, 64)           41024     \n",
            "                                                                 \n",
            " conv1d_7 (Conv1D)           (None, 400, 64)           20544     \n",
            "                                                                 \n",
            " max_pooling1d_3 (MaxPoolin  (None, 200, 64)           0         \n",
            " g1D)                                                            \n",
            "                                                                 \n",
            " conv1d_8 (Conv1D)           (None, 200, 128)          41088     \n",
            "                                                                 \n",
            " conv1d_9 (Conv1D)           (None, 200, 128)          82048     \n",
            "                                                                 \n",
            " max_pooling1d_4 (MaxPoolin  (None, 100, 128)          0         \n",
            " g1D)                                                            \n",
            "                                                                 \n",
            " lstm (LSTM)                 (None, 100, 64)           49408     \n",
            "                                                                 \n",
            " lstm_1 (LSTM)               (None, 100, 64)           33024     \n",
            "                                                                 \n",
            " lstm_2 (LSTM)               (None, 64)                33024     \n",
            "                                                                 \n",
            " flatten_1 (Flatten)         (None, 64)                0         \n",
            "                                                                 \n",
            " dense_1 (Dense)             (None, 5)                 325       \n",
            "                                                                 \n",
            "=================================================================\n",
            "Total params: 1057733 (4.03 MB)\n",
            "Trainable params: 1057733 (4.03 MB)\n",
            "Non-trainable params: 0 (0.00 Byte)\n",
            "_________________________________________________________________\n"
          ]
        }
      ],
      "source": [
        "from keras.models import Sequential\n",
        "from keras.layers import Embedding, Conv1D, MaxPooling1D, LSTM, Flatten, Dense\n",
        "\n",
        "max_words = 9425 - 3510 + 1\n",
        "embedding_dim = 128\n",
        "\n",
        "# 모델 초기화\n",
        "model_LSTM = Sequential()\n",
        "\n",
        "model_LSTM.add(Embedding(max_words, embedding_dim, input_length=400))\n",
        "\n",
        "model_LSTM.add(Conv1D(64, 5, padding='same', activation='swish'))\n",
        "model_LSTM.add(Conv1D(64, 5, padding='same', activation='swish'))\n",
        "model_LSTM.add(MaxPooling1D(2))\n",
        "\n",
        "model_LSTM.add(Conv1D(128, 5, padding='same', activation='swish'))\n",
        "model_LSTM.add(Conv1D(128, 5, padding='same', activation='swish'))\n",
        "model_LSTM.add(MaxPooling1D(2))\n",
        "\n",
        "model_LSTM.add(LSTM(64, return_sequences=True))\n",
        "model_LSTM.add(LSTM(64, return_sequences=True))\n",
        "model_LSTM.add(LSTM(64, return_sequences=False))\n",
        "\n",
        "# Flatten 레이어 추가\n",
        "model_LSTM.add(Flatten())\n",
        "\n",
        "# 출력 레이어 추가\n",
        "model_LSTM.add(Dense(5, activation='softmax'))\n",
        "\n",
        "# 컴파일\n",
        "model_LSTM.compile(loss='sparse_categorical_crossentropy', metrics=['accuracy'], optimizer='adam')\n",
        "\n",
        "# 모델 요약\n",
        "model_LSTM.summary()\n"
      ]
    },
    {
      "cell_type": "code",
      "source": [
        "es = EarlyStopping(patience=16, restore_best_weights=True, verbose=1)\n",
        "history_LSTM = model_LSTM.fit(seq_x_train, y_train, validation_data=(seq_x_val, y_val),\n",
        "                    epochs=1000, callbacks=[es])"
      ],
      "metadata": {
        "colab": {
          "base_uri": "https://localhost:8080/"
        },
        "id": "D9MfiX6PPI2Z",
        "outputId": "2107870e-85a9-4d3e-a8f0-3a90fb79d00d"
      },
      "execution_count": null,
      "outputs": [
        {
          "output_type": "stream",
          "name": "stdout",
          "text": [
            "Epoch 1/1000\n",
            "93/93 [==============================] - 19s 128ms/step - loss: 1.3083 - accuracy: 0.4413 - val_loss: 1.0789 - val_accuracy: 0.5445\n",
            "Epoch 2/1000\n",
            "93/93 [==============================] - 8s 84ms/step - loss: 0.9183 - accuracy: 0.6198 - val_loss: 1.0126 - val_accuracy: 0.5687\n",
            "Epoch 3/1000\n",
            "93/93 [==============================] - 7s 72ms/step - loss: 0.7015 - accuracy: 0.7254 - val_loss: 0.9998 - val_accuracy: 0.6051\n",
            "Epoch 4/1000\n",
            "93/93 [==============================] - 5s 55ms/step - loss: 0.5594 - accuracy: 0.7881 - val_loss: 0.9312 - val_accuracy: 0.6469\n",
            "Epoch 5/1000\n",
            "93/93 [==============================] - 5s 55ms/step - loss: 0.4644 - accuracy: 0.8316 - val_loss: 1.0512 - val_accuracy: 0.6496\n",
            "Epoch 6/1000\n",
            "93/93 [==============================] - 3s 35ms/step - loss: 0.3921 - accuracy: 0.8583 - val_loss: 0.9164 - val_accuracy: 0.6523\n",
            "Epoch 7/1000\n",
            "93/93 [==============================] - 4s 39ms/step - loss: 0.2938 - accuracy: 0.9042 - val_loss: 1.1930 - val_accuracy: 0.6604\n",
            "Epoch 8/1000\n",
            "93/93 [==============================] - 3s 29ms/step - loss: 0.2593 - accuracy: 0.9136 - val_loss: 1.1139 - val_accuracy: 0.6752\n",
            "Epoch 9/1000\n",
            "93/93 [==============================] - 4s 42ms/step - loss: 0.2063 - accuracy: 0.9423 - val_loss: 1.0537 - val_accuracy: 0.7143\n",
            "Epoch 10/1000\n",
            "93/93 [==============================] - 3s 35ms/step - loss: 0.1966 - accuracy: 0.9420 - val_loss: 1.0698 - val_accuracy: 0.6981\n",
            "Epoch 11/1000\n",
            "93/93 [==============================] - 3s 31ms/step - loss: 0.1581 - accuracy: 0.9518 - val_loss: 1.1308 - val_accuracy: 0.7197\n",
            "Epoch 12/1000\n",
            "93/93 [==============================] - 3s 31ms/step - loss: 0.1027 - accuracy: 0.9713 - val_loss: 1.1288 - val_accuracy: 0.7291\n",
            "Epoch 13/1000\n",
            "93/93 [==============================] - 3s 31ms/step - loss: 0.0811 - accuracy: 0.9781 - val_loss: 1.1423 - val_accuracy: 0.7170\n",
            "Epoch 14/1000\n",
            "93/93 [==============================] - 3s 32ms/step - loss: 0.0813 - accuracy: 0.9791 - val_loss: 1.1788 - val_accuracy: 0.7345\n",
            "Epoch 15/1000\n",
            "93/93 [==============================] - 3s 28ms/step - loss: 0.0668 - accuracy: 0.9814 - val_loss: 1.3842 - val_accuracy: 0.7278\n",
            "Epoch 16/1000\n",
            "93/93 [==============================] - 2s 22ms/step - loss: 0.0687 - accuracy: 0.9801 - val_loss: 1.2736 - val_accuracy: 0.7210\n",
            "Epoch 17/1000\n",
            "93/93 [==============================] - 2s 26ms/step - loss: 0.0845 - accuracy: 0.9740 - val_loss: 1.2343 - val_accuracy: 0.7129\n",
            "Epoch 18/1000\n",
            "93/93 [==============================] - 3s 31ms/step - loss: 0.0733 - accuracy: 0.9798 - val_loss: 1.2524 - val_accuracy: 0.7412\n",
            "Epoch 19/1000\n",
            "93/93 [==============================] - 3s 28ms/step - loss: 0.0726 - accuracy: 0.9791 - val_loss: 1.1740 - val_accuracy: 0.7426\n",
            "Epoch 20/1000\n",
            "93/93 [==============================] - 2s 24ms/step - loss: 0.0369 - accuracy: 0.9916 - val_loss: 1.2031 - val_accuracy: 0.7480\n",
            "Epoch 21/1000\n",
            "93/93 [==============================] - 2s 23ms/step - loss: 0.0201 - accuracy: 0.9963 - val_loss: 1.2615 - val_accuracy: 0.7588\n",
            "Epoch 22/1000\n",
            "93/93 [==============================] - ETA: 0s - loss: 0.0129 - accuracy: 0.9976Restoring model weights from the end of the best epoch: 6.\n",
            "93/93 [==============================] - 3s 31ms/step - loss: 0.0129 - accuracy: 0.9976 - val_loss: 1.2940 - val_accuracy: 0.7534\n",
            "Epoch 22: early stopping\n"
          ]
        }
      ]
    },
    {
      "cell_type": "code",
      "source": [
        "plt.plot(history_LSTM.history['loss'], label='train')\n",
        "plt.plot(history_LSTM.history['val_loss'], label='validation')\n",
        "plt.legend()\n",
        "plt.show()"
      ],
      "metadata": {
        "colab": {
          "base_uri": "https://localhost:8080/",
          "height": 429
        },
        "id": "1-X8kabry8Er",
        "outputId": "89a9eca5-241d-42bc-d8de-a827a2486aeb"
      },
      "execution_count": null,
      "outputs": [
        {
          "output_type": "display_data",
          "data": {
            "text/plain": [
              "<Figure size 640x480 with 1 Axes>"
            ],
            "image/png": "[encoded data removed]"
          },
          "metadata": {}
        }
      ]
    },
    {
      "cell_type": "markdown",
      "metadata": {
        "id": "UWCpxKLXNVLo"
      },
      "source": [
        "## 5. Using pre-trained model(Optional)\n",
        "* 한국어 pre-trained model로 fine tuning 및 성능 분석\n",
        "> * [BERT-tutorial](https://www.tensorflow.org/text/guide/bert_preprocessing_guide)\n",
        "> * [HuggingFace-Korean](https://huggingface.co/models?language=korean)"
      ]
    },
    {
      "cell_type": "code",
      "execution_count": null,
      "metadata": {
        "id": "dADfa7AnNVLo"
      },
      "outputs": [],
      "source": []
    }
  ],
  "metadata": {
    "colab": {
      "provenance": []
    },
    "kernelspec": {
      "display_name": "Python 3",
      "name": "python3"
    },
    "language_info": {
      "codemirror_mode": {
        "name": "ipython",
        "version": 3
      },
      "file_extension": ".py",
      "mimetype": "text/x-python",
      "name": "python",
      "nbconvert_exporter": "python",
      "pygments_lexer": "ipython3",
      "version": "3.8.8"
    }
  },
  "nbformat": 4,
  "nbformat_minor": 0
}