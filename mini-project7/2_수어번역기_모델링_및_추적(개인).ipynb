{
  "cells": [
    {
      "cell_type": "markdown",
      "metadata": {
        "id": "view-in-github",
        "colab_type": "text"
      },
      "source": [
        "<a href=\"https://colab.research.google.com/github/dohuijin/KT-AIVLE-School-4th/blob/main/mini-project7/2_%EC%88%98%EC%96%B4%EB%B2%88%EC%97%AD%EA%B8%B0_%EB%AA%A8%EB%8D%B8%EB%A7%81_%EB%B0%8F_%EC%B6%94%EC%A0%81(%EA%B0%9C%EC%9D%B8).ipynb\" target=\"_parent\"><img src=\"https://colab.research.google.com/assets/colab-badge.svg\" alt=\"Open In Colab\"/></a>"
      ]
    },
    {
      "cell_type": "markdown",
      "metadata": {
        "id": "P2n_mLirFD6s"
      },
      "source": [
        "#  과제2-1. 수어번역기 모델링 및 추적(개인과제)"
      ]
    },
    {
      "cell_type": "markdown",
      "metadata": {
        "id": "gIN5d51gtker"
      },
      "source": [
        "## 1.환경준비"
      ]
    },
    {
      "cell_type": "markdown",
      "metadata": {
        "id": "98K82DAxvX6I"
      },
      "source": [
        "### (1) 라이브러리 로딩"
      ]
    },
    {
      "cell_type": "code",
      "execution_count": null,
      "metadata": {
        "id": "qUG9ltiWCJXr"
      },
      "outputs": [],
      "source": [
        "import pandas as pd\n",
        "import numpy as np\n",
        "import matplotlib.pyplot as plt\n",
        "import seaborn as sns\n",
        "import random as rd\n",
        "\n",
        "from sklearn.model_selection import train_test_split\n",
        "from sklearn.metrics import *\n",
        "\n",
        "from keras.models import Sequential\n",
        "from keras.layers import Dense, Flatten, Conv2D, MaxPooling2D, Dropout, Input\n",
        "from keras.backend import clear_session\n",
        "from keras.optimizers import Adam\n",
        "from keras.callbacks import EarlyStopping\n",
        "\n",
        "\n",
        "!pip install mlflow\n",
        "import mlflow\n",
        "import mlflow.keras"
      ]
    },
    {
      "cell_type": "code",
      "execution_count": null,
      "metadata": {
        "id": "4mT0QRtTjml6"
      },
      "outputs": [],
      "source": [
        "np.set_printoptions(linewidth=np.inf)"
      ]
    },
    {
      "cell_type": "markdown",
      "metadata": {
        "id": "_h70-6MP7wtO"
      },
      "source": [
        "* 함수 만들기"
      ]
    },
    {
      "cell_type": "code",
      "execution_count": null,
      "metadata": {
        "id": "JWswaopv7yBI"
      },
      "outputs": [],
      "source": [
        "# 학습곡선 함수\n",
        "def dl_history_plot(history):\n",
        "    plt.figure(figsize=(10,6))\n",
        "    plt.plot(history['loss'], label='train_err', marker = '.')\n",
        "    plt.plot(history['val_loss'], label='val_err', marker = '.')\n",
        "\n",
        "    plt.ylabel('Loss')\n",
        "    plt.xlabel('Epoch')\n",
        "    plt.legend()\n",
        "    plt.grid()\n",
        "    plt.show()"
      ]
    },
    {
      "cell_type": "markdown",
      "metadata": {
        "id": "6wuqykgvviCc"
      },
      "source": [
        "### (2) 데이터로딩"
      ]
    },
    {
      "cell_type": "markdown",
      "metadata": {
        "id": "eoLRk2lyNB2A"
      },
      "source": [
        "#### 1) 데이터 가져오기\n",
        "* 제공 받은 데이터를 여러분의 구글드라이브 적절한 위치에 업로드 합니다.\n",
        "    * 가능하면, 구글드라이브 첫 경로 밑에 폴더를 만들고 업로드 하기를 권장합니다."
      ]
    },
    {
      "cell_type": "code",
      "source": [
        "from google.colab import drive\n",
        "drive.mount('/content/drive')"
      ],
      "metadata": {
        "colab": {
          "base_uri": "https://localhost:8080/"
        },
        "id": "YgccevaTafVT",
        "outputId": "aa082321-fd54-4aa8-a832-4ec4d9de93c6"
      },
      "execution_count": null,
      "outputs": [
        {
          "output_type": "stream",
          "name": "stdout",
          "text": [
            "Mounted at /content/drive\n"
          ]
        }
      ]
    },
    {
      "cell_type": "code",
      "execution_count": null,
      "metadata": {
        "id": "sYm5EweXNELc",
        "colab": {
          "base_uri": "https://localhost:8080/",
          "height": 235
        },
        "outputId": "a19e5b10-68d4-4d8d-8274-afa6959b4df1"
      },
      "outputs": [
        {
          "output_type": "execute_result",
          "data": {
            "text/plain": [
              "   label  pixel1  pixel2  pixel3  pixel4  pixel5  pixel6  pixel7  pixel8  \\\n",
              "0     22     186     186     185     185     185     184     185     184   \n",
              "1     24     175     177     179     181     181     182     182     182   \n",
              "2      6     187     187     187     187     187     186     187     186   \n",
              "3      2     169     169     169     170     169     170     169     169   \n",
              "4     21     153     165     170     179     190     198     203     206   \n",
              "\n",
              "   pixel9  ...  pixel775  pixel776  pixel777  pixel778  pixel779  pixel780  \\\n",
              "0     184  ...       171       122        65        62       215       180   \n",
              "1     183  ...       202       202       201       200       199       197   \n",
              "2     186  ...        45        23        25        34        41        43   \n",
              "3     169  ...       204       203       200       199       198       196   \n",
              "4     213  ...       161       122       132        96        75        63   \n",
              "\n",
              "   pixel781  pixel782  pixel783  pixel784  \n",
              "0        99        47        31        25  \n",
              "1       195       193       191       189  \n",
              "2        39        40        43        35  \n",
              "3       194       193       191       190  \n",
              "4        37        43        70        66  \n",
              "\n",
              "[5 rows x 785 columns]"
            ],
            "text/html": [
              "\n",
              "  <div id=\"df-d5ac893a-1777-4d84-a564-b0112e7260f2\" class=\"colab-df-container\">\n",
              "    <div>\n",
              "<style scoped>\n",
              "    .dataframe tbody tr th:only-of-type {\n",
              "        vertical-align: middle;\n",
              "    }\n",
              "\n",
              "    .dataframe tbody tr th {\n",
              "        vertical-align: top;\n",
              "    }\n",
              "\n",
              "    .dataframe thead th {\n",
              "        text-align: right;\n",
              "    }\n",
              "</style>\n",
              "<table border=\"1\" class=\"dataframe\">\n",
              "  <thead>\n",
              "    <tr style=\"text-align: right;\">\n",
              "      <th></th>\n",
              "      <th>label</th>\n",
              "      <th>pixel1</th>\n",
              "      <th>pixel2</th>\n",
              "      <th>pixel3</th>\n",
              "      <th>pixel4</th>\n",
              "      <th>pixel5</th>\n",
              "      <th>pixel6</th>\n",
              "      <th>pixel7</th>\n",
              "      <th>pixel8</th>\n",
              "      <th>pixel9</th>\n",
              "      <th>...</th>\n",
              "      <th>pixel775</th>\n",
              "      <th>pixel776</th>\n",
              "      <th>pixel777</th>\n",
              "      <th>pixel778</th>\n",
              "      <th>pixel779</th>\n",
              "      <th>pixel780</th>\n",
              "      <th>pixel781</th>\n",
              "      <th>pixel782</th>\n",
              "      <th>pixel783</th>\n",
              "      <th>pixel784</th>\n",
              "    </tr>\n",
              "  </thead>\n",
              "  <tbody>\n",
              "    <tr>\n",
              "      <th>0</th>\n",
              "      <td>22</td>\n",
              "      <td>186</td>\n",
              "      <td>186</td>\n",
              "      <td>185</td>\n",
              "      <td>185</td>\n",
              "      <td>185</td>\n",
              "      <td>184</td>\n",
              "      <td>185</td>\n",
              "      <td>184</td>\n",
              "      <td>184</td>\n",
              "      <td>...</td>\n",
              "      <td>171</td>\n",
              "      <td>122</td>\n",
              "      <td>65</td>\n",
              "      <td>62</td>\n",
              "      <td>215</td>\n",
              "      <td>180</td>\n",
              "      <td>99</td>\n",
              "      <td>47</td>\n",
              "      <td>31</td>\n",
              "      <td>25</td>\n",
              "    </tr>\n",
              "    <tr>\n",
              "      <th>1</th>\n",
              "      <td>24</td>\n",
              "      <td>175</td>\n",
              "      <td>177</td>\n",
              "      <td>179</td>\n",
              "      <td>181</td>\n",
              "      <td>181</td>\n",
              "      <td>182</td>\n",
              "      <td>182</td>\n",
              "      <td>182</td>\n",
              "      <td>183</td>\n",
              "      <td>...</td>\n",
              "      <td>202</td>\n",
              "      <td>202</td>\n",
              "      <td>201</td>\n",
              "      <td>200</td>\n",
              "      <td>199</td>\n",
              "      <td>197</td>\n",
              "      <td>195</td>\n",
              "      <td>193</td>\n",
              "      <td>191</td>\n",
              "      <td>189</td>\n",
              "    </tr>\n",
              "    <tr>\n",
              "      <th>2</th>\n",
              "      <td>6</td>\n",
              "      <td>187</td>\n",
              "      <td>187</td>\n",
              "      <td>187</td>\n",
              "      <td>187</td>\n",
              "      <td>187</td>\n",
              "      <td>186</td>\n",
              "      <td>187</td>\n",
              "      <td>186</td>\n",
              "      <td>186</td>\n",
              "      <td>...</td>\n",
              "      <td>45</td>\n",
              "      <td>23</td>\n",
              "      <td>25</td>\n",
              "      <td>34</td>\n",
              "      <td>41</td>\n",
              "      <td>43</td>\n",
              "      <td>39</td>\n",
              "      <td>40</td>\n",
              "      <td>43</td>\n",
              "      <td>35</td>\n",
              "    </tr>\n",
              "    <tr>\n",
              "      <th>3</th>\n",
              "      <td>2</td>\n",
              "      <td>169</td>\n",
              "      <td>169</td>\n",
              "      <td>169</td>\n",
              "      <td>170</td>\n",
              "      <td>169</td>\n",
              "      <td>170</td>\n",
              "      <td>169</td>\n",
              "      <td>169</td>\n",
              "      <td>169</td>\n",
              "      <td>...</td>\n",
              "      <td>204</td>\n",
              "      <td>203</td>\n",
              "      <td>200</td>\n",
              "      <td>199</td>\n",
              "      <td>198</td>\n",
              "      <td>196</td>\n",
              "      <td>194</td>\n",
              "      <td>193</td>\n",
              "      <td>191</td>\n",
              "      <td>190</td>\n",
              "    </tr>\n",
              "    <tr>\n",
              "      <th>4</th>\n",
              "      <td>21</td>\n",
              "      <td>153</td>\n",
              "      <td>165</td>\n",
              "      <td>170</td>\n",
              "      <td>179</td>\n",
              "      <td>190</td>\n",
              "      <td>198</td>\n",
              "      <td>203</td>\n",
              "      <td>206</td>\n",
              "      <td>213</td>\n",
              "      <td>...</td>\n",
              "      <td>161</td>\n",
              "      <td>122</td>\n",
              "      <td>132</td>\n",
              "      <td>96</td>\n",
              "      <td>75</td>\n",
              "      <td>63</td>\n",
              "      <td>37</td>\n",
              "      <td>43</td>\n",
              "      <td>70</td>\n",
              "      <td>66</td>\n",
              "    </tr>\n",
              "  </tbody>\n",
              "</table>\n",
              "<p>5 rows × 785 columns</p>\n",
              "</div>\n",
              "    <div class=\"colab-df-buttons\">\n",
              "\n",
              "  <div class=\"colab-df-container\">\n",
              "    <button class=\"colab-df-convert\" onclick=\"convertToInteractive('df-d5ac893a-1777-4d84-a564-b0112e7260f2')\"\n",
              "            title=\"Convert this dataframe to an interactive table.\"\n",
              "            style=\"display:none;\">\n",
              "\n",
              "  <svg xmlns=\"http://www.w3.org/2000/svg\" height=\"24px\" viewBox=\"0 -960 960 960\">\n",
              "    <path d=\"M120-120v-720h720v720H120Zm60-500h600v-160H180v160Zm220 220h160v-160H400v160Zm0 220h160v-160H400v160ZM180-400h160v-160H180v160Zm440 0h160v-160H620v160ZM180-180h160v-160H180v160Zm440 0h160v-160H620v160Z\"/>\n",
              "  </svg>\n",
              "    </button>\n",
              "\n",
              "  <style>\n",
              "    .colab-df-container {\n",
              "      display:flex;\n",
              "      gap: 12px;\n",
              "    }\n",
              "\n",
              "    .colab-df-convert {\n",
              "      background-color: #E8F0FE;\n",
              "      border: none;\n",
              "      border-radius: 50%;\n",
              "      cursor: pointer;\n",
              "      display: none;\n",
              "      fill: #1967D2;\n",
              "      height: 32px;\n",
              "      padding: 0 0 0 0;\n",
              "      width: 32px;\n",
              "    }\n",
              "\n",
              "    .colab-df-convert:hover {\n",
              "      background-color: #E2EBFA;\n",
              "      box-shadow: 0px 1px 2px rgba(60, 64, 67, 0.3), 0px 1px 3px 1px rgba(60, 64, 67, 0.15);\n",
              "      fill: #174EA6;\n",
              "    }\n",
              "\n",
              "    .colab-df-buttons div {\n",
              "      margin-bottom: 4px;\n",
              "    }\n",
              "\n",
              "    [theme=dark] .colab-df-convert {\n",
              "      background-color: #3B4455;\n",
              "      fill: #D2E3FC;\n",
              "    }\n",
              "\n",
              "    [theme=dark] .colab-df-convert:hover {\n",
              "      background-color: #434B5C;\n",
              "      box-shadow: 0px 1px 3px 1px rgba(0, 0, 0, 0.15);\n",
              "      filter: drop-shadow(0px 1px 2px rgba(0, 0, 0, 0.3));\n",
              "      fill: #FFFFFF;\n",
              "    }\n",
              "  </style>\n",
              "\n",
              "    <script>\n",
              "      const buttonEl =\n",
              "        document.querySelector('#df-d5ac893a-1777-4d84-a564-b0112e7260f2 button.colab-df-convert');\n",
              "      buttonEl.style.display =\n",
              "        google.colab.kernel.accessAllowed ? 'block' : 'none';\n",
              "\n",
              "      async function convertToInteractive(key) {\n",
              "        const element = document.querySelector('#df-d5ac893a-1777-4d84-a564-b0112e7260f2');\n",
              "        const dataTable =\n",
              "          await google.colab.kernel.invokeFunction('convertToInteractive',\n",
              "                                                    [key], {});\n",
              "        if (!dataTable) return;\n",
              "\n",
              "        const docLinkHtml = 'Like what you see? Visit the ' +\n",
              "          '<a target=\"_blank\" href=https://colab.research.google.com/notebooks/data_table.ipynb>data table notebook</a>'\n",
              "          + ' to learn more about interactive tables.';\n",
              "        element.innerHTML = '';\n",
              "        dataTable['output_type'] = 'display_data';\n",
              "        await google.colab.output.renderOutput(dataTable, element);\n",
              "        const docLink = document.createElement('div');\n",
              "        docLink.innerHTML = docLinkHtml;\n",
              "        element.appendChild(docLink);\n",
              "      }\n",
              "    </script>\n",
              "  </div>\n",
              "\n",
              "\n",
              "<div id=\"df-31cc5a50-36db-4630-9df5-a0c3f150dbca\">\n",
              "  <button class=\"colab-df-quickchart\" onclick=\"quickchart('df-31cc5a50-36db-4630-9df5-a0c3f150dbca')\"\n",
              "            title=\"Suggest charts\"\n",
              "            style=\"display:none;\">\n",
              "\n",
              "<svg xmlns=\"http://www.w3.org/2000/svg\" height=\"24px\"viewBox=\"0 0 24 24\"\n",
              "     width=\"24px\">\n",
              "    <g>\n",
              "        <path d=\"M19 3H5c-1.1 0-2 .9-2 2v14c0 1.1.9 2 2 2h14c1.1 0 2-.9 2-2V5c0-1.1-.9-2-2-2zM9 17H7v-7h2v7zm4 0h-2V7h2v10zm4 0h-2v-4h2v4z\"/>\n",
              "    </g>\n",
              "</svg>\n",
              "  </button>\n",
              "\n",
              "<style>\n",
              "  .colab-df-quickchart {\n",
              "      --bg-color: #E8F0FE;\n",
              "      --fill-color: #1967D2;\n",
              "      --hover-bg-color: #E2EBFA;\n",
              "      --hover-fill-color: #174EA6;\n",
              "      --disabled-fill-color: #AAA;\n",
              "      --disabled-bg-color: #DDD;\n",
              "  }\n",
              "\n",
              "  [theme=dark] .colab-df-quickchart {\n",
              "      --bg-color: #3B4455;\n",
              "      --fill-color: #D2E3FC;\n",
              "      --hover-bg-color: #434B5C;\n",
              "      --hover-fill-color: #FFFFFF;\n",
              "      --disabled-bg-color: #3B4455;\n",
              "      --disabled-fill-color: #666;\n",
              "  }\n",
              "\n",
              "  .colab-df-quickchart {\n",
              "    background-color: var(--bg-color);\n",
              "    border: none;\n",
              "    border-radius: 50%;\n",
              "    cursor: pointer;\n",
              "    display: none;\n",
              "    fill: var(--fill-color);\n",
              "    height: 32px;\n",
              "    padding: 0;\n",
              "    width: 32px;\n",
              "  }\n",
              "\n",
              "  .colab-df-quickchart:hover {\n",
              "    background-color: var(--hover-bg-color);\n",
              "    box-shadow: 0 1px 2px rgba(60, 64, 67, 0.3), 0 1px 3px 1px rgba(60, 64, 67, 0.15);\n",
              "    fill: var(--button-hover-fill-color);\n",
              "  }\n",
              "\n",
              "  .colab-df-quickchart-complete:disabled,\n",
              "  .colab-df-quickchart-complete:disabled:hover {\n",
              "    background-color: var(--disabled-bg-color);\n",
              "    fill: var(--disabled-fill-color);\n",
              "    box-shadow: none;\n",
              "  }\n",
              "\n",
              "  .colab-df-spinner {\n",
              "    border: 2px solid var(--fill-color);\n",
              "    border-color: transparent;\n",
              "    border-bottom-color: var(--fill-color);\n",
              "    animation:\n",
              "      spin 1s steps(1) infinite;\n",
              "  }\n",
              "\n",
              "  @keyframes spin {\n",
              "    0% {\n",
              "      border-color: transparent;\n",
              "      border-bottom-color: var(--fill-color);\n",
              "      border-left-color: var(--fill-color);\n",
              "    }\n",
              "    20% {\n",
              "      border-color: transparent;\n",
              "      border-left-color: var(--fill-color);\n",
              "      border-top-color: var(--fill-color);\n",
              "    }\n",
              "    30% {\n",
              "      border-color: transparent;\n",
              "      border-left-color: var(--fill-color);\n",
              "      border-top-color: var(--fill-color);\n",
              "      border-right-color: var(--fill-color);\n",
              "    }\n",
              "    40% {\n",
              "      border-color: transparent;\n",
              "      border-right-color: var(--fill-color);\n",
              "      border-top-color: var(--fill-color);\n",
              "    }\n",
              "    60% {\n",
              "      border-color: transparent;\n",
              "      border-right-color: var(--fill-color);\n",
              "    }\n",
              "    80% {\n",
              "      border-color: transparent;\n",
              "      border-right-color: var(--fill-color);\n",
              "      border-bottom-color: var(--fill-color);\n",
              "    }\n",
              "    90% {\n",
              "      border-color: transparent;\n",
              "      border-bottom-color: var(--fill-color);\n",
              "    }\n",
              "  }\n",
              "</style>\n",
              "\n",
              "  <script>\n",
              "    async function quickchart(key) {\n",
              "      const quickchartButtonEl =\n",
              "        document.querySelector('#' + key + ' button');\n",
              "      quickchartButtonEl.disabled = true;  // To prevent multiple clicks.\n",
              "      quickchartButtonEl.classList.add('colab-df-spinner');\n",
              "      try {\n",
              "        const charts = await google.colab.kernel.invokeFunction(\n",
              "            'suggestCharts', [key], {});\n",
              "      } catch (error) {\n",
              "        console.error('Error during call to suggestCharts:', error);\n",
              "      }\n",
              "      quickchartButtonEl.classList.remove('colab-df-spinner');\n",
              "      quickchartButtonEl.classList.add('colab-df-quickchart-complete');\n",
              "    }\n",
              "    (() => {\n",
              "      let quickchartButtonEl =\n",
              "        document.querySelector('#df-31cc5a50-36db-4630-9df5-a0c3f150dbca button');\n",
              "      quickchartButtonEl.style.display =\n",
              "        google.colab.kernel.accessAllowed ? 'block' : 'none';\n",
              "    })();\n",
              "  </script>\n",
              "</div>\n",
              "\n",
              "    </div>\n",
              "  </div>\n"
            ],
            "application/vnd.google.colaboratory.intrinsic+json": {
              "type": "dataframe",
              "variable_name": "data"
            }
          },
          "metadata": {},
          "execution_count": 6
        }
      ],
      "source": [
        "data = pd.read_csv('/content/drive/MyDrive/미니프로젝트/7차_ 수어 번역기/data/sign_language.csv')\n",
        "data.head()"
      ]
    },
    {
      "cell_type": "code",
      "execution_count": null,
      "metadata": {
        "id": "e_Q8IByAcBs6",
        "colab": {
          "base_uri": "https://localhost:8080/"
        },
        "outputId": "a0c61f5f-02e3-4b4c-aee2-0546ac5b9760"
      },
      "outputs": [
        {
          "output_type": "execute_result",
          "data": {
            "text/plain": [
              "(8000, 785)"
            ]
          },
          "metadata": {},
          "execution_count": 7
        }
      ],
      "source": [
        "data.shape"
      ]
    },
    {
      "cell_type": "markdown",
      "metadata": {
        "id": "opj8SF72N5mT"
      },
      "source": [
        "#### 2) class names\n",
        "* label이 0 ~ 27 까지의 숫자로 표현됩니다.\n",
        "* 수어 중에서 J(9) 와 Z(27)는 손을 움직이면서 표현해야 하므로, 여기서는 제외합니다.\n",
        "* 숫자로 레이블링 된 것을, 나중에 문자 변환하기 위해 문자로 된 리스트를 생성합니다."
      ]
    },
    {
      "cell_type": "code",
      "execution_count": null,
      "metadata": {
        "id": "BGqj86QDN8FN",
        "colab": {
          "base_uri": "https://localhost:8080/"
        },
        "outputId": "3eabafe0-33ad-44f1-8ead-a18aa5729fca"
      },
      "outputs": [
        {
          "output_type": "execute_result",
          "data": {
            "text/plain": [
              "(26,\n",
              " array(['a', 'b', 'c', 'd', 'e', 'f', 'g', 'h', 'i', 'j', 'k', 'l', 'm', 'n', 'o', 'p', 'q', 'r', 's', 't', 'u', 'v', 'w', 'x', 'y', 'z'], dtype='<U1'))"
            ]
          },
          "metadata": {},
          "execution_count": 8
        }
      ],
      "source": [
        "import string\n",
        "class_names = list(string.ascii_lowercase)\n",
        "class_names = np.array(class_names)\n",
        "len(class_names), class_names"
      ]
    },
    {
      "cell_type": "markdown",
      "metadata": {
        "id": "OVZjvA_-jml8"
      },
      "source": [
        "### (3) mlflow 추적 준비"
      ]
    },
    {
      "cell_type": "code",
      "execution_count": null,
      "metadata": {
        "id": "JdtmSPhFjml8"
      },
      "outputs": [],
      "source": [
        "mlflow_uri = \"sqlite:///mlflow.db\"\n",
        "mlflow.set_tracking_uri(mlflow_uri)"
      ]
    },
    {
      "cell_type": "markdown",
      "metadata": {
        "id": "avUfRGu7jml8"
      },
      "source": [
        "### (4) 새 실험 생성\n",
        "* exp4"
      ]
    },
    {
      "cell_type": "code",
      "execution_count": null,
      "metadata": {
        "id": "dPIcqtF2jml8"
      },
      "outputs": [],
      "source": [
        "exp_id = mlflow.create_experiment(\"exp4\")\n"
      ]
    },
    {
      "cell_type": "markdown",
      "metadata": {
        "id": "fjFX5Xkfe-XU"
      },
      "source": [
        "## 2 데이터 살펴보기"
      ]
    },
    {
      "cell_type": "code",
      "execution_count": null,
      "metadata": {
        "id": "XJ24tyaqcJ4a",
        "colab": {
          "base_uri": "https://localhost:8080/",
          "height": 452
        },
        "outputId": "9b9455bb-6175-4db2-ac70-6d6f7b4612cc"
      },
      "outputs": [
        {
          "output_type": "display_data",
          "data": {
            "text/plain": [
              "<Figure size 640x480 with 2 Axes>"
            ],
            "image/png": "[encoded data removed]"
          },
          "metadata": {}
        }
      ],
      "source": [
        "# 아래 숫자를 바꿔가며 화면에 그려 봅시다.\n",
        "n = 100\n",
        "sign_fig = data.iloc[n, 1:].values\n",
        "sign_fig = sign_fig.reshape(28, 28)\n",
        "\n",
        "sign = class_names[data.iloc[n,0]]\n",
        "\n",
        "plt.title(sign)\n",
        "plt.imshow(255-sign_fig, cmap=plt.cm.binary)\n",
        "plt.colorbar()\n",
        "plt.show()"
      ]
    },
    {
      "cell_type": "markdown",
      "metadata": {
        "id": "ZVQ0RH1Oi1Cb"
      },
      "source": [
        "## 3.데이터 준비\n",
        "\n",
        "* 주어진 데이터셋\n",
        "    * 2차원 데이터셋, 1차원 데이터포인트(분석단위, 예측단위) 입니다.\n",
        "    * 흑백 이미지데이터\n",
        "    * 이 데이터로부터 데이터 준비작업을 수행합니다.\n",
        "        * 데이터 분할1 : x, y\n",
        "        * 데이터 분할2 : train, validation\n",
        "        * 만약 CNN으로 모델링을 한다면, shape를 맞춰야 합니다. (n, 28, 28, 1)\n",
        "        * scaling\n",
        "* 그러나 운영에서 발생될 데이터는 이미지 한장 한장 입니다. 이미지 한장, 한장 들어온다면 어떻게 데이터가 처리되어야 할까요?(Data Pipeline 구성)"
      ]
    },
    {
      "cell_type": "markdown",
      "metadata": {
        "id": "h4HIhIFnYdJe"
      },
      "source": [
        "### (1) 데이터 분할1 : x, y 나누기"
      ]
    },
    {
      "cell_type": "code",
      "execution_count": null,
      "metadata": {
        "id": "C_9oF93vi1Cc"
      },
      "outputs": [],
      "source": [
        "x = data.drop('label', axis=1).values\n",
        "y = data.loc[:, 'label'].values"
      ]
    },
    {
      "cell_type": "markdown",
      "metadata": {
        "id": "16O9S_b8YylG"
      },
      "source": [
        "### (2) 데이터 분할2 : train, validation, test\n",
        "\n",
        "* train : val : test = 5000 : 2000 : 1000\n",
        "* 여기서 test set은 파이프라인 점검을 위한 용도로 사용합니다."
      ]
    },
    {
      "cell_type": "code",
      "execution_count": null,
      "metadata": {
        "id": "ZI7ePK3kY5kY"
      },
      "outputs": [],
      "source": [
        "x_train, x_test, y_train, y_test = train_test_split(x, y, test_size=1000, random_state=2023)\n",
        "x_train, x_val, y_train, y_val = train_test_split(x_train, y_train, test_size=2000, random_state=2023)"
      ]
    },
    {
      "cell_type": "code",
      "execution_count": null,
      "metadata": {
        "id": "KFuwVnDbZUrU",
        "colab": {
          "base_uri": "https://localhost:8080/"
        },
        "outputId": "1d3b6ef9-55ea-4e69-82ac-6ff6a306cd99"
      },
      "outputs": [
        {
          "output_type": "execute_result",
          "data": {
            "text/plain": [
              "((5000, 784), (2000, 784), (1000, 784))"
            ]
          },
          "metadata": {},
          "execution_count": 14
        }
      ],
      "source": [
        "x_train.shape, x_val.shape, x_test.shape"
      ]
    },
    {
      "cell_type": "markdown",
      "metadata": {
        "id": "j15n-aipa2TM"
      },
      "source": [
        "### (3) DL을 위한 전처리\n",
        "* 모두 넘파이로 변환"
      ]
    },
    {
      "cell_type": "code",
      "execution_count": null,
      "metadata": {
        "id": "XwKXttU7a5G8"
      },
      "outputs": [],
      "source": []
    },
    {
      "cell_type": "markdown",
      "metadata": {
        "id": "zxb0XCivZpKH"
      },
      "source": [
        "* shape 맞추기 n, 28,28,1\n",
        "    * reshape\n",
        "        * x_train.shape : (-1, 28, 28, 1)\n",
        "        * x_val.shape : (-1, 28, 28, 1)\n",
        "        * x_test.shape : (-1, 28, 28, 1)"
      ]
    },
    {
      "cell_type": "code",
      "execution_count": null,
      "metadata": {
        "id": "e4yXKxRAi1Cc"
      },
      "outputs": [],
      "source": [
        "x_train = x_train.reshape(-1, 28, 28, 1)\n",
        "x_val = x_val.reshape(-1, 28, 28, 1)\n",
        "x_test = x_test.reshape(-1, 28, 28, 1)"
      ]
    },
    {
      "cell_type": "code",
      "execution_count": null,
      "metadata": {
        "id": "rCgiJHPrZ1Bm"
      },
      "outputs": [],
      "source": []
    },
    {
      "cell_type": "markdown",
      "metadata": {
        "id": "iIcND_sxi1Cc"
      },
      "source": [
        "* Scaling : Min-Max\n",
        "    * 0-255 값으로 되어 있는 데이터를 0-1사이 값으로 변환\n",
        "    * x_train2, x_val2 를 그냥 255로 나누면 됨"
      ]
    },
    {
      "cell_type": "code",
      "execution_count": null,
      "metadata": {
        "id": "CPf7j6-pi1Cc"
      },
      "outputs": [],
      "source": [
        "x_train = x_train / 255.\n",
        "x_val = x_val / 255.\n",
        "x_test = x_test / 255."
      ]
    },
    {
      "cell_type": "markdown",
      "metadata": {
        "id": "n-6ejz9fw0PN"
      },
      "source": [
        "## 4.모델링"
      ]
    },
    {
      "cell_type": "markdown",
      "metadata": {
        "id": "oJ-Vjwf0Cgnf"
      },
      "source": [
        "### (1) 모델1"
      ]
    },
    {
      "cell_type": "code",
      "execution_count": null,
      "metadata": {
        "id": "eZVcRpB5jmmA",
        "tags": [],
        "colab": {
          "base_uri": "https://localhost:8080/"
        },
        "outputId": "d0b75c36-d201-4a26-9940-9b72bb29c036"
      },
      "outputs": [
        {
          "output_type": "stream",
          "name": "stdout",
          "text": [
            "Model: \"sequential\"\n",
            "_________________________________________________________________\n",
            " Layer (type)                Output Shape              Param #   \n",
            "=================================================================\n",
            " conv2d (Conv2D)             (None, 28, 28, 16)        160       \n",
            "                                                                 \n",
            " max_pooling2d (MaxPooling2  (None, 14, 14, 16)        0         \n",
            " D)                                                              \n",
            "                                                                 \n",
            " flatten (Flatten)           (None, 3136)              0         \n",
            "                                                                 \n",
            " dense (Dense)               (None, 128)               401536    \n",
            "                                                                 \n",
            " dense_1 (Dense)             (None, 26)                3354      \n",
            "                                                                 \n",
            "=================================================================\n",
            "Total params: 405050 (1.55 MB)\n",
            "Trainable params: 405050 (1.55 MB)\n",
            "Non-trainable params: 0 (0.00 Byte)\n",
            "_________________________________________________________________\n",
            "Epoch 1/30\n",
            "16/16 [==============================] - 3s 134ms/step - loss: 3.1441 - accuracy: 0.0707 - val_loss: 3.0105 - val_accuracy: 0.1710\n",
            "Epoch 2/30\n",
            " 1/16 [>.............................] - ETA: 1s - loss: 3.0058 - accuracy: 0.1914"
          ]
        },
        {
          "output_type": "stream",
          "name": "stderr",
          "text": [
            "/usr/local/lib/python3.10/dist-packages/keras/src/engine/training.py:3103: UserWarning: You are saving your model as an HDF5 file via `model.save()`. This file format is considered legacy. We recommend using instead the native Keras format, e.g. `model.save('my_model.keras')`.\n",
            "  saving_api.save_model(\n"
          ]
        },
        {
          "output_type": "stream",
          "name": "stdout",
          "text": [
            "16/16 [==============================] - 2s 94ms/step - loss: 2.8854 - accuracy: 0.2540 - val_loss: 2.7064 - val_accuracy: 0.3570\n",
            "Epoch 3/30\n",
            "16/16 [==============================] - 2s 142ms/step - loss: 2.5287 - accuracy: 0.3900 - val_loss: 2.3464 - val_accuracy: 0.4060\n",
            "Epoch 4/30\n",
            "16/16 [==============================] - 2s 158ms/step - loss: 2.1438 - accuracy: 0.4692 - val_loss: 1.9918 - val_accuracy: 0.4980\n",
            "Epoch 5/30\n",
            "16/16 [==============================] - 2s 115ms/step - loss: 1.8230 - accuracy: 0.5480 - val_loss: 1.7205 - val_accuracy: 0.5760\n",
            "Epoch 6/30\n",
            "16/16 [==============================] - 2s 92ms/step - loss: 1.5819 - accuracy: 0.5897 - val_loss: 1.5730 - val_accuracy: 0.5480\n",
            "Epoch 7/30\n",
            "16/16 [==============================] - 2s 110ms/step - loss: 1.4082 - accuracy: 0.6180 - val_loss: 1.3769 - val_accuracy: 0.6460\n",
            "Epoch 8/30\n",
            "16/16 [==============================] - 2s 116ms/step - loss: 1.2686 - accuracy: 0.6593 - val_loss: 1.2454 - val_accuracy: 0.6620\n",
            "Epoch 9/30\n",
            "16/16 [==============================] - 2s 107ms/step - loss: 1.1177 - accuracy: 0.7125 - val_loss: 1.1484 - val_accuracy: 0.6790\n",
            "Epoch 10/30\n",
            "16/16 [==============================] - 2s 145ms/step - loss: 1.0279 - accuracy: 0.7243 - val_loss: 1.0687 - val_accuracy: 0.6780\n",
            "Epoch 11/30\n",
            "16/16 [==============================] - 2s 121ms/step - loss: 0.9603 - accuracy: 0.7412 - val_loss: 0.9773 - val_accuracy: 0.7310\n",
            "Epoch 12/30\n",
            "16/16 [==============================] - 1s 68ms/step - loss: 0.8739 - accuracy: 0.7875 - val_loss: 0.8879 - val_accuracy: 0.7650\n",
            "Epoch 13/30\n",
            "16/16 [==============================] - 1s 55ms/step - loss: 0.7842 - accuracy: 0.8085 - val_loss: 0.8288 - val_accuracy: 0.7810\n",
            "Epoch 14/30\n",
            "16/16 [==============================] - 1s 58ms/step - loss: 0.7232 - accuracy: 0.8260 - val_loss: 0.7603 - val_accuracy: 0.7890\n",
            "Epoch 15/30\n",
            "16/16 [==============================] - 1s 58ms/step - loss: 0.6698 - accuracy: 0.8447 - val_loss: 0.7252 - val_accuracy: 0.8010\n",
            "Epoch 16/30\n",
            "16/16 [==============================] - 1s 56ms/step - loss: 0.6245 - accuracy: 0.8497 - val_loss: 0.7089 - val_accuracy: 0.7900\n",
            "Epoch 17/30\n",
            "16/16 [==============================] - 1s 54ms/step - loss: 0.5894 - accuracy: 0.8568 - val_loss: 0.6226 - val_accuracy: 0.8420\n",
            "Epoch 18/30\n",
            "16/16 [==============================] - 1s 56ms/step - loss: 0.5506 - accuracy: 0.8648 - val_loss: 0.5799 - val_accuracy: 0.8460\n",
            "Epoch 19/30\n",
            "16/16 [==============================] - 1s 88ms/step - loss: 0.4987 - accuracy: 0.8892 - val_loss: 0.5680 - val_accuracy: 0.8510\n",
            "Epoch 20/30\n",
            "16/16 [==============================] - 2s 120ms/step - loss: 0.4641 - accuracy: 0.8975 - val_loss: 0.5216 - val_accuracy: 0.8600\n",
            "Epoch 21/30\n",
            "16/16 [==============================] - 2s 145ms/step - loss: 0.4458 - accuracy: 0.8972 - val_loss: 0.5004 - val_accuracy: 0.8470\n",
            "Epoch 22/30\n",
            "16/16 [==============================] - 2s 95ms/step - loss: 0.4048 - accuracy: 0.9133 - val_loss: 0.4405 - val_accuracy: 0.8900\n",
            "Epoch 23/30\n",
            "16/16 [==============================] - 1s 54ms/step - loss: 0.3767 - accuracy: 0.9200 - val_loss: 0.4255 - val_accuracy: 0.8890\n",
            "Epoch 24/30\n",
            "16/16 [==============================] - 1s 54ms/step - loss: 0.3532 - accuracy: 0.9280 - val_loss: 0.4169 - val_accuracy: 0.9000\n",
            "Epoch 25/30\n",
            "16/16 [==============================] - 1s 55ms/step - loss: 0.3377 - accuracy: 0.9295 - val_loss: 0.3744 - val_accuracy: 0.9090\n",
            "Epoch 26/30\n",
            "16/16 [==============================] - 1s 83ms/step - loss: 0.3188 - accuracy: 0.9312 - val_loss: 0.3541 - val_accuracy: 0.9070\n",
            "Epoch 27/30\n",
            "16/16 [==============================] - 2s 101ms/step - loss: 0.2971 - accuracy: 0.9388 - val_loss: 0.3366 - val_accuracy: 0.9200\n",
            "Epoch 28/30\n",
            "16/16 [==============================] - 2s 104ms/step - loss: 0.2670 - accuracy: 0.9498 - val_loss: 0.3248 - val_accuracy: 0.9200\n",
            "Epoch 29/30\n",
            "16/16 [==============================] - 2s 130ms/step - loss: 0.2522 - accuracy: 0.9503 - val_loss: 0.3015 - val_accuracy: 0.9350\n",
            "Epoch 30/30\n",
            "16/16 [==============================] - 2s 100ms/step - loss: 0.2404 - accuracy: 0.9553 - val_loss: 0.3085 - val_accuracy: 0.9220\n",
            "1/1 [==============================] - 0s 66ms/step\n"
          ]
        },
        {
          "output_type": "stream",
          "name": "stderr",
          "text": [
            "2024/03/06 06:32:24 WARNING mlflow.utils.autologging_utils: MLflow autologging encountered a warning: \"/usr/local/lib/python3.10/dist-packages/_distutils_hack/__init__.py:33: UserWarning: Setuptools is replacing distutils.\"\n"
          ]
        },
        {
          "output_type": "stream",
          "name": "stdout",
          "text": [
            "63/63 [==============================] - 0s 4ms/step\n"
          ]
        },
        {
          "output_type": "stream",
          "name": "stderr",
          "text": [
            "2024/03/06 06:32:25 WARNING mlflow.tensorflow: You are saving a TensorFlow Core model or Keras model without a signature. Inference with mlflow.pyfunc.spark_udf() will not work unless the model's pyfunc representation accepts pandas DataFrames as inference inputs.\n",
            "Successfully registered model 'DL'.\n",
            "Created version '1' of model 'DL'.\n"
          ]
        }
      ],
      "source": [
        "with mlflow.start_run(experiment_id=exp_id):\n",
        "    mlflow.keras.autolog()\n",
        "    clear_session()\n",
        "\n",
        "    model = Sequential([Conv2D(16, kernel_size=3, input_shape=(28, 28, 1), padding='same', strides =1, activation='relu'),\n",
        "                        MaxPooling2D(pool_size=2, strides=2),\n",
        "                        Flatten(),\n",
        "                        Dense(128, activation = 'relu'),\n",
        "                        Dense(26, activation='softmax')\n",
        "    ])\n",
        "\n",
        "    model.summary()\n",
        "\n",
        "    # 컴파일\n",
        "    model.compile(loss='sparse_categorical_crossentropy',\n",
        "                metrics=['accuracy'],\n",
        "                optimizer='adam')\n",
        "    es = EarlyStopping(\n",
        "        patience=5,\n",
        "        min_delta=0,\n",
        "        verbose=1\n",
        "    )\n",
        "    history = model.fit(x_train, y_train, validation_split=0.2,\n",
        "                    epochs=30, batch_size=256, callbacks=[es]).history\n",
        "\n",
        "    val_pred = model.predict(x_val).argmax(axis=1)\n",
        "    val_acc = accuracy_score(y_val, val_pred)\n",
        "    mlflow.log_metric(\"val_accuracy\", val_acc)\n",
        "    mlflow.keras.log_model(model, \"keras-model\", registered_model_name=\"DL\")\n",
        "    mlflow.keras.autolog(disable=True)"
      ]
    },
    {
      "cell_type": "markdown",
      "metadata": {
        "id": "HxBYVP69jmmA"
      },
      "source": [
        "* 학습곡선"
      ]
    },
    {
      "cell_type": "code",
      "execution_count": null,
      "metadata": {
        "id": "mFcI6_iqgHEb",
        "colab": {
          "base_uri": "https://localhost:8080/",
          "height": 542
        },
        "outputId": "347e6389-1649-47b6-cd5a-3f37a9eed3e5"
      },
      "outputs": [
        {
          "output_type": "display_data",
          "data": {
            "text/plain": [
              "<Figure size 1000x600 with 1 Axes>"
            ],
            "image/png": "[encoded data removed]"
          },
          "metadata": {}
        }
      ],
      "source": [
        "dl_history_plot(history)"
      ]
    },
    {
      "cell_type": "markdown",
      "metadata": {
        "id": "OQQZ0QfK14uH"
      },
      "source": [
        "* 예측 및 검증"
      ]
    },
    {
      "cell_type": "code",
      "execution_count": null,
      "metadata": {
        "id": "cGWm-19agHEc",
        "colab": {
          "base_uri": "https://localhost:8080/"
        },
        "outputId": "b81d22b2-ac5d-4512-e73b-7ba5230eb054"
      },
      "outputs": [
        {
          "output_type": "stream",
          "name": "stdout",
          "text": [
            "63/63 [==============================] - 1s 7ms/step\n",
            "[[80  0  0  0  2  0  0  0  0  0  0  5  0  0  0  0  0  0  0  0  0  0  0  0]\n",
            " [ 0 78  0  0  0  0  0  0  0  0  0  0  0  0  0  0  0  0  0  0  0  0  0  0]\n",
            " [ 0  0 87  0  0  0  0  0  0  0  0  0  0  0  0  0  0  0  0  0  0  0  0  0]\n",
            " [ 0  0  0 96  0  0  0  0  0  0  0  0  0  0  0  0  0  0  0  0  0  0  2  0]\n",
            " [ 0  0  0  0 76  0  0  0  0  0  0  0  0  0  0  0  0  0  0  0  0  0  0  0]\n",
            " [ 0  0  0  0  0 79  0  0  0  0  0  0  0  0  0  0  0  0  3  0  0  2  1  0]\n",
            " [ 0  0  0  0  0  0 87  0  0  0  0  0  0  0  0  0  0  0  0  0  0  0  2  0]\n",
            " [ 0  0  0  0  0  0  2 62  0  0  0  0  0  0  0  0  0  0  5  0  0  0  0  4]\n",
            " [ 0  0  0  0  0  0  0  0 75  0  0  0  0  0  0  0  0  0  0  0  0  0  0  0]\n",
            " [ 0  0  0  5  0  0  0  0  0 80  0  0  0  0  0  0  0  0  0  0  0  0  0  0]\n",
            " [ 0  0  0  0  0  0  0  0  0  1 96  0  0  0  0  0  0  0  0  0  0  0  0  0]\n",
            " [ 0  0  0  0  0  0  0  0  0  0  0 65  4  0  0  0  0  0  0  0  0  0  0  0]\n",
            " [ 0  0  0  0  0  0  0  0  0  0  0  2 79  0  0  0  0  0  0  0  0  0  0  0]\n",
            " [ 0  0  1  0  0  1  0  0  0  0  0  0  0 80  0  0  0  0  2  0  0  0  0  0]\n",
            " [ 0  0  0  0  0  0  0  0  0  0  0  0  0  0 67  0  0  0  0  0  3  0  0  0]\n",
            " [ 0  0  0  1  0  0  0  0  0  0  0  0  0  0  0 79  0  0  0  0  0  0  0  0]\n",
            " [ 0  0  0  3  0  0  0  0  0 14  0  0  0  0  0  0 74  1  0  0  3  0  1  0]\n",
            " [ 2  0  0  0  0  6  0  0  0  0  0 13 13  0  0  0  0 52  0  0  3  0  0  0]\n",
            " [ 0  0  0  0  0  0  2  0  1  0  0  0  0  0  0  0  0  0 82  0  0  0  0  0]\n",
            " [ 0  0  0  3  0  0  0  0  0 11  0  0  0  0  0  0  0  0  0 54 12  1  0  0]\n",
            " [ 0  0  0  0  0  0  0  0  0  0  3  0  0  0  0  0  0  0  1  2 73  2  1  0]\n",
            " [ 0  0  0  0  0  2  0  0  0  0  0  1  0  0  0  0  0  1  0  0  5 78  0  0]\n",
            " [ 1  0  0  1  0  0  4  0  0  0  4  0  0  0  0  0  2  0  1  0  0  0 83  0]\n",
            " [ 0  0  0  0  0  0  0  1  1  0  0  0  0  0  0  0  0  0  1  0  0  0  0 67]]\n",
            "              precision    recall  f1-score   support\n",
            "\n",
            "           a       0.96      0.92      0.94        87\n",
            "           b       1.00      1.00      1.00        78\n",
            "           c       0.99      1.00      0.99        87\n",
            "           d       0.88      0.98      0.93        98\n",
            "           e       0.97      1.00      0.99        76\n",
            "           f       0.90      0.93      0.91        85\n",
            "           g       0.92      0.98      0.95        89\n",
            "           h       0.98      0.85      0.91        73\n",
            "           i       0.97      1.00      0.99        75\n",
            "           k       0.75      0.94      0.84        85\n",
            "           l       0.93      0.99      0.96        97\n",
            "           m       0.76      0.94      0.84        69\n",
            "           n       0.82      0.98      0.89        81\n",
            "           o       1.00      0.95      0.98        84\n",
            "           p       1.00      0.96      0.98        70\n",
            "           q       1.00      0.99      0.99        80\n",
            "           r       0.97      0.77      0.86        96\n",
            "           s       0.96      0.58      0.73        89\n",
            "           t       0.86      0.96      0.91        85\n",
            "           u       0.96      0.67      0.79        81\n",
            "           v       0.74      0.89      0.81        82\n",
            "           w       0.94      0.90      0.92        87\n",
            "           x       0.92      0.86      0.89        96\n",
            "           y       0.94      0.96      0.95        70\n",
            "\n",
            "    accuracy                           0.91      2000\n",
            "   macro avg       0.92      0.92      0.91      2000\n",
            "weighted avg       0.92      0.91      0.91      2000\n",
            "\n"
          ]
        }
      ],
      "source": [
        "y_pred = model.predict(x_val).argmax(axis=1)\n",
        "print(confusion_matrix(y_val, y_pred))\n",
        "print(classification_report(class_names[y_val], class_names[y_pred]))"
      ]
    },
    {
      "cell_type": "markdown",
      "metadata": {
        "id": "9mrfQz9pjmmB"
      },
      "source": [
        "### (2) 모델2"
      ]
    },
    {
      "cell_type": "code",
      "source": [
        "from keras.layers import BatchNormalization\n",
        "from keras.models import Model\n"
      ],
      "metadata": {
        "id": "3o_nW8SLeIwx"
      },
      "execution_count": null,
      "outputs": []
    },
    {
      "cell_type": "code",
      "execution_count": null,
      "metadata": {
        "colab": {
          "base_uri": "https://localhost:8080/"
        },
        "id": "EONFFe7RXzKo",
        "outputId": "81b66020-189d-4f21-84d6-495cbc9e3e32"
      },
      "outputs": [
        {
          "output_type": "stream",
          "name": "stdout",
          "text": [
            "Epoch 1/30\n",
            "63/63 [==============================] - ETA: 0s - loss: 1.4796 - accuracy: 0.5930"
          ]
        },
        {
          "output_type": "stream",
          "name": "stderr",
          "text": [
            "/usr/local/lib/python3.10/dist-packages/keras/src/engine/training.py:3103: UserWarning: You are saving your model as an HDF5 file via `model.save()`. This file format is considered legacy. We recommend using instead the native Keras format, e.g. `model.save('my_model.keras')`.\n",
            "  saving_api.save_model(\n"
          ]
        },
        {
          "output_type": "stream",
          "name": "stdout",
          "text": [
            "\b\b\b\b\b\b\b\b\b\b\b\b\b\b\b\b\b\b\b\b\b\b\b\b\b\b\b\b\b\b\b\b\b\b\b\b\b\b\b\b\b\b\b\b\b\b\b\b\b\b\b\b\b\b\b\b\b\b\b\b\b\b\b\b\b\b\b\b\b\b\b\b\b\b\b\b\b\b\b\b\b\b\r63/63 [==============================] - 23s 344ms/step - loss: 1.4796 - accuracy: 0.5930 - val_loss: 2.7291 - val_accuracy: 0.7800\n",
            "Epoch 2/30\n",
            "63/63 [==============================] - 24s 375ms/step - loss: 0.1953 - accuracy: 0.9445 - val_loss: 2.2573 - val_accuracy: 0.9610\n",
            "Epoch 3/30\n",
            "63/63 [==============================] - 24s 382ms/step - loss: 0.0685 - accuracy: 0.9790 - val_loss: 1.7332 - val_accuracy: 0.8720\n",
            "Epoch 4/30\n",
            "63/63 [==============================] - 19s 307ms/step - loss: 0.0227 - accuracy: 0.9942 - val_loss: 1.0711 - val_accuracy: 0.9640\n",
            "Epoch 5/30\n",
            "63/63 [==============================] - 19s 299ms/step - loss: 0.0100 - accuracy: 0.9975 - val_loss: 0.6071 - val_accuracy: 0.9940\n",
            "Epoch 6/30\n",
            "63/63 [==============================] - 19s 298ms/step - loss: 0.0121 - accuracy: 0.9980 - val_loss: 0.5922 - val_accuracy: 0.8750\n",
            "Epoch 7/30\n",
            "63/63 [==============================] - 22s 350ms/step - loss: 0.0127 - accuracy: 0.9960 - val_loss: 0.1967 - val_accuracy: 0.9760\n",
            "Epoch 8/30\n",
            "63/63 [==============================] - 19s 298ms/step - loss: 0.0125 - accuracy: 0.9952 - val_loss: 0.1073 - val_accuracy: 0.9870\n",
            "Epoch 9/30\n",
            "63/63 [==============================] - 19s 296ms/step - loss: 0.0320 - accuracy: 0.9910 - val_loss: 0.1110 - val_accuracy: 0.9710\n",
            "Epoch 10/30\n",
            "63/63 [==============================] - 19s 294ms/step - loss: 0.0185 - accuracy: 0.9970 - val_loss: 0.2941 - val_accuracy: 0.9010\n",
            "Epoch 11/30\n",
            "63/63 [==============================] - 19s 305ms/step - loss: 0.0227 - accuracy: 0.9948 - val_loss: 0.0486 - val_accuracy: 0.9830\n",
            "Epoch 12/30\n",
            "63/63 [==============================] - 18s 291ms/step - loss: 0.0213 - accuracy: 0.9942 - val_loss: 0.0982 - val_accuracy: 0.9700\n",
            "Epoch 13/30\n",
            "63/63 [==============================] - 20s 315ms/step - loss: 0.0386 - accuracy: 0.9890 - val_loss: 0.0888 - val_accuracy: 0.9690\n",
            "Epoch 14/30\n",
            "63/63 [==============================] - 18s 293ms/step - loss: 0.0242 - accuracy: 0.9930 - val_loss: 0.0337 - val_accuracy: 0.9870\n",
            "Epoch 15/30\n",
            "63/63 [==============================] - 18s 285ms/step - loss: 0.0179 - accuracy: 0.9950 - val_loss: 0.0393 - val_accuracy: 0.9880\n",
            "Epoch 16/30\n",
            "63/63 [==============================] - 18s 283ms/step - loss: 0.0050 - accuracy: 0.9990 - val_loss: 0.0243 - val_accuracy: 0.9950\n",
            "Epoch 17/30\n",
            "63/63 [==============================] - 18s 290ms/step - loss: 0.0184 - accuracy: 0.9948 - val_loss: 0.3577 - val_accuracy: 0.9190\n",
            "Epoch 18/30\n",
            "63/63 [==============================] - 17s 277ms/step - loss: 0.0324 - accuracy: 0.9918 - val_loss: 0.4917 - val_accuracy: 0.8740\n",
            "Epoch 19/30\n",
            "63/63 [==============================] - 22s 346ms/step - loss: 0.0140 - accuracy: 0.9965 - val_loss: 0.0598 - val_accuracy: 0.9840\n",
            "Epoch 20/30\n",
            "63/63 [==============================] - 19s 294ms/step - loss: 0.0289 - accuracy: 0.9912 - val_loss: 0.0682 - val_accuracy: 0.9770\n",
            "Epoch 21/30\n",
            "63/63 [==============================] - 19s 300ms/step - loss: 0.0294 - accuracy: 0.9915 - val_loss: 0.0933 - val_accuracy: 0.9740\n",
            "Epoch 21: early stopping\n",
            "1/1 [==============================] - 0s 73ms/step\n",
            "63/63 [==============================] - 2s 35ms/step\n"
          ]
        },
        {
          "output_type": "stream",
          "name": "stderr",
          "text": [
            "2024/03/06 06:43:43 WARNING mlflow.tensorflow: You are saving a TensorFlow Core model or Keras model without a signature. Inference with mlflow.pyfunc.spark_udf() will not work unless the model's pyfunc representation accepts pandas DataFrames as inference inputs.\n",
            "Registered model 'DL' already exists. Creating a new version of this model...\n",
            "Created version '2' of model 'DL'.\n"
          ]
        }
      ],
      "source": [
        "with mlflow.start_run(experiment_id=exp_id):\n",
        "    mlflow.keras.autolog()\n",
        "    clear_session()\n",
        "\n",
        "    # 모델 쌓기\n",
        "    il = Input(shape=(28, 28, 1))\n",
        "\n",
        "    hl = Conv2D(32, (3, 3), activation='relu', padding='same')(il)\n",
        "    hl = Conv2D(32, (3, 3), activation='relu', padding='same')(hl)\n",
        "    hl = BatchNormalization()(hl)\n",
        "    hl = MaxPooling2D()(hl)\n",
        "    hl = Dropout(0.2)(hl)\n",
        "\n",
        "    hl = Conv2D(64, (3, 3), activation='relu', padding='same')(il)\n",
        "    hl = Conv2D(64, (3, 3), activation='relu', padding='same')(hl)\n",
        "    hl = BatchNormalization()(hl)\n",
        "    hl = MaxPooling2D()(hl)\n",
        "    hl = Dropout(0.2)(hl)\n",
        "\n",
        "    hl = Flatten()(hl)\n",
        "    hl = Dense(512, activation='relu')(hl)\n",
        "    hl = Dropout(0.2)(hl)\n",
        "    ol = Dense(26, activation='softmax')(hl)\n",
        "\n",
        "    # 모델 선언\n",
        "    model = Model(il, ol)\n",
        "\n",
        "    # 컴파일\n",
        "    model.compile(loss='sparse_categorical_crossentropy',\n",
        "                metrics=['accuracy'],\n",
        "                optimizer='adam')\n",
        "    es = EarlyStopping(\n",
        "        patience=5,\n",
        "        verbose=1\n",
        "    )\n",
        "    history = model.fit(x_train, y_train, validation_split=0.2,\n",
        "                    epochs=30, batch_size=64, callbacks=[es]).history\n",
        "\n",
        "    val_pred = model.predict(x_val).argmax(axis=1)\n",
        "    val_acc = accuracy_score(y_val, val_pred)\n",
        "    mlflow.log_metric(\"val_accuracy\", val_acc)\n",
        "    mlflow.keras.log_model(model, \"keras-model\", registered_model_name=\"DL\")\n",
        "    mlflow.keras.autolog(disable=True)"
      ]
    },
    {
      "cell_type": "markdown",
      "metadata": {
        "id": "BlQZsYljXzKo"
      },
      "source": [
        "* 학습곡선"
      ]
    },
    {
      "cell_type": "code",
      "execution_count": null,
      "metadata": {
        "colab": {
          "base_uri": "https://localhost:8080/",
          "height": 542
        },
        "id": "ddU4A5bLXzKo",
        "outputId": "d5de0308-8d62-401e-ab1e-4bef355405ca"
      },
      "outputs": [
        {
          "output_type": "display_data",
          "data": {
            "text/plain": [
              "<Figure size 1000x600 with 1 Axes>"
            ],
            "image/png": "[encoded data removed]"
          },
          "metadata": {}
        }
      ],
      "source": [
        "dl_history_plot(history)"
      ]
    },
    {
      "cell_type": "markdown",
      "metadata": {
        "id": "B2qFNKQIXzKp"
      },
      "source": [
        "* 예측 및 검증"
      ]
    },
    {
      "cell_type": "code",
      "execution_count": null,
      "metadata": {
        "colab": {
          "base_uri": "https://localhost:8080/"
        },
        "id": "XBNWu5SAXzKp",
        "outputId": "482c4f8e-e90f-4e23-b0fc-50ab924ffcd4"
      },
      "outputs": [
        {
          "output_type": "stream",
          "name": "stdout",
          "text": [
            "63/63 [==============================] - 3s 46ms/step\n",
            "[[87  0  0  0  0  0  0  0  0  0  0  0  0  0  0  0  0  0  0  0  0  0  0  0]\n",
            " [ 0 78  0  0  0  0  0  0  0  0  0  0  0  0  0  0  0  0  0  0  0  0  0  0]\n",
            " [ 0  0 87  0  0  0  0  0  0  0  0  0  0  0  0  0  0  0  0  0  0  0  0  0]\n",
            " [ 0  0  0 91  0  0  0  0  0  0  0  0  0  0  0  0  6  0  0  1  0  0  0  0]\n",
            " [ 0  1  0  0 74  0  0  0  1  0  0  0  0  0  0  0  0  0  0  0  0  0  0  0]\n",
            " [ 0  0  0  0  0 82  0  0  2  0  0  0  0  0  0  0  0  0  1  0  0  0  0  0]\n",
            " [ 0  0  1  0  0  0 83  4  0  0  0  0  0  0  0  0  0  0  1  0  0  0  0  0]\n",
            " [ 0  0  0  0  0  0  0 73  0  0  0  0  0  0  0  0  0  0  0  0  0  0  0  0]\n",
            " [ 0  0  0  0  0  0  0  0 75  0  0  0  0  0  0  0  0  0  0  0  0  0  0  0]\n",
            " [ 0  0  0  0  0  0  0  0  0 85  0  0  0  0  0  0  0  0  0  0  0  0  0  0]\n",
            " [ 0  0  0  0  0  0  0  0  0  1 96  0  0  0  0  0  0  0  0  0  0  0  0  0]\n",
            " [ 0  0  0  0  0  0  0  0  0  0  0 69  0  0  0  0  0  0  0  0  0  0  0  0]\n",
            " [ 0  0  0  0  0  0  0  0  1  0  0  0 80  0  0  0  0  0  0  0  0  0  0  0]\n",
            " [ 0  0  0  0  0  0  0  0  0  0  0  0  0 84  0  0  0  0  0  0  0  0  0  0]\n",
            " [ 0  0  0  0  0  0  0  0  0 16  0  0  0  0 51  0  1  1  1  0  0  0  0  0]\n",
            " [ 0  0  0  0  0  0  0  2  0  0  0  0  0  0  0 77  0  1  0  0  0  0  0  0]\n",
            " [ 0  0  0  0  0  0  0  0  0  6  0  0  0  0  0  0 90  0  0  0  0  0  0  0]\n",
            " [ 0  0  0  0  0  0  0  0  0  0  0  0  0  0  0  0  0 89  0  0  0  0  0  0]\n",
            " [ 0  0  0  0  0  0  0  0  0  0  0  0  0  0  0  0  0  0 85  0  0  0  0  0]\n",
            " [ 0  0  0  0  0  0  0  0  0  0  0  0  0  0  0  0  0  0  0 81  0  0  0  0]\n",
            " [ 0  0  0  0  0  0  0  0  0  0  0  0  0  0  0  0  3  0  0  0 79  0  0  0]\n",
            " [ 0  0  0  0  0  0  0  0  0  0  0  0  0  0  0  0  0  0  0  0  1 86  0  0]\n",
            " [ 0  0  0  0  0  0  0  0  0  0  2  0  0  0  0  0  3  0  0  0  0  0 91  0]\n",
            " [ 0  0  0  0  0  0  0  1  4  0  0  0  0  0  0  0  0  0  0  0  0  0  0 65]]\n",
            "              precision    recall  f1-score   support\n",
            "\n",
            "           a       1.00      1.00      1.00        87\n",
            "           b       0.99      1.00      0.99        78\n",
            "           c       0.99      1.00      0.99        87\n",
            "           d       1.00      0.93      0.96        98\n",
            "           e       1.00      0.97      0.99        76\n",
            "           f       1.00      0.96      0.98        85\n",
            "           g       1.00      0.93      0.97        89\n",
            "           h       0.91      1.00      0.95        73\n",
            "           i       0.90      1.00      0.95        75\n",
            "           k       0.79      1.00      0.88        85\n",
            "           l       0.98      0.99      0.98        97\n",
            "           m       1.00      1.00      1.00        69\n",
            "           n       1.00      0.99      0.99        81\n",
            "           o       1.00      1.00      1.00        84\n",
            "           p       1.00      0.73      0.84        70\n",
            "           q       1.00      0.96      0.98        80\n",
            "           r       0.87      0.94      0.90        96\n",
            "           s       0.98      1.00      0.99        89\n",
            "           t       0.97      1.00      0.98        85\n",
            "           u       0.99      1.00      0.99        81\n",
            "           v       0.99      0.96      0.98        82\n",
            "           w       1.00      0.99      0.99        87\n",
            "           x       1.00      0.95      0.97        96\n",
            "           y       1.00      0.93      0.96        70\n",
            "\n",
            "    accuracy                           0.97      2000\n",
            "   macro avg       0.97      0.97      0.97      2000\n",
            "weighted avg       0.97      0.97      0.97      2000\n",
            "\n"
          ]
        }
      ],
      "source": [
        "y_pred = model.predict(x_val).argmax(axis=1)\n",
        "print(confusion_matrix(y_val, y_pred))\n",
        "print(classification_report(class_names[y_val], class_names[y_pred]))"
      ]
    },
    {
      "cell_type": "markdown",
      "metadata": {
        "id": "k12UHrCixe3y"
      },
      "source": [
        "## 5.모델 사용하기\n",
        "* 가장 성능이 좋은 모델 production 지정\n",
        "* Production 모델 호출해서 test 셋으로 예측 및 평가\n",
        "\n"
      ]
    },
    {
      "cell_type": "code",
      "execution_count": null,
      "metadata": {
        "id": "Ydg_Y91OjmmC"
      },
      "outputs": [],
      "source": []
    },
    {
      "cell_type": "code",
      "execution_count": null,
      "metadata": {
        "id": "4XQYtnoPjmmC"
      },
      "outputs": [],
      "source": []
    }
  ],
  "metadata": {
    "accelerator": "GPU",
    "colab": {
      "provenance": [],
      "include_colab_link": true
    },
    "gpuClass": "standard",
    "kernelspec": {
      "display_name": "Python 3 (ipykernel)",
      "language": "python",
      "name": "python3"
    },
    "language_info": {
      "codemirror_mode": {
        "name": "ipython",
        "version": 3
      },
      "file_extension": ".py",
      "mimetype": "text/x-python",
      "name": "python",
      "nbconvert_exporter": "python",
      "pygments_lexer": "ipython3",
      "version": "3.10.11"
    }
  },
  "nbformat": 4,
  "nbformat_minor": 0
}