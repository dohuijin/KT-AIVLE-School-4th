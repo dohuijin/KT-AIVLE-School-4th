{
  "cells": [
    {
      "cell_type": "markdown",
      "metadata": {
        "id": "pcFHpUTGNVLe"
      },
      "source": [
        "# **미니프로젝트 4차 1대1 문의 내용 유형 분류기**\n",
        "# 단계3 : Text classification\n",
        "\n",
        "### 문제 정의\n",
        "> 1:1 문의 내용 분류 문제<br>\n",
        "> 1. 문의 내용 분석\n",
        "> 2. 문의 내용 분류 모델 성능 평가\n",
        "### 학습 데이터\n",
        "> * 1:1 문의 내용 데이터 : train.csv\n",
        "\n",
        "### 변수 소개\n",
        "> * text : 문의 내용\n",
        "> * label : 문의 유형\n",
        "\n",
        "### References\n",
        "> * Machine Learning\n",
        ">> * [sklearn-tutorial](https://scikit-learn.org/stable/tutorial/text_analytics/working_with_text_data.html)\n",
        "> * Deep Learning\n",
        ">> * [Google Tutorial](https://developers.google.com/machine-learning/guides/text-classification)\n",
        ">> * [Tensorflow Tutorial](https://www.tensorflow.org/tutorials/keras/text_classification)\n",
        ">> * [Keras-tutorial](https://keras.io/examples/nlp/text_classification_from_scratch/)\n",
        ">> * [BERT-tutorial](https://www.tensorflow.org/text/guide/bert_preprocessing_guide)"
      ]
    },
    {
      "cell_type": "markdown",
      "metadata": {
        "id": "FlRWJB2w6Ip6"
      },
      "source": [
        "## 1. 개발 환경 설정"
      ]
    },
    {
      "cell_type": "markdown",
      "metadata": {
        "id": "dDQWUjJgNVLi"
      },
      "source": [
        "### 1-1. 라이브러리 설치"
      ]
    },
    {
      "cell_type": "code",
      "execution_count": null,
      "metadata": {
        "id": "ioeAIOVZNVLi",
        "colab": {
          "base_uri": "https://localhost:8080/"
        },
        "outputId": "87e6003c-ef8a-4a27-ba3e-64373d61d017"
      },
      "outputs": [
        {
          "output_type": "stream",
          "name": "stdout",
          "text": [
            "Collecting konlpy\n",
            "  Downloading konlpy-0.6.0-py2.py3-none-any.whl (19.4 MB)\n",
            "\u001b[2K     \u001b[90m━━━━━━━━━━━━━━━━━━━━━━━━━━━━━━━━━━━━━━━━\u001b[0m \u001b[32m19.4/19.4 MB\u001b[0m \u001b[31m48.5 MB/s\u001b[0m eta \u001b[36m0:00:00\u001b[0m\n",
            "\u001b[?25hRequirement already satisfied: pandas in /usr/local/lib/python3.10/dist-packages (1.5.3)\n",
            "Requirement already satisfied: seaborn in /usr/local/lib/python3.10/dist-packages (0.13.1)\n",
            "Requirement already satisfied: wordcloud in /usr/local/lib/python3.10/dist-packages (1.9.3)\n",
            "Collecting python-mecab-ko\n",
            "  Downloading python_mecab_ko-1.3.3-cp310-cp310-manylinux_2_17_x86_64.manylinux2014_x86_64.whl (573 kB)\n",
            "\u001b[2K     \u001b[90m━━━━━━━━━━━━━━━━━━━━━━━━━━━━━━━━━━━━━━━━\u001b[0m \u001b[32m573.9/573.9 kB\u001b[0m \u001b[31m41.3 MB/s\u001b[0m eta \u001b[36m0:00:00\u001b[0m\n",
            "\u001b[?25hCollecting wget\n",
            "  Downloading wget-3.2.zip (10 kB)\n",
            "  Preparing metadata (setup.py) ... \u001b[?25l\u001b[?25hdone\n",
            "Requirement already satisfied: transformers in /usr/local/lib/python3.10/dist-packages (4.38.1)\n",
            "Collecting JPype1>=0.7.0 (from konlpy)\n",
            "  Downloading JPype1-1.5.0-cp310-cp310-manylinux_2_17_x86_64.manylinux2014_x86_64.whl (488 kB)\n",
            "\u001b[2K     \u001b[90m━━━━━━━━━━━━━━━━━━━━━━━━━━━━━━━━━━━━━━━━\u001b[0m \u001b[32m488.6/488.6 kB\u001b[0m \u001b[31m39.1 MB/s\u001b[0m eta \u001b[36m0:00:00\u001b[0m\n",
            "\u001b[?25hRequirement already satisfied: lxml>=4.1.0 in /usr/local/lib/python3.10/dist-packages (from konlpy) (4.9.4)\n",
            "Requirement already satisfied: numpy>=1.6 in /usr/local/lib/python3.10/dist-packages (from konlpy) (1.25.2)\n",
            "Requirement already satisfied: python-dateutil>=2.8.1 in /usr/local/lib/python3.10/dist-packages (from pandas) (2.8.2)\n",
            "Requirement already satisfied: pytz>=2020.1 in /usr/local/lib/python3.10/dist-packages (from pandas) (2023.4)\n",
            "Requirement already satisfied: matplotlib!=3.6.1,>=3.4 in /usr/local/lib/python3.10/dist-packages (from seaborn) (3.7.1)\n",
            "Requirement already satisfied: pillow in /usr/local/lib/python3.10/dist-packages (from wordcloud) (9.4.0)\n",
            "Collecting python-mecab-ko-dic (from python-mecab-ko)\n",
            "  Downloading python_mecab_ko_dic-2.1.1.post2-py3-none-any.whl (34.5 MB)\n",
            "\u001b[2K     \u001b[90m━━━━━━━━━━━━━━━━━━━━━━━━━━━━━━━━━━━━━━━━\u001b[0m \u001b[32m34.5/34.5 MB\u001b[0m \u001b[31m15.0 MB/s\u001b[0m eta \u001b[36m0:00:00\u001b[0m\n",
            "\u001b[?25hRequirement already satisfied: filelock in /usr/local/lib/python3.10/dist-packages (from transformers) (3.13.1)\n",
            "Requirement already satisfied: huggingface-hub<1.0,>=0.19.3 in /usr/local/lib/python3.10/dist-packages (from transformers) (0.20.3)\n",
            "Requirement already satisfied: packaging>=20.0 in /usr/local/lib/python3.10/dist-packages (from transformers) (23.2)\n",
            "Requirement already satisfied: pyyaml>=5.1 in /usr/local/lib/python3.10/dist-packages (from transformers) (6.0.1)\n",
            "Requirement already satisfied: regex!=2019.12.17 in /usr/local/lib/python3.10/dist-packages (from transformers) (2023.12.25)\n",
            "Requirement already satisfied: requests in /usr/local/lib/python3.10/dist-packages (from transformers) (2.31.0)\n",
            "Requirement already satisfied: tokenizers<0.19,>=0.14 in /usr/local/lib/python3.10/dist-packages (from transformers) (0.15.2)\n",
            "Requirement already satisfied: safetensors>=0.4.1 in /usr/local/lib/python3.10/dist-packages (from transformers) (0.4.2)\n",
            "Requirement already satisfied: tqdm>=4.27 in /usr/local/lib/python3.10/dist-packages (from transformers) (4.66.2)\n",
            "Requirement already satisfied: fsspec>=2023.5.0 in /usr/local/lib/python3.10/dist-packages (from huggingface-hub<1.0,>=0.19.3->transformers) (2023.6.0)\n",
            "Requirement already satisfied: typing-extensions>=3.7.4.3 in /usr/local/lib/python3.10/dist-packages (from huggingface-hub<1.0,>=0.19.3->transformers) (4.10.0)\n",
            "Requirement already satisfied: contourpy>=1.0.1 in /usr/local/lib/python3.10/dist-packages (from matplotlib!=3.6.1,>=3.4->seaborn) (1.2.0)\n",
            "Requirement already satisfied: cycler>=0.10 in /usr/local/lib/python3.10/dist-packages (from matplotlib!=3.6.1,>=3.4->seaborn) (0.12.1)\n",
            "Requirement already satisfied: fonttools>=4.22.0 in /usr/local/lib/python3.10/dist-packages (from matplotlib!=3.6.1,>=3.4->seaborn) (4.49.0)\n",
            "Requirement already satisfied: kiwisolver>=1.0.1 in /usr/local/lib/python3.10/dist-packages (from matplotlib!=3.6.1,>=3.4->seaborn) (1.4.5)\n",
            "Requirement already satisfied: pyparsing>=2.3.1 in /usr/local/lib/python3.10/dist-packages (from matplotlib!=3.6.1,>=3.4->seaborn) (3.1.1)\n",
            "Requirement already satisfied: six>=1.5 in /usr/local/lib/python3.10/dist-packages (from python-dateutil>=2.8.1->pandas) (1.16.0)\n",
            "Requirement already satisfied: charset-normalizer<4,>=2 in /usr/local/lib/python3.10/dist-packages (from requests->transformers) (3.3.2)\n",
            "Requirement already satisfied: idna<4,>=2.5 in /usr/local/lib/python3.10/dist-packages (from requests->transformers) (3.6)\n",
            "Requirement already satisfied: urllib3<3,>=1.21.1 in /usr/local/lib/python3.10/dist-packages (from requests->transformers) (2.0.7)\n",
            "Requirement already satisfied: certifi>=2017.4.17 in /usr/local/lib/python3.10/dist-packages (from requests->transformers) (2024.2.2)\n",
            "Building wheels for collected packages: wget\n",
            "  Building wheel for wget (setup.py) ... \u001b[?25l\u001b[?25hdone\n",
            "  Created wheel for wget: filename=wget-3.2-py3-none-any.whl size=9655 sha256=2aefc197a07dc61b4779f683eaac1ab97e7b2cd4932fb2a41b933e3d31749f78\n",
            "  Stored in directory: /root/.cache/pip/wheels/8b/f1/7f/5c94f0a7a505ca1c81cd1d9208ae2064675d97582078e6c769\n",
            "Successfully built wget\n",
            "Installing collected packages: wget, python-mecab-ko-dic, python-mecab-ko, JPype1, konlpy\n",
            "Successfully installed JPype1-1.5.0 konlpy-0.6.0 python-mecab-ko-1.3.3 python-mecab-ko-dic-2.1.1.post2 wget-3.2\n"
          ]
        }
      ],
      "source": [
        "# 필요 라이브러리부터 설치할께요.\n",
        "!pip install konlpy pandas seaborn wordcloud python-mecab-ko wget transformers"
      ]
    },
    {
      "cell_type": "markdown",
      "metadata": {
        "id": "Yy8nheIqNVLj"
      },
      "source": [
        "### 1-2. 라이브러리 import"
      ]
    },
    {
      "cell_type": "code",
      "execution_count": null,
      "metadata": {
        "id": "vdLv3wY8NVLj"
      },
      "outputs": [],
      "source": [
        "from mecab import MeCab\n",
        "import numpy as np\n",
        "import matplotlib.pyplot as plt\n",
        "import seaborn as sns\n",
        "import wget,os\n",
        "from IPython.display import display\n",
        "import matplotlib.pyplot as plt\n",
        "import pandas as pd\n",
        "import matplotlib.font_manager as fm\n",
        "import matplotlib.pyplot as plt\n",
        "import tensorflow as tf\n",
        "import nltk\n",
        "import wget,os"
      ]
    },
    {
      "cell_type": "code",
      "execution_count": null,
      "metadata": {
        "id": "rrlClPUZNVLl",
        "colab": {
          "base_uri": "https://localhost:8080/"
        },
        "outputId": "664e6028-a4c0-4ce6-9de5-16c6117216d1"
      },
      "outputs": [
        {
          "output_type": "stream",
          "name": "stdout",
          "text": [
            "Reading package lists... Done\n",
            "Building dependency tree... Done\n",
            "Reading state information... Done\n",
            "The following NEW packages will be installed:\n",
            "  fonts-nanum\n",
            "0 upgraded, 1 newly installed, 0 to remove and 35 not upgraded.\n",
            "Need to get 10.3 MB of archives.\n",
            "After this operation, 34.1 MB of additional disk space will be used.\n",
            "Get:1 http://archive.ubuntu.com/ubuntu jammy/universe amd64 fonts-nanum all 20200506-1 [10.3 MB]\n",
            "Fetched 10.3 MB in 1s (7,103 kB/s)\n",
            "debconf: unable to initialize frontend: Dialog\n",
            "debconf: (No usable dialog-like program is installed, so the dialog based frontend cannot be used. at /usr/share/perl5/Debconf/FrontEnd/Dialog.pm line 78, <> line 1.)\n",
            "debconf: falling back to frontend: Readline\n",
            "debconf: unable to initialize frontend: Readline\n",
            "debconf: (This frontend requires a controlling tty.)\n",
            "debconf: falling back to frontend: Teletype\n",
            "dpkg-preconfigure: unable to re-open stdin: \n",
            "Selecting previously unselected package fonts-nanum.\n",
            "(Reading database ... 121749 files and directories currently installed.)\n",
            "Preparing to unpack .../fonts-nanum_20200506-1_all.deb ...\n",
            "Unpacking fonts-nanum (20200506-1) ...\n",
            "Setting up fonts-nanum (20200506-1) ...\n",
            "Processing triggers for fontconfig (2.13.1-4.2ubuntu5) ...\n",
            "/usr/share/fonts: caching, new cache contents: 0 fonts, 1 dirs\n",
            "/usr/share/fonts/truetype: caching, new cache contents: 0 fonts, 3 dirs\n",
            "/usr/share/fonts/truetype/humor-sans: caching, new cache contents: 1 fonts, 0 dirs\n",
            "/usr/share/fonts/truetype/liberation: caching, new cache contents: 16 fonts, 0 dirs\n",
            "/usr/share/fonts/truetype/nanum: caching, new cache contents: 12 fonts, 0 dirs\n",
            "/usr/local/share/fonts: caching, new cache contents: 0 fonts, 0 dirs\n",
            "/root/.local/share/fonts: skipping, no such directory\n",
            "/root/.fonts: skipping, no such directory\n",
            "/usr/share/fonts/truetype: skipping, looped directory detected\n",
            "/usr/share/fonts/truetype/humor-sans: skipping, looped directory detected\n",
            "/usr/share/fonts/truetype/liberation: skipping, looped directory detected\n",
            "/usr/share/fonts/truetype/nanum: skipping, looped directory detected\n",
            "/var/cache/fontconfig: cleaning cache directory\n",
            "/root/.cache/fontconfig: not cleaning non-existent cache directory\n",
            "/root/.fontconfig: not cleaning non-existent cache directory\n",
            "fc-cache: succeeded\n"
          ]
        }
      ],
      "source": [
        "# 런타임 재시작 필요\n",
        "!sudo apt-get install -y fonts-nanum\n",
        "!sudo fc-cache -fv\n",
        "!rm ~/.cache/matplotlib -rf"
      ]
    },
    {
      "cell_type": "markdown",
      "metadata": {
        "id": "ZTyLBKvHNVLl"
      },
      "source": [
        "### 1-3. 한글 글꼴 설정"
      ]
    },
    {
      "cell_type": "code",
      "execution_count": null,
      "metadata": {
        "id": "b3EdAJgdNVLl",
        "colab": {
          "base_uri": "https://localhost:8080/"
        },
        "outputId": "152dd5fd-0c4e-414f-a3ba-e5431fbdc793"
      },
      "outputs": [
        {
          "output_type": "stream",
          "name": "stdout",
          "text": [
            "Reading package lists... Done\n",
            "Building dependency tree... Done\n",
            "Reading state information... Done\n",
            "fonts-nanum is already the newest version (20200506-1).\n",
            "0 upgraded, 0 newly installed, 0 to remove and 35 not upgraded.\n"
          ]
        }
      ],
      "source": [
        "!sudo apt-get install -y fonts-nanum"
      ]
    },
    {
      "cell_type": "code",
      "execution_count": null,
      "metadata": {
        "id": "NSXviiZ7NVLm",
        "colab": {
          "base_uri": "https://localhost:8080/"
        },
        "outputId": "626361e1-b633-4702-8c11-521ea336aad7"
      },
      "outputs": [
        {
          "output_type": "stream",
          "name": "stdout",
          "text": [
            "NanumGothic\n"
          ]
        }
      ],
      "source": [
        "FONT_PATH = '/usr/share/fonts/truetype/nanum/NanumGothic.ttf'\n",
        "font_name = fm.FontProperties(fname=FONT_PATH, size=10).get_name()\n",
        "print(font_name)\n",
        "plt.rcParams['font.family']=font_name\n",
        "assert plt.rcParams['font.family'] == [font_name], \"한글 폰트가 설정되지 않았습니다.\""
      ]
    },
    {
      "cell_type": "markdown",
      "metadata": {
        "id": "4K8Sp4ejNVLm"
      },
      "source": [
        "### 1-4. 구글드라이브 연결"
      ]
    },
    {
      "cell_type": "code",
      "execution_count": null,
      "metadata": {
        "id": "_NrJV5saNVLm",
        "colab": {
          "base_uri": "https://localhost:8080/"
        },
        "outputId": "72a3d6f8-3f7c-4844-95d5-36b1a6836e16"
      },
      "outputs": [
        {
          "output_type": "stream",
          "name": "stdout",
          "text": [
            "Mounted at /content/drive\n"
          ]
        }
      ],
      "source": [
        "from google.colab import drive\n",
        "drive.mount('/content/drive')"
      ]
    },
    {
      "cell_type": "markdown",
      "metadata": {
        "id": "uKI84v2TNVLm"
      },
      "source": [
        "## 2. 전처리한 데이터 불러오기\n",
        "* 1, 2일차에 전처리한 데이터를 불러옵니다.\n",
        "* sparse data에 대해서는 scipy.sparse.load_npz 활용"
      ]
    },
    {
      "cell_type": "code",
      "execution_count": null,
      "metadata": {
        "id": "mhyLBaitNVLm",
        "colab": {
          "base_uri": "https://localhost:8080/"
        },
        "outputId": "3892cc85-4cba-4e76-d7f6-5f805499f93b"
      },
      "outputs": [
        {
          "output_type": "execute_result",
          "data": {
            "text/plain": [
              "((2779, 9917), (927, 9917), (2779,), (927,))"
            ]
          },
          "metadata": {},
          "execution_count": 17
        }
      ],
      "source": [
        "import scipy\n",
        "data_path = '/content/drive/MyDrive/미니프로젝트/4차-1_1:1문의 게시판/'\n",
        "x_tr_tfidf = scipy.sparse.load_npz(data_path + 'X_tfidf_train.npz').toarray()\n",
        "x_val_tfidf = scipy.sparse.load_npz(data_path + 'X_tfidf_val.npz').toarray()\n",
        "\n",
        "y_train = np.load('/content/drive/MyDrive/미니프로젝트/4차-1_1:1문의 게시판/y_train.npy')\n",
        "y_val = np.load('/content/drive/MyDrive/미니프로젝트/4차-1_1:1문의 게시판/y_val.npy')\n",
        "x_tr_tfidf.shape, x_val_tfidf.shape, y_train.shape, y_val.shape"
      ]
    },
    {
      "cell_type": "code",
      "source": [
        "X_mor_sequence_train = np.load(data_path + 'X_mor_sequence_train.npy')\n",
        "X_mor_sequence_val = np.load(data_path + 'X_mor_sequence_val.npy')\n",
        "X_mor_sequence_train.shape, X_mor_sequence_val.shape"
      ],
      "metadata": {
        "id": "NYRdk2bYhx4v",
        "colab": {
          "base_uri": "https://localhost:8080/"
        },
        "outputId": "00f9fb73-0f86-4333-cb70-9c16837747b1"
      },
      "execution_count": null,
      "outputs": [
        {
          "output_type": "execute_result",
          "data": {
            "text/plain": [
              "((2779, 500), (927, 500))"
            ]
          },
          "metadata": {},
          "execution_count": 23
        }
      ]
    },
    {
      "cell_type": "markdown",
      "metadata": {
        "id": "0_P-yHLLNVLm"
      },
      "source": [
        "## 3. Machine Learning(N-grams)\n",
        "* N-gram으로 전처리한 데이터를 이용하여 3개 이상의 Machine Learning 모델 학습 및 성능 분석\n",
        "> * [sklearn-tutorial](https://scikit-learn.org/stable/tutorial/text_analytics/working_with_text_data.html)"
      ]
    },
    {
      "cell_type": "code",
      "source": [
        "from sklearn.metrics import confusion_matrix, classification_report\n",
        "from sklearn.metrics import accuracy_score"
      ],
      "metadata": {
        "id": "pVNjjhX_mMz3"
      },
      "execution_count": null,
      "outputs": []
    },
    {
      "cell_type": "markdown",
      "metadata": {
        "id": "_04HBUEaNVLm"
      },
      "source": [
        "### 3-1. Model 1"
      ]
    },
    {
      "cell_type": "code",
      "source": [
        "from sklearn.ensemble import RandomForestClassifier\n"
      ],
      "metadata": {
        "id": "ZPjp7nEllh_M"
      },
      "execution_count": null,
      "outputs": []
    },
    {
      "cell_type": "code",
      "source": [
        "%%time\n",
        "model = RandomForestClassifier(random_state=2023)\n",
        "model.fit(x_tr_tfidf, y_train)\n",
        "\n",
        "y_pred = model.predict(x_val_tfidf)\n",
        "accuracy = accuracy_score(y_val, y_pred)\n",
        "print(classification_report(y_val, y_pred))\n",
        "print(\"Accuracy: {:.2f}%\".format(accuracy * 100))"
      ],
      "metadata": {
        "id": "KJEB_aGIlhvw",
        "colab": {
          "base_uri": "https://localhost:8080/"
        },
        "outputId": "d4622d0d-4ea4-420c-dc25-8d06e9ecf82d"
      },
      "execution_count": null,
      "outputs": [
        {
          "output_type": "stream",
          "name": "stdout",
          "text": [
            "              precision    recall  f1-score   support\n",
            "\n",
            "           0       0.70      0.94      0.80       392\n",
            "           1       0.87      0.58      0.70       179\n",
            "           2       0.77      0.58      0.66       195\n",
            "           3       0.84      0.75      0.79       130\n",
            "           4       1.00      0.71      0.83        31\n",
            "\n",
            "    accuracy                           0.76       927\n",
            "   macro avg       0.84      0.71      0.76       927\n",
            "weighted avg       0.78      0.76      0.75       927\n",
            "\n",
            "Accuracy: 75.94%\n",
            "CPU times: user 4.84 s, sys: 23.1 ms, total: 4.86 s\n",
            "Wall time: 4.84 s\n"
          ]
        }
      ]
    },
    {
      "cell_type": "markdown",
      "metadata": {
        "id": "FWBf8inLNVLn"
      },
      "source": [
        "### 3-2. Model 2"
      ]
    },
    {
      "cell_type": "code",
      "execution_count": null,
      "metadata": {
        "id": "tUdxJeCWNVLn"
      },
      "outputs": [],
      "source": [
        "from sklearn.linear_model import LogisticRegression\n",
        "from sklearn.metrics import accuracy_score"
      ]
    },
    {
      "cell_type": "code",
      "source": [
        "model2 = LogisticRegression()\n",
        "model2.fit(x_tr_tfidf, y_train)\n",
        "\n",
        "y_pred2 = model2.predict(x_val_tfidf)\n",
        "accuracy = accuracy_score(y_val, y_pred2)\n",
        "print(classification_report(y_val, y_pred2))\n",
        "print(\"Accuracy: {:.2f}%\".format(accuracy * 100))"
      ],
      "metadata": {
        "id": "Rbm2XxwzHKYC",
        "colab": {
          "base_uri": "https://localhost:8080/"
        },
        "outputId": "c0a8ec17-0cf1-45f2-e1c4-7a6a92e5ae70"
      },
      "execution_count": null,
      "outputs": [
        {
          "output_type": "stream",
          "name": "stdout",
          "text": [
            "              precision    recall  f1-score   support\n",
            "\n",
            "           0       0.81      0.93      0.87       392\n",
            "           1       0.86      0.81      0.83       179\n",
            "           2       0.80      0.74      0.77       195\n",
            "           3       0.89      0.78      0.83       130\n",
            "           4       1.00      0.42      0.59        31\n",
            "\n",
            "    accuracy                           0.83       927\n",
            "   macro avg       0.87      0.74      0.78       927\n",
            "weighted avg       0.83      0.83      0.82       927\n",
            "\n",
            "Accuracy: 82.85%\n"
          ]
        }
      ]
    },
    {
      "cell_type": "markdown",
      "metadata": {
        "id": "nlHRkL_3NVLn"
      },
      "source": [
        "### 3-3. Model 3"
      ]
    },
    {
      "cell_type": "code",
      "execution_count": null,
      "metadata": {
        "id": "yjl-YWQGNVLn"
      },
      "outputs": [],
      "source": [
        "from sklearn.svm import SVC"
      ]
    },
    {
      "cell_type": "code",
      "source": [
        "%%time\n",
        "model4 = SVC()\n",
        "model4.fit(x_tr_tfidf, y_train)\n",
        "\n",
        "y_pred4 = model4.predict(x_val_tfidf)\n",
        "accuracy = accuracy_score(y_val, y_pred4)\n",
        "print(classification_report(y_val, y_pred4))\n",
        "print(\"Accuracy: {:.2f}%\".format(accuracy * 100))"
      ],
      "metadata": {
        "id": "RSMmlInXHjuQ",
        "colab": {
          "base_uri": "https://localhost:8080/"
        },
        "outputId": "fe0fdcb4-e354-439c-8fb5-3c9304a364f2"
      },
      "execution_count": null,
      "outputs": [
        {
          "output_type": "stream",
          "name": "stdout",
          "text": [
            "              precision    recall  f1-score   support\n",
            "\n",
            "           0       0.80      0.93      0.86       392\n",
            "           1       0.86      0.79      0.83       179\n",
            "           2       0.78      0.73      0.76       195\n",
            "           3       0.89      0.78      0.83       130\n",
            "           4       1.00      0.55      0.71        31\n",
            "\n",
            "    accuracy                           0.83       927\n",
            "   macro avg       0.87      0.75      0.80       927\n",
            "weighted avg       0.83      0.83      0.82       927\n",
            "\n",
            "Accuracy: 82.52%\n",
            "CPU times: user 1min 27s, sys: 46.5 ms, total: 1min 27s\n",
            "Wall time: 1min 37s\n"
          ]
        }
      ]
    },
    {
      "cell_type": "markdown",
      "metadata": {
        "id": "h6apQWHoNVLn"
      },
      "source": [
        "## 4. Deep Learning(Sequence)\n",
        "* Sequence로 전처리한 데이터를 이용하여 DNN, 1-D CNN, LSTM 등 3가지 이상의 deep learning 모델 학습 및 성능 분석\n",
        "> * [Google Tutorial](https://developers.google.com/machine-learning/guides/text-classification)\n",
        "> * [Tensorflow Tutorial](https://www.tensorflow.org/tutorials/keras/text_classification)\n",
        "> * [Keras-tutorial](https://keras.io/examples/nlp/text_classification_from_scratch/)"
      ]
    },
    {
      "cell_type": "code",
      "source": [
        "import tensorflow as tf\n",
        "from tensorflow import keras\n",
        "import tensorflow.keras.backend as K\n",
        "from tensorflow.keras.layers import Input, Dense, Flatten, Embedding\n",
        "from tensorflow.keras.layers import Conv1D, MaxPool1D, LSTM, GRU, Bidirectional\n",
        "from tensorflow.keras.models import Model\n",
        "from tensorflow.keras.callbacks import EarlyStopping, ReduceLROnPlateau"
      ],
      "metadata": {
        "id": "DTHC1xWNLO_B"
      },
      "execution_count": null,
      "outputs": []
    },
    {
      "cell_type": "markdown",
      "metadata": {
        "id": "ALa7qGD4NVLn"
      },
      "source": [
        "### 4-1. DNN"
      ]
    },
    {
      "cell_type": "code",
      "execution_count": null,
      "metadata": {
        "id": "S5LV2tyANVLn",
        "colab": {
          "base_uri": "https://localhost:8080/"
        },
        "outputId": "2b9a243b-0d4c-419f-b229-a559a94cd6f9"
      },
      "outputs": [
        {
          "output_type": "stream",
          "name": "stdout",
          "text": [
            "Model: \"sequential\"\n",
            "_________________________________________________________________\n",
            " Layer (type)                Output Shape              Param #   \n",
            "=================================================================\n",
            " dense_1 (Dense)             (None, 64)                32064     \n",
            "                                                                 \n",
            " dense_2 (Dense)             (None, 128)               8320      \n",
            "                                                                 \n",
            " dense_3 (Dense)             (None, 256)               33024     \n",
            "                                                                 \n",
            " dense_4 (Dense)             (None, 5)                 1285      \n",
            "                                                                 \n",
            "=================================================================\n",
            "Total params: 74693 (291.77 KB)\n",
            "Trainable params: 74693 (291.77 KB)\n",
            "Non-trainable params: 0 (0.00 Byte)\n",
            "_________________________________________________________________\n"
          ]
        }
      ],
      "source": [
        "from keras.models import Sequential\n",
        "from keras.layers import Dense\n",
        "\n",
        "# 모델 초기화\n",
        "model = Sequential()\n",
        "\n",
        "model.add(Dense(64, activation='swish', input_shape=(500,)))\n",
        "model.add(Dense(128, activation='swish'))\n",
        "model.add(Dense(256, activation='swish'))\n",
        "\n",
        "model.add(Dense(5, activation='softmax'))\n",
        "\n",
        "model.compile(loss='sparse_categorical_crossentropy', metrics=['accuracy'], optimizer='adam')\n",
        "\n",
        "model.summary()"
      ]
    },
    {
      "cell_type": "code",
      "source": [
        "es = EarlyStopping(patience=20, restore_best_weights=True, verbose=1)\n",
        "history = model.fit(X_mor_sequence_train, y_train, validation_data=(X_mor_sequence_val, y_val),epochs=1000, callbacks=[es])"
      ],
      "metadata": {
        "id": "gKqMmkR0MQrY",
        "colab": {
          "base_uri": "https://localhost:8080/"
        },
        "outputId": "ce9ac4cf-7d70-42de-b002-0cc54967f2a8"
      },
      "execution_count": null,
      "outputs": [
        {
          "output_type": "stream",
          "name": "stdout",
          "text": [
            "Epoch 1/1000\n",
            "87/87 [==============================] - 4s 11ms/step - loss: 35.1742 - accuracy: 0.3131 - val_loss: 21.2132 - val_accuracy: 0.2686\n",
            "Epoch 2/1000\n",
            "87/87 [==============================] - 0s 5ms/step - loss: 9.7381 - accuracy: 0.4437 - val_loss: 14.2299 - val_accuracy: 0.3376\n",
            "Epoch 3/1000\n",
            "87/87 [==============================] - 1s 7ms/step - loss: 4.6784 - accuracy: 0.5441 - val_loss: 12.5377 - val_accuracy: 0.2913\n",
            "Epoch 4/1000\n",
            "87/87 [==============================] - 1s 7ms/step - loss: 2.6228 - accuracy: 0.6319 - val_loss: 12.3722 - val_accuracy: 0.3366\n",
            "Epoch 5/1000\n",
            "87/87 [==============================] - 0s 6ms/step - loss: 1.6240 - accuracy: 0.6905 - val_loss: 12.2597 - val_accuracy: 0.3333\n",
            "Epoch 6/1000\n",
            "87/87 [==============================] - 0s 5ms/step - loss: 1.2436 - accuracy: 0.7499 - val_loss: 11.3619 - val_accuracy: 0.3355\n",
            "Epoch 7/1000\n",
            "87/87 [==============================] - 1s 10ms/step - loss: 0.8006 - accuracy: 0.8050 - val_loss: 11.5436 - val_accuracy: 0.3366\n",
            "Epoch 8/1000\n",
            "87/87 [==============================] - 1s 7ms/step - loss: 0.7123 - accuracy: 0.8150 - val_loss: 11.5863 - val_accuracy: 0.3182\n",
            "Epoch 9/1000\n",
            "87/87 [==============================] - 1s 8ms/step - loss: 0.4979 - accuracy: 0.8564 - val_loss: 12.1581 - val_accuracy: 0.3463\n",
            "Epoch 10/1000\n",
            "87/87 [==============================] - 1s 10ms/step - loss: 0.4546 - accuracy: 0.8597 - val_loss: 11.1174 - val_accuracy: 0.3333\n",
            "Epoch 11/1000\n",
            "87/87 [==============================] - 1s 11ms/step - loss: 0.3242 - accuracy: 0.9010 - val_loss: 11.4123 - val_accuracy: 0.3118\n",
            "Epoch 12/1000\n",
            "87/87 [==============================] - 1s 10ms/step - loss: 0.3008 - accuracy: 0.9050 - val_loss: 11.5770 - val_accuracy: 0.3333\n",
            "Epoch 13/1000\n",
            "87/87 [==============================] - 1s 8ms/step - loss: 0.3221 - accuracy: 0.8974 - val_loss: 11.7590 - val_accuracy: 0.3139\n",
            "Epoch 14/1000\n",
            "87/87 [==============================] - 1s 8ms/step - loss: 0.4234 - accuracy: 0.8899 - val_loss: 12.0753 - val_accuracy: 0.3139\n",
            "Epoch 15/1000\n",
            "87/87 [==============================] - 1s 10ms/step - loss: 0.3586 - accuracy: 0.9061 - val_loss: 11.8741 - val_accuracy: 0.3258\n",
            "Epoch 16/1000\n",
            "87/87 [==============================] - 1s 6ms/step - loss: 0.3730 - accuracy: 0.8938 - val_loss: 12.0348 - val_accuracy: 0.2945\n",
            "Epoch 17/1000\n",
            "87/87 [==============================] - 1s 7ms/step - loss: 0.5355 - accuracy: 0.8733 - val_loss: 12.9879 - val_accuracy: 0.3290\n",
            "Epoch 18/1000\n",
            "87/87 [==============================] - 1s 7ms/step - loss: 0.8692 - accuracy: 0.8291 - val_loss: 12.0129 - val_accuracy: 0.3020\n",
            "Epoch 19/1000\n",
            "87/87 [==============================] - 1s 7ms/step - loss: 0.9333 - accuracy: 0.8244 - val_loss: 12.0500 - val_accuracy: 0.3074\n",
            "Epoch 20/1000\n",
            "87/87 [==============================] - 1s 7ms/step - loss: 1.8075 - accuracy: 0.7906 - val_loss: 13.1760 - val_accuracy: 0.2999\n",
            "Epoch 21/1000\n",
            "87/87 [==============================] - 1s 7ms/step - loss: 2.1967 - accuracy: 0.7114 - val_loss: 12.0997 - val_accuracy: 0.3484\n",
            "Epoch 22/1000\n",
            "87/87 [==============================] - 1s 7ms/step - loss: 1.8297 - accuracy: 0.7449 - val_loss: 10.9553 - val_accuracy: 0.3344\n",
            "Epoch 23/1000\n",
            "87/87 [==============================] - 1s 9ms/step - loss: 1.6333 - accuracy: 0.7668 - val_loss: 11.0311 - val_accuracy: 0.3290\n",
            "Epoch 24/1000\n",
            "87/87 [==============================] - 1s 7ms/step - loss: 1.0540 - accuracy: 0.8017 - val_loss: 10.8629 - val_accuracy: 0.3096\n",
            "Epoch 25/1000\n",
            "87/87 [==============================] - 1s 8ms/step - loss: 0.5027 - accuracy: 0.8669 - val_loss: 11.0501 - val_accuracy: 0.3258\n",
            "Epoch 26/1000\n",
            "87/87 [==============================] - 1s 7ms/step - loss: 0.2390 - accuracy: 0.9259 - val_loss: 10.7809 - val_accuracy: 0.3409\n",
            "Epoch 27/1000\n",
            "87/87 [==============================] - 1s 8ms/step - loss: 0.2058 - accuracy: 0.9417 - val_loss: 10.6550 - val_accuracy: 0.3484\n",
            "Epoch 28/1000\n",
            "87/87 [==============================] - 1s 10ms/step - loss: 0.0991 - accuracy: 0.9683 - val_loss: 10.6654 - val_accuracy: 0.3474\n",
            "Epoch 29/1000\n",
            "87/87 [==============================] - 1s 11ms/step - loss: 0.0469 - accuracy: 0.9888 - val_loss: 10.8240 - val_accuracy: 0.3517\n",
            "Epoch 30/1000\n",
            "87/87 [==============================] - 1s 12ms/step - loss: 0.0316 - accuracy: 0.9946 - val_loss: 10.8261 - val_accuracy: 0.3409\n",
            "Epoch 31/1000\n",
            "87/87 [==============================] - 1s 8ms/step - loss: 0.0226 - accuracy: 0.9971 - val_loss: 10.9169 - val_accuracy: 0.3484\n",
            "Epoch 32/1000\n",
            "87/87 [==============================] - 1s 8ms/step - loss: 0.0186 - accuracy: 0.9975 - val_loss: 10.9233 - val_accuracy: 0.3420\n",
            "Epoch 33/1000\n",
            "87/87 [==============================] - 1s 8ms/step - loss: 0.0158 - accuracy: 0.9993 - val_loss: 10.9938 - val_accuracy: 0.3474\n",
            "Epoch 34/1000\n",
            "87/87 [==============================] - 1s 7ms/step - loss: 0.0139 - accuracy: 0.9993 - val_loss: 11.0239 - val_accuracy: 0.3463\n",
            "Epoch 35/1000\n",
            "87/87 [==============================] - 1s 7ms/step - loss: 0.0125 - accuracy: 0.9996 - val_loss: 11.0747 - val_accuracy: 0.3474\n",
            "Epoch 36/1000\n",
            "87/87 [==============================] - 1s 7ms/step - loss: 0.0114 - accuracy: 0.9996 - val_loss: 11.1340 - val_accuracy: 0.3452\n",
            "Epoch 37/1000\n",
            "87/87 [==============================] - 1s 6ms/step - loss: 0.0104 - accuracy: 0.9996 - val_loss: 11.1588 - val_accuracy: 0.3474\n",
            "Epoch 38/1000\n",
            "87/87 [==============================] - 1s 7ms/step - loss: 0.0094 - accuracy: 0.9996 - val_loss: 11.2081 - val_accuracy: 0.3474\n",
            "Epoch 39/1000\n",
            "87/87 [==============================] - 1s 6ms/step - loss: 0.0087 - accuracy: 0.9996 - val_loss: 11.2345 - val_accuracy: 0.3463\n",
            "Epoch 40/1000\n",
            "87/87 [==============================] - 1s 7ms/step - loss: 0.0080 - accuracy: 0.9996 - val_loss: 11.2828 - val_accuracy: 0.3506\n",
            "Epoch 41/1000\n",
            "87/87 [==============================] - 1s 7ms/step - loss: 0.0074 - accuracy: 0.9996 - val_loss: 11.3259 - val_accuracy: 0.3495\n",
            "Epoch 42/1000\n",
            "87/87 [==============================] - 1s 7ms/step - loss: 0.0069 - accuracy: 1.0000 - val_loss: 11.3629 - val_accuracy: 0.3484\n",
            "Epoch 43/1000\n",
            "87/87 [==============================] - 1s 6ms/step - loss: 0.0064 - accuracy: 1.0000 - val_loss: 11.4168 - val_accuracy: 0.3474\n",
            "Epoch 44/1000\n",
            "87/87 [==============================] - 1s 8ms/step - loss: 0.0060 - accuracy: 1.0000 - val_loss: 11.4529 - val_accuracy: 0.3452\n",
            "Epoch 45/1000\n",
            "87/87 [==============================] - 0s 5ms/step - loss: 0.0055 - accuracy: 1.0000 - val_loss: 11.4714 - val_accuracy: 0.3441\n",
            "Epoch 46/1000\n",
            "87/87 [==============================] - 0s 4ms/step - loss: 0.0054 - accuracy: 1.0000 - val_loss: 11.5457 - val_accuracy: 0.3474\n",
            "Epoch 47/1000\n",
            "87/87 [==============================] - ETA: 0s - loss: 0.0061 - accuracy: 0.9996Restoring model weights from the end of the best epoch: 27.\n",
            "87/87 [==============================] - 1s 8ms/step - loss: 0.0061 - accuracy: 0.9996 - val_loss: 11.5870 - val_accuracy: 0.3452\n",
            "Epoch 47: early stopping\n"
          ]
        }
      ]
    },
    {
      "cell_type": "code",
      "source": [
        "!pip install koreanize-matplotlib\n",
        "import koreanize_matplotlib"
      ],
      "metadata": {
        "id": "UK9Sn_ntP7C4",
        "colab": {
          "base_uri": "https://localhost:8080/"
        },
        "outputId": "d5987d91-980f-47eb-92cd-91e7d77f22fd"
      },
      "execution_count": null,
      "outputs": [
        {
          "output_type": "stream",
          "name": "stdout",
          "text": [
            "Requirement already satisfied: koreanize-matplotlib in /usr/local/lib/python3.10/dist-packages (0.1.1)\n",
            "Requirement already satisfied: matplotlib in /usr/local/lib/python3.10/dist-packages (from koreanize-matplotlib) (3.7.1)\n",
            "Requirement already satisfied: contourpy>=1.0.1 in /usr/local/lib/python3.10/dist-packages (from matplotlib->koreanize-matplotlib) (1.2.0)\n",
            "Requirement already satisfied: cycler>=0.10 in /usr/local/lib/python3.10/dist-packages (from matplotlib->koreanize-matplotlib) (0.12.1)\n",
            "Requirement already satisfied: fonttools>=4.22.0 in /usr/local/lib/python3.10/dist-packages (from matplotlib->koreanize-matplotlib) (4.49.0)\n",
            "Requirement already satisfied: kiwisolver>=1.0.1 in /usr/local/lib/python3.10/dist-packages (from matplotlib->koreanize-matplotlib) (1.4.5)\n",
            "Requirement already satisfied: numpy>=1.20 in /usr/local/lib/python3.10/dist-packages (from matplotlib->koreanize-matplotlib) (1.25.2)\n",
            "Requirement already satisfied: packaging>=20.0 in /usr/local/lib/python3.10/dist-packages (from matplotlib->koreanize-matplotlib) (23.2)\n",
            "Requirement already satisfied: pillow>=6.2.0 in /usr/local/lib/python3.10/dist-packages (from matplotlib->koreanize-matplotlib) (9.4.0)\n",
            "Requirement already satisfied: pyparsing>=2.3.1 in /usr/local/lib/python3.10/dist-packages (from matplotlib->koreanize-matplotlib) (3.1.1)\n",
            "Requirement already satisfied: python-dateutil>=2.7 in /usr/local/lib/python3.10/dist-packages (from matplotlib->koreanize-matplotlib) (2.8.2)\n",
            "Requirement already satisfied: six>=1.5 in /usr/local/lib/python3.10/dist-packages (from python-dateutil>=2.7->matplotlib->koreanize-matplotlib) (1.16.0)\n"
          ]
        }
      ]
    },
    {
      "cell_type": "code",
      "source": [
        "plt.plot(history.history['loss'], label='train')\n",
        "plt.plot(history.history['val_loss'], label='validation')\n",
        "plt.legend()\n",
        "plt.show()"
      ],
      "metadata": {
        "id": "Ya459Dm2MQkq",
        "colab": {
          "base_uri": "https://localhost:8080/",
          "height": 429
        },
        "outputId": "58aca841-e779-4e90-d6ef-fc72b8a742d6"
      },
      "execution_count": null,
      "outputs": [
        {
          "output_type": "display_data",
          "data": {
            "text/plain": [
              "<Figure size 640x480 with 1 Axes>"
            ],
            "image/png": "[encoded data removed]"
          },
          "metadata": {}
        }
      ]
    },
    {
      "cell_type": "markdown",
      "metadata": {
        "id": "fznxLNLSNVLn"
      },
      "source": [
        "### 4-2. 1-D CNN"
      ]
    },
    {
      "cell_type": "code",
      "source": [
        "# 세션 클리어\n",
        "K.clear_session()\n",
        "\n",
        "# 모델 쌓기\n",
        "il = Input(shape=(500, ))\n",
        "\n",
        "hl = Dense(64, activation='swish')(il)\n",
        "hl = Dense(128, activation='swish')(hl)\n",
        "hl = Dense(256, activation='swish')(hl)\n",
        "ol = Dense(5, activation='softmax')(hl)\n",
        "\n",
        "# 모델 선언\n",
        "model = Model(il, ol)\n",
        "\n",
        "# 컴파일\n",
        "model.compile(loss='sparse_categorical_crossentropy', metrics=['accuracy'], optimizer='adam')\n",
        "\n",
        "# 요약\n",
        "model.summary()\n"
      ],
      "metadata": {
        "colab": {
          "base_uri": "https://localhost:8080/"
        },
        "id": "riNFuR7td5zD",
        "outputId": "7099ccf9-2866-4f79-b059-7c77cde7f012"
      },
      "execution_count": null,
      "outputs": [
        {
          "output_type": "stream",
          "name": "stdout",
          "text": [
            "Model: \"model\"\n",
            "_________________________________________________________________\n",
            " Layer (type)                Output Shape              Param #   \n",
            "=================================================================\n",
            " input_1 (InputLayer)        [(None, 500)]             0         \n",
            "                                                                 \n",
            " dense (Dense)               (None, 64)                32064     \n",
            "                                                                 \n",
            " dense_1 (Dense)             (None, 128)               8320      \n",
            "                                                                 \n",
            " dense_2 (Dense)             (None, 256)               33024     \n",
            "                                                                 \n",
            " dense_3 (Dense)             (None, 5)                 1285      \n",
            "                                                                 \n",
            "=================================================================\n",
            "Total params: 74693 (291.77 KB)\n",
            "Trainable params: 74693 (291.77 KB)\n",
            "Non-trainable params: 0 (0.00 Byte)\n",
            "_________________________________________________________________\n"
          ]
        }
      ]
    },
    {
      "cell_type": "code",
      "source": [
        "es = EarlyStopping(patience=20, restore_best_weights=True, verbose=1)\n",
        "history_cnn= model.fit(X_mor_sequence_train, y_train, validation_data=(X_mor_sequence_val, y_val), epochs=1000, callbacks=[es])"
      ],
      "metadata": {
        "colab": {
          "base_uri": "https://localhost:8080/"
        },
        "id": "LVzhaoHxeMfJ",
        "outputId": "c8c26819-a4bf-4af7-f50c-b27b5b405bdb"
      },
      "execution_count": null,
      "outputs": [
        {
          "output_type": "stream",
          "name": "stdout",
          "text": [
            "Epoch 1/1000\n",
            "87/87 [==============================] - 2s 8ms/step - loss: 40.9948 - accuracy: 0.3023 - val_loss: 24.5568 - val_accuracy: 0.3635\n",
            "Epoch 2/1000\n",
            "87/87 [==============================] - 1s 6ms/step - loss: 10.7384 - accuracy: 0.4019 - val_loss: 14.4373 - val_accuracy: 0.2988\n",
            "Epoch 3/1000\n",
            "87/87 [==============================] - 1s 7ms/step - loss: 5.4874 - accuracy: 0.5059 - val_loss: 12.0427 - val_accuracy: 0.3225\n",
            "Epoch 4/1000\n",
            "87/87 [==============================] - 1s 6ms/step - loss: 3.2475 - accuracy: 0.5873 - val_loss: 12.3596 - val_accuracy: 0.3236\n",
            "Epoch 5/1000\n",
            "87/87 [==============================] - 1s 10ms/step - loss: 1.9317 - accuracy: 0.6499 - val_loss: 11.0428 - val_accuracy: 0.3204\n",
            "Epoch 6/1000\n",
            "87/87 [==============================] - 1s 10ms/step - loss: 1.2106 - accuracy: 0.7406 - val_loss: 10.7784 - val_accuracy: 0.3172\n",
            "Epoch 7/1000\n",
            "87/87 [==============================] - 1s 9ms/step - loss: 0.8559 - accuracy: 0.7827 - val_loss: 10.9196 - val_accuracy: 0.2848\n",
            "Epoch 8/1000\n",
            "87/87 [==============================] - 1s 8ms/step - loss: 0.6585 - accuracy: 0.8086 - val_loss: 10.8767 - val_accuracy: 0.3031\n",
            "Epoch 9/1000\n",
            "87/87 [==============================] - 1s 7ms/step - loss: 0.5279 - accuracy: 0.8478 - val_loss: 10.7737 - val_accuracy: 0.3031\n",
            "Epoch 10/1000\n",
            "87/87 [==============================] - 1s 7ms/step - loss: 0.4300 - accuracy: 0.8579 - val_loss: 11.0806 - val_accuracy: 0.3150\n",
            "Epoch 11/1000\n",
            "87/87 [==============================] - 1s 8ms/step - loss: 0.4232 - accuracy: 0.8676 - val_loss: 11.1956 - val_accuracy: 0.3064\n",
            "Epoch 12/1000\n",
            "87/87 [==============================] - 1s 8ms/step - loss: 1.2874 - accuracy: 0.8032 - val_loss: 12.4116 - val_accuracy: 0.3366\n",
            "Epoch 13/1000\n",
            "87/87 [==============================] - 1s 7ms/step - loss: 2.0643 - accuracy: 0.7042 - val_loss: 11.9346 - val_accuracy: 0.2772\n",
            "Epoch 14/1000\n",
            "87/87 [==============================] - 1s 8ms/step - loss: 1.5423 - accuracy: 0.7467 - val_loss: 11.8529 - val_accuracy: 0.3236\n",
            "Epoch 15/1000\n",
            "87/87 [==============================] - 1s 8ms/step - loss: 0.8149 - accuracy: 0.8107 - val_loss: 11.2687 - val_accuracy: 0.3172\n",
            "Epoch 16/1000\n",
            "87/87 [==============================] - 1s 6ms/step - loss: 0.4310 - accuracy: 0.8719 - val_loss: 11.2537 - val_accuracy: 0.3452\n",
            "Epoch 17/1000\n",
            "87/87 [==============================] - 1s 7ms/step - loss: 0.2979 - accuracy: 0.9097 - val_loss: 11.3780 - val_accuracy: 0.3107\n",
            "Epoch 18/1000\n",
            "87/87 [==============================] - 1s 8ms/step - loss: 0.2011 - accuracy: 0.9291 - val_loss: 12.0283 - val_accuracy: 0.3506\n",
            "Epoch 19/1000\n",
            "87/87 [==============================] - 1s 6ms/step - loss: 0.1891 - accuracy: 0.9446 - val_loss: 12.5292 - val_accuracy: 0.3517\n",
            "Epoch 20/1000\n",
            "87/87 [==============================] - 1s 7ms/step - loss: 0.1509 - accuracy: 0.9493 - val_loss: 12.0153 - val_accuracy: 0.3128\n",
            "Epoch 21/1000\n",
            "87/87 [==============================] - 1s 7ms/step - loss: 0.1837 - accuracy: 0.9464 - val_loss: 12.3253 - val_accuracy: 0.3236\n",
            "Epoch 22/1000\n",
            "87/87 [==============================] - 1s 9ms/step - loss: 1.0498 - accuracy: 0.8399 - val_loss: 12.9447 - val_accuracy: 0.2891\n",
            "Epoch 23/1000\n",
            "87/87 [==============================] - 1s 8ms/step - loss: 2.0533 - accuracy: 0.7283 - val_loss: 11.5445 - val_accuracy: 0.2977\n",
            "Epoch 24/1000\n",
            "87/87 [==============================] - 1s 15ms/step - loss: 1.3905 - accuracy: 0.7686 - val_loss: 11.5954 - val_accuracy: 0.2880\n",
            "Epoch 25/1000\n",
            "87/87 [==============================] - 1s 13ms/step - loss: 1.1967 - accuracy: 0.7891 - val_loss: 12.0060 - val_accuracy: 0.3042\n",
            "Epoch 26/1000\n",
            "87/87 [==============================] - 1s 8ms/step - loss: 0.8309 - accuracy: 0.8269 - val_loss: 11.9532 - val_accuracy: 0.3290\n",
            "Epoch 27/1000\n",
            "87/87 [==============================] - 1s 7ms/step - loss: 0.6860 - accuracy: 0.8409 - val_loss: 12.2448 - val_accuracy: 0.3279\n",
            "Epoch 28/1000\n",
            "87/87 [==============================] - 1s 8ms/step - loss: 0.7492 - accuracy: 0.8507 - val_loss: 13.7128 - val_accuracy: 0.3172\n",
            "Epoch 29/1000\n",
            "85/87 [============================>.] - ETA: 0s - loss: 0.5326 - accuracy: 0.8706Restoring model weights from the end of the best epoch: 9.\n",
            "87/87 [==============================] - 1s 11ms/step - loss: 0.5322 - accuracy: 0.8712 - val_loss: 13.2359 - val_accuracy: 0.3312\n",
            "Epoch 29: early stopping\n"
          ]
        }
      ]
    },
    {
      "cell_type": "code",
      "source": [
        "plt.plot(history_cnn.history['loss'], label='train')\n",
        "plt.plot(history_cnn.history['val_loss'], label='validation')\n",
        "plt.legend()\n",
        "plt.show()"
      ],
      "metadata": {
        "colab": {
          "base_uri": "https://localhost:8080/",
          "height": 429
        },
        "id": "zSC5is-AyJly",
        "outputId": "ab518ae9-d3fe-4b72-e3d4-51527e673688"
      },
      "execution_count": null,
      "outputs": [
        {
          "output_type": "display_data",
          "data": {
            "text/plain": [
              "<Figure size 640x480 with 1 Axes>"
            ],
            "image/png": "[encoded data removed]"
          },
          "metadata": {}
        }
      ]
    },
    {
      "cell_type": "code",
      "execution_count": null,
      "metadata": {
        "id": "FLqhX6rONVLn",
        "colab": {
          "base_uri": "https://localhost:8080/"
        },
        "outputId": "c327db0a-a17a-4bde-8312-9188d2582a53"
      },
      "outputs": [
        {
          "output_type": "stream",
          "name": "stdout",
          "text": [
            "Model: \"model\"\n",
            "_________________________________________________________________\n",
            " Layer (type)                Output Shape              Param #   \n",
            "=================================================================\n",
            " input_1 (InputLayer)        [(None, 500)]             0         \n",
            "                                                                 \n",
            " embedding (Embedding)       (None, 500, 128)          383104    \n",
            "                                                                 \n",
            " conv1d (Conv1D)             (None, 500, 64)           41024     \n",
            "                                                                 \n",
            " conv1d_1 (Conv1D)           (None, 500, 64)           20544     \n",
            "                                                                 \n",
            " max_pooling1d (MaxPooling1  (None, 250, 64)           0         \n",
            " D)                                                              \n",
            "                                                                 \n",
            " conv1d_2 (Conv1D)           (None, 250, 128)          41088     \n",
            "                                                                 \n",
            " conv1d_3 (Conv1D)           (None, 250, 128)          82048     \n",
            "                                                                 \n",
            " max_pooling1d_1 (MaxPoolin  (None, 125, 128)          0         \n",
            " g1D)                                                            \n",
            "                                                                 \n",
            " conv1d_4 (Conv1D)           (None, 125, 256)          164096    \n",
            "                                                                 \n",
            " conv1d_5 (Conv1D)           (None, 125, 256)          327936    \n",
            "                                                                 \n",
            " max_pooling1d_2 (MaxPoolin  (None, 62, 256)           0         \n",
            " g1D)                                                            \n",
            "                                                                 \n",
            " flatten (Flatten)           (None, 15872)             0         \n",
            "                                                                 \n",
            " dense (Dense)               (None, 5)                 79365     \n",
            "                                                                 \n",
            "=================================================================\n",
            "Total params: 1139205 (4.35 MB)\n",
            "Trainable params: 1139205 (4.35 MB)\n",
            "Non-trainable params: 0 (0.00 Byte)\n",
            "_________________________________________________________________\n"
          ]
        }
      ],
      "source": [
        "max_words = 2993\n",
        "embedding_dim = 128\n",
        "\n",
        "# 세션 클리어\n",
        "K.clear_session()\n",
        "\n",
        "# 모델 쌓기\n",
        "il = Input(shape=(500,))\n",
        "hl = Embedding(max_words, embedding_dim)(il)\n",
        "hl = Conv1D(64, 5, padding='same', activation='swish')(hl)\n",
        "hl = Conv1D(64, 5, padding='same', activation='swish')(hl)\n",
        "hl = MaxPool1D(2)(hl)\n",
        "\n",
        "hl = Conv1D(128, 5, padding='same', activation='swish')(hl)\n",
        "hl = Conv1D(128, 5, padding='same', activation='swish')(hl)\n",
        "hl = MaxPool1D(2)(hl)\n",
        "\n",
        "hl = Conv1D(256, 5, padding='same', activation='swish')(hl)\n",
        "hl = Conv1D(256, 5, padding='same', activation='swish')(hl)\n",
        "hl = MaxPool1D(2)(hl)\n",
        "hl = Flatten()(hl)\n",
        "ol = Dense(5, activation='softmax')(hl)\n",
        "\n",
        "# 모델 선언\n",
        "model = Model(il, ol)\n",
        "\n",
        "# 컴파일\n",
        "model.compile(loss='sparse_categorical_crossentropy', metrics=['accuracy'], optimizer='adam')\n",
        "\n",
        "# 요약\n",
        "model.summary()"
      ]
    },
    {
      "cell_type": "code",
      "source": [
        "es = EarlyStopping(patience=5, restore_best_weights=True, verbose=1)\n",
        "history = model.fit(X_mor_sequence_train, y_train, validation_data=(X_mor_sequence_val, y_val), epochs=1000, callbacks=[es])"
      ],
      "metadata": {
        "colab": {
          "base_uri": "https://localhost:8080/"
        },
        "id": "A9-5wr7o5E2E",
        "outputId": "11265fd3-5d2e-4534-f832-a8a889cfed6d"
      },
      "execution_count": null,
      "outputs": [
        {
          "output_type": "stream",
          "name": "stdout",
          "text": [
            "Epoch 1/1000\n",
            "87/87 [==============================] - 15s 115ms/step - loss: 1.2583 - accuracy: 0.4674 - val_loss: 1.0237 - val_accuracy: 0.5415\n",
            "Epoch 2/1000\n",
            "87/87 [==============================] - 7s 80ms/step - loss: 0.8676 - accuracy: 0.6304 - val_loss: 0.9952 - val_accuracy: 0.5804\n",
            "Epoch 3/1000\n",
            "87/87 [==============================] - 4s 47ms/step - loss: 0.6702 - accuracy: 0.7244 - val_loss: 0.9514 - val_accuracy: 0.6386\n",
            "Epoch 4/1000\n",
            "87/87 [==============================] - 5s 56ms/step - loss: 0.5484 - accuracy: 0.7794 - val_loss: 1.0424 - val_accuracy: 0.6073\n",
            "Epoch 5/1000\n",
            "87/87 [==============================] - 3s 35ms/step - loss: 0.4725 - accuracy: 0.8158 - val_loss: 1.1585 - val_accuracy: 0.6181\n",
            "Epoch 6/1000\n",
            "87/87 [==============================] - 3s 33ms/step - loss: 0.3335 - accuracy: 0.8881 - val_loss: 1.5788 - val_accuracy: 0.6494\n",
            "Epoch 7/1000\n",
            "87/87 [==============================] - 3s 32ms/step - loss: 0.2533 - accuracy: 0.9147 - val_loss: 2.1228 - val_accuracy: 0.6526\n",
            "Epoch 8/1000\n",
            "84/87 [===========================>..] - ETA: 0s - loss: 0.2015 - accuracy: 0.9286Restoring model weights from the end of the best epoch: 3.\n",
            "87/87 [==============================] - 3s 33ms/step - loss: 0.2028 - accuracy: 0.9273 - val_loss: 2.0613 - val_accuracy: 0.6667\n",
            "Epoch 8: early stopping\n"
          ]
        }
      ]
    },
    {
      "cell_type": "code",
      "source": [
        "plt.plot(history.history['loss'], label='train')\n",
        "plt.plot(history.history['val_loss'], label='validation')\n",
        "plt.legend()\n",
        "plt.show()"
      ],
      "metadata": {
        "id": "yZ76KZUd6_rX",
        "colab": {
          "base_uri": "https://localhost:8080/",
          "height": 429
        },
        "outputId": "9690d60f-caa9-47c3-afb9-f5f36749e2fd"
      },
      "execution_count": null,
      "outputs": [
        {
          "output_type": "display_data",
          "data": {
            "text/plain": [
              "<Figure size 640x480 with 1 Axes>"
            ],
            "image/png": "[encoded data removed]"
          },
          "metadata": {}
        }
      ]
    },
    {
      "cell_type": "markdown",
      "metadata": {
        "id": "RkvMu8QANVLo"
      },
      "source": [
        "### 4-3. LSTM"
      ]
    },
    {
      "cell_type": "code",
      "execution_count": null,
      "metadata": {
        "id": "Y4xSo2_nNVLo",
        "colab": {
          "base_uri": "https://localhost:8080/"
        },
        "outputId": "89db297d-804b-4a22-d17f-fec72f9c01bc"
      },
      "outputs": [
        {
          "output_type": "stream",
          "name": "stdout",
          "text": [
            "Model: \"sequential\"\n",
            "_________________________________________________________________\n",
            " Layer (type)                Output Shape              Param #   \n",
            "=================================================================\n",
            " embedding_1 (Embedding)     (None, 500, 128)          757248    \n",
            "                                                                 \n",
            " conv1d_6 (Conv1D)           (None, 500, 64)           41024     \n",
            "                                                                 \n",
            " conv1d_7 (Conv1D)           (None, 500, 64)           20544     \n",
            "                                                                 \n",
            " max_pooling1d_3 (MaxPoolin  (None, 250, 64)           0         \n",
            " g1D)                                                            \n",
            "                                                                 \n",
            " conv1d_8 (Conv1D)           (None, 250, 128)          41088     \n",
            "                                                                 \n",
            " conv1d_9 (Conv1D)           (None, 250, 128)          82048     \n",
            "                                                                 \n",
            " max_pooling1d_4 (MaxPoolin  (None, 125, 128)          0         \n",
            " g1D)                                                            \n",
            "                                                                 \n",
            " lstm (LSTM)                 (None, 125, 64)           49408     \n",
            "                                                                 \n",
            " lstm_1 (LSTM)               (None, 125, 64)           33024     \n",
            "                                                                 \n",
            " lstm_2 (LSTM)               (None, 64)                33024     \n",
            "                                                                 \n",
            " flatten_1 (Flatten)         (None, 64)                0         \n",
            "                                                                 \n",
            " dense_1 (Dense)             (None, 5)                 325       \n",
            "                                                                 \n",
            "=================================================================\n",
            "Total params: 1057733 (4.03 MB)\n",
            "Trainable params: 1057733 (4.03 MB)\n",
            "Non-trainable params: 0 (0.00 Byte)\n",
            "_________________________________________________________________\n"
          ]
        }
      ],
      "source": [
        "from keras.models import Sequential\n",
        "from keras.layers import Embedding, Conv1D, MaxPooling1D, LSTM, Flatten, Dense\n",
        "\n",
        "max_words = 9425 - 3510 + 1\n",
        "embedding_dim = 128\n",
        "\n",
        "# 모델 초기화\n",
        "model_LSTM = Sequential()\n",
        "\n",
        "model_LSTM.add(Embedding(max_words, embedding_dim, input_length=500))\n",
        "\n",
        "model_LSTM.add(Conv1D(64, 5, padding='same', activation='swish'))\n",
        "model_LSTM.add(Conv1D(64, 5, padding='same', activation='swish'))\n",
        "model_LSTM.add(MaxPooling1D(2))\n",
        "\n",
        "model_LSTM.add(Conv1D(128, 5, padding='same', activation='swish'))\n",
        "model_LSTM.add(Conv1D(128, 5, padding='same', activation='swish'))\n",
        "model_LSTM.add(MaxPooling1D(2))\n",
        "\n",
        "model_LSTM.add(LSTM(64, return_sequences=True))\n",
        "model_LSTM.add(LSTM(64, return_sequences=True))\n",
        "model_LSTM.add(LSTM(64, return_sequences=False))\n",
        "\n",
        "# Flatten 레이어 추가\n",
        "model_LSTM.add(Flatten())\n",
        "\n",
        "# 출력 레이어 추가\n",
        "model_LSTM.add(Dense(5, activation='softmax'))\n",
        "\n",
        "# 컴파일\n",
        "model_LSTM.compile(loss='sparse_categorical_crossentropy', metrics=['accuracy'], optimizer='adam')\n",
        "\n",
        "# 모델 요약\n",
        "model_LSTM.summary()\n"
      ]
    },
    {
      "cell_type": "code",
      "source": [
        "es = EarlyStopping(patience=5, restore_best_weights=True, verbose=1)\n",
        "history_LSTM = model_LSTM.fit(X_mor_sequence_train, y_train, validation_data=(X_mor_sequence_val, y_val),\n",
        "                    epochs=1000, callbacks=[es])"
      ],
      "metadata": {
        "colab": {
          "base_uri": "https://localhost:8080/"
        },
        "id": "D9MfiX6PPI2Z",
        "outputId": "85f83968-2333-4814-80c3-17cf16eda7ae"
      },
      "execution_count": null,
      "outputs": [
        {
          "output_type": "stream",
          "name": "stdout",
          "text": [
            "Epoch 1/1000\n",
            "87/87 [==============================] - 18s 133ms/step - loss: 1.2361 - accuracy: 0.4700 - val_loss: 1.0632 - val_accuracy: 0.5566\n",
            "Epoch 2/1000\n",
            "87/87 [==============================] - 8s 95ms/step - loss: 0.8908 - accuracy: 0.6398 - val_loss: 1.0349 - val_accuracy: 0.5523\n",
            "Epoch 3/1000\n",
            "87/87 [==============================] - 7s 78ms/step - loss: 0.7009 - accuracy: 0.7287 - val_loss: 1.0550 - val_accuracy: 0.6095\n",
            "Epoch 4/1000\n",
            "87/87 [==============================] - 7s 78ms/step - loss: 0.5441 - accuracy: 0.8082 - val_loss: 1.0765 - val_accuracy: 0.6300\n",
            "Epoch 5/1000\n",
            "87/87 [==============================] - 5s 60ms/step - loss: 0.4729 - accuracy: 0.8338 - val_loss: 1.0311 - val_accuracy: 0.6462\n",
            "Epoch 6/1000\n",
            "87/87 [==============================] - 5s 61ms/step - loss: 0.3782 - accuracy: 0.8654 - val_loss: 1.2268 - val_accuracy: 0.6365\n",
            "Epoch 7/1000\n",
            "87/87 [==============================] - 8s 98ms/step - loss: 0.3174 - accuracy: 0.8982 - val_loss: 1.2023 - val_accuracy: 0.6440\n",
            "Epoch 8/1000\n",
            "87/87 [==============================] - 4s 44ms/step - loss: 0.2721 - accuracy: 0.9126 - val_loss: 1.2183 - val_accuracy: 0.6451\n",
            "Epoch 9/1000\n",
            "87/87 [==============================] - 4s 45ms/step - loss: 0.2164 - accuracy: 0.9341 - val_loss: 1.3121 - val_accuracy: 0.6624\n",
            "Epoch 10/1000\n",
            "87/87 [==============================] - ETA: 0s - loss: 0.1598 - accuracy: 0.9539Restoring model weights from the end of the best epoch: 5.\n",
            "87/87 [==============================] - 3s 37ms/step - loss: 0.1598 - accuracy: 0.9539 - val_loss: 1.2493 - val_accuracy: 0.7001\n",
            "Epoch 10: early stopping\n"
          ]
        }
      ]
    },
    {
      "cell_type": "code",
      "source": [
        "plt.plot(history_LSTM.history['loss'], label='train')\n",
        "plt.plot(history_LSTM.history['val_loss'], label='validation')\n",
        "plt.legend()\n",
        "plt.show()"
      ],
      "metadata": {
        "colab": {
          "base_uri": "https://localhost:8080/",
          "height": 429
        },
        "id": "1-X8kabry8Er",
        "outputId": "4fb479a4-b3f5-4301-e869-447d21d30ea7"
      },
      "execution_count": null,
      "outputs": [
        {
          "output_type": "display_data",
          "data": {
            "text/plain": [
              "<Figure size 640x480 with 1 Axes>"
            ],
            "image/png": "[encoded data removed]"
          },
          "metadata": {}
        }
      ]
    },
    {
      "cell_type": "markdown",
      "metadata": {
        "id": "UWCpxKLXNVLo"
      },
      "source": [
        "## 5. Using pre-trained model(Optional)\n",
        "* 한국어 pre-trained model로 fine tuning 및 성능 분석\n",
        "> * [BERT-tutorial](https://www.tensorflow.org/text/guide/bert_preprocessing_guide)\n",
        "> * [HuggingFace-Korean](https://huggingface.co/models?language=korean)"
      ]
    },
    {
      "cell_type": "code",
      "execution_count": null,
      "metadata": {
        "id": "dADfa7AnNVLo"
      },
      "outputs": [],
      "source": []
    }
  ],
  "metadata": {
    "colab": {
      "provenance": [],
      "gpuType": "T4"
    },
    "kernelspec": {
      "display_name": "Python 3",
      "name": "python3"
    },
    "language_info": {
      "codemirror_mode": {
        "name": "ipython",
        "version": 3
      },
      "file_extension": ".py",
      "mimetype": "text/x-python",
      "name": "python",
      "nbconvert_exporter": "python",
      "pygments_lexer": "ipython3",
      "version": "3.8.8"
    },
    "accelerator": "GPU"
  },
  "nbformat": 4,
  "nbformat_minor": 0
}